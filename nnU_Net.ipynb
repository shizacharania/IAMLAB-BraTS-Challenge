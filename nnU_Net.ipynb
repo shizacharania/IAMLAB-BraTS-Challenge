{
  "nbformat": 4,
  "nbformat_minor": 0,
  "metadata": {
    "colab": {
      "provenance": [],
      "machine_shape": "hm"
    },
    "kernelspec": {
      "name": "python3",
      "display_name": "Python 3"
    },
    "language_info": {
      "name": "python"
    },
    "accelerator": "TPU",
    "gpuClass": "standard"
  },
  "cells": [
    {
      "cell_type": "code",
      "execution_count": 1,
      "metadata": {
        "id": "dNvh5XmGkoIS"
      },
      "outputs": [],
      "source": [
        "import torch\n",
        "import torch.nn as nn"
      ]
    },
    {
      "cell_type": "code",
      "source": [
        "class Block1(nn.Module):\n",
        "  def __init__(self, input_channels, output_channels):\n",
        "    super().__init__()\n",
        "    self.conv1 = nn.Conv3d(in_channels=input_channels, out_channels=output_channels, kernel_size=3, stride=1, padding=1)\n",
        "    self.instnorm = nn.InstanceNorm3d(output_channels)\n",
        "    self.lrelu = nn.LeakyReLU()\n",
        "    self.conv2 = nn.Conv3d(in_channels=output_channels, out_channels=output_channels, kernel_size=3, stride=1, padding=1)\n",
        "  def forward(self, x):\n",
        "    x = self.conv1(x)\n",
        "    x = self.instnorm(x)\n",
        "    x = self.lrelu(x)\n",
        "    x = self.conv2(x)\n",
        "    x = self.instnorm(x)\n",
        "    x = self.lrelu(x)\n",
        "    return x\n",
        "\n",
        "class ConvBlockEncoder(nn.Module): # need to add nn.Module here\n",
        "  def __init__(self, input_channels, output_channels):\n",
        "    super().__init__()\n",
        "    self.conv1 = nn.Conv3d(in_channels=input_channels, out_channels=output_channels, kernel_size=3, stride=2, padding=1) # before padding it was 64 x 63 x 63 x 63. by adding 1, you add one to each dimension needed\n",
        "    self.instnorm = nn.InstanceNorm3d(output_channels)\n",
        "    self.lrelu = nn.LeakyReLU()\n",
        "    self.conv2 = nn.Conv3d(in_channels=output_channels, out_channels=output_channels, kernel_size=3, stride=1, padding=1)\n",
        "  def forward(self, x):\n",
        "    x = self.conv1(x)\n",
        "    x = self.instnorm(x)\n",
        "    x = self.lrelu(x)\n",
        "    x = self.conv2(x)\n",
        "    x = self.instnorm(x)\n",
        "    x = self.lrelu(x)\n",
        "    return x\n",
        "\n",
        "class ConvBlockDecoder(nn.Module):\n",
        "  def __init__(self, input_channels, output_channels):\n",
        "    super().__init__()\n",
        "    self.transconv = nn.ConvTranspose3d(in_channels=input_channels, out_channels=input_channels, kernel_size=2, stride=2)\n",
        "    self.conv1 = nn.Conv3d(in_channels=input_channels, out_channels=output_channels, kernel_size=3, stride=1, padding=1)\n",
        "    self.instnorm = nn.InstanceNorm3d(output_channels)\n",
        "    self.lrelu = nn.LeakyReLU()\n",
        "    self.conv2 = nn.Conv3d(in_channels=output_channels, out_channels=output_channels, kernel_size=3, stride=1, padding=1)\n",
        "  def forward(self, x, concat_tensor):\n",
        "    x = self.transconv(x)\n",
        "    # print(\"after transpose: \" + str(x.shape))\n",
        "    x = torch.add(x, concat_tensor)\n",
        "    # print(\"after concat: \" + str(x.shape))\n",
        "    x = self.conv1(x)\n",
        "    # print(\"after conv1: \" + str(x.shape))\n",
        "    x = self.instnorm(x)\n",
        "    x = self.lrelu(x)\n",
        "    x = self.conv2(x)\n",
        "    x = self.instnorm(x)\n",
        "    x = self.lrelu(x)\n",
        "    return x\n",
        "\n",
        "class nnUNet(nn.Module):\n",
        "  def __init__(self, input_shape):\n",
        "    super().__init__()\n",
        "    self.convblock1 = Block1(4, 32)\n",
        "    self.convblock2 = ConvBlockEncoder(32, 64)\n",
        "    self.convblock3 = ConvBlockEncoder(64, 128)\n",
        "    self.convblock4 = ConvBlockEncoder(128, 256)\n",
        "    self.convblock5 = ConvBlockEncoder(256, 320)\n",
        "    self.convblock6 = ConvBlockEncoder(320, 320)\n",
        "\n",
        "    self.convblock7 = ConvBlockDecoder(320, 256)\n",
        "    self.convblock8 = ConvBlockDecoder(256, 128)\n",
        "    self.convblock9 = ConvBlockDecoder(128, 64)\n",
        "    self.convblock9b = nn.Conv3d(in_channels=64, out_channels=3, kernel_size=1, stride=1) # output is 3 channels for WT, ET, TC\n",
        "    self.convblock10 = ConvBlockDecoder(64, 32)\n",
        "    self.convblock10b = nn.Conv3d(in_channels=32, out_channels=3, kernel_size=1, stride=1) # output is 3 channels for WT, ET, TC\n",
        "    self.convblock11 = ConvBlockDecoder(32, 32)\n",
        "    self.convblock11b = nn.Conv3d(in_channels=32, out_channels=3, kernel_size=1, stride=1) # output is 3 channels for WT, ET, TC\n",
        "\n",
        "    self.softmax = nn.Softmax(dim=1)\n",
        "    self.sigmoid = nn.Sigmoid()\n",
        "\n",
        "  def forward(self, x, ):\n",
        "    print(x.shape) # [4, 128, 128, 128]\n",
        "\n",
        "    # ENCODER\n",
        "    x1 = self.convblock1(x)\n",
        "    print(x1.shape) # [32, 128, 128, 128]\n",
        "\n",
        "    x2 = self.convblock2(x1)\n",
        "    print(x2.shape) # [64, 64, 64, 64]\n",
        "\n",
        "    x3 = self.convblock3(x2)\n",
        "    print(x3.shape) # [128, 32, 32, 32]\n",
        "\n",
        "    x4 = self.convblock4(x3)\n",
        "    print(x4.shape) # [256, 16, 16, 16]\n",
        "\n",
        "    x5 = self.convblock5(x4)\n",
        "    print(x5.shape) # [320, 8, 8, 8]\n",
        "\n",
        "    x6 = self.convblock6(x5)\n",
        "    print(x6.shape) # [320, 4, 4, 4]\n",
        "\n",
        "    x7 = self.convblock7(x6, x5)\n",
        "    print(x7.shape) # [256, 8, 8, 8]\n",
        "\n",
        "    x8 = self.convblock8(x7, x4)\n",
        "    print(x8.shape) # [128, 16, 16, 16]\n",
        "\n",
        "    x9 = self.convblock9(x8, x3)\n",
        "    print(x9.shape) # [64, 32, 32, 32] - add one softmax here\n",
        "\n",
        "    x9b = self.convblock9b(x9) \n",
        "    print(x9b.shape) # [3, 32, 32, 32]\n",
        "\n",
        "    # classes list for all levels of deep supervision in model\n",
        "    class1_probabilities = []\n",
        "    class2_probabilities = []\n",
        "    class3_probabilities = []\n",
        "\n",
        "    # dissect it from here into different classes\n",
        "    class1prob1 = x9b[:, 0, :, :, :]\n",
        "    class2prob1 = x9b[:, 1, :, :, :]\n",
        "    class3prob1 = x9b[:, 2, :, :, :]\n",
        "\n",
        "    # take each class and apply sigmoid\n",
        "    print(\"sigmoid\")\n",
        "    sig_class1prob1 = self.sigmoid(class1prob1)\n",
        "    print(sig_class1prob1.shape)\n",
        "    sig_class2prob1 = self.sigmoid(class2prob1)\n",
        "    print(sig_class2prob1.shape)\n",
        "    sig_class3prob1 = self.sigmoid(class3prob1)\n",
        "    print(sig_class3prob1.shape)\n",
        "\n",
        "    # put the class into the list for its class\n",
        "    class1_probabilities.append(sig_class1prob1)\n",
        "    class2_probabilities.append(sig_class2prob1)\n",
        "    class3_probabilities.append(sig_class3prob1)\n",
        "\n",
        "    # prob3 = self.softmax(x9b)\n",
        "    # print(prob3.shape) # [4, 32, 32, 32]\n",
        "\n",
        "    x10 = self.convblock10(x9, x2)\n",
        "    print(x10.shape) # [32, 64, 64, 64] - add one softmax here\n",
        "\n",
        "    x10b = self.convblock10b(x10)\n",
        "    print(x10b.shape) # [4, 64, 64, 64]\n",
        "\n",
        "    # dissect it from here into different classes\n",
        "    class1prob1 = x10b[:, 0, :, :, :]\n",
        "    class2prob1 = x10b[:, 1, :, :, :]\n",
        "    class3prob1 = x10b[:, 2, :, :, :]\n",
        "\n",
        "    # take each class and apply sigmoid\n",
        "    print(\"sigmoid\")\n",
        "    sig_class1prob2 = self.sigmoid(class1prob1)\n",
        "    print(sig_class1prob2.shape)\n",
        "    sig_class2prob2 = self.sigmoid(class2prob1)\n",
        "    print(sig_class2prob2.shape)\n",
        "    sig_class3prob2 = self.sigmoid(class3prob1)\n",
        "    print(sig_class3prob2.shape)\n",
        "\n",
        "    # put the class into the list for its class\n",
        "    class1_probabilities.append(sig_class1prob2)\n",
        "    class2_probabilities.append(sig_class2prob2)\n",
        "    class3_probabilities.append(sig_class3prob2)\n",
        "\n",
        "    # prob2 = self.softmax(x10b)\n",
        "    # print(prob2.shape) # [4, 64, 64, 64]\n",
        "\n",
        "    x11 = self.convblock11(x10, x1)\n",
        "    print(x11.shape) # [32, 128, 128, 128]\n",
        "\n",
        "    x11b = self.convblock11b(x11)\n",
        "    print(x11b.shape) # [4, 128, 128, 128]\n",
        "\n",
        "    # dissect it from here into different classes\n",
        "    class1prob1 = x11b[:, 0, :, :, :]\n",
        "    class2prob1 = x11b[:, 1, :, :, :]\n",
        "    class3prob1 = x11b[:, 2, :, :, :]\n",
        "\n",
        "    # take each class and apply sigmoid\n",
        "    print(\"sigmoid\")\n",
        "    sig_class1prob3 = self.sigmoid(class1prob1)\n",
        "    print(sig_class1prob3.shape)\n",
        "    sig_class2prob3 = self.sigmoid(class2prob1)\n",
        "    print(sig_class2prob3.shape)\n",
        "    sig_class3prob3 = self.sigmoid(class3prob1)\n",
        "    print(sig_class3prob3.shape)\n",
        "\n",
        "    # put the class into the list for its class\n",
        "    class1_probabilities.append(sig_class1prob3)\n",
        "    class2_probabilities.append(sig_class2prob3)\n",
        "    class3_probabilities.append(sig_class3prob3)\n",
        "    \n",
        "    # prob1 = self.softmax(x11b)\n",
        "    # print(prob1.shape) # [3, 128, 128, 128] - i thought that the shape would change when using softmax, but only the values change to add up to 1\n",
        "\n",
        "    print(len(class1_probabilities), len(class2_probabilities), len(class3_probabilities))\n",
        "    print(len(class1_probabilities[0]), len(class2_probabilities[0]), len(class3_probabilities[0]))\n",
        "\n",
        "    return class1_probabilities, class2_probabilities, class3_probabilities"
      ],
      "metadata": {
        "id": "6H5SBQZPkvqm"
      },
      "execution_count": 2,
      "outputs": []
    },
    {
      "cell_type": "code",
      "source": [
        "# class1_outputs = [class1_from_prediction1, class1_from_prediction2, class1_from_prediction3]\n",
        "# class2_outputs = [class2_from_prediction1, class2_from_prediction2, class2_from_prediction3]\n",
        "# class3_outputs = [class3_from_prediction1, class3_from_prediction2, class3_from_prediction3]"
      ],
      "metadata": {
        "id": "vFq2zoLvPe-n"
      },
      "execution_count": 3,
      "outputs": []
    },
    {
      "cell_type": "code",
      "source": [
        "\"\"\"\n",
        "when dim = 1\n",
        ">>> torch.cat((x, x, x), 1)\n",
        "tensor([[ 0.6580, -1.0969, -0.4614,  0.6580, -1.0969, -0.4614,  0.6580,\n",
        "         -1.0969, -0.4614],\n",
        "        [-0.1034, -0.5790,  0.1497, -0.1034, -0.5790,  0.1497, -0.1034,\n",
        "         -0.5790,  0.1497]])\n",
        "\n",
        "softmax confusion:\n",
        "- https://stackoverflow.com/questions/49036993/pytorch-softmax-what-dimension-to-use\n",
        "- https://discuss.pytorch.org/t/softmax-across-3d-tensor/83754\n",
        "\"\"\""
      ],
      "metadata": {
        "id": "OFZFoUZJGLeO",
        "colab": {
          "base_uri": "https://localhost:8080/",
          "height": 71
        },
        "outputId": "8128c829-9532-448f-aeb7-b545d0e6c7d4"
      },
      "execution_count": 4,
      "outputs": [
        {
          "output_type": "execute_result",
          "data": {
            "text/plain": [
              "'\\nwhen dim = 1\\n>>> torch.cat((x, x, x), 1)\\ntensor([[ 0.6580, -1.0969, -0.4614,  0.6580, -1.0969, -0.4614,  0.6580,\\n         -1.0969, -0.4614],\\n        [-0.1034, -0.5790,  0.1497, -0.1034, -0.5790,  0.1497, -0.1034,\\n         -0.5790,  0.1497]])\\n\\nsoftmax confusion:\\n- https://stackoverflow.com/questions/49036993/pytorch-softmax-what-dimension-to-use\\n- https://discuss.pytorch.org/t/softmax-across-3d-tensor/83754\\n'"
            ],
            "application/vnd.google.colaboratory.intrinsic+json": {
              "type": "string"
            }
          },
          "metadata": {},
          "execution_count": 4
        }
      ]
    },
    {
      "cell_type": "code",
      "source": [
        "x = torch.rand(size=(2, 4, 128, 128, 128), dtype=torch.float32)\n",
        "# print(x.shape)\n",
        "\n",
        "model = nnUNet(x.shape)\n",
        "# print(model)\n",
        "print()\n",
        "\n",
        "probability1, probability2, probability3 = model(x)\n",
        "# print(out.shape)"
      ],
      "metadata": {
        "colab": {
          "base_uri": "https://localhost:8080/"
        },
        "id": "tleGdND9076M",
        "outputId": "de05d2b8-c95b-4e3d-9b3e-412f6acfccc9"
      },
      "execution_count": 5,
      "outputs": [
        {
          "output_type": "stream",
          "name": "stdout",
          "text": [
            "\n",
            "torch.Size([2, 4, 128, 128, 128])\n",
            "torch.Size([2, 32, 128, 128, 128])\n",
            "torch.Size([2, 64, 64, 64, 64])\n",
            "torch.Size([2, 128, 32, 32, 32])\n",
            "torch.Size([2, 256, 16, 16, 16])\n",
            "torch.Size([2, 320, 8, 8, 8])\n",
            "torch.Size([2, 320, 4, 4, 4])\n",
            "torch.Size([2, 256, 8, 8, 8])\n",
            "torch.Size([2, 128, 16, 16, 16])\n",
            "torch.Size([2, 64, 32, 32, 32])\n",
            "torch.Size([2, 3, 32, 32, 32])\n",
            "sigmoid\n",
            "torch.Size([2, 32, 32, 32])\n",
            "torch.Size([2, 32, 32, 32])\n",
            "torch.Size([2, 32, 32, 32])\n",
            "torch.Size([2, 32, 64, 64, 64])\n",
            "torch.Size([2, 3, 64, 64, 64])\n",
            "sigmoid\n",
            "torch.Size([2, 64, 64, 64])\n",
            "torch.Size([2, 64, 64, 64])\n",
            "torch.Size([2, 64, 64, 64])\n",
            "torch.Size([2, 32, 128, 128, 128])\n",
            "torch.Size([2, 3, 128, 128, 128])\n",
            "sigmoid\n",
            "torch.Size([2, 128, 128, 128])\n",
            "torch.Size([2, 128, 128, 128])\n",
            "torch.Size([2, 128, 128, 128])\n",
            "3 3 3\n",
            "2 2 2\n"
          ]
        }
      ]
    },
    {
      "cell_type": "code",
      "source": [
        "# probability1, probability2, probability3 = out"
      ],
      "metadata": {
        "id": "HXdpgptyfJ48"
      },
      "execution_count": 6,
      "outputs": []
    },
    {
      "cell_type": "code",
      "source": [
        "print(probability1[0].shape)\n",
        "print(probability2[0].shape)\n",
        "print(probability3[0].shape)\n",
        "print(probability1[1].shape)\n",
        "print(probability2[1].shape)\n",
        "print(probability3[1].shape)\n",
        "print(probability1[2].shape)\n",
        "print(probability2[2].shape)\n",
        "print(probability3[2].shape)"
      ],
      "metadata": {
        "colab": {
          "base_uri": "https://localhost:8080/"
        },
        "id": "eCxUQWBtBQzf",
        "outputId": "64b3281e-c2fc-4a6a-b083-409f2e868c5a"
      },
      "execution_count": 7,
      "outputs": [
        {
          "output_type": "stream",
          "name": "stdout",
          "text": [
            "torch.Size([2, 32, 32, 32])\n",
            "torch.Size([2, 32, 32, 32])\n",
            "torch.Size([2, 32, 32, 32])\n",
            "torch.Size([2, 64, 64, 64])\n",
            "torch.Size([2, 64, 64, 64])\n",
            "torch.Size([2, 64, 64, 64])\n",
            "torch.Size([2, 128, 128, 128])\n",
            "torch.Size([2, 128, 128, 128])\n",
            "torch.Size([2, 128, 128, 128])\n"
          ]
        }
      ]
    },
    {
      "cell_type": "code",
      "source": [
        "probability1"
      ],
      "metadata": {
        "id": "QAKaN9QPBBdE"
      },
      "execution_count": null,
      "outputs": []
    },
    {
      "cell_type": "code",
      "source": [
        "probability2"
      ],
      "metadata": {
        "id": "KEyQ1XN3BWx2"
      },
      "execution_count": null,
      "outputs": []
    },
    {
      "cell_type": "code",
      "source": [
        "probability3"
      ],
      "metadata": {
        "id": "0aiFsAXiBYIk"
      },
      "execution_count": null,
      "outputs": []
    },
    {
      "cell_type": "code",
      "source": [
        "import numpy as np"
      ],
      "metadata": {
        "id": "JYqkKCtnJDki"
      },
      "execution_count": 11,
      "outputs": []
    },
    {
      "cell_type": "code",
      "source": [
        "randomized_training_images = []\n",
        "for i in range(2):\n",
        "  newx = torch.rand(size=(1, 4, 128, 128, 128), dtype=torch.float32)\n",
        "  randomized_training_images.append(newx)"
      ],
      "metadata": {
        "id": "ZTAIf3d1JLBw"
      },
      "execution_count": 12,
      "outputs": []
    },
    {
      "cell_type": "code",
      "source": [
        "print(len(randomized_training_images))\n",
        "print(randomized_training_images[0].shape)\n",
        "# print(randomized_training_images[0])"
      ],
      "metadata": {
        "colab": {
          "base_uri": "https://localhost:8080/"
        },
        "id": "bct-SstrJNJn",
        "outputId": "034ee0b0-3b10-4e6b-8c0e-8aee9b506e14"
      },
      "execution_count": 13,
      "outputs": [
        {
          "output_type": "stream",
          "name": "stdout",
          "text": [
            "2\n",
            "torch.Size([1, 4, 128, 128, 128])\n"
          ]
        }
      ]
    },
    {
      "cell_type": "code",
      "source": [
        "randomized_training_segmentations = []\n",
        "for i in range(2):\n",
        "  newy = torch.rand(size=(1, 3, 128, 128, 128), dtype=torch.float32)\n",
        "  randomized_training_segmentations.append(newy)"
      ],
      "metadata": {
        "id": "oSdk7RDDJOZf"
      },
      "execution_count": 14,
      "outputs": []
    },
    {
      "cell_type": "code",
      "source": [
        "print(len(randomized_training_segmentations))\n",
        "print(randomized_training_segmentations[0].shape)\n",
        "# print(randomized_training_segmentations[1])"
      ],
      "metadata": {
        "colab": {
          "base_uri": "https://localhost:8080/"
        },
        "id": "e1y3tZEaJP2O",
        "outputId": "6669912a-844d-4ea0-90d0-76024bf508f1"
      },
      "execution_count": 15,
      "outputs": [
        {
          "output_type": "stream",
          "name": "stdout",
          "text": [
            "2\n",
            "torch.Size([1, 3, 128, 128, 128])\n"
          ]
        }
      ]
    },
    {
      "cell_type": "code",
      "source": [
        "randomized_training_data = list(zip(randomized_training_images, randomized_training_segmentations))"
      ],
      "metadata": {
        "id": "IrXaL7tNJRPW"
      },
      "execution_count": 16,
      "outputs": []
    },
    {
      "cell_type": "code",
      "source": [
        "trainloader = torch.utils.data.DataLoader(dataset=randomized_training_data, batch_size=2, shuffle=True) # batch size should be 5"
      ],
      "metadata": {
        "id": "ocMYkCH8JSrE"
      },
      "execution_count": 17,
      "outputs": []
    },
    {
      "cell_type": "code",
      "source": [
        "len(trainloader)"
      ],
      "metadata": {
        "colab": {
          "base_uri": "https://localhost:8080/"
        },
        "id": "xLxrR-wyJUFL",
        "outputId": "d9052f49-3c09-47be-cfa6-2298909d33ec"
      },
      "execution_count": 18,
      "outputs": [
        {
          "output_type": "execute_result",
          "data": {
            "text/plain": [
              "1"
            ]
          },
          "metadata": {},
          "execution_count": 18
        }
      ]
    },
    {
      "cell_type": "code",
      "source": [
        "randomized_validation_images = []\n",
        "for i in range(2):\n",
        "  newy = torch.rand(size=(1, 4, 128, 128, 128), dtype=torch.float32)\n",
        "  randomized_validation_images.append(newy)"
      ],
      "metadata": {
        "id": "4ZhAfF56JVdP"
      },
      "execution_count": 19,
      "outputs": []
    },
    {
      "cell_type": "code",
      "source": [
        "print(len(randomized_validation_images))\n",
        "print(randomized_validation_images[0].shape)"
      ],
      "metadata": {
        "colab": {
          "base_uri": "https://localhost:8080/"
        },
        "id": "wIxdhhF8JXQe",
        "outputId": "1729f498-99fb-4631-b6e5-63cfa92ace9b"
      },
      "execution_count": 20,
      "outputs": [
        {
          "output_type": "stream",
          "name": "stdout",
          "text": [
            "2\n",
            "torch.Size([1, 4, 128, 128, 128])\n"
          ]
        }
      ]
    },
    {
      "cell_type": "code",
      "source": [
        "randomized_validation_segmentations = []\n",
        "for i in range(2):\n",
        "  newy = torch.rand(size=(1, 3, 128, 128, 128), dtype=torch.float32)\n",
        "  randomized_validation_segmentations.append(newy)"
      ],
      "metadata": {
        "id": "71_p_B9uJYvf"
      },
      "execution_count": 21,
      "outputs": []
    },
    {
      "cell_type": "code",
      "source": [
        "print(len(randomized_validation_segmentations))\n",
        "print(randomized_validation_segmentations[0].shape)"
      ],
      "metadata": {
        "colab": {
          "base_uri": "https://localhost:8080/"
        },
        "id": "xP9CFDjOJaua",
        "outputId": "9b16d126-09e1-4166-8073-11eb39585014"
      },
      "execution_count": 22,
      "outputs": [
        {
          "output_type": "stream",
          "name": "stdout",
          "text": [
            "2\n",
            "torch.Size([1, 3, 128, 128, 128])\n"
          ]
        }
      ]
    },
    {
      "cell_type": "code",
      "source": [
        "randomized_validation_data = list(zip(randomized_validation_images, randomized_validation_segmentations))"
      ],
      "metadata": {
        "id": "csnx8JcbJcKD"
      },
      "execution_count": 23,
      "outputs": []
    },
    {
      "cell_type": "code",
      "source": [
        "validationloader = torch.utils.data.DataLoader(dataset=randomized_validation_data, batch_size=2, shuffle=True) # batch size should be 5"
      ],
      "metadata": {
        "id": "VhM7Pz38JduQ"
      },
      "execution_count": 24,
      "outputs": []
    },
    {
      "cell_type": "code",
      "source": [
        "len(validationloader)"
      ],
      "metadata": {
        "colab": {
          "base_uri": "https://localhost:8080/"
        },
        "id": "K5eyxGk3JfER",
        "outputId": "0e104393-b3eb-4c3f-af30-df77fe9eb5e9"
      },
      "execution_count": 25,
      "outputs": [
        {
          "output_type": "execute_result",
          "data": {
            "text/plain": [
              "1"
            ]
          },
          "metadata": {},
          "execution_count": 25
        }
      ]
    },
    {
      "cell_type": "code",
      "source": [
        "randomized_testing_images = []\n",
        "for i in range(2):\n",
        "  newy = torch.rand(size=(1, 4, 128, 128, 128), dtype=torch.float32)\n",
        "  randomized_testing_images.append(newy)"
      ],
      "metadata": {
        "id": "4dvbOJt7Jgbv"
      },
      "execution_count": 26,
      "outputs": []
    },
    {
      "cell_type": "code",
      "source": [
        "print(len(randomized_testing_images))\n",
        "print(randomized_testing_images[0].shape)"
      ],
      "metadata": {
        "colab": {
          "base_uri": "https://localhost:8080/"
        },
        "id": "hBcUuum4JiNa",
        "outputId": "434c9a9a-3937-4071-912a-af2ed28039d4"
      },
      "execution_count": 27,
      "outputs": [
        {
          "output_type": "stream",
          "name": "stdout",
          "text": [
            "2\n",
            "torch.Size([1, 4, 128, 128, 128])\n"
          ]
        }
      ]
    },
    {
      "cell_type": "code",
      "source": [
        "randomized_testing_segmentations = []\n",
        "for i in range(2):\n",
        "  newy = torch.rand(size=(1, 3, 128, 128, 128), dtype=torch.float32)\n",
        "  randomized_testing_segmentations.append(newy)"
      ],
      "metadata": {
        "id": "BUyFGVt6Jjtk"
      },
      "execution_count": 28,
      "outputs": []
    },
    {
      "cell_type": "code",
      "source": [
        "print(len(randomized_testing_segmentations))\n",
        "print(randomized_testing_segmentations[0].shape)"
      ],
      "metadata": {
        "colab": {
          "base_uri": "https://localhost:8080/"
        },
        "id": "MUv7LAusJoKN",
        "outputId": "57602ebe-d279-41bc-8d2d-30055cdd0215"
      },
      "execution_count": 29,
      "outputs": [
        {
          "output_type": "stream",
          "name": "stdout",
          "text": [
            "2\n",
            "torch.Size([1, 3, 128, 128, 128])\n"
          ]
        }
      ]
    },
    {
      "cell_type": "code",
      "source": [
        "randomized_testing_data = list(zip(randomized_testing_images, randomized_testing_segmentations))\n",
        "testingloader = torch.utils.data.DataLoader(dataset=randomized_testing_data, batch_size=2, shuffle=True) # batch size should be 5"
      ],
      "metadata": {
        "id": "wiIrRo_PJp2u"
      },
      "execution_count": 30,
      "outputs": []
    },
    {
      "cell_type": "code",
      "source": [
        "\"\"\"\n",
        "nnU-Net\n",
        "- training objective is the sum of Dice [21,20] and cross-entropy loss\n",
        "- the loss operates on the three class labels edema, necrosis and enhancing tumor\n",
        "- whole tumor (consisting of all 3 classes), tumor core (non-enh. & necrosis + enh. tumor) and enhancing tumor\n",
        "- to this end, we replace the softmax nonlinearity in our network architecture with a sigmoid + change the optimization target to the 3 tumor subregions\n",
        "- also replace the crossentropy loss term with a binary cross-entropy that optimizes each of the regions independently\n",
        "\"\"\""
      ],
      "metadata": {
        "colab": {
          "base_uri": "https://localhost:8080/",
          "height": 89
        },
        "id": "6B1sh9VEJsyp",
        "outputId": "b0184fcb-ba2a-4413-ab0f-f2475011bbd9"
      },
      "execution_count": 31,
      "outputs": [
        {
          "output_type": "execute_result",
          "data": {
            "text/plain": [
              "'\\nnnU-Net\\n- training objective is the sum of Dice [21,20] and cross-entropy loss\\n- the loss operates on the three class labels edema, necrosis and enhancing tumor\\n- whole tumor (consisting of all 3 classes), tumor core (non-enh. & necrosis + enh. tumor) and enhancing tumor\\n- to this end, we replace the softmax nonlinearity in our network architecture with a sigmoid + change the optimization target to the 3 tumor subregions\\n- also replace the crossentropy loss term with a binary cross-entropy that optimizes each of the regions independently\\n'"
            ],
            "application/vnd.google.colaboratory.intrinsic+json": {
              "type": "string"
            }
          },
          "metadata": {},
          "execution_count": 31
        }
      ]
    },
    {
      "cell_type": "code",
      "source": [
        "# chose to make this a class because when you call dice loss in criterion, you don't have anything to input, but when u run the prediction through inside the training, then you have params\n",
        "# also because most sources I saw used a class\n",
        "class DiceLoss(nn.Module):\n",
        "  def __init__(self):\n",
        "    super().__init__()\n",
        "  def forward(self, true, pred):\n",
        "    # flatten to easily do it pixel by pixel\n",
        "    true = true.reshape(-1)\n",
        "    pred = pred.reshape(-1)\n",
        "    numerator = 2*(true*pred).sum()\n",
        "    denominator = true.sum() + pred.sum()\n",
        "    dice_loss = 1 - (numerator) / (denominator)\n",
        "    return dice_loss"
      ],
      "metadata": {
        "id": "f8kifs8kKWNF"
      },
      "execution_count": 32,
      "outputs": []
    },
    {
      "cell_type": "code",
      "source": [
        "import torch.optim"
      ],
      "metadata": {
        "id": "-yOGwqlcK_ab"
      },
      "execution_count": 33,
      "outputs": []
    },
    {
      "cell_type": "markdown",
      "source": [
        "# Loss Formula\n",
        "As this paper (https://arxiv.org/pdf/2110.03352.pdf) mentions, deep supervision is used to compute the loss at different decoder levels\n",
        "\n",
        "![image.png](data:image/png;base64,iVBORw0KGgoAAAANSUhEUgAAB2wAAAHcCAYAAAAa4FqPAAAMbmlDQ1BJQ0MgUHJvZmlsZQAASImVVwdYU8kWnluSkJDQAghICb0JIjWAlBBaAOlFEJWQBBJKjAlBxV4WFVy7iGJFV0UU2wqIKIhdWRR7XyyoKOuiLjZU3oQEdN1Xvne+b+79c+bMf8qdyb0HAM0PXIkkD9UCIF9cII0PC2KMTU1jkJ4CBKCAChyBMZcnk7BiY6MAlMH73+XdDWgN5aqTguuf8/9VdPgCGQ8AJB3iTL6Mlw9xMwD4Bp5EWgAAUaG3nFIgUeA5EOtKYYAQr1bgbCXepcCZStw4YJMYz4b4MgBqVC5Xmg2Axj2oZxTysiGPxmeIXcR8kRgAzREQ+/OEXD7EithH5OdPUuByiO2gvQRiGA9gZn7Hmf03/swhfi43ewgr8xoQtWCRTJLHnfZ/luZ/S36efNCHDRxUoTQ8XpE/rOGt3EmRCkyFuFucGR2jqDXEH0R8Zd0BQClCeXiS0h415snYsH5AH2IXPjc4EmJjiEPFedFRKn1mliiUAzHcLehUUQEnEWIDiBcJZCEJKpst0knxKl9obZaUzVLpz3GlA34Vvh7Ic5NYKv43QgFHxY9pFAkTUyCmQGxVKEqOhlgDYmdZbkKkymZ0kZAdPWgjlccr4reCOF4gDgtS8mOFWdLQeJV9Sb5sMF9si1DEiVbhgwXCxHBlfbBTPO5A/DAX7LJAzEoa5BHIxkYN5sIXBIcoc8eeC8RJCSqeD5KCoHjlWpwiyYtV2eMWgrwwhd4CYndZYYJqLZ5cADenkh/PkhTEJirjxItyuBGxynjw5SAKsEEwYAA5HJlgEsgBorbuum74SzkTCrhACrKBADipNIMrUgZmxPCaAIrAHxAJgGxoXdDArAAUQv2XIa3y6gSyBmYLB1bkgqcQ54NIkAd/ywdWiYe8JYMnUCP6h3cuHDwYbx4civl/rx/UftOwoCZKpZEPemRoDloSQ4jBxHBiKNEeN8L9cV88Cl4D4XDFmbj3YB7f7AlPCe2ER4TrhA7C7YmiedIfohwDOiB/qKoWmd/XAreBnB54EO4H2SEzro8bASfcHfph4QHQswfUslVxK6rC+IH7bxl89zRUdmQXMkoeRg4k2/24UsNBw2OIRVHr7+ujjDVzqN7soZkf/bO/qz4f3iN/tMQWYYews9gJ7DzWiNUBBtaE1WOt2DEFHtpdTwZ216C3+IF4ciGP6B/+uCqfikrKXKpdulw+K+cKBFMLFAePPUkyTSrKFhYwWPDtIGBwxDznEQxXF1dXABTvGuXf19u4gXcIot/6TTf/dwD8mvr7+49+00U0AXDACx7/I990dkwAtNUBOHeEJ5cWKnW44kKA/xKa8KQZAlNgCexgPq7AE/iCQBACIkAMSASpYAKsshDucymYAmaAuaAYlILlYA1YDzaDbWAX2AsOgjrQCE6AM+AiuAyug7tw93SCl6AHvAN9CIKQEBpCRwwRM8QacURcESbij4QgUUg8kopkINmIGJEjM5D5SCmyElmPbEWqkAPIEeQEch5pR24jD5Eu5A3yCcVQKqqLmqA26EiUibLQSDQRHY9mo5PRInQBuhQtRyvRPWgtegK9iF5HO9CXaC8GMHVMHzPHnDAmxsZisDQsC5Nis7ASrAyrxGqwBvicr2IdWDf2ESfidJyBO8EdHI4n4Tx8Mj4LX4Kvx3fhtfgp/Cr+EO/BvxJoBGOCI8GHwCGMJWQTphCKCWWEHYTDhNPwLHUS3hGJRH2iLdELnsVUYg5xOnEJcSNxH7GZ2E58TOwlkUiGJEeSHymGxCUVkIpJ60h7SE2kK6RO0gc1dTUzNVe1ULU0NbHaPLUytd1qx9WuqD1T6yNrka3JPuQYMp88jbyMvJ3cQL5E7iT3UbQpthQ/SiIlhzKXUk6poZym3KO8VVdXt1D3Vo9TF6nPUS9X369+Tv2h+keqDtWByqamU+XUpdSd1GbqbepbGo1mQwukpdEKaEtpVbSTtAe0Dxp0DWcNjgZfY7ZGhUatxhWNV5pkTWtNluYEzSLNMs1Dmpc0u7XIWjZabC2u1iytCq0jWje1erXp2qO0Y7TztZdo79Y+r/1ch6RjoxOiw9dZoLNN56TOYzpGt6Sz6Tz6fPp2+ml6py5R11aXo5ujW6q7V7dNt0dPR89dL1lvql6F3jG9Dn1M30afo5+nv0z/oP4N/U/DTIaxhgmGLR5WM+zKsPcGww0CDQQGJQb7DK4bfDJkGIYY5hquMKwzvG+EGzkYxRlNMdpkdNqoe7jucN/hvOElww8Ov2OMGjsYxxtPN95m3Grca2JqEmYiMVlnctKk21TfNNA0x3S16XHTLjO6mb+ZyGy1WZPZC4Yeg8XIY5QzTjF6zI3Nw83l5lvN28z7LGwtkizmWeyzuG9JsWRaZlmutmyx7LEysxpjNcOq2uqONdmaaS20Xmt91vq9ja1Nis1Cmzqb57YGthzbIttq23t2NLsAu8l2lXbX7In2TPtc+432lx1QBw8HoUOFwyVH1NHTUeS40bF9BGGE9wjxiMoRN52oTiynQqdqp4fO+s5RzvOc65xfjbQamTZyxcizI7+6eLjkuWx3uTtKZ1TEqHmjGka9cXVw5blWuF5zo7mFus12q3d77e7oLnDf5H7Lg+4xxmOhR4vHF08vT6lnjWeXl5VXhtcGr5tMXWYscwnznDfBO8h7tnej90cfT58Cn4M+f/o6+eb67vZ9Ptp2tGD09tGP/Sz8uH5b/Tr8Gf4Z/lv8OwLMA7gBlQGPAi0D+YE7Ap+x7Fk5rD2sV0EuQdKgw0Hv2T7smezmYCw4LLgkuC1EJyQpZH3Ig1CL0OzQ6tCeMI+w6WHN4YTwyPAV4Tc5Jhwep4rTE+EVMTPiVCQ1MiFyfeSjKIcoaVTDGHRMxJhVY+5FW0eLo+tiQAwnZlXM/Vjb2MmxR+OIcbFxFXFP40fFz4g/m0BPmJiwO+FdYlDissS7SXZJ8qSWZM3k9OSq5PcpwSkrUzrGjhw7c+zFVKNUUWp9GiktOW1HWu+4kHFrxnWme6QXp98Ybzt+6vjzE4wm5E04NlFzInfioQxCRkrG7ozP3BhuJbc3k5O5IbOHx+at5b3kB/JX87sEfoKVgmdZflkrs55n+2Wvyu4SBgjLhN0itmi96HVOeM7mnPe5Mbk7c/vzUvL25avlZ+QfEeuIc8WnJplOmjqpXeIoKZZ0TPaZvGZyjzRSukOGyMbL6gt04Ud9q9xO/pP8YaF/YUXhhynJUw5N1Z4qnto6zWHa4mnPikKLfpmOT+dNb5lhPmPujIczWTO3zkJmZc5qmW05e8Hszjlhc3bNpczNnfvbPJd5K+f9NT9lfsMCkwVzFjz+Keyn6mKNYmnxzYW+CzcvwheJFrUtdlu8bvHXEn7JhVKX0rLSz0t4Sy78POrn8p/7l2YtbVvmuWzTcuJy8fIbKwJW7FqpvbJo5eNVY1bVrmasLln915qJa86XuZdtXktZK1/bUR5VXr/Oat3ydZ/XC9dfrwiq2LfBeMPiDe838jde2RS4qWazyebSzZ+2iLbc2hq2tbbSprJsG3Fb4ban25O3n/2F+UvVDqMdpTu+7BTv7NgVv+tUlVdV1W7j3cuq0Wp5ddee9D2X9wbvra9xqtm6T39f6X6wX77/xYGMAzcORh5sOcQ8VPOr9a8bDtMPl9QitdNqe+qEdR31qfXtRyKOtDT4Nhw+6nx0Z6N5Y8UxvWPLjlOOLzje31TU1Nssae4+kX3iccvElrsnx568diruVNvpyNPnzoSeOXmWdbbpnN+5xvM+549cYF6ou+h5sbbVo/Xwbx6/HW7zbKu95HWp/rL35Yb20e3HrwRcOXE1+OqZa5xrF69HX2+/kXTj1s30mx23+Lee3867/fpO4Z2+u3PuEe6V3Ne6X/bA+EHl7/a/7+vw7Dj2MPhh66OER3cf8x6/fCJ78rlzwVPa07JnZs+qnrs+b+wK7br8YtyLzpeSl33dxX9o/7Hhld2rX/8M/LO1Z2xP52vp6/43S94avt35l/tfLb2xvQ/e5b/re1/ywfDDro/Mj2c/pXx61jflM+lz+Rf7Lw1fI7/e68/v75dwpdyBTwEMDjQrC4A3OwGgpQJAh30bZZyyFxwQRNm/DiDwn7CyXxwQTwBq4Pd7XDf8urkJwP7tsP2C/JqwV42lAZDoDVA3t6GhElmWm6uSiwr7FMKD/v63sGcjrQLgy/L+/r7K/v4v22CwsHdsFit7UIUQYc+whfMlMz8T/BtR9qff5fjjHSgicAc/3v8FKGGQv6glt4IAAACKZVhJZk1NACoAAAAIAAQBGgAFAAAAAQAAAD4BGwAFAAAAAQAAAEYBKAADAAAAAQACAACHaQAEAAAAAQAAAE4AAAAAAAAAkAAAAAEAAACQAAAAAQADkoYABwAAABIAAAB4oAIABAAAAAEAAAdsoAMABAAAAAEAAAHcAAAAAEFTQ0lJAAAAU2NyZWVuc2hvdDaBvAkAAAAJcEhZcwAAFiUAABYlAUlSJPAAAAHXaVRYdFhNTDpjb20uYWRvYmUueG1wAAAAAAA8eDp4bXBtZXRhIHhtbG5zOng9ImFkb2JlOm5zOm1ldGEvIiB4OnhtcHRrPSJYTVAgQ29yZSA2LjAuMCI+CiAgIDxyZGY6UkRGIHhtbG5zOnJkZj0iaHR0cDovL3d3dy53My5vcmcvMTk5OS8wMi8yMi1yZGYtc3ludGF4LW5zIyI+CiAgICAgIDxyZGY6RGVzY3JpcHRpb24gcmRmOmFib3V0PSIiCiAgICAgICAgICAgIHhtbG5zOmV4aWY9Imh0dHA6Ly9ucy5hZG9iZS5jb20vZXhpZi8xLjAvIj4KICAgICAgICAgPGV4aWY6UGl4ZWxZRGltZW5zaW9uPjQ3NjwvZXhpZjpQaXhlbFlEaW1lbnNpb24+CiAgICAgICAgIDxleGlmOlBpeGVsWERpbWVuc2lvbj4xOTAwPC9leGlmOlBpeGVsWERpbWVuc2lvbj4KICAgICAgICAgPGV4aWY6VXNlckNvbW1lbnQ+U2NyZWVuc2hvdDwvZXhpZjpVc2VyQ29tbWVudD4KICAgICAgPC9yZGY6RGVzY3JpcHRpb24+CiAgIDwvcmRmOlJERj4KPC94OnhtcG1ldGE+CpxuYngAAAAcaURPVAAAAAIAAAAAAAAA7gAAACgAAADuAAAA7gABDMt3kc6hAABAAElEQVR4AeydBdjdRPr2h2KF4u5lkeKwLYUFihYvUmwp7r4UtwKLLIsuLA7FdaFA8WKlxa1IcZcWLVooUBzyzZ3/N2EyJ8lJcmYi59xzXe+bnCRjv7Fn5hmZxJNG0JAACZAACVSawBNPPCFWXnllgSp7jjnmEG+//baYZpppKh3mIgN3ww03iK222kost9xy4umnny7S69r6RWbZk+66664T2267rW9xmWWWEaNHjxZdunTJ7hBtkEATAqzzkwGx/krmE/WWzKKoxD/r5Pp+iy22EDfffHMAZ/fddxcXX3xx8Js3JEAC5RJgGS2XP30nARIggU4jgHGPZZddNhTtAQMGiCFDhoSe9evXT9xzzz1iyy23FOh70JAACeQjMAkVtvnA0RYJkAAJFE1gp512EldddZXv7f777y/OOuusooNQSf++//57seSSS4r3339fDB06VGy++eaVDGeVAkVm2VPju+++E0sssYT48MMPfcsPPvigWH311bM7RBskkJIA6/xoUKy/orkkPSWzJDqN7zq9vl9ttdXEI488EoDZZJNNxK233hr85g0JkEC5BFhGy+VP30mABEig0wjcf//9Yp111glFe4011hAPPPBA8Ozuu+8WG2ywgT+h/ZVXXhGLLbZY8I43JEAC2QhQYZuNF78mARIggdIIfPbZZ77C6KuvvvKFoKeeespfUVpagCrg8R9//CE23XRTcccdd4jevXuLUaNGccVjk3QhsyaAYl7vvffeYvDgwf7bHXbYIZg8EfM5H5NAywRY5zciZP3VyKTZEzJrRqjxfafW9z/99JMYMWKEwOq9n3/+OQAz7bTTittuu83f6WWKKaYInvOGBEigWAIso8Xypm8kQAIkQAL/R2D8+PFilllm8Xf8U0z+/e9/i6OOOsr/+cwzz4j11ltP4LsjjjhCnHzyyeozXkmABHIQoMI2BzRaIQESIIGyCGBVH2a2/fbbb77yFkrbTt4aedCgQeKUU04RM800k789bffu3ctKmtr4S2bZk2rkyJFi7bXX9jsovXr1Eo899piYaqqpsjtEGySQkQDr/DAw1l9hHml+kVkaSn9+04n1PY7cwFZ3UNJCwR9nJp10UgGF7YEHHihOPPHEuM/4nARIwDIBllHLQOkcCZAACZBAZgIbbbSRGDZsmG9v0UUXFS+//LK/+xhW1h555JHi22+/9Xcgw+Q/yIw0JEAC+QlQYZufHW2SAAmQQCkELrzwQrHPPvv4fuOMCKwu7VSBaJFFFhFYhXbLLbeIvn37lpIedfOUzLKl2FtvvSVWXHFFf7bobLPNJp599lkx77zzZnOEX5NACwRY5/8Jj/XXnyzS3pFZWlJCdGp937NnT/HCCy+kBmVugZfaIj8kARLIRYBlNBc2WiIBEiABErBIYMKECWLVVVcVL730ku/qZJNN5i8kUV5st9124oILLhDYmYWGBEigNQJU2LbGj7ZJgARIoBQC++67rzj//PN9vwcOHCjOOeecUsJRtqdvvvmmv8J47rnnLjsotfGfzNIn1Zdffukra9955x1/Re3w4cP9LSHTu8AvScAOAdb5/8eR9Vf2/ERm6Zh1cn3/8MMPix9//FF07drV/5tyyikF/rp06SJ+//138csvvwhsxar+pp9+erHSSiulA8uvSIAEWibAMtoyQjpAAiRAAiRggcCvv/4qLr30Un+lLfoY3bp188dLsJBk4403tuADnSABEgABKmyZD0iABEighgQ8zxMHH3ywOPPMM/3Qn3766f7vGkaFQSaBShKYOHGiWGuttQS2HZ9hhhn8TkmfPn0qGVYGqv0JsM5v/zRmDMsjwPq+PPb0mQRIgARIgARIgARIgARIgARI4E8CVNj+yYJ3JEACJFA7AlDUHnXUUWL55ZcXjz76aO3CzwCTQFUJYDXD6quvLhZccEF/y+2ll166qkFluDqIAOv8DkpsRrUwAqzvC0NNj0iABEiABEiABEiABEiABEiABBIIUGGbAIevSIAESKAOBN577z3xxx9/iIUWWqgOwWUYSaAWBFCmRo4cKVZZZRV/i8haBJqB7AgCrPM7IpkZyQIJsL4vEDa9IgESIAESIAESIAESIAESIAESiCVAhW0sGr4gARIgARIgARIgARIgARIgARIgARIgARIgARIgARIgARIgARIgARIgAbcEqLB1y5eukwAJkAAJkAAJkAAJkAAJkAAJkAAJkAAJkAAJkAAJkAAJkAAJkAAJkEAsASpsY9HwBQmQAAmQAAmQAAmQAAmQAAmQAAmQAAmQAAmQAAmQAAmQAAmQAAmQAAm4JUCFrVu+dJ0ESIAESIAESIAESIAESIAESIAESIAESIAESIAESIAESIAESIAESIAEYglQYRuLhi9IgARIgARIgARIgARIgARIgARIgARIgARIgARIgARIgARIgARIgARIwC0BKmzd8qXrJEACJEACJEACJEACJEACJEACJEACJEACJEACJEACJEACJEACJEACJBBLgArbWDR8QQIkQAIkQAIkQAIkQAIkQAIkQAIkQAIkQAIkQAIkQAIkQAIkQAIkQAJuCVBh65YvXScBEiABEiABEiABEiABEiABEiABEiABEiABEiABEiABEiABEiABEiCBWAJU2Mai4QsSIAESIAESIAESIAESIAESIAESIAESIAESIAESIAESIAESIAESIAEScEuAClu3fOk6CZAACZAACZAACZAACZAACZAACZAACZAACZAACZAACZAACZAACZAACcQSoMI2Fg1fkAAJkAAJkAAJkAAJkAAJkAAJkAAJkAAJkAAJkAAJkAAJkAAJkAAJkIBbAlTYuuVL10mABNqIwG+//SZ++eUXMfXUU7dRrBgVEiABEiABEiABEiABEiABEiABEiABEiABEiiWAMfZiuVN30iABKpPoG0Vtt9995346quvxJdffhm6zj///GLjjTeufsrULITkXbMEY3BTE3jqqafExRdfLF588UXx6quvip9//lnMOeecYsUVVxTHHnusWHrppVO71Q4fQpgeP358Q92KZ7vuuquYeeaZrUezDD+tR4IOVorAxIkTG/Iw5IVllllGrLrqqpUKKwNDAiRAAlUkUPV61PM88c0334T6gajn8QzyyjTTTFNFrKnDVHX+qSPCD0kggQD7AAlw2ugV07mNEpNRIYGUBDjOlhIUPyMBEuhIAm2nsD3kkEPEueee66+Ci0rRrbfeWlx33XVRr/gsBwHyzgGNVmpB4PPPPxdHHHGEuPLKKwUG/WC6desmFlxwQfHSSy/5v7t06SJuu+02sdFGG/m/2/nfF198IXr06CEmTJgQ8DDj+/rrr4tFF13UfJz7tws/P/jgAzHjjDOKaaedNne4bFmsUlhsxanq7hx//PHi5JNP9ideRIV1gw02EMOGDYt6xWckQAIVIYBJVDfddFPhoTn11FNFr169Cve3ah7WoR5dY401xKOPPip+//33SHxnn3222G+//SLfVf1hHfhXnSHDV30CLvoA1Y9154XQdjp3Ut+qk+LaeSWjvWPMcbb2Tl/GjgRIwBIBqYhoKzNw4EBoVmL/pMK2reJbdmTIu+wUoP8uCMjV+d68884b1COTTTaZd8EFF3hyO2RPDpQFz1HXTD/99P5zF+GokptyVYonFdShuJt1rVTYWg2yTT8feOABb+655/bDj/TccMMNvW+//dZqeNM6VqWwpA1zu3x31FFHJeZhqbBtl6gyHiTQtgTkZMHEcmy2TbZ+X3HFFW3LNEvE6lCP/vWvf03MI2eeeWaWKFfq2zrwrxQwBqaWBGz2AWoJoEMCbSudO6lv1Ulx7ZBi0FHR5Dibm+S+++67vW222cbbZJNNvP/9739uPKGrPgGMCaMvijHFFVZYoTZU5ERWb//99/fk5GNv9tln98M/22yzecstt5y3xRZbeHJRgzdu3LjKx+e1117zx+SR33v37u1NN910nlxY5cmd8rwBAwZ4chdMD+1kO5i2W2GLbTkx6/7rr78W99xzj3jkkUfkOM2fhits/2Rh4468bVCkG1UjgG3T77zzziBYt99+e7CV+kILLSTefffd4B1usJ3L3/72t9CzdvwxYsQIgVW0b7zxhrjhhhv8bQb1eNpeYQu3bfiJVcFYGY1t8nWz5557isGDB+uPnN9XKSzOI1tBD7B9//XXX+9viXn//ff7+UsPJlfY6jR4TwLVJPDxxx+LCy+8UPzwww8CZRptzxNPPBG5+4OcVCU23XRTITukYvLJJ2+IkOzM+e7ICTwCM/6fe+45ITurDd/hAY5BOO644yLfddLDOtSjkOE+/PBD8emnn4qhQ4f6eURPI6mwFQcccID+qDb3deBfG5gMaKUJ2OgDVDqCDJxPoNV07qS+VSfFlcWjPQlwnM1+ul5yySVijz32CDmM/gx3BQohsfJjzJgxAjqlUaNG+e7NMsssAjtFVNngKJi9995bDBkypGkw0Vfu37+/+Oc//1m5o/8wBo9dhuSEBPHHH380jcvqq68uTjrpJP8ow6YfV/WDKmqdZSHwhg8f7smzLFoOnjyLLjTDmitsW0aa6AB5J+LhyxoQkFuqh+oMrMTUjVqlKev04LtXXnlF/6Qj7jFrSWeAe9srbE2Qef1Ee2KGFb979uxpetH0d6vtk82wNA0sP2hKACtq9bzBFbZNkeX6oNVyk8vTNrJEfs0T8+qrrw6VZVWuL7vssuaWjS/eeecdfwbyVFNNFXJzxx13NL7kTxCoej0qB7i9WWedNZSWdV5ha+a6qvM3w8vfJJCHQN4+QB6/aKc8AnnSuU59q1bluTrFtbxcRJ+rSoDjbG5SZo455gjJuOgD3XXXXW4860BXf/75Z+/WW2/15ARgb4oppgixlgrbShMZOXKkN8888wRhlsfXeYcffrh3+eWXe+g7H3roocEuhKrvjGvXrl09eQRRZeKG/CyVyX48sOvjVltt5a8k/+ijjzx5/I0nJ117UiHtyUU6QVxVfHbYYQf/m8pEJkNAMBu9ckZt9WSjM33kkUeGEowKW7fJTd5u+dJ19wTkOa2hOuOZZ54JeXrQQQeF3mPrhU402ApENYLq6lphm9fPhx56qCGsCPOSSy6ZOelabZ9shiVz4GmhgcApp5wSyhtU2DYgsvKg1XJjJRA1doT8miceOmyqLdKvciV9c8sxXzz99NP+llHKvdVWWy3my85+XId6dK211grlDxt9zKqkeh34V4UVw1FfAnn7APWNcWeGPE8616lv1ao8V6e4dmYOZqyTCHCcLYlOvnc//vhjSL5VfRa5A2A+B2nLV/ztvPPOnlxp6i222GINSlrFGNcqK2wff/zx4Eg7hPPKK6+MXBQJhTT0ZHq81D2OAyzbPP/8894000zjhw998VdffTU2SIjLsssu2xAXbGFdR1NJhe1OO+3kA7aROU477bRQYlFh6zabkrdbvnTdLQGsqlGNE644n9Y0mMEjtx3x9tlnH7/RmzhxovlJx/zGWQE6L9cKW4DN46fcNtPD+Qx6WHG/1157ZU6rVtsnm2HJHHhaaCAgt1UN5QsqbBsQWXnQarmxEogaO0J+zRMPZ2KZdTx+Y7VOK+bGG28M3O3evXsrTrWt3TrUo5tvvnmQjsgX7aSwrQP/ts38jFihBPL0AQoNID2zQiBrOtepb9WqPFenuFrJDHSkbQhwnM1dUuIMUr0PRJ1Ha6wHDhwY4qnYYnWquZq5qgrbn376yUN4EXaE8aWXXkqEIrcY9g477LCGeE8yySQezkcuy2Dsfd555w3C9eSTTzYNChS6U045ZWBHpZ880q+p3ap9UEmFrZoFbUNh+5///CeUUKy83GZB8nbLl667JYAtI1SFjitm59DEE1AznRSzIhS2ef2U50x4q6yyij/LbLLJJvO22GILD9skZjU22idbYckadn7fSOCiiy4KlXkqbBsZ2Xhio9zYCEdd3SC/5innSmGLjuLiiy/u1xNoO2wc19I8NvX6og716N///vdQXd9OCts68K9XjmZoq0ogbx+gqvFhuKIJ5EnnuvStbMhzdYlrdOryaacS4Dibu5QfN26cB92JPKfUu+666zwo32jyE5Dn//orTnfbbTcPO4hec8013htvvOE7uOuuu4b6E1VV2A4aNMgPJ7YPxo5RaU2fPn1C8cM4Lxa+QAFchkFaqLFmdd1+++2bBqVv374N9rCldd1M5RS2GAhRK6GosK1bdvI8Kmzrl2YM8Z8EsO+9aghw3XLLLf98ybsGAnk61A2OZHzQqp/ffvttboHDdvvUSlgyYuPnMQQ40B0DxuJj2+XGYtBq4RT5pUsmVwpb+H799dcHssHYsWPTBaiDvqpDPUqFbQdlSEa1bQm02gdoWzBtFrFW0rnKfSvb8lyV49pmWZLRsUCA42wWINKJ0gnUQWEL5ao6a3ebbbbJxGzYsGFBn1cfF7/22mszuWPr4zPOOCMyPK+99lqiF1GrpGeaaabaTWaonMJ2+PDhQYJQYZuYByv5kgrbSiYLA5WSAGak6Q3THnvskdJmZ37WSoc6L7Ey/FRhtd0+KXd5LY9AHRQN5dGx4zPLTWscyS8dP5cKWwyyTjvttL58gPPjaMIE6lCPUmEbTjP+IoE6EiizD1BHXnUNc7umM+W5uuZIhtsGAY6z2aBIN8omUAeFLXZh0Me0e/bsmWlb4yWWWCJkH26tvvrqpaBXxwjo8cE9zuNNMuedd15DHGDvvffeS7JWuXeVU9jicGeVGFTYVi6/NA0QFbZNEfGDChOgIJktccroUJfhp6Jiu31S7vJaHoE6KBrKo2PHZ5ab1jiSXzp+LhW2CIHaWqlZBzFdaNvrqzrUo1TYtleeY2w6k0CZfYDOJF5OrNs1nSnPlZOf6Gs1CHCcrRrpwFC0RqAOCtvzzz8/0Kkp3drkk0/uvfLKK6kij62glT11nXnmmVPZtf3R6aef3hAWhEltUR3nX5zC9osvvoizUsnnlVLYfvjhh970008fJAgVtpXMM4mBosI2EQ9fVpwABclsCVRGh7oMP0HFRfuUjTa/dkGgDooGF/Euyk2Wm9ZIk196fq4VtoceeqjfPznuuOPSB6pDvqxDPUqFbYdkRkazrQmU1Qdoa6gVjFw7pjPluQpmNAapUAIcZysUNz1zRKAOCtvdd9890KkphSuu0NWkMSeffHKkfWzDX7R59913gyNTVVxWXXXVpsE4+OCDG+LQrVu3pvaq9kFlFLbff/+999e//jUElQrbqmWX5uGhwrY5I35RXQIUJLOlTRkd6jL8dNU+ZaPNr10QqIOiwUW8i3CT5aY1yuSXjV8rCtv333/fW2uttbx999031lNVV2CFDE2YgGKjOtIbbLBB+IMK/KLCtgKJwCCQQIsEyugDtBhkWs9BoN3SmfJcjkxAK21HgONsbZekHRmhOihsDzjggJBeTfXP0urXrrrqqkj7b775ZilpjglPxx57rLfXXnt5Z555pvfdd981DUefPn0a4rD++us3tVe1DyZBgGQClmp+//13scUWW4jbbrstFA6ZocQxxxwTepb1h1xCLeSs+MDa1ltvLWRjEfzWb3744Qfx888/ixlnnFF/3PL9jz/+KF5++WXx0UcfiS+//FJMPfXUYt555xUrr7yymHTSSVt2vxUH/vjjDz9sshAIOdjlx3+66aYTiy++uFhsscWEXDrvO//YY4+JcePGCTngkehd2byRncH57bffFmPHjhWIy1JLLSUWWmgh66yl8C1khyKSB7iOHz/ez0uu0thFvrKdHyLhWHr4ySefiHfeeUd8/PHHYuLEiWKBBRYQiy66qJhrrrly+3D99dcLeTB7YF+eYSvkQGTwu4ybIvO0GT/UzV9//bVfjuTB9eZrIc/0EygHyrz++ut+Gqjfea5F+Ynyg/ptsskmSwymy/ZJeZw2LOr7qKuL8mD6k1Tn4VuUw19++cVqG+o6/1988cVizz33DKIqFQ1i2LBhwe8ybopIy59++kkg3+WRd5rlAzArotzAn6SwuGyH686vTm090jmNgcwlt2tq+PSBBx4Qa6yxRsNz/cHTTz8t/va3v4nll19eyHN/9FfB/ZNPPikgE8hZvUJuNRU8j7pxWYaRdt98842QOxI1yLV4hzZ7pplmEpNMMklU0Jw8s1WPuqzvt9xyS3HTTTcF8ZcdfiEHNILf6kaeV+zzRV5yxdC2/N4q/7rUB+inFp23Vb4o6+qyTJhxSmpP8a0LGc8MQ1F9ANPfvL+TmKFcuRgLcNUG2K6XkpgWkc42+lafffaZP6aEsSU5QOyP32FMaf7552/af1TxL0IethFXl3KLYpFUXvCNzTqmyu0a+sqIa9o+GLhBHpGrwxTKWl5djLO5zreu6ltbCdiJcpEtdnndkdsFi8suuyywPsssswi5zW7wuwo3d911l9hwww0bgnL//fcLOUG54bn54IwzzhCHHHKI+Vh88MEHfjvY8KJiDyZMmCBmm202f1xSD9oNN9wg0B+slZEdgVKM7BB7r776qnfppZd6iyyySIP2W0L0DzaGJj3uTzZeTcOetOJTVsD+YcWbbrqpt+CCC3qyIfTDgf29pfLH23vvvf0wNvUk5oNnnnnGk8ofz5wliLjhb/bZZ/cGDhzoyUGgGBfcPZYDOt5+++0X2oJahUtdpeLLO+usszzsG96lSxc/zFjBkGTK4o29yI888sjY+Ew11VRe7969vXPOOceTA61JUQi9O/vssz05QOdtttlm3mqrrebhAO455pjDQx4BJznJIPheDgp6AwYM8KSi25tyyimDvCSViN4mm2ziyQrCk0J78H3eGxf5ylV+yBvHOHuyQ+LnSTmw6vNVeVW/SiWin2ZjxoyJcyZ4ft9994Xql6WXXjrk7jzzzBN6r+qim2++OXDD1Y2rPJ0UXmxzcfXVV/v5HeVfTjbweaBunHPOOT054cUbOXJk4IRZt0mFbfAu7Y1LP+VEGb+eQz28zjrreL169fLmm28+T06a8eOF8hplXLRPecMSFT71zHZ5gLu33nqr3/ZhNZJUcnhywouHvCAV9j6za665Rnnv12f4veaaa3pzzz13UHZstKFF5f+qrAxzlZb77LOP3y5h9WDPnj39/I/tYFBnYleTOIPZi2j7Nt98c18WW3LJJf06QOUDyAWmcVFu4EdZ7TDKQjvw09OpLm29Hua095BPdVlA3UM2a2aGDx/u25UK22afxr63XYaR77GlFeRHOcHTgywpBwUCeRxtijJSYedh1vAMM8zgxwNtM/o2cvKi+sTptdV6tIj6Pm6FLfqCcmDD59WjR49Avke/YZlllvHrT7y3YVzI7whXXv51qA+Qz+WgU9C/kwPcXr9+/bzXXnstU5IgDf/1r395d999dyZ7ZX3sqkxURcZTXF32AZQfrV7LkkGKagNc1Us6d1fp7KJv9euvv3qDBw/22101NqjkCXWVk309tCkvvviiHs3g3oU87CKutuUWACi7jqlyu4bzI1dfffVgnBBjVhgLRphNg7y17bbbehiLUvkO/XE8kwsWzM8r+dvVOJuLfFtUfWsjoSD/bLzxxoHMn1cushGWTnSjDits5aQQTy5ICOoOtFmDBg1KnVy6XVX/QB8kFzimdqPMDzFOpcKtrtAFoW2umyltS2R0nBS8vNdPP/20Ke84BeILL7zg6UofDELKVaWeXJEZClfXrl19JV9Tj7QPoEjGQKdSciJ+GDzZaaedvH//+9/eP/7xj1Dji/cHHXSQ5oLbWwywzzrrrEE8N9poIw/7lA8ZMsS75557fCU2FBwYrDDTRs5iSgxcGbyxvYYagAZzDErvuOOOfsccSnc5EzIUDyhsnnrqqcR4qJfmNt0mDwxqv/XWWx4G+fR3UNiqMOnPF154YU9XeCh/0lxd5SuX+SFNvNJ+c/vtt3tyRmvAGZ0oKCFwnhzyHcoVlIqKNxqmXXbZxZMrUWK9kDOHgu+VvTRXDOK5NC7zdFS40ahjMoNeL4ADBn/RuC233HKh+gDbRqLBa0VhW4SfN954Y2L6xm3b6KJ9yhuWqPTCMxflAe6i7UoqA2orlZdeeslX5qpvbbahReb/vAPdYGXLlJWWSQpbTE5SaRt1hSLTNC7KDfwoqx1uVhbqwk+lU13aehXerNdWFLZKds2rsHVRhpvlewzeYksoXRGpD+yh3EImkruQZEWZ+ftW6tGi6nudE9hAfkdfEJOSVB2HPt8KK6zgy/RK+a3eQe675ZZbMrOBBVfyuwpMHv51qA/QJ4UsjzSAvAmFukoPTF4YPXq0QpB4PeGEEwJ7sC9X1Cd+X/ZLl2WiWbtWhIwHvkX0AWylY7O62NVYQDN/W20DXNdLRaSz7b7Vww8/7I8HqnoGV7QLK664oj/4jYnLGC9U7zEWIVfrNCwGcCEP246rC7kFaV5mHVPldu2NN97woKBF3sEYqz7OKleCBRPssLjjwAMPDPIYJs9jcZM+RoOJ0VETZ23VebbccTHO5irfuq5vbTEdMWJEMLGwFbnIVng60Z06KGxVukB38+yzz3pyl1f1KNUVbZ5q59QVk03qYDDhEZNbVLhVnRs3warqcSpNYQuFGRJd/zOVpVgFpb/X76GIwQy4ZkYNwqgEg6CFgWbVEUfnDxWfWnUJJQQ6SmplmbInt3Bo5pX/HhkEyg1lD1coROXy8ZB9CMk4B0v/DspFzPR2aR599NFAkYy4owDHGWRqdIj1MOZR2Lrkjc68Wu0KzlEr/OQ2194RRxwRSlMoVNOskkQaLbvssl737t1DHBST9dZbLxC+kH9xuDX2dlcradGZgiCvvldXpfCKY28+d5WvXOcHMx55f2Oig2KH6yqrrBIItrqbalasLgRD8WCWP2XnwgsvDNUxeidM+afXO+peboWhnLB+dZ2nzQDL7Z78WcQqvrhiJeodd9wRqo8wO/qCCy4I6s611147lCawF1X+TP/wuyg/H3zwQX9iDla96xNoVFzjFLYu2qe8YYni56o8wC+0mVDSY9cJxUm/YjAPu2OojqPtNrTo/J9noDsqTfI+c52WkEewMi9qlQA6p3Fm++239yc/6ZNg9HwQpbB1UW4QvrLaYZSFduAHhnVp6xHWvKYVha1q+/MobF2VYUzyRFtsdjpVOYR82b9/f7+exs4vWMmAP/VeXU888cS8SFPby1uPFlnfmwpbrFpWsiImcl577bWe3KIwiDMUSjjDCbshKZa4Hn744SHZKLAQc+NKfte9y8q/DvUBVoervjrKgprVD/lfpQd2Pmpm0K/GYLiyg6vcGruZtdLeuy4TZct4AFtUH8BWIpYlg7hsA4qol4pIZ5t9K+wwpSaIoJ5Av/Hoo4/2J9yYeQnKN33QHu2LGvvBty7kYZtxdSW3IO5l1TFVb9cgcyBfrbTSSn6ewliwPCIvaJtQ3rFyVB4T6D/DRGh5NGCw+hZtmTzmL/gebl155ZVAXllje5zNZb51Wd/aSqD33nvPk8d1+HmgFbnIVng61R297kc5hL6knQx0GYiX+Ydx4Kob6H0wXq+HHX09uRV01YMeG77SFLZRITI1+WqWZ9S3aZ9BaNATDCvy1AAkthrTO+e6m1hxqttDZ6/ZEmoIauZKSyhh4wwyFLYZ1P3BlquuDIQArPCEf1BYYrCnmcE38rygIIxZFbYueWMwRZ7hFYQN7JTiPSpeeK+zxqykLAdnY0Y2Zlnqbqh7KHVxGHac2X///RvsQcGsC/dxdl3lqyLyQ1ycsjzHFmaKM67oODcri88//3ygSIcdbNf67rvvNvUWkzV0vzAwVKQpOk9DkY2BSj3OUMSqgbGouMtzfPxtv3U76j6NwrYMPxEPrDL6y1/+EoprnMI2Kt4226dWwlJkeUD9qBSzKo0xW1Ztf2y7DS06/yOdsw50R+WNvM+KTEtMnMKWSSodcU1S2OpxuvPOOxsUvlEKW92OurdZbuBmWe1wnfnVpa1XeSbvNY/CFgPK2BpflYusCtuiyjCUOOakI0wQRLixYgMyD8xRRx0VxEXFaYcddsiLNLW9PPVo0fW9qbBVfDCpMq4vCADoB6kBMt1Omgm2ruR3M2Gy8K9DfYCBbLXLAwbGdIPtkVU6YEA7SV6FPWxBqb5XV6ysrqIpukwULeOBeVl9AFvpXZYMYrMNKKJeKiOdW+lbYfWqPrERCzeSJvZj9y70IVWdgitW/iUZm/JwK3EtSm4Bi6LqmKq3a1i5jTyC3ff0sVRzUYeaLA1FbtyiGn2HSCxawbhMXUwr42xF5lub9a2ttIGso45uM+UiHIGi6qI0clErYUL7gb4T8nGZf81kv1bi2MxuuytsVf9S5SlcoTtCulfVQK+GI09U30GFvU+fPh6Ofaiz6TiFrUq8ddddNzHdUAHpghvsPfLII4l2zj///KCyxPdY1dVsFTAaY302H2YTYyWbC/PQQw8F4cPsrrTmsMMOC+zpQkaUfVNB7pI3ZtIp99UVq4LiDJS55nnJEJSyGJzpqPxSV1QEEBSbmSilbZqVD67yVRH5oRmTZu8x0KJWUIM3hFRUyGnM0KFDQ2mFjlIzRW8rgmSaMDX7psg8jQExbPGn8jGuqBfT5OWxY8f6ZznrdnHfTGFbhp86c3PSRlkKW4QpT1iKLg8I5wEHHBDKIyrNXbShReZ/xA0my0D3/9mw87+MtNxuu+1CaZlWYYsYm5PRylLYIixltMPwt6786tDWg2+rJk5hi3SDIlP9YccVHKGAM1/NnX2yKGyLLsOQ21X9q19x/q4y2A1If4d7rEhwbfLUo0XX91EKW5yFCiVZM/Pcc88Fqz0V3zTbEbqS383wZuFfh/rgv//9r5+PMWg9YcKEUHTVxGOVDnGD2sqSmQaYhJxG2a7sF3ktukwgbkXKeGX3AWylZVkyiK02wCwTtserykznPH0rKF+xS4WqU3DFysYkg0Ul+ve4xzhPkrGpsIU/eeJatNyCcBZRx1S9XVMTA3EupG7Ucz0vod1LWmRw2WWXhfLekUceqTtZ6fu842xl5Ftb9a2tBDn33HNj5SLspKXnoWZyUd4wjRs3LrSQS/ezjPuyVny2s8IWR+2Yk1SRtpDLq2SQx9dZZx1/JyosJNH1BQgvFpzgPPV2MB2psMWy6KSGUCUsBFi98kFFGWdwnq7auknZwWy9NAaHxys7uLoqEDhMXfmDij2twcoSZS+PwtYFb4Qdyk4VLnVFGiQZnNOpvsUVK2bTKKiUm5tvvnnIPjr+SStrlT1cMSNJzZxTYYCyPuksJZf5qoj8oMc/6z0GVExhqdmkCdMPKNMVa1ybKcjzCpKmv3l/F5mnsfpfZ4PGGZ3stAZbR+n2cd9MYVuGn3p8zjvvvFCYy1TYZg1LGeUB7KLyZDvV6VkGuvW81Mp9WWlpzk7OorA1VxKUqbAtuh1WaV1XflVv6xXfVq9xCluznUr6nVZhW0YZVtsf6+E3dwHBxEQMAGJ1EGbZb7bZZg0Kr1Y5R9nPU49GtS0uZXhTYYvdljAwkdZcccUVIfkBfNXK5ig3XMrvpn9Z+Fe9PsDESrUbCgamdYNtkvX8j3tMIEwy5gqmTTbZJOnzUt8VXSYQ2Sg/Xcl4ZfcBbCVuWTKIjTagiHqpzHTO2rdCnhg4cGCoXoHCrNmCC1MmRl20WpMt2m0rbLPGtQy5BXyLqGOq3K5hnBEra5FHTEUadujT2zTIFdhuO8k8+eSTITtQTNTF5BlnKyvf2qhvbaWLPoZsykVvvfVWKD8gP40ZM8aW1yF3hg0b1uCXnn+LvsdK0DJMOyts9fOzVXpCMYpyWCVj9slUWPVr3759PXyH8lNn05EK27QzkVZdddVQpZQ0285ceYEtytLM2kbmufzyy0P+LLTQQk7ylL5SFpkZ2z2kNThPGHbyKGxd8Ea4zzzzzBA3hA8zr5PMyJEjG+y8//77SVZC78wBH2wJmsWYwjXCjBn+ccZlvioiP8TFK81znHsBPuovyyQD5b652gSDEJhJG2fyCJJxbuV5XlSehmJVX9kPxlBGZDEYqFRpo65JCtsy/DTjk2VQ07Rru6OdNSxllAcwiNo1oZ3q9KzpYOaLPL/LSstTTz01VGazKGwxyK3KOa5lKmyLbodVGteVX9XbesW31WucwhZnC+F4DvWH1VE4mxjP9TyN+7QK2zLKsJnvEV70H6IMtvjNMgEryo0sz/LUo0XJOyoeJr+kHXmUHf2KPt0888wTyjPYnjfOuJTfTT+z8K96fXDbbbf5jDHAbSrUzfPrsM1/s4EY8wxiDOynNUn9hbRuZPmu6DKBsBUl41WhD5AlLZK+NesS12MBKiymv3naANf1UtnpnKUuBFfsnoAJTrosAAVjM2MqeWEfu3ckGfYj/xzTsd2PrHK7du+99/r5C6u4dYP2zRyLOeigg/RPIu9fe+21UH5F3sNEjLSm6HZND1eecbYy5G2E2UZ9q8e9lfs77rgjVi4yJxOjb9NsR8G8YUHf4rjjjvN22WUXb8cddyztD+f3QlmLs9jLMO2qsMXYrtkeQobGyuoqGqQ/woY/rMK/5JJLPOQNpbdS7XrPnj29xx9/vIpRSBWmjlTYplVU4oxRldC4YkuPKING0tw+GbPa0xrMgtH9gVtJZ7Gmddf87pprrgn5g73IseI0zR7wvXr18peaJ53zBP+iOn62eat4YQYa4qCzO+GEE9TryCvSSv8e96NHj478Nuqh2XjvscceUZ/FPgM//Uxg+I9zyaJW6brOV0Xkh1gQTV5gYMw8bxEzdrOaqPSG4Bdn8giScW7leV5UnoagZZaDNLsO6HHCmSmmG0kK2zL81MOL+6wded1+mR3tssoD4t/udXoreULPH2nvq5SW7aKwddkO6+lqloW68KtyW6/zbfU+TmH7wAMPxDqNLUgXX3zxoC1Lo7Atqwyb8meUQis2oo5f5KlHi5J3VNRNflnrDbhjrhzDwEbU+XGu5XcVJ3XNwr/q9QEGASFbYtDFNOa2f7vttpv5Seh31MD2iy++GPom6gfO38SxD+iP4yiWolYWFF0mEHezXQN7F/32KvQBotI6z7NW65IsYwF6+Ex/s7YBRdRLZadzlroQbM2xPuR/rFhrZjA4PNtsswWyA1Y5NrPHfuSfClvbdUyV2zUo8pGvdthhh1C2UopcvMMftvSEHNvMRG2d/9RTTzWz5p8fXka7pgcs6zhbWfI2wtxqfavHu9V7yEPII1FyUY8ePYJ6CN/kGS9tNXydZr8dFbY4crB3796hvIR2DW1d3QyUs6YeAZNj0E7U0XSkwjaqcx2VeOaKkv322y/qM++qq64KZW5UlllXq+lCH+yj02bbYNsouG3+YStUCNj/+9//vPfeey/SW5yrm2ZGVlTHzzZvPYA4RBqd+6233trDrOw0M4rM2WwjRozQnUy8NxtvGwM+SI+oM8Zc56si8kMizISXUSuh0QnLY7CvvZ7nsbImzmQVJOPcaeW56zyNMmKuLMKqkawmi8K2DD+j4pO1I6+7UWZHu6zygPi3e53eSp7Q80fa+yqlZV0UjibbItth3W+zLNSFX5Xbep1vq/d5FLbwE53Uueaay5cT0ihsyyrDZr6HIqkqJm896lre0fmY/PLI76aMCNkyajWWa/ldjxfus/Cven2AlfDgikFp3eD4GF2Wx/0TTzyhf9Jwj/PNdDvo76ZRvu68884hezgaqChTZJlAnMx2Dbxs99ur0gewlYY26hJz8ge4R40F6GE2/c3aBriul6qQzlnqQiyOMFfioH+c1nz++efe0KFDPWwTCsVSM8N+5J9jkLbrmCq3a0rZZh6VpxS5qo3CMWBpzJAhQ0LtE+wjHzYzZbZrKmymDGUe66G+U9ey5G3432p9q+Jg4xonF0ExpfKPujaTi2yEp9PdaEeFLXYKUXkIVyhrX3755domNeR2HH2pxwmTMK+99traxanjFLbQtqc1psJ23333jbRqZnBkDOyXncVgqbaeodLOPMviB75df/31Q/7ofqp7LH3HmT/o6MYpcOP8NTt+LnjH+R31fMKECd6bb77p4ezTm266ycOWxOZS/7vvvjvKauQzs/HOM+Bz1llnNaTBpptu2uBfEfnKdX5oiFTKB+bWNsibt9xyS0rb4c+WWWaZEG+saI7rWGUVJMM+FfOr1TyNWZiqrKsr8kFWk0VhW4afUfHJ0pE37ZfZ0S6rPIBBu9fpreQJM4+k+V2ltKyLwtHkWmQ7rPttloU68atqW6/zbfU+r8IW/g4aNMhvF9MobMsqw2a+xzmKVTGu6tFW5R2dj8kvj/weNThWlvyuxy0r/yrXB5Ato84GRh9cyay4NjsCB3zM82vT7n6F7bKVXzjrGJM6qmJslgnEyWzXXPTbq9IHsJWGNuqStGMBephNf7O2Aa7HFaqQzlnqwoceeigo56q846w+V4b9yP9T2LqoY5BmVW3XsG0nzq41t+/HhAuV73BNu0300UcfHbIHu2nGMqvQrmUdZytL3kZ+arW+hRu2TJxcBDlWz0Np5CJbYepkd9pNYTt48OBQPsLEpSInKrrKS2rHHr2MTDfddF6W4zBdhS2Lux2nsIXyJq0xFbZxZ7bhDCM9I6h7KIbS/ik76oqzN10YdPT07d+Uf3FXhH+rrbbyPvvss1TBMTt+LngnBQTxu/TSS/0VtwsssEBkuphxTSPkKD/NxjvPgM+dd97ZEC4o7E1TRL5ynR/MOKX9bXJGmt13331prYe+69OnTwPvd955J/SN+pFVkFT2XF5t52nzXF+wbbatXFT8sihsy/AzKsxZOvKm/TI72mWVBzBo9zq9lTxh5pE0v6uUlnVSOOpsTYYu22HdX7Ms1IlfVdt6nW+r960obDFJEm1hGoWtmf+Kkk9Mf+N2/WmVYx77tupR2/KOHheTX556I2qL3bLkdz1uWfnXrT7Ayj3M9kdZU3/HH3+8jiDy3jy/FscApTFvv/22vyUydm+KUh6nccPWNy7LBMJotmsu+u1V6QPYShMbdUnasQA9zKa/WdsA1+MKVUjnLHWhuY0u6pZtt91WR271nv3I/6u/XdQxSKg6tWvYudDc8W/48OGp8ptabanaQlxfeOGFpnar0K5lHWcz6zzEtYjxQMA0/c5a3zZNkBY/wJGG008/fSATgc2pp57aoqu0noZAOylsUe9gO3ZVn2BnyjpugxyVbqNGjQripeKH64ABA6I+r+yzjlPYuhhgwxareibAPZSFmKWX5w8NhIstkVUuxHmpyKjmubtmHPTf2C7uueeeU07EXs2OnwveUZ5DCIGQPdVUUzWkxWKLLebttddefiMWJZwXrbB99dVXG8IYNduwqHzlMj9EpVWaZ9giRc9/uH/sscfSWG34Bud1mG5hi5Uok1WQjHLD1jNXefqMM85o4HHIIYdkDnYWhW0ZfkZFKEtH3rRfZke7rPIABu1ep7eSJ8w8kuZ3p6Wl7XIDxmYnOo/iJW07rKdpGWXBJr8qtvU631bvW1HYYgsxyAlpFLZllWEz31dpYKbVetSVvKPnKZNfnnpj3LhxDfJTmfK7il8e/nWqDx588MEG7s12gIpSrtdpxUARZQL5p4h2rSp9AFVeWr3aqEvyyCCmv1nbANfjClVI5yx1oZn3IQPsueeerWaPWPs25Tl4kiWuZcktCKfJ2eXYYF3aNTVJUI1PQWHy/fffA1eiwSpdrBBT9tQVq3jrYLKOs5WZb1utb12nB7Z2VemPK3aQhIxK455AuyhsoduZZpppgnyERX0ffPCBe4AF+hC1gG+KKaZIdV54gcFM9IoK2wQ8aVfYmltaoNJ88sknE1yuxitsz7Hxxhs3nN+hV/76/bzzzuuNHz8+MfBFCmUICGYX4QwIFDw9rDgT+IQTTvA++eSThvDqs0hgp2iFLQYZ9LDifsopp2wIZ9H5ykV+aIhUyge9evVqYITzq/IYTJoweWNbuyiTVZCMcqPVZ67zNM5IMnkcdNBBmYOdRWFbhp9REcrSuTXtl9nRLqs8gEG71+mt5Akzj6T53UlpCR62yw3cNDvReRQvadth+KdM0WUB/rrgV6W2XrG1cW1FYQvlzrTTTuutscYaTYNSVhk28/2ZZ57ZNKxFfZC3HnUt7+jxN/nlqTewKsaUn6ogv+flDz51qA/M7ZCXXXZZPWkj783za7HFW5rzayMdK/BhkWUC0SqiXatKH8BWMtqoS/LIIKa/WdsA1+MKVUjnLHUhzh836/N2XWFbltxSVB1jlu2qt2vmVr9pz6+FgsXMs3/5y1/M6Ff2d9ZxtjLzbav1retE6Nu3bygv9OvXz7WXdP//E2gHhe27777r6bvQYEfKZnqeOmYA9OvNOhO/URfVxdRWYYtzMp555pmmnIvoiJhn5CAT3HvvvU3DVpUPcDYPVi9C8IegioY/KmPj2XbbbZcY7CJ4qwBMnDjRMxsrhBGVaNIstbIVtg888EADXyjDTVNWvrKZH8w4pf29wQYbNDDCOcR5TNSWyHFuZRUk84QnyU4ReRrna5vle+edd04KVuS7LArbMvyMCnSWjrxpP4viJE37lCUsZZUHMGj3Oj1LOph5Is/vTklLxcZ2uYG7Zic6j+IlbTus4oFrkWVB+euCn3K7Cm29CouNaysK2yz+l1WGzXyfdbA+SxyzfpunHi1C3tHjYfLLU298+eWXDfJTFeT3PPx1Nrivcn0w//zzh7in2Q7Z7ENlPe/T5FPE76LLBOJURLtWlT6ArTS0UZfkkUFMf7O2AWaZQF/Q5nhVFdI5S1145ZVXhuoV8MA5n66MbXkuS1zLklvAsog6Ji7NqtquYTcXfSwm7fm1WIyi28P9wIED46JfuedZx9nKzLet1rcu4Y8dO7Zhp8wbbrjBpZd0WyNQd4Xt559/7i200EJBXdK/f3/vxx9/1GJYnVvU4aj3sEPIkksu6WHMGvk/rYHuyqwz8RsTzOpiaquwxbJ/7NvezBQhJJizpJAJrr766mZBK/w9Vijusssu3uuvv97Ub2zVg8EMU7mJ8xaSzrMtgrcKfNRZLGkKnxmnolfYmgd7I79g1qtpXOerIvKDGae0v//xj380VK633XZbWuuh73C+mFlRY6uxKJNVkIxyo5VnReTpqEEC7CaQ1WRR2JbhZ1R8snRuTftZOtpp2qcsYSmrPIBBu9fpWdLBzBN5ftc1LTfaaKNQPbrPPvukir7tcgNPzU50HsVL2nZYj2QrZaFMflVu63W+rd4XpbAtqwyb+T7rYH2rfJPs56lHi5B39DCb/PLUGzjXyZQny5Df9XjhPgv/utUHUbLm6NGjTQQNv/WVA0izc889t+Gbqj0oukwg/q20a2l3IqtKH8BWetuoS/LIIKa/WdsA1+MKVUjnLHXhQw891FCfr7/++raySYM7tuXhLHEtS24BhCLqmDq1azhrF+MEuiyR9lzWFVZYIWQPbtx///0Nea2qD7KOs5WZb1utb12mASat6flnhhlm8H766SeXXvpu//rrr96OO+7oIR9CgVbmH3ZQzHtcXqug6qywxaI2/XgExOW3335rimS99dbzFllkEW/MmDFNv7X5Ac6O1vM67nHO7jfffJPKG+wiadrHb+zcUxdDhW1CSqXtiFx66aUNGeHwww9PcLmcV4MGDfLDeeCBB6YOAASIbt26heI3bNiwWPtFCGXwHOEyC9+mm24aGy79RZLCFmdD3HXXXd6bb76pWwnuzcY7z4DPwQcf3BB2CCSmcZ2visgPZpzS/kYn1Ezfc845J6310HfYBk13C0INBI4ok1WQjHIj77Oi8vT7778f4gE2OCMkq4kaRIubDFKGn1HxydK5Ne2X2dEuqzyAQbvX6a3kCTOPpPldZlqefvrpobKf5RypZZZZJmS37grbtO2wnqZ15Vfltl7n2+p9UQrbssqwKX8iHFUxWevRouQdnY/JL4/8jv6PLk/ivgz5XY8X7rPwr1t9cOONN4aY4/w+9NWSTNT5tS+//HKsFaycxgonyMLYmhKDoXCjSFNGmUD8ipDxqtIHsJWeNuqSPDKI6W/WNsD1uEIV0jlLXYjzTs36fI455rCVTRrcYT9S+Lyz9D3SjsXWqV3DOKOe7zAumbQzoMpIyK9dunQJ2cWKs7it/qvQrqmwq2vWcbay5G2Et9X6VsXZ9hXpbe6GaZ69DRkJKwsxScemufPOO0P5T8/HZdyb8bYZ1yS36qqwxfg3FK8qrdB/ias/9Phj9S0mmUwyySQedoIp0sw888xBeFW4cb3llltSBSNK4Qv7Rx11VCr7VfiotgpbNFhVWWGL/b67du0aykyrrbZarvQdNWqUByEejaxtc8ghh/hhxOHLWYx5qPmFF14Ya72Ijh88j9oKOU5ZpAcWq4P1wo57fYWt6szEbbdlNt55BnwwGGCGIWp2nOt8VUR+0NlnuUenzxRKbW3bu80228QGJasgGetQjhdF5mmc/6XnQQyApZldpUcri8IW9srwUw8v7rN05E27WTraadqnLGEpqzyAQbvX6VnSwcwTeX6XmZbnnXdeqNxnGTQxJ265UNimKTdgXmQ7rKdxXflVua3X+bZ6X5TCtqwybOb7rIP1rfJNsp+1Hi1S3lHhNvnlkd+h1NNlJ9yXIb+rOKlrFv51qw9MGQR5p5kxz6+dddZZYwelPvnkEw/9YqTl4osv7s0222z+Pdo8rNoqypRRJhA3k28WuSCtMgX+VKEPgHDYMDbqkrRjAXp4TX+ztgGuxxUQ1rLTOUtdiPBGrViM24UL38eZF154wfvvf//rQQ6JM+xHulPY1qldO/TQQ0NyBPJFGhN15nLcNrhVadfMeGUdZytL3ka4W61vzbjb+v3oo4+G8g9klyeffDLk/IgRIwKZJvSixR8ffPCBh50LoUSbccYZS/1bcMEFPRxBVoapo8IWilmsjlZ9GKw8TWtwJjjsde/ePa0VK99hFa0Kr3k96aSTUvkRtyVykj4rlcMFflQphS2UnHpixGm+1aAMVs41M0V1RMzMMMUUU3hoLLMaJczFNcBZ3dO/V8IMGL/00kv6q8R7bN2hr0rFmR9xpijeM800UyivYOurNOaee+4J2QMLXWF71lln+e/TKmxxtkIWE7X9znzzzef98ssvkc64zFdF5IfISKV8qM8AQjrhDKtms+pNp82OG9zBzMY4k1WQjHMnz/Mi8zQaKbDQ/zBZJIt55513QvbhVtKkiTL8NONj5ocs5dd2+5Q1LGWUB/Br9zo9azqYeSrP77LS8vLLLw+V2aWXXjpV8D/++OOQPZT1tApb2+UGATY70VnKMexnbYdhB6au/Ipq6zH7H51nnDdThlF9A71dwz22abRtyijDZr7POlhvm4HuXtZ6tEh5R4XT5NevXz/1KvW1d+/eobqwLPndDHAW/kXVB2YY8/42B7fTbGNmntW5xRZbRHqPwSCsUMKqASh5YfR6Pu3OTZGOZ3xYRplAEIuS8arQB8iYJLGfm3VJUTKI6W+eNsDluAKAlZ3OWepChFdN1NflhlNOOQWvMhmlqE4av7MtD2eNaxlyCyAWUcfUqV0z5QisDm5msMINyhI9n8KdqHGxKrVrZrzyjLOVlW9t1Ldm/G383nvvvUP5ANvUmgaLXJBXylqBaoan3X67UthiggL60S5WsR5xxBFBvklT5+hpdvbZZ/t2URbTGFvxQP0GnZpe76l77L6TxmCsS9nRr2l20cEEBaTHDz/8kMYrZ99USmG7ww47hICiMESZF1980f8OW/Q1M0UICQgDZh6Y5xFkLQyPP/54EH8oQ2wbXZjBKt4sRt964Zlnnom1WgRvKJD1Aof7VVddNTZM+guccWva1RW26PzgfVqFLWbIZjFrrLFGg/9J5x27zFdF5IcsbMxvsWrBTCso3LMYc+bsyiuvnGg9jyCZ6GDKl0XnafhnbjGB+jeL0Qe1VDolKWzL8NOMT9bOrW7fdvuUNSxllAfEv93r9KzpVKBZTAAAQABJREFUoOeJvPdlpeVNN90UqlMxOzWNiWo30ypsbZcbhNfsRLtuhxWjuvJz3dZjwhkUIqodwO43qDeKNkUqbMsow2a+zzNY7ypNstSjRcs7Ks4mv6izZ9W3UddHHnkkyOMqr5clv5vhy8LfdX1ghq3V32qrS8X82GOPTXTyu+++80zlJ3ZHiDLKbSiFlVEDU/APE0WLMGWVCcStCBkP/lShD4Bw2DBmXVKUDGL6m6cNcDmuALZlp3OWuhDhRX1hnneN8/HiJtLDjmkwLqbqp6TxO9vycNa4liG3gFURdUxd2jUoU83x4ksuucTMUg2/0e6pPIbr1FNP7b3xxhsN3+FBVdq1qMDlGWcrK9/aqG+jGLT6bKmllgrlBay81g2218bOecgnWRdj6O7wPp6AbYUt2hucn67KOJSUWERmy+BYQeX2cccdl8lZ7MCoFhQ2W5XrIh5LLLFEEHYVBzzDJJZm5uuvv27YsRNuNFuwgPOg9YkiU045pYe+QVmmUgpbZCCVELjGbcuDDjLeb7jhhk25mdtHYLujtAYzJvXwNBughJJP/x7bKaU9DBsZo1evXr59zAx2YXRhBitmk5Qruv8Im1phiy0Lk2Z9FMEbS/rNc0nTdKoxOwLpr6cR7m+//fYgujh7GM+wrU2UMRtvfHvzzTdHfdrwDKs8TL8x27LZ3vGu8lUR+aEBQsYH2FtfZ4ZtONJU0PDmqquuCtlFZfvcc88lhgCrx3X/0m5Tk+hoipdl5Gns/a/HFWUcHfk0BiupzA4u3GomGJbhpx6fc889NxTntDPF4Ibt9ilPWIouD4h3u9fpZjqsvfbaiLZzU0ZaYhtzrCRS5R7neTdrf7799tuGwW/YxyqNNMZ2uYGfZbTD8Leu/Fy39ebZvip/FbmdKNLn008/DfK2CgOuOBvShSm6DPfv3z8Uv9NOO81FtHK5maUeLUPeQaSi6o0hQ4akii/kTnML0zLldzPQWfi7rg/MsLX6++KLLw7le6wSSDJ6/FQ98OqrrzZYwdFD6KejP4l+rjJrrbVW4B/SuAhTVplA3IqQ8RTDsvsAKhytXqPqEtdjAQizrTbA1biC4lpmOpt1YZp+Hibuq7pCXf/5z3+q6CReUXZx9jXsbb755onf2paH88S1aLkFQIqoY/R639UYZ2Lipnw5bNiwhry29dZbJ9p+8803PYxhqbyJK9rFKFOldi0qfHnH2crIt7bq2ygOeZ9hByNT4f/uu++GnFPK/aLGMEOed8gPc6eKaaedtqWYm22mKuvYEaxVg5Wo+jGDG2+8sdfsDzqwNddc09dNYaxIhafZ5BIX8TDbD2yFjLGpNEYtxFPhxxXlp5l+zpygr+zbSI804Ta/qZTC1tymDkCjtu7FKjmASzPzAGcUKci4YuY/DlxOY7BNkm4XFXeSwQwEdO50OyjA5r7yphuY3ae2b8KqN5yz6sLowgzCuPrqq6eaQaif2RS36lmFtyjeipfO+t5771XBiLzutttuobRRdvWttzfaaCP/m7gCGdVJwyymZsvqUTFgr3/lJ65YtfzFF19EhlV/6CpfFZEf9HjkuYeSHSvpdW6YodrsvFUMFOsNDOwnrYRQYTM7sXPNNVeqMqLst3ItI0+bZQKrEqLqXD1eqK+WW265UJqo9FFbyunfm/dl+KnCgJ0FVFhxTbNLg7Jru33KE5aiywPi3u51upkOUVsLqTxg81pGWiL8ats2VQ6ShFYMRJmdZGUP8lHUVlwmI9vlBu6X0Q6reNWRn+u2XslNKm+o62WXXaawFXKNWgGJsJx66qlO/C+6DGMSq2KL6+677+4kXnkczVqPliHvRNUbmMV+5513JkYZ6awr8cC+bPndDHAW/q7rAzNsrf5GH1rP9+i7xhlz9Q7s4UzaKIP6Ce/11bVjxowJDWwVOSmijDIBLkXJeCoNyuwDqDC0eo2qS1yPBSDMttoAV+MKOtey0tmsC9P28/bbb79QPYMB7mZKeMjA2HIU9UjXrl091B9JxrY8nCeuRcst4FFEHVOXds1MM5V3MCE0yuC5OmMd3+LvhBNOiPrUf1a1ds0MaN5xtjLyra361mTQym/oMDDRTOUF6A10gy1csfoa76E8o7FPAO1n1Da7puI8i89RMgXScKuttsriTMO3Dz74YMNkD5V38lyTxozguYt4YFeCxRZbzM/Tk002Wegoy4YIaw/Gjx/vzTPPPEFZUfFFHdTMxMVjm222aWbVyftKKWwRQzVLTUHFb31QUJ01AcEICWEazELC1gl33HGHhxkmamWocg9XKF7/97//ecOHD/cefvjhwAmsDsMzaNV32WWXhgRGJjnggAP89zjMG8usTQNlBmYt6P5BSRx3bia2UVlooYX87xEnfbWn6Xarv01hBmGE4iWugkGFdP755wed1znmmKMhzmXxRrqZs82w4g/bZZsGszCwhB/xRSOHdNbzBTpZTzzxhJ/2ENDxFzdzI64AzzrrrLGrODAYNNVUU4XyBFb6xnE3w4/fLvKVi/wQFfZWn6GcYYBGL1P4PXbs2AanIchAWFXCCuyg3MYpEuEGyjJmPGJQFxMsdH9wD78GDx7s3Xrrrf63yCsuTBl5GltXmHUdBreiViMgzihfiy66qM/IzNNghboOg1+oQ7F9NWZ6mqZIP7E1FdIXZRDbuqKONdMXgwqYfYYJH3EdJhWHVtonW2FxWR4Qz3av09OkAyaFIE9AHsDZFa6M67SMCjcGoPUygDyNrWRNgxVH6CjgW7SRO+20U8genmP7HtS3kLei3FButlJulBv6tax2GGGoIz/XbT06MHqeUveQH10ZyE8Y/MTKGJwZh5Ur8847b2Q4UO8jjOg/oK1HmwC7b7/9dsvBc1mG0T9QfRJz8BuMIdtAaXvttdf6bRw65vpKwZYjl+BAq/VoGfKOXm/geBJsiQyOUNrG9b0wqbJv376hfFUF+b0V/q7rg4Rsk/uVSiukF3aJMOVw9FfR59dXEah6COkeZSCjIh/ofTFM4FX2UL6war8oU1SZKEvGUxyL7AMoP21f9bpE5RdcbY8FuGwDXIwr6JyLSuc0dWGafh7qkCil7b/+9a/Inb2wuGKzzTYL6gtsOZnGtCIP24qrS7kFDMqoY+rSrpmTPlX9gfNooZTUDSbQqzEX9R3yY5KpWrtmc5zNdb51Wd8mpVnWd/pWrfoOkxjD6tGjh18nYZIETWsEkN/QV0TfCrolKMAxBqC2B1ZlUl2RFtipE31S7OyEnTVhH21hMxPXj8bCobwG9TDGZVX4bFyTxnoQThfxgLvvvfeeP/kScYAOB3odKHLjzOeff94w0RZ20f6irW9mtt1220huc845ZzOrTt5XTmELRQEUg3qmWn755f3Bdiw/V9v5YfA9ypizuHR3ou6hwFMmao/sKDvqWVwnEApmFFhdKQg7mKlz2GGH+UrQY445xkPjrOKDQt5su1YVzrxXfVYXtoCaZpppfM4YjMUANbYBxmAWlNmYfaBmMyDsmE2O1QumKZM3wmoqbdHBxmxHzLIeOnSo34FX+QnKuEcffdSPgrmVgUpTXE855RQzmsFvs5O24447ev369fM5Ii0xCx8D2BhkwyAaVp6YAwiozOIUwoFHETe285WL/BARbCuPsAXIwIEDQwePgyvYY6sEbJG2//77e/PNN1+o7kC5GjlyZGwYzJl+ej6Iu4+brR/rSYYXZeRpBA95Xj/UHXXX9ttv75cjCB04rxasVV5Gg/fCCy+EWEfxgiInzhThZ1QHLiqc6hm2l0oyrbRPNsPiqjwg7u1ep2dNB3R+XBqXaRkVbkxqwbbPKs/jirNsjz76aL+8o/1HXbvwwgv730DYR7upzkTS7en3cfIQwtBKuYmKQ5ntcB35uW7rsQpFzwu4h5LUhkI0Kv3xLGs5NsOH35D/zQGyOP+Snrsqw+bs/qg4mM+abRebFI8s77Lyj6pHi5Z3VL2BfgJ2xUFnXx88R70I+R0yzzXXXOPtvffeocl/kPGrIr+3wt91fZAlH6X9dvTo0aFdc9BvxTgAtrRG2xS12kGVjbgJm6bfGMTB2ZXK3iabbGJ+4vx3EWWiTBlPB1hEH0D3z+a9qktUXnE1FuC6DbA9rhDF2HU6Z60Lm/XzMNHMnJCMcaQBAwZ4J598sj9gD0WtGuNDe4JjIdKaVuRhm3F1JbeAQxl1TB3aNSiA1DiKqjuuuOIKD0oA/IYyF2OHmDC81157+ZPy1HfIg1DGZjVlt2u2x9lc5lvX9W3WtIv7Xt9WGnIplIjow6tJq1AoghNNawSgqFXlr5UrJhM2MyjzUX5gt9k0CsYo97PWw1H+68/SjH+7iIeKG3bb0Y/ExD2OK8WiSLVA6OOPP/Z31ERY9bCjnGCX2KjFnsp9/Xr99deH7Cu3WkkP3f2s95VT2CICmEG27rrrRoICMGzRG2fOO+88v4GDMhIJic4XtpLAYAFWskKhg5WYGISEggJnEimDLf4ggEGxh1mSqPgwkAm7uGJZNZ7jPb5bZ511lNXIK855xIpcfesCleDqijDg7IJmMxYiPcj4EAM58Bc8MGsYMy8wQIFMrMJjXhE+2Isb1CqbN+KBrUGilrzrccGq6ldeeSUghvhA+NbjjjzTrFI1O2moDLFtJJTdSjGs+6vuoViG8tbGmW628pWL/BAAdnSDuEOZYHamFGd1xbam2Le+mcACQRKVL1bkYjtgzGTq3r27X1fADSgtUG+gLsC2IxiEdn3GZdF5WiVVmnwFRpiMglU8mMmneMddkxS28Ne1nzjHGJ1psz1AuiKdUWaxVTnyE+q6JOW+4pS3fXIRFtvlAXFs9zpdpQPaZZRpU0ZAWYeghwFh5AnU+UUYF2kZF24oHTHwpAu+UWUYRzxgYgZMM4Vts3oxb7mJikPZ7XDd+BXR1l900UUezpjHYNRSSy0Vu+NIVHrmeYZyjPKpyjAmZ6GthryOFQn6n5L/MfEQsiL6ACj/kP8mTJiQx/tIO7bLMAaP9D4J6irEAfHBH9ox9E0gt6BPg28xyFeEsVWPFinvqHoDk/uUgcICZ8GhbxdVB+JZFeX3VvgXUR8ovjavaIv69OkTm06Q2dGumenY7MgaFUbsxKLbbbZVtrJn++q6TJQt4+m8XPcBdL9s3qu6ROUXV2MBRbUBadIB7W3e8ao07uftX6q60GY/D6tzsNrePMpKpTeukHUwSf/ZZ5/NnLXyysMu4mpbbgGMMuqYOrRrGBPR8xDGJ7DSHTtGYExCf6fu0U/DuHeaI9SiMmLZ7ZqrcTYX+bao+jYqnbI+w7GQ+hi2yi84d3TcuHFZneP3EQSw+wraJYwHYbwQOiToUND3gryp9zPxW/U1UZbRL4NdtJt6nyPCm+AR0hTuoF6AzgD9ulYmFqvdRVXeaPWKMaE0xnY8dD+x4A07aiFN0sYH6YQdbLIa7JqBfjfaergB/1pJj6z+699Pgh8yAJU0r7/+upBLyYVcBi2k4kXI7XuFrIiELASVDG9coGRjLKSyUEgFqXjrrbfExIkT/TjIAi2k0lfIAh1n1epzKVQKufJUyFloQmbAwG2ESS7bF1KAFFIRI2SlJGTGFHKFrZADYEIOVgTfVvVGDroIuXWlkFtvCLl/v5CNlZAVnZAVn5Armf34RIVdVsZCduaFLICiV69eQp57GvVZ8EyeMSTkdq/Bb9lJE3Kg0v8tB3GF3GpPvPHGG+L9998XcvBMyFlzQlbufr6Viv7Ano2bVvNVnfMD4g7O+EO5khW4kEoWv1zJSRix6W2De1FuFJWnzfjIAWwht+EJ6ivkazkY7tcFqH+l0tq3gqbjjDPO8NnLQXOBP9mx8K/qt2xQhRQoTS8afpfhZ0MgMj6oUvvUjuWhrPyfMRtY/7zItJSTjYScseiXdzkYIOTEMSE7F36bJXc2EXK2dxA/OdAgpMAblHFV1tUVZR5tXjNjo9xUpR2uC786t/XN8lMV3xdZhqsY/zxhKru+R9/n5ZdfFvLYB79PICfyVVp+z8NY2al7fYB0Qp8afbfvv/9eyIkiYoUVVhByEE3IASohB4tUVIXcOcv/NniQcCNX1Aq5Nbb/BcYZ0JdEPijLlF0miox33foAVZFBbKcR2i6X41V1S2eM16G+wTgZ/jDWgHEdObFTyMFr/9pKGtiQh1vxX7dbd7mlDu0axl/lAo8Au1wJKaSy1v8NGUQqV/38hnIiJ+f5Y5hy2/5g3CWwmOGmau1ahqCn+rTu+TZVJGM+wvin3P3SzzOQWSAHyWPcYr7m47oRkBMIfDlXLjITUolbt+AH4XURD4xXXXjhheL555/3dQHQYcmtpwM/oXNB3bnhhhsKuQOKP7YVvMx5Az0R5KMy0qPSCtucPGmNBJwRSOqkOfOUDpMACZAACZAACfgE2A4zI5AACZAACZgEMMkYE3GVGTx4sJDH5KifsVdM8pWrJ4Tces7/Rm4vKOTuTf79jz/+6E9qwiSmNBMQYz3hi7YhQBmkbZKSESGBwghgwB8KBmXkylkhj/VSP61f2a5ZR0oHSaAwApgIL3eE8pW2hXnqwKMi4oEJjlgsh4n0YGZ7kRywYGEYFilgsmjRhgrboonTv1oTYCet1snHwJMACZAACdScANvhmicgg08CJEACTQhgd62TTjrJHxzBija5tWLi7jn33nuvWH/99QNXsWOSPLrD30EpeBhzI8/ZFHLbf/+t3P7M39kLu2DByGNAhDwjTjzzzDP+jk3+Q/7raAKUQTo6+Rl5EshMQJ5f6w/2Q6GgzP333y/kttrqp/Ur2zXrSOkgCRRCAMpH7G646aabiltuuaUQP1140i7xwI6e2Hm2rPSgwtZF7qSbbUuAnbS2TVpGjARIgARIoAYE2A7XIJEYRBIgARLISeDLL78U8ixsIc9zDVzo27evGDlyZPDbvMH7Bx98MHiM7ZFxbEcag22V5Rm5/qc4qui+++7z73EkiDz32t8KVZ5r6WTWfprw8ZtqEaAMUq30YGhIoOoEcKxM//79g2DiCJlvvvlGTD311MEz2zds12wTpXskUAyB//znP+Kwww4Trlfhu45Nu8QDk0flufalpQcVtq5zKt1vKwLspLVVcjIyJEACJEACNSPAdrhmCcbgkgAJkEAGAmeffbY44IADQjawyhbnykaZIUOGiK233jp4ha3LRo8eLeaee+7gWdwNtjzG9mnYUg0GZwweeOCB/v2ll14qdt99dzFw4EBxzjnn+M/4jwQogzAPkAAJZCGANkU/X10/vzaLO2m/ZbuWlhS/I4HqEcC5ry+++KJ44IEH/LNYqxfCdCFqh3igb7DEEksInBn90EMP+efXp4u9va+osLXHki51AIEttthC3HzzzUFM0ZG/+OKLg9+8IQESIAESIAEScEeA7bA7tnSZBEiABMomsMcee4hLLrkkFIxNNtlE3HrrraFn+IGVr1iNiytM165d/ZW2K6ywgv+72b+ffvpJTD/99OKXX37xP3366afFcsst55+FizMHsYUlBmrmmmuuZk7xfYcQoAzSIQnNaJKAJQL6alc4ia32sWWxK8N2zRVZuksCbgnccMMNYquttvLlUMijdTXtEg81cXP55ZcXo0aNKiU5qLAtBTs9rSuB1VZbTTzyyCNB8OMGEIIPeEMCJEACJEACJGCNANthayjpEAmQAAlUjgBWtJ533nlBuKBQfeyxx8SSSy4ZPMPNxx9/LNZee23x+uuv+88nmWQScf3114sBAwaEvmv2A2ff4gxcGGyjPPPMM4tDDjlETJgwQQwbNkxgm2QaElAEKIMoErySAAk0I/DFF1+I2WefXXieF3x65513ig033DD47eKG7ZoLqnSTBNwR+P777305F2e/Dh06VGy++ebuPHPocrvEY/z48f6E0E8++cRfsLfZZps5pBbvNBW28Wz4hgQCApipNmLECIFZtT///HPwHNto3XbbbWLllVcWU0wxRfCcNyRAAiRAAiRAAvYIsB22x5IukQAJkEBVCWAnI/S3YI455hix3377+UpUPbzvvPOOr6wdO3as/xjK2pNPPtlfuaR/l+Yeq3MxEPPEE08Eg+pQ2l500UW1HTBLE29+k40AZZBsvPg1CXQ6ASguMPkHbYlu7r77brHeeusJtFuuDNs1V2TpLgnYJ4DdXDbddFOB86579+7tr+bs0qWLfY8cu9hO8ejXr5+47777/NXOTz31lCgrPaiwdZxp6Xy9CUARi3OQoKRFBRRnJp10Ul9hizMqTjzxxLjP+JwESIAESIAESCADAbbDGWDxUxIgARKoOYFvv/1WLLvssgJK2R49eojTTjtNrLvuuv52xzjH9oorrhA45/brr7/2Y7rYYov5x9OgrWjFfPrpp+Lhhx/2lcPYUnmaaaZpxTnabRMClEHaJCEZDRIoiABWxmGgf+LEibE+YvC/W7duAtslo91xZdiuuSJLd0nAHoFBgwb526TPNNNMvu6he/fu9hwv0KV2icfxxx8vjjvuOFGF9KDCtsAMTK/qR8A8c6JZDNZYYw3/gPBm3/E9CZAACZAACZBAcwJsh5sz4hckQAIk0E4EsCUctp7FFQa7GGFy7I8//hhEc8oppxRHHnmkOOKII7jLUUCFN7YJUAaxTZTukUB7E4Ai9ocffkgVyYUXXli89dZbqb7lRyRAAu1JYJFFFhGfffaZuOWWW0Tfvn1rG8l2iwd2/FlzzTVLTQ8qbEvFT8+rTgAz3jA40LVrV/8PgwP4w6y433//Xfzyyy8CWySpP5yztNJKK1U9WgwfCZAACZAACdSCANvhWiQTA0kCJEACVgmg/3X11VeLu+66S4wZM8Y/UxZnAWLlAc6V7d+/v382oFVP6RgJGAQogxhA+JMESCCRwPPPP++fsT7VVFMJ9YdJR7/++qs/Zoid+zB2iHFEKDiwkwQNCZBA5xJ48803/V1d5p577lpDYDzsJx8VtvaZ0kUSIAESIAESIAESIAESIAESIAESIAESIAESIAESIAESIAESIAESIAESSEWACttUmPgRCZAACZAACZAACZAACZAACZAACZAACZAACZAACZAACZAACZAACZAACdgnQIWtfaZ0kQRIgARIgARIgARIgARIgARIgARIgARIgARIgARIgARIgARIgARIgARSEaDCNhUmfkQCJEACJEACJEACJEACJEACJEACJEACJEACJEACJEACJEACJEACJEAC9glQYWufKV0kARIgARIgARIgARIgARIgARIgARIgARIgARIgARIgARIgARIgARIggVQEqLBNhYkfkQAJkAAJkAAJkAAJkAAJkAAJkAAJkAAJkAAJkAAJkAAJkAAJkAAJkIB9AlTY2mdKF0mABEiABEiABEiABEiABEiABEiABEiABEiABEiABEiABEiABEiABEggFQEqbFNh4kckQAIkQAIkQAIkQAIkQAIkQAIkQAIkQAIkQAIkQAIkQAIkQAIkQAIkYJ8AFbb2mdJFEiABEiABEiABEiABEiABEiABEiABEiABEiABEiABEiABEiABEiABEkhFgArbVJj4EQmQAAmQAAmQAAmQAAmQAAmQAAmQAAmQAAmQAAmQAAmQAAmQAAmQAAnYJ0CFrX2mdJEESIAESIAESIAESIAESIAESIAESIAESIAESIAESIAESIAESIAESIAEUhGgwjYVJn5EAiRAAiRAAiRAAiRAAiRAAiRAAiRAAiRAAiRAAiRAAiRAAiRAAiRAAvYJUGFrnyldJAESIAESIAESIAESIAESIAESIAESIAESIAESIAESIAESIAESIAESIIFUBKiwTYWJH5EACZAACZAACZAACZAACZAACZAACZAACZAACZAACZAACZAACZAACZCAfQJU2NpnShdJgARIgARIgARIgARIgARIgARIgARIgARIgARIgARIgARIgARIgARIIBUBKmybYPruu+/EV199Jb788svQdf755xcbb7xxE9t8TQIkQAIkQAIkkJfAb7/9JsaPH9/QBuPZrrvuKmaeeea8TtNejQlQNmtMvIkTJzaUE8iuyyyzjFh11VUbLfAJCZBARxNgPVpO8lOuKYc7fSWBogiwbi2KNP0hAfsEWH7tM23mIuWiZoTa5z3LV7a0pMI2htchhxwizj33XPHLL79EfrH11luL6667LvIdH5IACZAACZAACeQn8MUXX4gePXqICRMmCM/zIh16/fXXxaKLLhr5jg/bkwBls8Z0Pf7448XJJ58sfv7558aX8skGG2wghg0bFvmOD0mABDqPAOvRctKcck053OmrWwIffPCBmHHGGcW0007r1qMauM66tQaJxCCSQAwBlt8YMA4fUy5yCLdiTrN85UsQKmxjuO23336+wjbmtaDCNo5MvZ7fc8894tprrxU//PCD+Pvf/y622WabekWgRqH99ddfxZFHHinOOuss0bt3b/Hkk0/WKPQMKgmQQJEEsLPFbLPNJv74449Yb6mwjUXTti8omzUm7dFHHy1OPPHExhf//wkVtrFo+IIEOpIA69Fykr3d5Rr2qd3kq8cee0wMHTpUPProo+Ljjz/2d3ybaaaZRPfu3f2/ZZddVuy0005ijjnmcBOAGFcffPBBsf322/thmmyyycR6663nL2boZMUt69aYzMLHJFADAiy/xSdSu8tFxROtro8sX/nShgrbGG7YbvGmm24SX3/9tUAH5JFHHgl9SYVtCEctf1xyySVijz32CIX9ueeeE7169Qo944/WCYwZM8af5DBq1CjfsVlmmUVgRhUNCZAACcQRGDFihIBS9o033hA33HCDP0ilf0uFrU6jM+4pmzWmM7YWuv7668U333wj7r//foFyoxsqbHUavCcBEmA9Wl4eaFe5hn1q+3kKbfree+8thgwZ0tTxySefXPTv31/885//FEsvvXTT71v9ALvfLLjggg1y+Z577ikGDx7cqvO1tc+6tbZJx4CTgH8EE8f/i88I7SoXFU+y2j6yfcyXPlTYpuS22mqrhZS2VNimBFfhz+acc07x6aefhkJ41113iX79+oWe8Uc+AthO/O677xZXX321AFd9e3EqbPMxpS0S6FQCmMnft2/fUPTrrrAdO3asePvtt/14TTrppKG4tfsPW3GnbNaYUzbccEO/zVVvOk1haytvKX68JhMg72Q+SW+rwo71aFIquXvXTnIN+9R288kDDzwgdtxxR/HRRx/5DuP4DyhkF1lkEYHVrC+//LK/mhUrbnXTtWtXcc4554jdd99df2z9HpPD1llnnQZ3e/bsKUaPHt3wvE4PbNbLrFvrlPL2wmozD9kLVX1cqgo/lt/i80w7yUXF03Pvo82yyfKVMr3k2XA0KQjIrVxxiF7wJxW2KWzxk6oS+PHHH4O01NP1qaeeqmqQKx8uOQPY23nnnT3ZofQWW2wxb4oppohkDN5SYVv5+DCAJEAC1SEgJ3w01CdSYVudAOYIyVFHHeXH6cwzz8xhu95WbMWdslljPjjllFNCZUUqbBs/auMntvJWGyOyGjXyzo+zKuxYj+ZPw1Zstotcwz51K7mg0e7jjz/udenSxW/H0V++8sorvd9++63hQ3luvYfxKH0cQ93Ls+0bvrf54KGHHor0d8kll7TpTSlu2ayXWbeWkoSle2ozD5UemRICUBV+LL/FJ367yEXFkyvGR5tlk+UrXZqJdJ/xq9NOOy0kmFJhW/88sdxyyzFNLSbjwIEDQzxVp1HOCvbkuTqhd1TYWgRPp0igQwh069YtVI/UXWErzxzz4+N6YK2K2cNW3CmbNabuhRdeGConnaawtZW3GsnySRQB8o6iku5ZVdixHk2XXi6+ahe5hn1qO7njp59+8tBvVpObX3rppUSH//jjD++www4LtfmwO8kkk3hyl6tEu628/OGHH7zZZputwd+99tqrFWcrYddmvcy6tRJJWnggbOahwgNfAQ+rwo/lt5zM0C5yUTn03Ppqs2yyfKVLKyps03Hy/vOf/4SEUipsU4Kr8Gfjxo3zMFAuz4fxrrvuOg+dHpr8BOT5v/5M3912283DjJlrrrnGk2dP+g7uuuuuofJDhW1+zrRJAp1KYJpppgnVI3VX2K611lp+fDpRYWsr7pTNGmuDiy66KFROOk1haytvNZLlkygC5B1FJd2zqrBjPZouvVx81S5yDfvUdnLHoEGD/PYbK2yffvrp1I726dMn1O5DaQuFKhTArsyoUaO8VVZZxV8NLLdp9rbYYgtPnm3ryrvC3LVZL7NuLSzZKuWRzTxUqYgVFJiq8GP5LSjBDW/aRS4yotUWP22WTZavdFmCCtt0nKiwTcmJn5FAFAEqbKOo8BkJkEAWAu0kwGN7O7U6odMUtjbjTmG/sQR1ssLWZt5qJMsnJgHyNomk/10ldqxH06eb7S/bSa6xzabT3INyVR0ntM0222SK/rBhwxoUtlDaXnvttZncyfPxt99+61QxnCdMee3YrpdZt+ZNifras52H6ksiX8irxI/lN18atmqLclGrBN3Yt102Wb7SpRMVtuk4UWGbkhM/I4EoAlTYRlHhMxIggSwE2kmAHz58eDC41mkKW5txp7DfWII6WWFrM281kuUTkwB5m0TS/64SO9aj6dPN9pftJNfYZtNp7mHFKpSs6q9nz56ZtjVeYoklArvKjdVXX73TMLYUX9v1MuvWlpKjlpZt56FaQmgh0FXix/LbQkK2YJVyUQvwHFq1XTZZvtIlFhW26ThRYZuSEz8jgSgCVNhGUeEzEiCBLATaSYDfeeedg4G1TlPY2ow7hf3GEtTJClubeauRLJ+YBMjbJJL+d5XYsR5Nn262v2wnucY2m05z7/zzzw/kQqVwnXzyyb1XXnklFQocSaTsqevMM8+cyi4/+j8Ctutl1q2dl7Ns56FOI1glfiy/5eQ+ykXlcG/mq+2yyfLVjPj/vafCNh0nKmxTcuJnJBBFgArbKCp8RgIkkIVAuwjwH374oTf99NMHA2udpLC1HXcK+40lqFMVtrbzViNZPtEJkLdOI9t91dixHs2Wfja/bhe5xiaTTnVr9913D+RCpXDFFeUzjTn55JMj7WPLYprmBFzUy6xbm3Nvpy9c5KF24tMsLlXjx/LbLMXcvKdc5IZrK666KJssX+lShArbdJyosE3JiZ+RQBQBKmyjqPAZCZBAFgLtIMB///333l//+tfQoFqnKGxdxJ3CfmMJ6kSFrYu81UiWTxQB8lYksl+ryI71aPZ0tGWjHeQaWyw63Z0DDjggJBsqpW1aGfGqq66KtP/mm292Otqm8XdVL7NubYq+bT5wlYfaBlCTiFSRH8tvk0Rz9JpykSOwOZ11VTZZvtIlyCT4TAqENE0InH766eLQQw8Nvtp6663FddddF/zWb3744Qfx888/ixlnnFF/3PL9jz/+KF5++WXx0UcfiS+//FJMPfXUYt555xUrr7yymHTSSXO7/8cff4hvvvlGyBU/De7g3ddffy1mmmkmMckkk2Tyw1V4MwUi4uOvvvoqV3winOKjlATkNk3isssuC76eZZZZxBdffBH8Lvvms88+E2+//bZftr777ju/XC200EJi/vnnF5NNNlnLwfvkk0/EO++8Iz7++GMxceJEscACC4hFF11UzDXXXC27DQdsl2Hb7umRdFEvILyoG+XsL4Hyjfp3uummE4svvrhYbLHFhNxSzA/CY489JsaNGyf+/ve/60FKvJdCipCCY+Q38Hf8+PF+Xd9KHRzpuPbQdf5JiiOCgTz7yy+/WG/TtCj6t7///rvf3iDtpphiCvO1mHbaaQXCqszrr7/ulyP1O+nqMo8k+au/Q/y22GILcdttt+mPhRyME8ccc0zomY0frvNNljC6insVZDNwcFGvZeGrf3vxxReLPffcM3i0wQYbiGHDhgW/09ygawBZE+3i2LFj/fp0qaWWEmgXbdV1tsqkq7yVhlPWb1yXyZ9++snPi3n6H83aARXXIngnhcVlu+uaXxHsVDplubZ7PVpEfRbHG2mOfrQLuSbOzyKfs09tj/Zdd90lNtxwwwYH77//frHWWms1PDcfnHHGGeKQQw4xH4sPPvjA79c2vLD8AHIQ+ltZ+s225IBWouKyXq5C3Vol+TQqnVzLRfCzXdr2MmQj1+yQPi7LINzPa9q9/JYlG9VJLiqifkoq18i7RY3DRZUTl2Wz3ctXFM88z0pT2MrzOMStt94qpppqKl/xiCsGaKEUxMAwBtwhYKCRWGSRRcSmm24q5JYuQp7v4QuDXbt29e3iisoG36sGBfbWXXddsfzyywdMnnnmGTFy5EjRrVs33x78wqATMiG+h8ISfvTo0SOwo98kZSj4f/XVV4vbb79dvPTSS+K9997zwwShFQpVhGXffff1lQe6m2nvn332WXHmmWeKO+64IzRYrezPPvvsYssttxTbbLONWGGFFdTjhus555wjwB2KMih81R8UDkpgXnLJJX17l1xyiZ8+Tz75pM8GCou1115bnHbaaf6AXYPj2gNb4dWcbPkWA/tHHHGEeOSRR/z4YDBrxRVXFEhXKHRo3BKoosL2t99+85XI1157rXj88cf9MmtSQKcT9cLRRx8tll56afN14m/UR3Klk7j++uvFqFGjIr+FAgqTPwYNGuQrhyM/0h7aLsO23dOC2nDrol5AvX3ssccKOatcTJgwocFPPIBS/LDDDhNIb1xR16kBJmUBHF599VW/TsQ71I244u/XX3/1FWz9+/f3P3/wwQf9dFV1Pdoe1PULLrigrzxEekIp16VLF+V8rqvt/AMl4fDhw4N6X8URV7S511xzjdhuu+38sIIRJiRdeeWV4o033vAnGuCFrTZNAcHkCIQLf0899ZTAxAm0yZAD5phjDrH66qsL1B19+/b1reRR2NrKIyrMWa+Ij1zdINCWypmE/r3pBuK52mqrmY+D35gsBtkljbGdb9L4GfdNEXEvUzZDvF3Ua3E80z5vRWGL+gDyJmTtqDoVsvoSSywhdthhB7HHHnuIKaecMm2wgu9slMki8lYQ4BZvbJdJ1JcYwFdtlH5Fp16u4BfPP/98ZKjPOussAXlY2VHtAH6jHUB5OvjggxvsuuBdVrtbND8X7BoSqMUH7VqPFlGfmeiLkGtMP4v+zT61G+LobwwcONDvY8AH9EEh/5100kmpPNxrr70Cu8oC+iIYDEbbbcNgHAljRChb5h8WLAwYMEAMGTKkqVc25ICmniR8UFS9XGbdWkX5VCWJbbkI7rZL216GbFQ0O6RXUWUQfuU17Vp+i5aN6iYXuaqfqjYOF1cuiiqb7Vq+4rjmfi6VjaUYKcxFbtsiI9LwXCpW/TDKBqzhXdT3eHbuueeG4iVXoTa1KwfaQ3b0H3FLtl944QXvb3/7W+C2VAR7clWXJ2fSBs8QHqlY9hD+LEYK2J4cEPOksB24hS0CdtppJ+/f//63949//MObZ555gnfw56CDDor1wtyG0WQnV6h5skL15OqzwE3T/TnnnNOTqwQj/bAd3khPcjwcMWKEJxUNfpzATyrlg/jJlZ7e6NGjc7hKK1kIVG1L5Icfftgvp3oZQBmVSnxPrkzyUBegHKv3UoHkyUkRnmzAU0VbTt7w5OrckH05O9o77rjj/O3VUXZRlpT7slPu7bLLLp7swCa6b7sM23YvKvCu6gWpYPRmnXXWgOFGG23k4fwmtC333HOPJ5WNnpzE4slBiuAbxVvOlgsFtRkHqcDw3nrrLU9OAgq5JZUVnlSkhZ7Bj4UXXthD+PIaF/kHbYmKf9RVbbkmFdGeXEkXfGuzTVM8pGLAbw/19EOYZphhBq93797ecsstF0o3OeHJkwp3D/W3HnY5aKicjLzazCORHqR4KFdMhMKshz/t/aeffprCJ89zkW9SeRzzURFxL0M2Q3Rd1WsxKDM9zrslspykEdRnkDt79uzp7bjjjt6//vUvb++99/bk6tpQXp5vvvk8OdEiU9hslcki8lamiMV87KJMNqvL0Z7FGalsD6WhWQfts88+kVZd8C6r3S2anwt2kYnUwsN2rEeLqM905EXJNbqfZdyzT+2eOvooUtnmyUH1TJ6hD2vW6XJCYCY3mn184403Nvih+yl39GjmhN8/0uX/VvpvTT2L+aCoermMurXK8imSw4VcBHfbpW0vQzYqmh3Sq6gyCL/ymnYsv0XKRnWUi8qqn4och2tWHooqm+1YvpqxzfMeq8pKMXK1q7fSSiv5yjMoQ3RhT7/HgBAUojBDhw71+vTp48mVTLHfy219PQxI4Fvd6EpI3X11P9tss3lHHXWUbiV0H5WhMLCNAWa4ASUgOjFKoYPBZVSIUDYrP3CVq+1C7sb9kKtg/UFr3S4EWrmtTcgKhLKdd9455AcG1uQKqdB3+AFFb69evTy54iz0vfIDClu5isx/J1c3effdd5//p96r64knntjgtovwNniS44Fc7ezNPPPMfpwQfzn703dllVVWCRjIlU05XKaVLASqpLCVq+E9KEhVfsbAtFxB6w/Am3GSqws9PeyoR+SsI/Oz0G9MplBu44q8JreVDH2DH3ImtTd48OCQYgp1l1nGdYu2y7Bt9/Sw4t5VvfDoo48GE1lQ92JgI868+OKLHiZm6GliKmxRhy677LJe9+7dQ98pO+utt54nV3f67zAZR65A8nAmlMoLqDuh0Fffq6tSNMaFLeq5q/yDNgzK0Lj2E4KiXGUcKMFtt2kqrnIVrWdOoEK7JHeQCLVbckcN74ILLgjaWLnDQwPfJIWt7Tyiwp/1CoUWBsz0P3NClzzeIPRe/xYTOVBXNDOu8k0zf5PeFxH3omUzxNdVvZbEMsu7PApbTHJRE9sga0aVLbmbgCd3KgnJtZi0cvPNN6cKns0yWUTeShWphI9clUnkeUxqkccqeFH9pySF7fbbb+8r4vUJY6q9wjVOYeuCd1ntbtH8XLBLyHa5XrVbPVpEfaaDLkqu0f0s45596jKop/MTfRK9Llf3kKNtGrnLkD8uJ3cnC/phyi9cmylsbcoBrcSrqHq56Lq16vKpK7kIeaFd2vYyZKOi2SG9iiqD8CuvabfyW6RsVEe5yHX9VIVxuDRloaiy2W7lKw3bPN+UprDVA4sBdaVU04U+CHVxBrMf1OCSsoNVcRhQijMQZqHMVN/jCuXl3XffHRoojrJvZiisllMDHrvvvrsntyGLsuav+NL9g2IYytwkAyWAuZIL4Y4ziLPcyjgUL7lNaNzn/nNU2PrKXYQRSghcoZiQ26n530GJrYcf93IrvJDbRYQ35GHKH1DOym1s/fBD6aYbuc1tEC+sIFOKXP0bm/dghIYLiqIy/1zHM46ZrvREHoICrQyDmcH6ACcmVCQNNmPFKzqfehlA3RNnsBJJ/xZCd7PyjrKmlIGwO/fcc3vvvvtunBfBc5tlGI7ads9VvSC3sPdXsIIVlAVQljYz+Eaewx2kjamw1e0//fTT/o4Iejqqeyh15Tm5+ueh+/333z/wQ9mB8gMs0pii8g/aQn12O8Iqz73y8x7ubbdpKu6YjIBJWIoNrlDEJtVL8hxNDwNDuh11H6VUgl+u84iKT96ruQpCzarM615R+SZv+HR7tuNepGyGeLiq13RGrd5nVdhiBjQmO6pyBflRTT6MCgveq29xxcp31ClJpogyaTtvJcWn2buiyiQmjsojPkLpkaSw1cN95513huQhpGWcwla3p+5t8i6r3S2Ln012Kj1aubZTPVpEfaazLkqu0f0s474qfepO70/Hpb0aw9HbZvSRMPbgymDHtb/85S+h9idJYVuEHNBKXF3Uy0XWrVWXT4uSi5AH2qVtL0M2Kosd0s1FGYS7eU07ld8iZaM6ykVF1k9ljcPlLQew56JstlP5aoVtM7uVUNgikPJ8jpDAB4EzaaUZ7GCrNl0wPfzww/E40WDl6QILLODbwyBT1Mq3KAfMDKX8lefTRn0ePINiQFcQwZ48RzV4H3Ujzw4LxQuD1c1W2GCFmb5qECt/sUIpyWCFs4qHfpX7qwfWsCJYf4d7zD7RTVHh1f1Mc49tsRFeeY6wJ89iC1nBygQ9Xkkr9EIWc/wYN25cSFmk+1vGve3ZtmmQVEFhC+UrVo7rzI855pjE4EORon+Peyjloow81yc0iQQ7AyRNINHdwI4Auj9oFJspemHfVhlWYbHpnqt64aGHHgpYIbxpjTy/NrCXpLCFe2ussUbwrUoX7O6AwYZmJkppG7UrgelO0fnngAMOaIgj4uqiTUNcsRvEMsssE/ITfqVhOnbs2Iayi7DGKWyLyCNm+mX5bVPoLTrfZIln1Lc24w73i5TN4J+reg1u2zJZFbaYHKnqOXXFSsw4A2XuIossErKDHQaSTBFl0nbeSopP0ruiy6Q8ezyUFmkVtoiDOTm0LIUtwlJGuwt/y+BXlbyK+MO0Uz1aRH32f9SKlWuUn2Vdq9CnZn86OvVxnFXUwof//ve/0RYsPjUncCUpbIuQA1qJmot6uci6tcryadFyEfJBu7TtZchGZbBDmrkog3A3r2mn8luUbFTkeE/edDXtlVE/FT0OZ8Y5628XZbOdyldWnlm+r4zCFrP0zBWfp556amJcHnvssdAgBc6MjNoK2HREncN15JFHmq9if0dlKJyNmGYlnLk6yDxfV/cUZ9WpbZbVwBlWBaYx2267bYhHM0FdbX+s/MEV27fqBgNzAwYM8LfAw0rUzTbbLKT8LDK8eria3WOWodr687LLLgt9jrMo9TjjfsyYMaFvbP4YNmxYg3+m/0X+xizcok0VFLYDBw4MpQMU+c0mQpira5FOq0VsoY16x1R2NpuYYaYBFIJ6Pkij5LNRhvVw2HLPZb1w9tlnB5ww8SKtwYxRxbeZwnbzzTcPvoUdrM5NWlmrh0Gve5R/mEyDWbJxpoz8g/ylwqeuLto0FWdzdwsMLkGoT2uwlbkKp7rGKWyLyCNpwx31nS2ht4x8ExWfLM9sxV35WZRsBv9c1msqPjauWRW2UXUB5NAkc84554TKI86AT5p8UUSZtJ23kuIf966MMmnOCs+isDVlnDIVtkW3uyoNy+BXhbyq4o9rO9WjRdRnil2Rco3ys4yrLteW2admfzo69Q888MBQewwZeZ111kk1JhbtYvqn5513XsjvJIVtEXJA+pA3fumiXi6qbq2yfFqGXITUbZe2vQzZqAx2SDMXZRDu5jXtVH6Lko3qJheVVT9FpYfLcbi8ZUDZc1E226l8KU4urpVR2CJya665Zkjow3a2SQZKXjVwq65Q4iaZ5557zreDAfTPP/886dPQu6gMlVbhu+qqq4bCmbSqz5zRhK1SsYVBGnP55ZeH/IFiOslEnesLN6IMtnyOGlwvMrxR4Yp7hvMQkSe6devmYeapbkwhBNvzplnNqLuR5R7sjjvuOA9nEWJVeFl/OK8Uylqcb1K0KVthi3JvnieNhrKZMZW8yFM4w880F154YajsZVEkKrfM1exotLEqOMnYKMO6+7bcc1kv6CtlkR7YyjmtwVmhsNNMYWtywBbBWYw5gAE/+/XrF+tEGfmnqDYNkYZiVd8BAjxQD2cx2Doc9vS/OIVtEXkkS9jNb20JvWXkGzMuWX/birvyt8h87LJeU/Gxcc2qsD3zzDND5QplbOGFF04MysiRIxvsvP/++7F2iiiTtvNWbGQSXpRRJjG5Va8XsyhsN9lkk5DdMhW2Rbe7KhnL4FeFvKrij2s71aNF1GdgVrRcAz/LMlXpU7M/3ZgDIBub/dvZZ5/dw2rkIkwWeaMIOaCVOLuol4uqW6ssn5YhFyEftEvbXoZsVAY7pJmLMgh385p2Kr9FyEZ1lIvKqp+Kylt5875pz0XZLIpBldtHk3PU70opbE2FIwYgks4nxApSfZAC90lnvQLAQQcd5NtJGjyPAhWVodIqCnCGoR5OLIGPMpgdZ26fjBWtaQ1Wier+wK2kc8hMASBKuZnkd9HhTQqL+Q7KSbDA1TQ9evQIcWqWZ0z7/J2dQNkKW7MMIm9gpXUzgy0ycO60Klc499O0hwkV5hlyefIUypPyR10hRCSZVsuw6bYN91zXC9dcc02IE85owmqvpHNQVTx79erlb1sdd+a4+s7ksMcee6hXqa5wXz8zF+mJHSSiVumWlX+KaNMULExWUXlaXdPsTqHs44qzbJVddY1T2BaRR/SwZb23IfSWlW+yxtX83kbcdTeLyseu6zU9Tq3eZxlAhV9vvPGGfx64Kle4nnDCCYnBiGqvRo8eHWuniDJpO2/FRibmRVll8v+xdx7wfwz5/x9Eokc5DkH0Xi7aOZzee/BXT+dwuNNOP+L8gvMTNcppx2nnECVRQkSvOS5KEDXc6UQNCT/2v6+9m4/Z+ezuZ3Z3ZnY/+33N4/H9bvlMfU5777yn6HWgKQpbl/2umoVV8Ku6rKrpx73OAG2A7W9chOOjHfXRniEtvuUahFmV4Td1VeSzw8WxOyuvvHJMNsZ3Kr5dfZk88oYPOaBMul20yz7aVh/talGuVclFiK/O3ods5KIM+RyTkPlcBTuE7YKfTFORq87BhWzkq/76kI26TS6qU/vkomwVKfNpblzUzSbVrzRuNt7XSmGL1WTYVg0FVv4lrWaTCV9ppZVa9qR9rJZE5Usy2NJn3nnnjdxcd911SVZS3yUVKAwgmxh9Bvtvf/vbRGdXXXVVW3ryrkJSlUtggsY5zegCAM7czGN8xzdP3DbYYIOIJfbrV82jjz7axvixxx5TrfDeAYEqFbaYtCBXVqrthGkysRIfZ8xiK66ktiVppRE+YIuYfv36xcrnKquskulN2Tqse27DP9ftAs4zlfmoXrHFLgTFa6+9NnjjjTf0pEXPONe706plWNQ55B04hh/6ljCIq37+N+xVVX589GlIH3YvQL+s5tV8882Hn3KZPApbH2UkV+Q1yzaE3qrKjZaU3I820q4G6qscu27X1DSVvc8zgCrDGjNmTLT7x8477xzceuutRruO6KvmR40aJb1ru/qok7bLVlsiOryoqk7qdcDHoCRQ2Obts99Vs7IKfrbZqekpcq8zQH9t+xsX8fLVjrpuz6qQa4rkqy03/Ka2RdKuP9j9R5WtoazNWuhgN/T/+JZH3vAhB5RJo4t22Ufb6qtdLcK2KrkIcdXZ+5CNXJShKmSjKtghz1zwg79Fjc7BhWzks/66lI26US6qU/vkomwVLfdJ7lzUzabVryRuNt7VSmGLBG2//fYx4XOBBRZIPIMDK2tQsDFghMFfVWCFYiXJYDAJ9maaaaag0wor3b1eoLCiztToCtuDDz440akueCOuf/nLXxLtpr0cMGBAjEXWDGldAMAZCXmM7/jmiRsGGrBNkG6geFHLSqdt/3T3fC5GoEqF7QMPPBDLc+Q/zvaxZfQtnuD/sGHDCnm/wgorxOKKVZlJSmLpedk6LP2RVxv++WgXNt100xgntU7Le2wJtsMOOwQXXnhhqgJXplu/6hyKKGzPOeectjgOHDhQDyqoqvz46NOQ2CeeeKKNA/Ivr8mjsIXfrstI3vir9m0IvVWVGzUdRe5tpF0N11c59tGuqekqc59nANU0nM8//zwYP358gLPZb7zxxgDbvuvbMN55552Z3rmuk7bLVmZiEn6sqk7qdcDHoCSSb5u3z35Xzb4q+Nlmp6anyL3OwMU3LuJVl3a0bHtWlVxTJG9tuOE3tQ2Kdv24+OKLY7I1JkY+99xzdgMx8C2vvOFaDjCIcqoVF+2yj7a1Lu1qEtiq5CLERWfvQzZyUYaqkI2qYIc8c8EP/hY1OgcXslGd6m8Z2agb5aI6tU8uylbRcp/kzkXd7Gn1K4mrybvaKWxvueWWmACKwXcMEOnmD3/4Q2QPWxsPGTIk5gYrBJLMXnvtFdnDPtZ5jV6goFgxNbrCNu2MqC222CKWDql4gNLG9E+6kVeci5lmdAEgbeVvmnvf8U2Lh+l7bJnat2/fGGOc0UDjnkCVCsurL6gAAEAASURBVFt9CybUjV133dVaovV6BP9HjhxZyP811lgjVj7h12uvvZbqlx523jqse2zDPx/tAgTKpZdeuo2VbPf0K9rPnXbaKfjggw/0JCc+6xyKKGyHDx/eFj9MqNGNHpav8uOjT0Na9bOZkb59991Xx9DxOa/C1nUZ6RjhDAs2hN6qyk1Gsox+spF2NSBf5dhHu6amq8x93gHUpLBQfy677LIA8vTCCy/c1pbpbSyeOylsXddJ22UriUvWu6rqpF4HfAxKgoNt3jo/l/2umo9V8LPNTk1PkXudgYtvXMSrqnbUdntWlVxTJG9dueE3tSuynf295557ouNdZD+M3Zl8boOsxjCvvOFaDlDjlvfeRbvso22tql014av36yizvsZIdPY+ZCMXZUhn6EM2qoIdypMLfiblNM2OzsGFbFRl/bUpG3WjXKTXrSrbJxdlK61cF3nvom42vX4V4ZzkpnYKW5zHgRkGUgjFdf/992+L+yKLLBLZwdbG7777bqTQlG6w/emXX34Zc/PNN9+0lHV333137DeTB71Auej0sf2pTIO8YqAMqwGL/KERyrMlcl7lpe/4muRTlp1rrrkmxherQ957770sJ/zNEoEqFbZ63U1rU4om9Ze//GWsXMH/Rx55pJB3G2+8cZtf2K4jzeiCRt46rPtrwz9f7QLOg91xxx3bzv2WbWfSFVviP/3003qy2551DkU+jsaNG9eWl0mz56oqP3q9cNGnAaw+oQr5cuSRR7Yx7/Qir8IW/rksI53im/W7DaG3qnKTlS6T32ykXQ3HVzn21a6paSt6n3cAVQ3n1VdfjSY0TT/99G3t11JLLRUccMABAfqZpIlQnRS2CMdlnbRdtlQuJvdV1UlfdUBnYJu3z35XTUsV/GyzU9NT5N4XA9/tqKv2rEq5pkj+unDDb2oXVDv7iW8Y7BQnv3EwefXtt9/u7NCRjSLyhks5oEwyXbTLPtpW3+1qHsZVyUWIow/2OgsXZagK2agKdmDpgp+eR3mefXCoov66kI26US7qae1TnrKv23VRN5tav3R2ZZ9rp7BFgvStAWafffYAilxpHn/88UhQVbc23nDDDVvCK4RYDCapBlu44T22ycQe63mNjwKFM2SlAC6vSKsrowsAZ599dq6gfMc3V+QSLK+33noxvlidTeOHQJUK28GDB8fyHXXL5grbFVdcsc3/p556qhBYTMyQdV9ece5ymilbh3V/bfjnu134xz/+EWy11VZt5xRLfvp1/vnnDyZOnKgnPfascyiisMU5unrYffr0iYWDh6rKj48+DenDub06h8MPPxw/5TJFFLYyABdlRPpd5GpD6K2q3BRJr+rGRtpV/3yVY9/tmprGvPdFBlCxWuqYY44JevfuHauvc801V3DKKadEEyP1eEw77bQxuyYKW+mHizppu2zJuJpeq6qTvuqAzsE2b5/9rpqWKvjZZqemp8i9Lwa+2lHX7Vkd5Joi+WzTDb+pbdI08+v111+PxrGkTI1dmTp9z5j5XNxWEXlDhuZCDpB+F7m6aJd9tK2+2tUiTKuSixBXH+x1Ji7KUBWyURXswNIFPz2P8jz74OCz/rqUjbpRLupp7VOesq/bdVE3m1a/dGa2nmupsE06c/LWW29tpRlnwEJYVbc21g/s1s/Ik9sSF90y1EeBwnmLUgiX1yKrgVugOtzoAkBeha3v+HZITubPEyZMaFuJd8MNN2S64Y/2CFSpsL3yyivb6tVuu+1mLXGbb755m/9J27ibBJi0JXKWX2XrsB4nG/5V1S5gUg9WNqMdg0J+oYUWassX2a6qfYfOAM86hyIK29GjR7eFD2WxbqoqPz76NKQV57BL7vKK4wnymjIKWxmWzTIi/SxyzSP04kyYMWPGtAVTVblpi0jOFzbSrgbpqxxX1a6paTW9zzuAOmnSpEAffEddRb/91VdfpQZbRmErPbVZJ22XLRlH02tVddJXHdA52Obts99V01IFP9vs1PQUuffFwEc76qM9q5NcUyS/y7rhN3VZgvndf/jhh8Giiy7akqe33nrrALvHVW3yyhtJ8bUpByT5b/rORbvso2310a6aMtTtVSUXIR4+2OvpdVGGqpCNqmAHli746XmU59kHB1/117Vs1I1yUU9rn/KUfd2ui7rZpPql87L5XEuF7Q8//BBgYFsO7uKKzgrmu+++C+acc87ot7vuuqvF4osvvoitsOrVq1cA4Rbm008/ba0aKLryzUeBSjr4+q9//WsrjbZvdAEgr8LWd3zLpP/kk0+OladZZ501mDx5chkvjd2izO6xxx7BaqutFmDbiyr/sIKz6Ha9xglOsFilwjZpAog+oSMhysavDjrooFjZQnulTjAx9ii0iDNO1XYP99i2JM2UrcO6vzb8c90uoA3fe++9g5deekmPftsztiWGslVXLKB/yDrPVudQRGF78cUXt+UlZlHqpqry46NPQ1qTFNeYQJXX5FHY+igjeeOv2s8j9GLrfpy9rpuqyo0ej7zPNtKuhumrHLtu19Q0lb3PO4CadH4SZkp3Mnq7mrXC1kedtF22OqVf/72qOlmmDmy55Zaxfuo3v/mNnqzUZ9u8ffa7aqKq4GebnZqeIvdlGMgJ0VJ2zSpDPtpRH+1ZFXJNkXx15aaqb+qe+j2NiVPqtpn4pjbZLW6TTTYJllhiieDNN990VRSCPPKGDzmgTEJdtMs+2lYf7WpRrlXJRYhvGfZFZSMXZagK2agKdsgzF/zgb1FThoOpbOSr/rqWjbpRLurW9sm0bBUt90nuXNTNJtWvJGa23tVSYYvEHX300bFBhOmmmy7AwdgYEMJHYdLWxjvttFPMzfnnnx9xuuSSS6L3iy22WGFuPgrUZZddFos/0gkOrowuAORV2PqOb1EOmACgr7bTz0X+/vvvoxXb6DRtm+HDh7flqxzYqOKqp912epP8q1Jhi7NydM5zzz13UjQLvUO90f0/77zzCvn1k5/8JOYXJhZggCLNlK3Dur82/HPdLhx77LERo8MOO0yPfurzyJEjgxlnnDHGdsSIEan2dQ5FFLZHHHFELDyUEQiGuqmq/Pjo05DWt956q40DzgzJa/IobH2UkbzxV+3bEHqrKjdqOorc20i7Gq6vcuy6XVPTVPY+zwAq2ka9/xo4cKBRFLIUtpCp7rjjjmD8+PGRXz7qpO2yZQRBsVRVnTzzzDNjeZjnPPIVVlgh5jZL2aYkNbq1zdtnv6umpQp+ttmp6Sly35R21Fd7VoVcUyRfXbip8pu6J35P4xsQilfZT+M7AnnQyWD1LSb8TTXVVAFWVrkyeeQNH3JAmXS6aJd9tK11lk+rkotQDprSt1chG1XBDnnmog7C36KmKfXXh2zUjXJRle2Tj7JVtNwnuXNRN30wqHP/mMQ56V1tFbbPPvtsSziVQiqW2mOrSzwnbW2MAXhpF1esaIRZe+21o/eDBg1KYmD0zkeBwjkkUEyraUDci5gnn3wygMLg448/TnWuCwBotPIY3/HNEzfV7sMPPxxjCr762cCjRo2K7Cy99NKqUyv3b7/9drRyco455ghmm222Sv8WWWSRAFts+jZVKmyRVrQFar3CfdbK1TQ+Y8eODc4666zgk08+aVmBgDL11FPH/Le15esuu+zSCifppmwd1v204Z/rduHII4+MWC+88MJ69DOfr7nmmlgeXXTRRan2dQ5FFLarr756LDyUuXvvvbctzKrKj48+TSZ2pZVWirGYZZZZjFYHSPe45lHY+igjatzy3ucRetG2JK2wrarc5E2rbt9G2lU/fZVj1+2amqay93kGUJO2QjbZvQA7FOh9qrrCVn4gYSUWjI86abts5c2Hqurk0KFDY3mRR2GrT2RypbBNa8dUxj77XTXcKvhVXVbV9OO+Ke2or/YMzHzLNQizDqbKb+qe9j0NxSx26JJ97eGHH25cBHA+LNz179/f2E0Ri3nkDR9yQJE0SDcu2mUfbWud5dOq5CLkaVP69ipkoyrYIc9c1EH4W9Q0pf76ko26TS6qsn3yUbaKlvskdy7qpg8Gde4fkzgnvautwhaRXW655VpCKoROFBQ5uACFpG4wC1FulyyFW2yHitmFeC6ioJFh+ChQCAtnK8q449q7d+/g3XffldEwvspKlXVOqy4A5FXY+o6vceI1iwceeGCMKbYH0g0UbOBdxepTPS5NfK5aYSsHj9W6dfrpp+dGLQURvV6ps58RxoILLhhghVEeo3/0wh+sUMoyNuqw6r8t/1y2Y/KDH3yee+45NfqZ99ihQV0RhrON04zOAWdc5DFJ23AvsMACwbfffpvoTRXlx1efhgRDOa7WPdwn9eGJcP778rXXXmvzI02x5KOMZMW1029yEplkcvzxxyc6wcQQ2MHK+yRTRblJikeed7bSLsP0WY5dtmsyPTauel+S1X7NPvvssXqF3WtMDI4kkeVXXlWF7TnnnBP9ritsYddVu227bJlw0O1UUSevuOKKWF4sv/zyerQSn995552YO+RNHoWtbd6++10JpQp+ttnJtBS9NqUd9dWegbNvuSYpb6HAxCTcr7/+OulnJ+/4Te0Ea6KnxxxzTKuNxurUPObcc8+N3KJPcmnyyBs9RTZXeftqW+ssn1YhFyEPmtK3VyEbVcEOedZTZSPX9deXbFQHuQjlKI+pqn3y1TfkYZFl10Xd9MXAdf3K4mbjt1orbKFQkQNB6jVra+ODDz445mammWaKnpPODswD0FeBwoxIbGGjpjevkP7oo4+23GOQO83oAkARha3P+Kalo9N7XfE/ePDgmBOcDYMVX2CeV4kQ84gPqQSqVth++eWX0Tbqar3q169fqgItKSFjxoxJrVdYOan6jXv1jO0k//R3+irgNddcU7fS9myjDque2vLPZbugfvBjF4E8Rt0aHfmZZnQOWC2bx6y77rpt5SHrPPIqyo+vPg3coCzHDgNqHdl9993zIG378IZfJgpbV2UkV+Q1y0i7ygLtY5KRO41g29IkU0W5SYpHnne20i7D9FmOXbZrMj02rqYDqKiXajnE/VprrWUUBZxxq7tVFbZym6kkha2rOmm7bBmB0CxVUSdvvPHGWF5gJxUTk5SHeRS2tnn77ncloyr42WYn01L02oR21Gd7Bs6+5Ro1bydPnhzbJrdPnz4BFHQ+DL+pfVAOAhytI/vYvDvE4XxbOXE/z6rcIikzlTfgt4/vtyJpkG5ctMu+2tY6y6dVyEXI06b07VXIRlWwQ565qIPwt6hpQv31KRtVKRcVzeOq2idfZasoF92di7rpi0Gd+0edc9JzrRW2WKYuV8dKoRXXLMEVM01Vu/K+6JmSEhqUfNIvXPNsnYvVDarbTgMiGOBS7WNV8SOPPCKjknnFR9yKK64Yud9hhx0y7W699daxcM4444xM+2k/+opvWvhZ76dMmdKmAH/99ddjTk466aSIAz5uaNwQ0Ge2zDzzzG4CyvBVnn+t1q0//OEPGS5+/AnbUuHcTbjdbrvtfvxBudMPrh8wYECAM4RMzFVXXRWrixh8efrppzs6tVWHZUA2/XPVLqgf/Fgxm6a0k2mSV7SNcoUttmfMOtNJ/zhCvt98883Sq8zr6NGjY3kJt5iV1unMKd/lx2efBmDDhg2LcUFeQIAyMTiHGiv/1LqL+7QJNj7KiEm80+xAhlHTkraFKZT8sLfFFlukeRWdi6z65aPdSY2MwQ82047gfJdjV+2aATpjK+eff36sfG244YaJbtEm6eemY3eITgaruSADq+UO97fddlvL6dFHHx39jiMEYHzUSdtlq5WYnDe+23JsF69+K80666wd+5svvvgi0GfcIw8hq5ka27yr6HeR1ir42WZnmmdp9prQjvpszyRHn3KNDBNXfTBdtsXY3cWl4Te1S7o/+v33v/89dtTOVlttFXT6w1jT+uuvH40BoQ+QZeLSSy/90WMHd7q8kbWi14ccUCaJLtpln21rneVT33IRykFT+vYqZKMq2CHPXNRB+FvUNKH++paNqpKLiuYx3FXRPvksW2XYSLcu6qZPBnXuHyXjtGutFbaINGb7S6FTXjttbYwVuNIurr169Qpw3lYZgzMMVT9xphy2YDYxyy67bMwtlCJZBjMjMcCvhgcFl37uqu4HVhFCSQt3WM3UKc0YJFbD2G+//XQvjZ59xdcoMpol5JHcRltyUa1gO6kZZpgh4oAOhsY+AZQPbNGnljXc64pz+yG3+4izr9V4QHHXSRGHrY2xVTbc4YzpN998s93j8A0GsbESTvUfs5GQ/izz1FNPBerHNdxnrcZU/bJVh6WfNv1z1S6oH/xgtc466xitlD7uuONaeZO2olFySPo4wir8F198UVpJvGJiDc6pVssAVvV+9NFHifbVl77Lj88+TaZz3333jbGBwqDT9qjo11ZZZZWYO8n3wgsvlF7Hrj7KSCzAnA/6ltnYVSOJA1bZI63YXjbN+C43afEwfW8z7QjTdzl21a6Z8jOxhxWsso7gmnQMhPRHyoyq/bvvvlv+nHjV67F0q27tveWWW0ZxkAoEH3XSdtlKTLzByyrqpDyuQeZF1iRPDN7ogxPSHb5XTI9zsM27in5XZqdvfrbZyXQUvTalHfXVnqmc9fbQlVyjhplUV1CHd9llF9Wa9Xt+U1tH2ubh/fffH2DSrmyTy16z+oK2wAu80OWNtB1h4LUPOaBAElpOXLTLPtvWOsunVchFyNgm9O1J7b3rMYkq2CFMF3UQ/hY1Tam/vmWjKuSionkMd1W0Tz7LVhk20q2LuumTQZ37R8k47Vp7ha2+1YrJ1sb6DIBNN900Lf2p78ePHx9gifztt98eYAWmXJmlCs5QvF577bXBPffcEzz44IMtv7DqB+8wA3bvvfduE7qhQD700EOj30eNGhV8+umnLbfyBoPUmE2phgclcdqZltjec9FFF43sQ6mkrnSQfsKOjJfekCIcxAtK22uuuSYYPnx4gI8GrEozMS7iaxKuiR11b3p19Qhmjy2++OIRMzQYNOUIoByjMUe5Qd2BAhyrtuW2TGpZxj3yAqtwcB7syJEjA6xMhPu0cz7Lxe4/rtFYJylt//jHPyauhsWkh2233bZVDzut1AcDKBDVtOJ5woQJbdHHwMfll1/emjAg62CaEgoe2K7Dtv3TE+miXdA/+MENCr20CQDI8wsuuKA1W33uuedObHPVuCd9HCEcnJGOsppk0GZOP/30sbzHKrS0eCX54bL8VN2nIb2o23qfONdccwXjxo1LwhFgS+All1wyYqqzRX6gT/z9738f9aXYgvzjjz+O/PFRRhIjnOOlXLGPdOAPz6qiRJ67jf584sSJmT67LDeZARf8sUza61COXbRrBVFGznD0BWRJtEHY5hZlRpYrecXkIazagQyInWikgeyqDw5jNTvqnm6wKhPbK8JPTISDrKvKxhhAeuyxx6IwMBkKf3AD46tOlilbenrLPPuuk5C1ZF7jCg44A1s3kOl32mmnyC7ya88994y5g1t8M0E2wfdPkh+qnzZ5V9XvIj1V8LPJTs0Tk/umtqO+2jOVsS+5Rg1z1113bau3qLvzzDOPas3JPb+pnWCNPEW9hFyrtuVl7zu14XlTYyJvYIwJ8gYmf2GsRRpfcoAMr8i1bLtcddtaN/lUzQPfchHCbkLfXpVsVAU75FnZOgg/ipqm1l/fslEVclHRPJfuXLdPVZctmc4y17J1s2oGde4fs/Kl9gpbCJq9e/duCa+dFCZILFbgqgIuFJB5ja7xV/1LusfglTTLLLNMLPwk++o7dMRJBoO3UGipA2Jwh1VwRx11VKSEOPHEE4OVV165tR0alGBpW6nqq+fUOKTdH3PMMUlRS3xnO76JgRR4eeWVV7byA9vGQQA54YQTgvnnnz96D4UitnmiKUcAitq0cpTnPSZIuDZQ4OkKICjydtxxx+C0006LyggUtbLuYTLDmWeeaRQtlKVDDjkk1m5h4HqzzTaLtu9Enfrd734XLLDAAjFeqLv33XdfZhi267Bt/5Iib7tdUGdzYztPeU45Bp+hlMAWnCNGjIgm02D7i6WWWqrFGatdH3rooaRoxt7pH0d77LFHlH8ox2hDNthgg2hAG8oP9C9YTYY8Vss5VjpIZUXM8w4PrspPHfo0mXScT6/266hnu+22W3DddddFCvErrrgi4i2ZQkAcO3ZsjK/KWt5DwQDjo4zItBS9QkmNNkfGHddVV101UrhhW1K5xSkUcCbGVbkxCTuvnTJpr0s5tt2u5WWo2k8aBFXLlX6PiWqqQXupK23R52FnCdTJm266KZq4KMsrdnx5+OGHIy/04w7UsFDPpfFVJ8uULRlXW1efdRITwLD1tcofZ9lC1kUeYnIp5BK5AxGUAsjDY489NuZGdY/7tO8Tycgm7yr73Sr42WQn88P02uR21Ed7lsTZtVyjhnn99dcn1lvs1oFJii4Nv6nd0c1bL/X2Wn/GhEjbJq+8gS2TpfElB8jwilzLtst587Abxg+LcExz41MuQhya0LdXJRtVwQ55VrYOwo+ipsn1twrZyKdcVDTPVXcu26c6lC01rUXuy9bNOjCo0/iNaR7UXmGLhGy//fbRhwkGeD/88EOjtK2xxhqRGwzif/XVV0ZuVEtDhw6NVpxCGQClQL9+/YKFF144WpGJlaxQtmAVAgY9EK/VV1+95RxbimEAGoNaWJEFxSAGTjBIhut8880XvcfvsLfRRhu13Cbd4Pw+rMhVt/bVhXLEYeedd86cDQ/ljBovpAkKDMQLfxjIQfzmnXfeKF2we8ABByRFKfOdrfhmBpLzR2wpKQfAVXY47+W9997L6RutJxHASkJsBYY6h4Fd1BHUGZQrbMmIlXLyD88oc6hL/fv3j8oc3KIcQ5npw6AtwRaO+ha2avmAwgjKOdOzNtV4ox5ggFRXDKv+4x4szj77bKNJA7brsG3/1PTr97baBSi8wQ1l6/333w8wWwsD1Un1W7JGuYI7bHliYvSPIwgY2EYSymCptJB+q1coPaC8xTbXZY3t8lOnPg1sTMoD2gRMWsKqMMzSV1kn3UuFrY8yUjZ/4R4rFTbeeOPUdGEb77zGdrnJG76p/aJp78ZybCKfmXJLsocz0KFghYyI4zB0eRUyKAZu0TcjLklKOLSlp5xySiSfJtUt+Q47y7zwwgutaKBNxUQntf2F3KxPvPJZJ4uWrVaiLN/4qpMYXMOEM/1cYpl38oojVzABBqaTwjbt/GMVkS3eVfe7VfCzxU7ND5P7prejrtuzNMYu5Ro9TExgR1uP7xS5Ewn6AFM5V/cvzzO/qfPQMrcrd7CQbXXZK9p620bKG/r4GL718T2PbyR8V+PbF/KGOhHZpxxQJt1l2uU6ta0m7ZFr+TQtH3zJRQi/2/v2KmWjKtghz8rUQbgvappef6uQjUzaoaLjPUXzuZM7F+1TncpWp/Rn/V6mbtaJgUm5rKp/1PlPhRehQFhrE24nKsIMFuG2lyIcGDKKazigJMItBUW4qk2EClEjN3W3FC7jFkhXqKAQr7zyipg0aZIIlasiFJCjNIaNXa2SULf4glu4uk48//zzEbfVVltNhNvV1ooZI+OfAOoRygTqFP7CVZEi3FZMhIPcIvzYja5lYoV68PLLL0d/KIPwPxw8j8pgONFDhAMtZbzvOrdl24VQeS7CFUMinKktwsGqVvqRd+G22iIUJESo4BPhoEHENlxhK8KJASJUprbsdroJz/oQ4Zb2LWuhwlaE2/NHz+HHiwi3H43y86233hLhxJaovIQKZBFOABHhRJyWOxs3TS8/n3/+uQjPb231a+AbrjaP8gw8w+1dI4wQVYYMGRLVn1ApJfAXKiaiq3wOFVIiVBwJH2XERt5KP1566SURbgcv3njjDRHO7oxkHaQd/XtR0y3lxkXaizIr465su1YmbJtuw5mnItwyWUDufvvtt0U4oU2EExNFOLFIhLu5pPZX4YQtEZ7xLUKFgVhxxRVFeC57LFpV1Mm6lS1fdTKcXCQef/zxqF0Nz08X4U5FIvzoFOijwlX8IjzTrZU34SQXEW6V1mpLZZsqr2hb0ceZmLK869LvVsGvLDuT/OkGO7bbUVftWSeWLuSaTmGi3cUYQaiwFeEEnk7WS//Ob+rSCHucB1XIAWUgN6Vdtt2ulmGqu/UlFyHcbu3b6yAbVcEOedaUOoi0FDUu6m8VslEVclFR5tKdz/ZJhtkt16bUTRf1y3YedoXC1nai6R8JkAAJkAAJpBHI+jhKc8P3JEACJEACJEACxQiw3y3Gja5IAAQwERQTLTBxhoYESIAESKAZBCgbNSMfmQoSIAESKEKACtsi1OiGBEiABEigsQT4cdTYrGXCSIAESIAEakiA/W4NM4VR6goC2MUHu8kMHDhQDBs2rCvizEiSAAmQAAl0JkDZqDMj2iABEiCBphKgwrapOct0kQAJkAAJFCLAj6NC2OiIBEiABEiABAoRYL9bCBsdkYA49dRTxfHHHy/Cc+/F4MGDSYQESIAESKAhBCgbNSQjmQwSIAESKECACtsC0OiEBEiABEiguQT4cdTcvGXKSIAESIAE6keA/W798oQxqj8BnEW3zDLLCJwp+8ADD4i11167/pFmDEmABEiABIwIUDYywkRLJEACJNBIAlTYNjJbmSgSIAESIIGiBLbffntx8803t5zvt99+4pJLLmk984YESIAESIAESMAeAfa79ljSp55D4LLLLhOQUVdddVXx5JNP9pyEM6UkQAIk0AMIUDbqAZnMJJIACZBACgEqbFPA8DUJkAAJkEDPJIAVCg899FAr8dtss4245ZZbWs+8IQESIAESIAESsEeA/a49lvSpZxCYOHGiWG655cS7774bTTLcdttte0bCmUoSIAES6CEEKBv1kIxmMkmABEgggQAVtglQ+IoESIAESKDnEZg8ebIYNWqUwGzWKVOmtADMPPPM4tZbbxVrrrmm6N27d+s9b0iABEiABEiABIoTYL9bnB1d9lwCP/zwg9hss83EyJEjxSqrrCKeeOIJMfXUU/dcIEw5CZAACTSIAGWjBmUmk0ICJEACBQlQYVsQHJ2RAAmQAAk0gwAUsc8880ykpMUgWJqZZpppIoXtYYcdJgYPHpxmje9JgARIgARIgAQyCLDfzYDDn0igA4GTTz5ZDBo0SMw+++yR/Nq/f/8OLvgzCZAACZBA3QlQNqp7DjF+JEACJOCPABW2/lgzJBIgARIggRoSGDBggBg7dqxxzNZdd10xevRoY/u0SAIkQAIkQAIk8CMB9rs/suAdCeQlsMQSS4gPPvgg2gp5/fXXz+uc9kmABEiABGpIgLJRDTOFUSIBEiCBighQYVsReAZLAiRAAiRQDwIPPvig+Oabb8R0000X/fXp00fgD9vLff/99+Lbb78V2JpI/vXt21esvvrq9Yg8Y0ECJEACJEACXUaA/W6XZRijWysC48ePFzPNNJPo169freLFyJAACZAACRQnQNmoODu6JAESIIGmEaDCtmk5yvSQAAmQAAmQAAmQAAmQAAmQAAmQAAmQAAmQAAmQAAmQAAmQAAmQAAl0DQEqbLsmqxhREiABEiABEiABEiABEiABEiABEiABEiABEiABEiABEiABEiABEiCBphGgwrZpOcr0kAAJkAAJkAAJkAAJkAAJkAAJkAAJkAAJkAAJkAAJkAAJkAAJkAAJdA0BKmy7JqsYURIgARIgARIgARIgARIgARIgARIgARIgARIgARIgARIgARIgARIggaYRoMK2aTnK9JAACZAACZAACZAACZAACZAACZAACZAACZAACZAACZAACZAACZAACXQNASpsuyarGFESIAESIAESIAESIAESIAESIAESIAESIAESIAESIAESIAESIAESIIGmEaDCtmk5yvSQAAmQAAmQAAmQAAmQAAmQAAmQAAmQAAmQAAmQAAmQAAmQAAmQAAl0DQEqbLsmqxhREiABEiABEiABEiABEiABEiABEiABEiABEiABEiABEiABEiABEiCBphGgwrZpOcr0kAAJkAAJkAAJkAAJkAAJkAAJkAAJkAAJkAAJkAAJkAAJkAAJkAAJdA0BKmy7JqsYURIgARIgARIgARIgARIgARIgARIgARIgARIgARIgARIgARIgARIggaYRoMK2aTnK9JAACZAACZAACZAACZAACZAACZAACZAACZAACZAACZAACZAACZAACXQNASpsuyarGFESIAESIAESIAESIAESIAESIAESIAESIAESIAESIAESIAESIAESIIGmEaDCtmk5yvSQAAmQAAmQAAmQAAmQAAmQAAmQAAmQAAmQAAmQAAmQAAmQAAmQAAl0DQEqbLsmqxhREiABEiABEiABEiABEiABEiABEiABEiABEiABEiABEiABEiABEiCBphGgwrZpOcr0kAAJkAAJkAAJkAAJkAAJkAAJVEbg//7v/8S3334rZphhhsriwIBJgARIgARIgATKE/jmm2/ENNNMI3r37l3eM/pAAj2UAGXjHprxTHYhAlTYFsJGRyqBSZMmiY8//lh88sknsesKK6wg1lprLdUq70mgsQQgfEycODFWB1An8G6fffYRc8wxR2PT3i0JYx6Z5xTbdXNWRW2ScVFy9t2xbbDPlD72XAJBEIjPPvus7bsA7yAPzTTTTI2F88QTT4hLLrlEPPvss2LcuHFiypQpYp555hG/+MUvxEknnSSWX375xqa9iQn78ssv28oxZPsFF1xQbLXVVk1MMtPUYAKUOxucuUyaVQJffPGFuOqqqwT69DfeeCP6+/DDD8XUU08t+vXrJxZbbDGx5557ip122klMO+20VsPuVs+qal+qCrdb86mKeFM2roI6w2wEgfCjmoYEChEYNGhQ0KdPnyCsCIl/m2++eSF/bTp66623glDgsukl/SKBGIFQeA9mnXXWYKqppkqsB6gfL730UswNH/wSYB6Z8+6Gdt08NfW0Scb1yRe2DfXJC8aknUA3yrDrrLNOEK5ASZWHzj333PaENuDNBx98EOy1114xWXDGGWcMQgVti0U40BvcfvvtDUht85NwxBFHBOEqqlbe6d+6O++8c/MhMIWNIVB3ubMb+7rGFA4mJEbg5ZdfDg4++OAgnFgWa/+nn376YJlllgnCyTqxfh7Pr7zySsyPnvZQVftSVbg9LX/LpJeycRl69XXLPttf3gh/QTGkphE4/vjjY4KM/jFbpcJ29OjRQTj7LYpfr169gi222IKK26YVwJqkJ1xdHmAQTi//6jMVttVmFvPInH+d23XzVNTbJhnXJ3+6pW248847g1122SXYZpttgmuvvbY+ALs8Ji+++GJw8sknR2xXXnnlYJZZZgmgZAt3iAl23HHHIFwRGUCe9G26WYb92c9+likPnX322b5xOg8vXHEZzD///K1047vjwgsvDMLtkKPypcqDffv2jd47jxQDKEXgkEMOaeWnmn/yngrbUnjp2DOBusqd3dzXec5CBueYwPfffx/JfOoEfIzvoK1/7rnngh9++KEVg6+++irA5DNpt3///sG//vWv1u897aaq9qWqcHta/hZNL2XjouTq6459tv+84ZbI4ZcXTTEC2Cbq+uuvj7Y9u/fee8WoUaNiHoUKWzFixIjYOx8Pn3/+uVhkkUWiLazU8Pbff39x8cUXq694TwJWCKDsh0pZEc7KFDfccENb2cNvSy65pJWw6EkxAswjM251bdfNYt8dtsi4XvlU97bh0ksvFb/+9a9j0J5++mmx4oorxt7xwZzA66+/LkJFrQiV3yIchOvoMFw1Kk499dRoW9uOlkta6HYZdvjw4SIcuBTvv/++uOmmmyLZSEUSKmzFoYceqr7q+ntsjYt0S3Pbbbe1tstddNFFBcqbarA13M9//nP1Fe9rRgDHmdx4443i008/FXfddZd46KGHYjEMB/HFddddF3vHBxKoK4E6yp3d3tfVNa8Zr2IEdt99d3H11Ve3HC+++OJi2LBhIlxV23qn3kCOCZW2rVe/+c1vxAUXXNB67kk3VbUvVYXbk/K2TFopG5ehVz+37LMryhP/OmKG2FQCWFEbFuPWX5EVtm+++WZwzz33BOF5coUxwb0aD3k/YMCAwn7SYZyAjXyK+9icJ8w8kmVOXrnCtl75yzwyzw8b7bp5aD3TJhnXJ9/r2DbMPffcbX3KHXfcUR9oXRYTsAvPG4uYYvVEeP5YtGr53//+d4AVFtgm+29/+1sQTvxr4x4O6EV2XCa5STJs+HEfzDnnnDGOTVthe/7558fShx19VCN3+5HyIK4vvPCCaoX3jgjY/FZZa621YvnMFbaOMo3eeiFgQ+4sW7+a1Nd5ybSCgZTNp4LBdpWzs846K9a+zz777JnbHKMPV/t03IcT87sqzS4ja6N9KRK/qsItEtemu6FsXK8cttEPsM+uJk+5JXI13BsZ6umnnx4TXtBp5jVya4syAzoPPPBALB5SoFp22WXzRof2UwjYyKcUr7v+NbbAk2VOXqmwrVe2Mo/M88NGu24eWs+0Scb1yfe6tQ3ffPNNW3+CfiVcoVcfaF0Uk3/+85+tc8nWXnvtYNy4camxnzJlSrDSSiu18T/yyCNT3dj4oWky7AYbbBBjWEa+t8HXth/hKpxY+saMGRML4vDDD4/9ju22afwQsPmtctxxx8XykQpbP3nIUNwQsCF3lq1fTevr3ORUeV/L5lP5GNTbB2xvPNtss7Xad2xzjMmbWeaqq65q2ZdjPbhOmjQpy1mP+c1G+1IEVlXhFolr091QNq5XDtvoB9hnV5OnVNhWw72RoV500UUx4aWIwnbPPfeM/MCZYkXN119/Hcw111yxuECIOuCAA4p6SXcaARv5pHnZqEecgacK8FTY1i97mUdmeWKjXTcLqefaIuN65X3d2oZVVlkl1p9QUVCsvGD1rHrO6OOPP97RIyh0+/TpE+OPvj08+qCj26IWmibDbrfddjF+TVLYvvbaa7G04Xxa3aDchduaB+F2icGVV17JAV0dkMNnm98qZ5xxRiyv2Q47zDh67ZyADbmzbP1qWl/nPNMKBlA2nwoG2zXO0C+rYzZrrrlmx7g/+uijMTdwD6UvzX8I2GhfirCsKtwicW2yG8rG9ctdG/0A++xq8pUK22q4NzLUP//5zzHhpYjCVs7EL6OwBdwnn3wy+OUvfxlgu7tevXoF22+/fYCt2WjsELCVT3ZiUz9fZpppplhdoMKWeVQ/AmYxstGum4XUc22Rcb3yvm7t93vvvRdAJjrwwAOD8MzEIDxztV7AuiQ24bm/sX4ZA2y77bZbx9ivt956be4GDhzY0V0ZC02SYf/f//t/MX5NUtjed999sbRhRTZNfQjY/Fb53//931heU2Fbn3xmTPITsCF32qhfTerr8ueCHxc28slPTKsJ5aijjoq17Vil2cl89913wUYbbdRyN/300wfh+bWdnPWY3220L0VgVRVukbg22Q1l4/rlrq1+gH22/7ylwtY/88aGWLaTxLm1cmVsWYWthPzFF18EkydPlo+8WiDgIp8sRKtWXtRtwL9WcGoSGeaRWUaUbdfNQunZtsi4XvnPtqFe+WErNkOGDGkNrqmrKV588cXMIA455JA2dzjfzIfivAkybJMVtjjrWC1LO+ywQ2ZZ4o/+CNj+VqHC1l/eMST3BMrKnbbrVxP6Ove5lj8E2/mUPwb1d7HTTjvF+vHrr7/eKNJg+9hjjwU333wzF4VoxMq2L5p3xo9VhWscwR5ikbJxvTLaRT/APttfHlNh649140Mq20mqB1nbUtg2HnoFCWQ+dYbOAf/OjKq2wTwyy4Gy7bpZKD3bFhnXK//ZNtQrP2zFRm4HpSrYcI/t8LLM0KFDY4N50v0bb7yR5Yy//ZdAkxW2WPEuywOuv/71r5nvNSFg+1uFCtuaZCyjYYVAWbnTdv2ykih60kaA+dSGpO0FduFT+/G77767zQ5f5CNQtn3JF9qPtqsK98cY8A4EKBvXqxywH6hXfuSNDRW2eYnRfiqBsp3kXnvt1RKYqLBNxVz5D8ynzlnAAf/OjKq2wTwyy4Gy7bpZKD3bFhnXK//ZNtQrP2zF5swzz2zJmOrg3Msvv5wZRJrC9qOPPsp0xx//Q4AKW5aEKgjY/lahwraKXGSYrgiUlTtt1y9X6ezp/jKfOpcAXUahwrYzs042yrYvnfxP+72qcNPi01PfU2Fbr5xnP1Cv/MgbGyps8xKj/VQCZTrJf/3rX0Hfvn1bg2lU2KZirvQH5pMZfg74m3Gq0hbzyIx+mXbdLATaIuN6lQG2DfXKD1uxef3111vHbkiF7VprrdXR+yOOOKIlm0p3M844Y0d3tPAfAvpgaJPOsOWgVD1LuYtvFSps65nXjFUxAmXkThf1q1gq6CqLAPMpi86Pv+kyChW2P7IpelemfSkaJtxVFW6ZODfRLWXj+uQq+4H65EXRmFBhW5Qc3bURKNpJfvXVV8HPfvaz2IAYFbZteCt/wXwyzwIO+Juzqsom88iMfNF23cx32gIBMq5XOWDbUK/8sBkbfLiedNJJwQEHHBBAcfjll1929H6NNdaIyadQ2m666aYd3dHCfwjog6FU2LJkuCTg6luFCluXuUa/fRMoKne6ql++09/08JhP5jmsyyhU2JqzS7NZtH1J88/0fVXhmsavp9ijwrYeOc1+oB75UDYWU8GDcPChdiYsYCIcNEuM1w8//CAmTpwoZpttNjHNNNMk2in78ptvvhHPP/+8+Pe//y0+/vhjMcMMM4j5559frLnmmqXDzEob4j1p0iTx7bffRukrmw64nzx5skB6wCuv6RRX1b9LLrlE7L///q1Xm2++uRgxYkTrOenm+++/F+HZEeLWW2+N/RwqbMWJJ54Ye1fmAemfdtppRa9evXJ50yn9yKvwIG8Rrg7O5S8sf/7552LqqacWM888c263WQ5QpVFuX331VTFhwgQxyyyziOWWW04suuiihcuur3xCulzWvSxueX4Dj08//TRi27t37zanyFOUHWleeuklseSSS8rHXFcfPD744IOovKDchAPYUVuH8rLgggvmrjN64t59913x2muviXfeeSdq2xZeeOGIxbzzzqtbtfrc7XmEfu6zzz6L2ha9n8NvKH+zzz67mGqqqaxy0z0r0q7rfshnH2VZhuXyajsdNhkXSbeLPiMtHiZ9qk35JykePtuGpPBN333yySde6rhpfHqiPchpc801VySTq+m/4YYbxA477KC+cnqPNiePDIs+At8woYJaoBxNmTIlkleWXnppsdRSS0V+IcKPPPKIeO+990Q4YOks/uB04403tvwPFbbi0EMPbT3LG8jS6PPmmGMOZ/2a7bb7+uuvF7vssotMggjPsBXhgGHruciNa5nJlWxhm20Rdi6/VcIt1cXvf//7VrR23nlnEQ5Ktp7Vm6+//jqqc0W+u1V/9Ps6MNbjhOesfh3lrVvHbLLShXR363gN4l5E7nRZvxAnmLx93X9c/ee/SX7VaczGleztI59kXrkaK1Xz1fW9LqOEClux8cYbGweLfISsCPmlX79+LfnK1AOTcuviu8hV+UO6i7Qvpryy7NkO15U85kJGd+FnFuus32zLxr50GWqaqqqXMg5lx2Z99gN5vk9l+uTVVR2T/uNadV6qcSlyX6nC9rzzzhPjxo2LFKIYUIBiFFf8fffdd5ESb+utt47Sdf/990cfwc8995x44403og8hFI5FFlkkGvzHhxMUf1CAlTH/+Mc/BAYTbr/99pjCRfr505/+NBqkwQf6aqutJl+3XaGADA94jtKEdMm04YpO9+qrrxa/+tWvIndoYPHRd+WVV4rwLK1IsYEfkD4oiSE0HHzwwQIDLWkG4d17770tfpIjrvigCFewin/+85+Jzs855xwBhZJ0I+OKZ8QVH6nhlnCJbtWXpp0kGpDx48eLxx9/XIQzlqN71R/cr7POOmLttdfWX7ee8dEcbknXesbNCy+8IC699NIYc8keH8877rij+Nvf/hZzgwcbeYXJBcirX/7yl+LAAw+MeOsBIQ5g/eCDD0YDaRgkg8FkgMUWW0xsueWW0SAWBquKGKQVZfeCCy6IBEfdj+mnn14ss8wyYvfdd48Glfr06aNbiT27yqdYIMqDrbqneGntFkpMlBP8PfHEEwKdKPhAWTb33HNH5XXfffcV6623XhSmDYWtax74aL388svFNddcIx599FHsttDGCxMcBg4cKE444QSx/PLLt/2e9gKCFQYtIbA9+eSTidbACO32scceGymGEy3leNmteYR+EG1XeB5irO3CAJcUvpdddtmIBNq3W265JWo78WGIdmfDDTcUZ5xxRjQhIwcuY6um7XqWh2XLMsrq+eefH5VRpBltF8om6h9+gzJCCvO4oo1bMJxsoJuRI0cKyBDoO9Aewh+Ue/RzEOZQp9HXpk3sKZsOPT7y2QZj6Veeq+0+Q4Zto0/NI//IcNOuVbQNaXHp9B6y2DHHHCMeeuihaPAHA/6/+MUvIjkMijYavwSGDBkijjzyyFigK6+8ciQH6BNpYpYKPBSVYdWg0C+EK4jFVVddlSgHwi4mSx111FFR24kr+hnI+5gA5MLog6FSYYu296677hKXXXZZ9C345ptvRt9+aJsXX3zx6NsObflmm21WOlq22m581z322GOt+KA/Rp8izXzzzSf22Wcf+di6Qn7adtttW8/6jQuZyZdsYYutzsT02de3SpbCFmX5r3/9q7jtttui8oBxCryz1Y9VzRh50dQxG9/yCsKrerwG+Wkqd7qoX2X6Ohv5VfWYjQvZ20U+oZwkmTq0R0nxMn137rnnRpOepX0sElENxmcxvqwbfG/KhTz4RofchCsmUIM/TNoEfRvl1lZ/4qL86axM2xfdXdlnG+G6kMdkulzI6C78lPE1vdqQjavoG+tUL8G67Nisq36gTJ+dVIZc1LG65WVSugu/Cz8oKjP6NrhhImLbjoUf9cErr7wSrLrqqrH34SBrgPOjdPuh0isIFaGF0hMO1gbhzOggVPi2/A0FumDPPfcM/ud//ic46KCDgvBDvPUbwj788MNTw4JfevzUZ7nlb/ihH4SrH1t2w9V6QaiYDcJVka13cDfddNMF4cdS4fDAOs2ESrxYWGo8cf+b3/wmzWnsvek2FHfccUdmeHr4Sc/vv/9+LGw8/P3vf8/0N1zx2+YGL2znVTiIFwwePDgWVjioE4QK3Vb8QmVVlM/IbzV988wzTxB+yMXcmjxg6wlZJ1CGBwwYEOyxxx7BH//4xyBUIAfhaslYOAsssEAQKh4zvXaVT3qgtuue7n+Z51CRE9W7OeecM8Zv1llnDcJB22CVVVYJwsHF1m+hsicIO9sAbYear6EAbxwNHzzCSQNR+VPjiDYmVAwE4Sr5IFSkxn4PFWNBOOgahB1sx3SEA1ZBqCxrpR9uN9hgg2DQoEEBtpRDW4pyLsMOlWPB3nvvHYQCZ0e/kyx0ex516gfD2cvRtp3qlk16XwSe4QrmJDyl35m260kB2SrLd955Z6u8yHKTdR09enRSdNrOr0zyA2HpxlY6dH/lcxnG0o+8Vxd9hoyD7T61k/wjw9WvVbQNehzyPI8aNSoIB2Siso4+JFRatcr9T37yk+CZZ57J4x3tliQQTqIJQuVmKw/QXqC/f/bZZ0v6nOy8qAwrfcP3jyqrhJMAg9NOOy0IJyoGoWI0CCeFBuFk05jMItvAcIaz9Mb6Ve27EB6+7caOHRv79kEdDyfBRt97kK9kvHBdYYUVgmHDhhWKl+22O1Tex+KmxjPrHmlIM65kJteyhW22aXw6vff1rZK2JTLK8s9//vNWuSj6HZ+UzrowRtw6laduHbPxLa90Cs/HeA3y01TudFG/yvR1nfjlHV/zPWbjSvZ2kU8oJ6qpU3ukxivvfbjTV6u9zuq3i/yWNt5ju9wW/S5yVf70PDBtX3R3ZZ/LhutKHkO6XMjoLvwskgc2ZONOdcRF39gpzLz9SdF6CeY2xmZd9QNl+my9PLmqY3XKSz3NZZ8xA7Qys9deewUrrbRS0L9//8SOc5NNNgmg2EKHCQVmuMozCFdmBuHsgSjOGMiGEkHvUKXSxDRhGJSB4kX1BwMdb7/9dswLCCqIs2oPyrBwdnrMHh7wYQeFTjhDK2ZfukUDEK4ubg2uYGAOg3VSIQKlDzpVCJLSDa7hirW2sGR4SEO47WoABYnqBvdZjdxuu+0WKfhUJYrq3rbCForCcAVt7E9XUIerTmO/q/ah3AlXYLdxCFdhRx/N4SqUmOJdpiVNYesqr6699toojshHORFgo402igb7ZBkOV90G4WrhWH6hsUc5NzUYiJODvCi3ScJiuAItCFftxMoTJj7cfPPNqcG4yic1QBd1T/W/zH24ijYIt0CP5c2KK64YhKvvY3X+iy++CC688MJADjKGKx5jblD+kvIkKW4+eISrAAIoSWW9QNkMV9AGaN90E674D8LVIi27GHiVZVe3i2dMbpH+4hquOA/CrbnbrKL+XnzxxbGBY0wc0dvcNofaiybkESYFoVzpigHJEf1cuNNExDVczR2Eq0SjP/m7vOqTRDRUhR+LfvzYLMtoizCZIFxp3GrrZLrVK5QVsBfuJpGYXtRnvU9V3YdbWQXh6qmYW5vpiHmsPBRlrHiR69ZVnyEj4apPTZN/ZLjqtYq2QQ0/7324IisId9eI6jnaBMgGMGhDZRkNdx2J3vGfewKQmSB3Sva4QllbZEKdaWyLyrDw/+GHH27JmfieCFfApAYLhTMmAKhp86mwRTssJ7ph8mC4y0cQ7gTUii8mWoQrhINwR6NYHI8++uiY7NVykHLjou2+6KKLYt8mmGCrcsS9+r0i78MdWBJj6VJmcilbuGCbCMjgpY9vFUQjSWGLSddS9i/7Ha8ntU6MEbemjtn4llcQXtXjNchPU7nTRf0q09e5yi8fYzYuZW8X+YRyIk3d2iMZryJXTFyTfTOu6kQ39OFY5KD+rt/jO1NdhKHKAGnjPa7KbZ7vIpflT88H0/ZFd1f2uUy4LuUxFzK6Cz+L8rchG1fRN9ahXoK5rbFZV/1AmT5bLVMu61hd8lJNr637ShW2aiKeeuqpaBWp2unJeyh1w3OYVOux+9/97ndtH8xQXGUpFqQHsKOv4IUSNs1gEAeDxjJuuIbbj6VZj95D+aYLA5iJgsFhuN9vv/1igxWqZ5gdr4YVnqUVreBT7ej3+IAMt9GLuctS2Kruhw8f3qbwta2wVcOT9xB+1HTKGS3y97xXrDZbaKGFYn6mKWxVv23mFQabwm0NIwUDZlyH2yGnDjZttdVWsbii/JoYDGyF5+e23KIsSqV/knv8rnLGKp48ymGb+eSj7iUxMHkHxSEGElVWUMTKQfQkP8JtcgJMFlDdyPs0AV71xwcPzJBSJ3RAeZWltMeqV9QbmQ5cMTMqyWA1t2oPgzuYeJJloFiTk3LgFm3i66+/nuWk9VsT8wgfU3Jyh2SJiUq4ByepiDz++ONjrPF7uHVki43NmyIfPy7LcnhOULD++uu3pf+AAw7oWN7ABZMQ0I9KvqgPkCE+/PDDNmwu06EGVoSx6j7Pve8+w2afaiL/gEUVbUOePNDtol8Jt0yNyiQmyKgm3JK+VVYhR2T1Qaq7Ivco71B0Q3lX5Z/LNHbiAhkfq+z1nWfWWGONYMyYMZ2cW/s9jwwbnvkXYIchtGmYiIdJPp0M7IRbILfKlk+FrWx7MeFWVdTqcUYc5SQG1U3SJFndra+2GxMyZdxwxQQLU+NTZrIpW/hia8oxyZ7NbxXpPwaD1LzGzjFyorPt7/i6M27qmI1veaWq8RqU6TJyp836laevk3VRXm3ml+sxG9+yNxjZyqe6t0eyPBS9Ju0CYuLX6aefHusT0D+YjPfYLLem30W+y1+Z9sWEfZqdouG6lMdcyOgu/Ex4BblLAABAAElEQVRjWuR9GdkY4VXRN1ZRL5FWl2Oz8N9WPwC/YIr22S7r2H9i9uP/qvLyxxjYvauNwhbJWnfddds6PgySoFHqZJKUtiYrjsLzPmNhQuGStHpTDR8z19UVaphdi1V2WebQQw+NhSM/+sLzabOcRYNmqoIF7qAE7GTC8xdi4ZkqbOGvrsDuRoUt0qErJ00UtnBnM69kPndSQENpJu3iikG3pBWPiJ9qMLtKdYd7rJhOM1DmLrHEEjE3GDQzNTYbfV91zzRt0h64Y/s6lSvqqUk7NGHChACrIFW3uDcR4F3zgPJVj9uJJ54ok514RbnV04K2Vjfh2QaxlY/YHg4D3ybmpptuioWBMtZJ0dvUPAKv1VdfPcZD8g/PB2nhxIxa+V5eMWvNhSny8eO6LEPpqveL2FnD1MCu5Ia4phnX6ZDhFmEs3ea9+u4zED+bfWon+aeqtiFvPqj2w/OZo/KIGfuYkKAa7JoiyyquWSsnVXd57997772YAk8Ns4p77Frhw4Andj7BLgeYMCR3K5FpxmRLHGlRhTGVYR944IFWGUH/YWrC82tb7nwrbMNzaQMMIHYyTz/9dGsFo8yT8CzRTs4CX2130UEp3zITgNmSLXyx7ZjJGRZsfqvIYHSFrSyPLr7ju4FxU8dsfMorKFtVjNcg3DJyp+36ZdrXId66sZlfsk67GLOpQva2lU/d0B7p5SLPc1GFLSacyTIjrybjPYibzXLb6bsI4fkuf2XaF8S3qCkSrmt5zIWM7sLPosyT3BWVjVW/qugbfddLl2OzkqWtfkD6h2vePtt1HVPjJu9956UM18W1Vgrb7bbbLtbxYfZ31spaFQhmf+nbD0OpilmgaQbnoMqtjGRHi1kOJmbXXXeNxfWss87KdAblsQxDXrElmMlqMn3VHgb3Ohl9FkMeha2+oq5bFbZDhw6NMTdV2NrMK+Q1Blw7Ka8mTpwYiyvcmZxXlxRXlOksg7OQZRnEFVswmygj4aetRt9n3ctikfQbVtirfLDCw0R5Lv3Cthaqe9x3EuB98DjkkENi8YJyoNPkFL0tQFrW1rblxGoXfSDQ5ONB8sIVE3NUZp0m2zQ1j8BCbn+s8tBX7WDixY477hht74tVd9tuu22bogd+2TB5P358lGWkC4OkKiO0e6Yr87CtPtyi3KUZX+lA+HkZp8XZ5L3vPgNxSgrTlfxTRdtgwj3Njiq7Xn755TFrr7zySqyMo8y++eabMTu2HkaMGNEWllq/fN9jZwEf5i9/+UvHdK+33noB7CGvfBpTGfbcc89tpQHypqnBDHaZrz4VtliV+OWXX5pGM2Iv44kr+jy520SSJz7b7iKDUlXITOBkQ7bwyTYpb03f2fpWUcNLUti66Me6hXFTx2x8yisoX1WM1yDcMnKn7fpl2tch3rqxmV/oX1yN2STF0+V4DTjZyKduaY/0cpHnuajCFmHI4x2kjNJpvEfGK6k8uOhPssJzWf7KtC8yzkWuecP1IY+5kNFd+FmEd5qbIrKx7lcVfaPveulqbFZlaaMfUP3DfZ4+20cd0+OHZ995mRQHW+9qpbDVO0xsMZTH6IUHnSdmcacZfeYGtpw0mfEN/6644orWQAfCwXkHWSbpQ++4447LctL6ba211oqF1WlVHBz+6U9/irnJo7DdZpttYm67VWGbt9OWwG3mFcoGDgA3Meqqbbi7++67Ozo7++yzY3kFd9gaL8vcd999bW7eeuutLCet32w1+j7rXivyBjcQtPV8gMCQx2AgEfmg/nUS4F3zwCoV/exOdGSdjC5IIE04C1k1OLdCTWueAWPpj75iFB8tmHWWZJqaRzKtej8Ituhvkgxm9+aZTJDkR6d3edtR12VZxher3tRyh3soVToZ7IaBreBhH6u704yvdCD8vIzT4mzy3nefgTjZ7FOz5J+q2gYT7ml2cCY6yuKMM87YpsTSP1Zx7min3QfSwun0Hm3JoEGDAkxm2GOPPSr7w7mbUNbivDRfBmFhhTH+MAv40ksvDRCPGWaYIdbGDBgwIHj00Ud9Rcu4XVBXyqIsYftbUyPT6FNhm7ULTFK88V0233zzxfJiiy22SLIavfPZdhcZlPItM0lQNmQLn2xlvItcbX2rqGH76se6hbFenpoyZuMrn2XZqmK8BmGXkTtt168ycbGZX+g/XY3ZVCF728inbmmPZH0qctXbMuSVqZHfkyg7+Os03iP9tVlus76LZHi+y1+ZOi3jXOSaN1wf8pgLGd2Fn0V4p7kpIhvrflXRN/qsly7HZlWWNvoB1T/c56lnPuqYHj88+8zLpPBtvqu1wvbXv/51rrRiwEk9kwkdJ84DTFqlixlj+paKWKVkarDKQXbOuMKvrLNDkwqN6aAKzjNVw8IS705GD48KWxGdxdmJG37X2YF90byCW32Lw7Q46Gd13XjjjWlWW++xNSi2T1bLxymnnNL6PekGZV+1j3uT1bzwy0aj77vuJTFIeydX3ql8TFbBq/7hLFvVPe6zBHgfPPQ2BHHC6q1OBoPX6nmf2B5SdYeBVP287KwzwNPCSyqT6OCTTFPzSKZV/3BMUuRIuz6ueYQyH2VZphmrw+U58LK+rbbaavLn1KtMD7YHT1th7jMdiKiMk0yH6W4QqYnM+MF3n4Go2OxTs+SfKtqGDNRGP0ExiHzHVTeLL754rC8p0rbqfvLZnACUs3r/hgldV199tbknJWyatguIj2w7cIVMiJ1UTHYcwFbQ2AYa30+ujN6n5f22Q7z0lfOYgAZZSze+2+68g1JVyEySkZ4PeWUL32xlvItcbXyr6OH66Me6ibFenvLW67qO2fjIZ7Vs6eH5GK9B+Kb9ixpXeW+7fpWJi84PfWAdx2yqkL3L5lM3tUeybBa56m1ZVQrbouU267tI8vBd/srUaRnnItc84fqSx1zI6C78LMI7zU1e2TjJH71t99E36mGW6U861UtXY7M6y7L9gO4fnk3rma86lhRHn3mZFL7Nd41S2AKM/lGPipZ0tt9VV10VG+CAvbwr6VRFBtyjM0wzSYUmabAhyb2+4vW3v/1tkrXYOz08H42caeWNRfS/D1U2Jnp8dHbI26J51b9/f9371Ge9PN1www2pdtUfxowZE62G2XnnnYNbb73VaAWOvop01KhRqpep9zbyyXfdS02M9gNWLmEFE/Jb/mFVR16TV2HrmgcmkshVNDJdSKep+fDDD6OViNgyEx2vapJWa6MdKGJ05dsqq6zS5k1T80hNqP7hiPOAqzR52nXXZVnnoJ+hgfKNbT6zDBQUsJe1w4XvdORhnJU209989hmIk80+NU3+qaptMGWeZm+DDTaIyiPOl1INlIWyvZbXxx57TLXCew8E0J7g2AiZB7higuY111zjPHTTdmHChAmx+Mm4YhIgJjFce+21wRtvvJEYX+w4kLabRaKDAi/1Pi2vYgdB6oM/SGPSLiG+2249XvrxBTou3zKTGr6eD3llC99s1bjnvbfxraKH6aMf6ybGenkqUq/rOGbjI5/VsqWH52O8BuGb9i9qXOW97fpVJi46P/QNdR2z8S17l82nbmqPZNksctXbsqoUtkXLbdp3kc7CZ/krU6f1eOd5zhOuL3nMhYzuws88nDvZzSsbJ/mnt+0++kY9zDL9SVa9dDk2q7Ms2w/o/uHZtJ75qmNJcfSVl0lh237XOIXtOeec0zZwMXDgwDZu2LpHDmrIq8l2iqpH2B5NusU1a2aUXmgwa9/U6Arbgw8+uKNTPTwfjZxp5U2KfJWNiR4fnV2ZvMratk0PV1fYorOzYbDCd/z48QHOFcWqXWwdrm+Pe+eddxoFZSOffNc9o4SFlp544olYfUad3nTTTU2dt+zlVdi65vHAAw+0pWujjTZqxbfMjb4lC5gNGzaskJcrrLBCLJ7YHUFXEDc1j1Rg+ocjzgmr0uRp112XZZ0Dds/Q27KDDjpIt9Z6/sc//hGVMZStrLNAfacjD+NWYhze2OwzEE2bfWqa/FNV21A2G9BfJJ3HicFvVb7sdNRB2XjQfTqBPcItotW8wP0ss8wSmB4lke5z9i952gXIKnoc9eef/vSnwQ477BBceOGFqQrc7BgV+1Xv04oodpImMNTh2y7voJRvmUnNMT0f8soWvvtFNe557218q+hh+ujHuomxXp6K1Os6jtn4yGe1bOnh+RivQfh5+hc1vri3Xb/KxEXn181jNrZl77L51E3tkV5G8zzrbVkVCtsy5TbtuygPA9i1Wf7K1Om88Vbt5wnXpzzmQkZ34afKssx9Xtk4KSy9bffRN+phuqqXLsdmdZZl+wHdPzyb1jOfdUyPp6+81MN18dw4he3w4cPbBi2gWNUNFGn6YAaeMZBr+qe7xzmMaUYvNFBOmBpdYWtypqweno9GzrTyJqW7ysZEj4/OznVeyfB1hS1WRRQxELguu+yyACtuF1544cRyrpddnwpb33XPlKF+jioY7bvvvqbOW/byKmxd89C3TUG6dt1111Z8y9zoHznwe+TIkYW8XGONNdrK6muvvRbzq6l5pCZSZ5o1Q0915+o+T7vuuiwnpXGrrbaKlZu+ffumbu8pBx86TcTwnY48jJMYlH3nss9A3Hz0qVW1DWXZJ7nHVrYox2o/jbN8aKoh8OSTT8byQubLjjvu6DRCedoF1OGll146MZ4yvuoV3zk77bRT8MEHHzhNAzzX+7Qiip0XX3yxLW11+LbLOyils0CeuJSZ1MzVw84rW/juF9W457138U3pox/rJsZ6eSpSr+s4ZuMjn9XyrIfnY7wG4efpX9T44t52/SoTF51fN43ZuJa9y+ZTN7VHehnN86y3ZVUobH2VW5WLy/JXpk6rccx7nydcPd9dymMuZHQXfublnWY/r2yc5I/etvvoG/UwXdVLl2OzOsuy/YDuH55N65nPOqbH01de6uG6eG6cwnbcuHFtH/VJsyOw3aY6eIF7KLew8qzIHwpkni2RXTc6eiF1HR4Kp2nlTSrIVTYmenyqYIc4lFXYvvrqq5Eibvrpp28r20sttVRwwAEHBBj0TeokfCpsfdc9PX/TnocMGdLG7cgjj0yznvo+r8LWNQ+9PKOt23///VPjn+cHbP+nt6OPPPJIHi9adjfeeOM2v7CVhmqamkdqGnXhpmpFTZ523XVZVjnJe7Rdehm8/PLL5c+tK7b+nGmmmSK72Do+y/hORx7GWfHO+5uPPgNx0tsgF/JIVW1DXuYm9rHdrlqmsYr8vffeM3FKO44IJE1+6927d/DJJ584CjG/TI0dB6BExpbNavnJup933nmDp59+2lka4LHepxVR7KD86+mow7dd3kEp3zKTmrF6PuSVLXz3i2rc8967+Kb00Y91E2O9PBWp13Ucs/GRz2p59h2eDLuM3Gm7fpWJS1X8yozZ+JK9y+ZTN7VHslwXueptWRUKWxffRWksfJS/MnU6Ld4m7/OE61secyGju/DThHMnO3ll4yT/qmjbfYWph4PvG1tjszrLsv2A7h+eTeuZ7zqmxlVn7LONVeNh475xCluc06R/1Pfp06eNFc7u0e09/vjjbfZsvfBdaHyHB06mlTeJaZWNiR6fKtghDkWFf6zGOeaYYwIMHqplGv6dcsopwbvvvqsnMZh22mljdn0qbH3XvbbEp7zAWdcqP9wffvjhKbbTX+dV2LrmgXPe9HTZWmErzwNV/X/qqafS4WT8gokyqj+4xzaIqmlqHqlpLPPhqPpj6z5Pu+66LCel6fvvvw8WXHDBWNlBPHQj04GzknHeaZbxnQ4ZN1n+N99886zolf7NZ5+ByProU6tqG0pnRoIH6623Xqw8b7bZZgm2+MongXXXXTeWJ7KuYlDClSnaLmDrd+w8oJ9dL+OsX+eff/5g4sSJrpJhRWGLCTd6vOvwbZd3UMq3zKRmalnZwne/qMY9772Lb0of/Vg3MdbLUxGFbR3HbHzks1qefYcnwy7av8C97fpVJi5V8SsyZuNb9i6bT93UHslyXeSqt2VNVdj6LH9l6nSRPJRu8oRblTzmQkZ34adkWuSaVzZOCqOKtt1XmC7HZnWWZfsB3T88m9azquoY4ugrLxGWa9M4he3o0aPbPuoxGKEbnOOkf/zffffdujVrz74Lje/wAMq08iZBzdOY4Ky6MWPGJHkTe1c0PlWwQ8SLCP+TJk0K9MFdlOt99tkn+Oqrr2I81AcfCtu0fPJd99R0Z93jDGu9Tdhrr72ynCT+lldh65rHlVde2Zau3XbbLTHueV9CsaQzw1nJRUzSlsi6X03NI5VXmQ9H1R9b93naUddlOS1Np556als5HDt2bMy6FBpPPPHE2PukB9/pyMM4Kb553vnuMxA3H31qVW1DHvYmdidMmNC2QvKGG24wcUo7GQSmTJkSTWDDipFll102QN8O1qbmV7/6VVsbg74PEwVcmbLtAtKMHS8w+IhJWgsttFBiGpAOpM+V0fu0Ioqdjz/+uC3udfi2yzso5VtmUvNUz4c8g9Lwx3e/qMY9772Lb0of/Vg3MdbLU5F6XccxGx/5rJZn3+HJsMv0L7brV5m4VMUv75hNFbJ32XzqpvZIlusiV70ty9M3yp2b5FjISy+9ZBQF3+XWd/krU6eNAKZYyhNulfIYou9CRnfhZwrqzNd5ZeMkz3zXEcTBV5gux2Z1lmX7Ad0/PJvWsyrrmK+8TOJj+13jFLYXX3xx20c9ZojpJukQ5L/+9a+6NWvPvgtNmfC23HLLGEOTM3MByrTyJkHN05hge0Cc79bJFI1PGXZFzhuW6cgr/MNd0vkiJgOIPhS2afnku+5Jvp2uSQMHyM+8Jq/C1jWPpIPtO53haZrmgw46KNZW4IOl03azaX7jPDr5wSOv2LZHNU3NIzWNZT4cVX9s3edpR12X5bQ0vf/++227Bhx44IEt65h5ijKFNuntt99uvU+78Z2OPIzT4mz63nefgXj56FOrahtMuZvaO/nkk2Pt4KyzzhpMnjzZ1Hlhe999912wxx57BKuttloApWaVf9htoejW+mkAcF6n7FfkFavtP/vsszQnsffYbUO6U68HH3xwzJ7NB9N2Abta7L333oHJQCG2IIViRZcBe/Xq5ew8W71PK6LYeeGFF9r41+HbLu+glG+ZSS2Pej7kGZSGP777RTXuee9dfFP66Me6ibFenorU6zqO2fjIZ7U8lwmv6HgNwjftX9S4ynvb9atMXMrw8zlmU4XsXTafuqk9kmWzyFVvy/L0jd2isPVd/srU6SJ5KN3kCdeXPOZCRnfhp2Ro45pXNk4Ks0zbXrRvLBNmnv7E5diszrJsP6D7h2fTeuarjiXF0VdeJoVt+13jFLZHHHFE20c9CotuLrvssjZ7Rx99tG7N2rPvQnPmmWfG0pdn324csK0OSFFh+zPjcpCnsdY9zauwHTlyZCyfkGcDBw7UvU181gfr1C2RscXoHXfcEYwfP77NrY1G33fda0tEyou33nqrjSf23s9r8ipsXfPA+RZqfcb93HPPnTdZifbxUaP7fd555yXa7fTyJz/5ScwvKCqgRFBNU/NITWOZD0fVH1v3pkIZwnNdlrPSpHObZZZZWrsMYCAR5RQCvInxnY48jE3in2anij4DcfEh/1TVNqSxLvL+hx9+aFsFqZ9pg/4ZqyExkGbTDB8+PNb+6u2672c93WXTOscccySmb9iwYUZeJyl8weT44483cl/Ekmm7cOyxx0ZpO+yww4yDQVsw44wzxpiMGDHC2H0ei3rbXESxg7jpZbAO33Z5B6V8y0xqPun5kGdQGv747hfVuOe9t/Gtoofpox/rJsZ6eSpSr+s4ZuMjn9WyVcV4DcI37V/UuMp72/WrTFx855dkkGfMpirZu2w+dVN7JPOlyFVvy/L0jd2gsK2i/JWp00XyULrJE64vecyFjO7CT8nQxjWvbJwUZhV9o6/+xOXYrM6ybD+g+4dn03rmq44lxdFXXiaFbftd4xS2q6++ettH/b333tvGDec1TTfddDG7a6+9dps9kxdPPvlkgI8ObNmVZnwXmqFDh8bSlkdhqw/i1E1hO/XUU3OFbVjQkrZCNllh8cEHH8TKBgbBVIWtFNCx0kc3eRr9tHzyXff0NGQ9r7TSSjE2UPp0Ou9S9y+vwtYHD6ya0gc79dWrejqSnrHN7FlnnRV88skn0c9QkiCfVb9tbSO9yy67JEUhaGoeycSW+XCUfti8mgplCNNHWU5L23333RcrhyiTaMtw9qH8oDZVSPhORx7Gaek3eV9Fn4F4+ZJ/qmgbTLib2nn44YfbyvDjjz8ecz5q1KjIztJLLx17X/YBK8+xywEUm7PNNlulf4ssskiAIxVsGayiVfso9R7bqZuYtC2RL7roIhPnheyYtgtHHnlklL6FF144VzjXXHNNjIurtOh9WhHFznHHHReLK/KwDt92eQelqpCZZKHQ8yHPoDT88N0vyngXudr4VtHD9dGPdRNjvTwVqdd1HLPxkc9q2apivAbhm/Yvalzlve36VSYuvvNLMsijsK1K9i6bT93UHsl8KXLV27I8faP8vpRypck4HOLos9xWUf7K1OkieSjd5AnXlzzmQkZ34adkaOOaVzZOCrOKvtFnvXQ1NquzLNsP6P7h2bSe+apjSXH0mZdJ4dt8V2uFLfa9zmOSlpcvsMACwbfffpvojT4A07t37+Ddd99NtJv1UlaErHPGfBeaK664Ija4sfzyy2clofXbO++8E3MHAcSHwhbKcins4Jq2agGKIvyO1XidjGljovvjO69k+HmEf7iZffbZY8x++tOfSq8yr3fddVfMHXiqCttzzjkn+j1JYWsrn3zWvUwY2o8YsFTLIe4xISOPee2119r86CTAu+YhlfBq2k4//fQ8yYrsSoWI2tZtsskmsfQuuOCCAVaB5TF6XUU8sco7yTQ1j2Ray3w4Sj9sXvW86dQvuy7LaWnD6sTFF188VhaxrauMP2SBPOXSZzpkHGX97MQ4jUGn91X0GYiTrz61qrahE3fT37GNtywDuC6xxBJtTjEhBr/ZXoHaFlCDXqDeQ75X2cr7v//970YphQwt3ajXF1980ch9EUum7YIcuEG8nnvuOeOgPv/889jWyDhTyYXR+7TNNtssdzArr7xyjH9dvu2KDEr5lpkkbD0f8gxKSz989osyzCJXW98qati++rFuYayXp7xyS13HbHzlsyxbVYzXIGzT/kXGU73arl9l4uI7vySHPGM2VcneNvLJd3uEyYOYsPf1119L1M6veluWp2/sBoVtFeWvTJ0uk+F5w/Uhj7mQ0V34WYa77raIbKz7UUXf6LM/cTk2q7K00Q+o/uE+Tz3zUcf0+OHZZ14mhW/zXa0Vtph5mcesu+66sQ96DF5knUuLc+1wpp06+IItBvKYRx99tOUeipo047vQ3Hjjja14IX1YsWBicP6pygP3PhS2u+++eyzcffbZJzG6zz77bGQP2zZ3MnkaE9Uv33klw84j/GOgTc+ntdZaS3qVeU3KY1VhC0EVficpbG3lk8+6lwlD+xFc9a0TkeY8RhcwwLKTwtY1jy+//DKAQl8tMzi/L20yS1J6x4wZ03KvtnVY5aL6i3tMCshj9Flma665ZqrzpuaRTHCZD0fph81r3nbUdVnOStuQIUPayuJUU00VvfvjH/+Y5bTtN5/pyMu4LbIGL6rqMxA1X31qVW2DAX4jK8stt1ys/A4ePDjm7quvvgqw6wPa2LwTiWIe9cCHZZZZJsYWDPHum2++6Ujj008/bdtJAu5NJ0J2DCDFgmm7oA7cYLefPGahhRZqcUEf78LofVrS2bNZ4T700EOtOII7/urybVdkUMq3zCTZ6vmQZ1Ba+uGzX5RhFrna+lZRw/bVj3ULY708NWXMxlc+y7JVxXgNwjbtX2Q81avt+lUmLr7zS3IwHbOpUva2kU++2qPJkycH6sB+nz59gnPPPVfidnrV27I8fWPdFbZVlb8ydbpMZucN14c85kJGd+FnGe662yKyse5HFX2jz/7E5disytJGP6D6h/s89cxHHdPjh2efeZkUvs13tVbY4qP85ptvNkrv6NGj2z7oMaMAq26yDJRScgAAV2wH/Mgjj2Q5af0G4WLFFVeM3O+www6t90k3GHhTw8mznR1mrapuTRSo2JZVDlTDLc6D7MQCW0fqs7DgFrPrTMz5558fi+eGG25o4iyyM2jQoJjbtC2cMUiDOG2xxRYd/dbjA0HQxNjMq/32288kyMgO8kjN52uvvTbVLfJSP/MTKxs7GcxYRNlTw8H9bbfd1nKKs5zxDlvf6sZmPvmqe3oaOj3jTDuVD877xQeLicGZBLpiFH6ZDK675gGlvJou3P/hD38wSVbUduA8X7jZbrvt2tzoh8pja02TgXB4dNVVV8XihY+0p59+ui0M9UVT8whp3HrrrWM8zjjjDDXp3u/1dtSkXXddltMg4FgC/agDlNlevXoF2D0ir/GVjiKM86alqj4D8bTZp3aSf6pqG/Lmh25/ypQpbRMIX3/99Zi1k046KWobsKsLTT4CehnEVsiQeU2MnMSm9p+Y7Gn6rWASRpIdvV1Ik2HVgRvIK50miMmw8A0D+0gXjjaYNGmS/MnqVR8MRXh/+9vfjMKAHKFvm1qnbzusSlbLhWnd9C0zAbYt2cJXv2hUQFIs2fxWkUHobYjL7/huYJxUr5swZuMzn1G2qhivQbh6/2Ii28MdjO36pcclra/7T+jx/zbzy8WYTZWyt6188tEe6coZ2a9iJb5ro/eNf/rTn4yDxJiFjCuupruc2Cy3Wd9FVZU/vU7naV+M4SdYLBKua3nMhYzuws8EnIVfFZWN1QCr6Bt91UuZTpdjszIMW/2A9A9XvZ516rNd1zE1bvLed17KcF1ca6+wxWqCTluOYdAEZ26pHSZmjX/00UcdmeF8Snz8q25nnnnmQD83TPcIsyKgpIU7rMjDuaBZBme7qGH07ds3+O6777KctH5bdtllY24hWJgYuX2pDDdrcAkdul6ZpDuEb7KVJGb2Sze4Jm3nlxZvfWskDIYlCT1YeQe/sW1vJ6PHx2RVLvy0mVemAkrSGWudBEZZ/lTmd999dyaWfffdN5ZH0q26BfWWW24Z2UkSkm3mk6+6lwkk5UedEyYyJJVH1TnaBGzBKpmq1wsvvFC1mnjvg8dvf/vbWPwwSNtpgAV1H9tvIj1Qhr355ptt8cdEANQvNc2Y0dXp/N+nnnoqmkyiustaOaMG3NQ8wmQVlUeeAQSVj617vR01add9lOW09Onbd4HlwIED06xnvveVjiKMMyOe8mMVfQaiYrNPNZF/qmgbUpAbv4Y8iAmDsu5DrlQNtombYYYZot+hlKbJRwAy1lJLLRXxwwQOdVeRLJ9whtt8883XyheZPxjAdG30diFNhlUHbhC/ddZZx2j3DPVc2LRdbWykMUmxgy2qhw8fnuk95IoNNtggxr5u33b6QPa8885rxL4KmcmWbOGrX8wsHB1+tPmtIoPy2Y91A+Oket2EMRuf+SzLlu/xGoSr9y8msr2Mr+36pcclra+T4atXm/nlasymKtnbVj75aI+S2hPIM7vssoua3U7u9b4xSwGqRuC9996LySeI7+23365aSb23WW47fRdVUf70Op2nfUmFZvBDkXBdy2MuZHQXfhrgNbZSVDbWA/DdN/qslzKtrsZmpf+2+gHpH656PevUZ7uuY2rc5H0VeSnDtn2tvcIWnd+cc84ZjBw5MjHt+OCffvrpYx0mZr3qKxMSHf/3JRQtW221VcwPKFTTzlDEtmGLLrpoZB8KDHV1ogxn/PjxAZaAo+PGqgg5ix3pkX/oYLGK8p577gkefPBB6TRajYd3mG229957t+xLdxhsOvTQQ6PfR40aFWC7tiSDlVnSDa5YIYczYHWDWfY77bRTZBcfW3vuuWfMHdxuuummweWXXx6lR/qBbVERPvIA2+wmrWyC0gZnhCE9OJMiy8gVfDLOeFYVxXKvd4SDQTTdmMQHA7mIDxSbmLkD4zKvkBbkFQZYUR5kvCH8YlU4yjVWGCZt5w0lIVaBoAzdd999bYoylBl9Zh9Wd2LbaN1gJcnhhx8e5SsGhbHiUy2TyPfHHnssyico8fCXtvqkbD6pcXNR91T/i95jq2C97mH7o3HjxiV6CeZLLrlkxFdvj1AG0J78/ve/j+ostgvGSsAk45oHyl2SYIDtYpNWxGIiyrbbbttqD84777ykaEfv0A5hoFjWX1zxPGHChDY3UE6gPZEKCNhFu2ai2JaeNSWP0J/I9l5XNEkuUNpec801UVt7//33B2izXRmTdtSkXXddltPSj4lJahnEfaeJLGl+4b2LdNhinBXvpN989Rku+1QT+aeqtiGJeZ53mKEqy666YwZkFXk+Mz5AaIoReOONNwK5jSHkH8hEUOSmmQ8//LBNYYj8gQyEvtS2MWkXkmRYfeAGccTksbTvIMT9ggsuaG3zPPfcc6d+R9hIozoQC1kXWyIjjlDaJn0/IUxMuF1vvfVa9QH26/BtB3kG3z0jRowIMKkSE3wRN/UPcs/FF18c3HLLLZFdyNZJxrXM5FK2cNEvJjEq867st0rV/VjdGav1Wi3/3TZmU3U+o4y7Hq9BGCb9i4lsD79gytQvk7gk9XUI12V+oRy7GLPxJXuDj27K5JPql+v2aNddd431o7JNmWeeedRoWLnv1DdCNoHCCeNvGLuT39zYCUeO3f3lL38J5CISGVdcF1544WDo0KHR0VAYu5PjPS7LbafvIh/lz6RO52lfTDPaVrgu5TEXMroLP02ZJ9mzKRur/rvuG6uslzKdLsdmZRhl+wGTepbWZ8s4uKxjCKMOeSnTavtaa4XtHnvsEWy22WZRB47tfTHTGoP8GNzG4DVWAkKxpHaUmImVpmjKggfFILaCVZVY8Bezro466qhocOPEE08MVl555dZWwxhQS9u6U9fqq3FMuocSTZqks7aS3Mh3+GhKMlCKYLagtIcrzrI94YQTAuwtD2XxIYccEiy22GKRHSiVHn744QDn+Kpu9HsZXlJnodtVnzHgmGWgDMPAkepm1VVXjZTBWDUlt3iGcjjJ5I0PlvPDVJFXSWdKqOlOuseWBrrBoJGutIXghhWRyOObbropmjAguWJwCXkMk7QSTYZ7+umn60G1nsvmU8uj/97Yrnu6/2WewQGCu+SC9mG33XaL2ELZjvNq0UbJdggd4tixY1v2pTv9mjUD0wcPDNbqimWUkR133DE47bTTosEDKGple4gydeaZZ3ZEiY8ZtCkqM7ABI2xNccwxxwS/+93vggUWWCDGCG0pPmyKmG7PI31mr15Wkp7B0ZXJ245mtes+ynISB3VXCqzIwg4SZYztdNhknDddPvqMKvrUJA5VtA1J8TB9p24hBXkHH6qQ1+aff/6ovcR2q2hjaYoTwO456nESuMdqCkzQlANr2D4dOz1I5a5sg5EnWIkqJ94Vj0Wyy7ztgpRh1ZnOSI88Uw0T8TBAhuMtUO8h82MQUq40RrrQPuKMWJdGKnYgR2DHJCjJ1cEDfKfg2w4y1dVXXx0ceOCBsclc4F6Xbzt91YAsG1lXlKM041Jmci1b2O4X0xgVfV/2W6UO/VidGct6Lct+t47Z1CGfXY/XoA7l7V+yZHv4V6Z+5Y2L7OsQbhX5ZWPMxofsDT66KZNPul8u26Prr78+Ni4g2xXsuGd7glzevhG7kcAkraiV8Uy7yvGeKsqtmn+uy1/eOt2pfVHjnnVvM1xX8pgLGd2Fn1mcO/1mWzaW4bnuG6uulzKduLoam4XfZfuBvPVM7bMRvjSu6hj8r1NeyvTautZaYQvwGGjFYINUOCV1iFBYQXmL7TXLGpxBidl16tZ0ephQRuy8886Jq1Vl+JhdhcEJDJxgAKVfv37RrCt0UFidC4UFVkNCSQr/cEaTNBhshqIEyjXMVMVgHRStcIsrtmfDe/wOextttJF02nZFQwcFjDpApacHz2uH20JD0QTTSWErt4zBylCkEaywfZ+eRsQbAxUYNEIapaK3LZLKC8zg2HjjjROFNsRTCk2Kk9atjI/OHArp/v37R2UIW2dDUYX4SAVRFXmFBgv5ibKLMoCygDKBsoH3mKEHnuAKvuCctnXt+++/H5xyyimJ2/apeY0V3S+88EKLF7YngIJOKsJhF+xOCleEdzJl8inNb1t1L83/ou9N4oXV0JjwgVmYWA2lck+6lwJ8VpxMwjVpi9LCwOohbIWtbyevxhfKVkyUMT3DV4aFuENxqyuFVb9xjy1ycD4g6kMZY8KqrnmED0e1vUe9xyA62gH8of1Cu4+tFtFWwO4BBxxQBlemW9mO2mzXTfKnTFnWE3TRRRe16mCnreV1t1nPttLhgnFWvPXfXPcZVfSpehrls0meuWgbZPh5rzjuQe2TZZu5/vrrR4NFef2j/XYCmNSJCXCQTSXfTlfsoIFVCi6NbBfyyrCYwIP4Q25E3cYsY8jpSeVIphPtLdxBDnRtpGIHk7WkwcDvJZdcEn3LyDjp1zp+22FQCgPI2B0E7Qb6ZXxfQHaHPIP+Gvf4/oH8jh2B5DeTTHvSFe2UbZnJl2xh0sba7N+T+KW9K/Ot0m39mG/Gsl7LetutYzZ1yWeX4zWoH7J/sSnbF61fMi55+zqko4r8sjVm41r2Bp8kUzSfkvzCO1dtPnbxwjcwxh7krmUor7blFLVvxDgl+uus8Te5RfKkSZOi73P067POOms0roj+H/0+/jD5HCuC5VgjxmmhKIGpotxGASv/XJY/Wadtti9K1FNvXYRrWx5zIaO78DMVssEPrmRjBO2yb6xDvVTxuhybLdMPyHpWpM9W0yfvbdcx+Fu3vJRptXGdCp6EwnYtTLjHvgi3AW7FJRT+xZ///OfoOaysItyGSrz88svirbfeEuGgtQg7RREOUIhwIEuEnWLLnY2bcOsPESq3RDjwIV555RURdtIi/DAXYccsQgWpCD/UbQTjzY9Q8S3ClQUiPIdThFuNiXBbYxF+3EX8wlWsItwjvhWXUJkkwoEpESp5RTjg0HbFO/B3aV566SUR7rkuwi3sRCgoi3B7tyifkQc0yQTCATARbjstwm0pRHjenQhnAopQwSPCQSQRrgwXofCb6DDcNk+Eqx5EKGSJFVdcUYRCaKK9pJcu8qmudS+cYRvVH9kmoE0KhXMRCvlR2QwF+AgRmtQhQ4aIcFA4qj9qHcI9/sKBYhEOpiYhbXvnmgfatueffz5q59DWId5oW8MPGBFO5IiubZEyfIG4o83GH7jB7/DjKGpLw0kqqWXS0Ps2a03No7aEdukL12VZYgm3xBXhRCURfvSLcBaqCAfX5U9Wrr7SYSWyGZ5U0WdkRMfpT1W1DUUShbYyXPUYtcuQeVZbbTURbrNaxCu6ySAAOTic3CH++c9/Rn1U+DEr0HZIg++KcAtfscUWW4hw9VgkM8vf6nQNJ1SJcEeVqK0LBztbUUN/Hm7fJ5CucDKZCCe+Rn1uuMI2kltChWjLblU3iBfkj/BYiUgODZWhPfrbzrfMZDPf69wvuvhWscnO1K86MeaYjWmu5bPXbeM1SF1T6le+nCpuuyrZ23Y+uW6PMCaFsdhQYSvChQvFgdNljEBV5S8WiS54sCWPuZDRXfhZ9yzpxr6xKFOXY7O2+4GiaYQ7W3WsTBy6wW3XKGy7ASbjSAIkQAIkQAIkQAIkQAIk0F0EMIiFCaEYFAh3PbE+EbS7aDC2JEACJJBOIEthm+6Kv5AACZCAGQFM8MbiESwqoCEBEiABEiCBnkiACtuemOtMMwmQAAmQAAmQAAmQAAmQAAmQAAmQAAnkIECFbQ5YtEoCJJCLAHbmwm4gAwcOFMOGDcvllpZJgARIgARIoCkEqLBtSk4yHSRAAiRAAiRAAiRAAiRAAiRAAiRAAiTgiAAVto7A0lsSIAFx6qmniuOPP14cd9xxYvDgwSRCAiRAAiRAAj2SABW2PTLbmWgSIAESIAESIAESIAESIAESIAESIAESMCdAha05K9okARIwJ4DjKZZZZhkxfvx48cADD4i1117b3DFtkgAJkAAJkECDCNRKYbv99tuLm2++uYV3v/32E5dccknrmTckQAIkQAIkQAIkQAIkQAIkQAIkQAIkQAL+CXDMxj9zhkgCPYHAZZddJjAGvOqqq4onn3yyJySZaSQBEiABEiCBRAK1UthiBtVDDz3Uiug222wjbrnlltYzb0iABEiABEiABEiABEiABEiABEiABEiABPwT4JiNf+YMkQSaTmDixIliueWWE++++260iGfbbbdtepKZPhIgARIgARJIJVALhe3kyZPFqFGjBGZrTpkypRXZmWeeWdx6661izTXXFL1792695w0JkAAJkAAJkAAJkAAJkAAJkAAJkAAJkIB7Ahyzcc+YIZBATyTwww8/iM0220yMHDlSrLLKKuKJJ54QU089dU9EwTSTAAmQAAmQQESgUoUtFLHPPPNMpKRFJ51mpplmmkhhe9hhh/Hg+TRIfE8CJEACJEACJEACJEACJEACJEACJEAClghwzMYSSHpDAiSQSODkk08WgwYNErPPPns0Pty/f/9Ee3xJAiRAAiRAAj2FQKUK2wEDBoixY8cas1533XXF6NGjje3TIgmQAAmQAAmQAAmQAAmQAAmQAAmQAAmQQH4CHLPJz4wuSIAEzAksscQS4oMPPoi2Ql5//fXNHdImCZAACZAACTSUQKUK2wcffFB88803Yrrppov++vTpI/CH7S++//578e233wpsvSP/+vbtK1ZfffWGZgWTRQIkQAIkQAIkQAIkQAIkQAIkQAIkQAL1IMAxm3rkA2NBAk0lMH78eDHTTDOJfv36NTWJTBcJkAAJkAAJ5CJQqcI2V0xpmQRIgARIgARIgARIgARIgARIgARIgARIgARIgARIgARIgARIgARIgAQaRoAK24ZlKJNDAiRAAiRAAiRAAiRAAiRAAiRAAiRAAiRAAiRAAiRAAiRAAiRAAiTQPQSosO2evGJMSYAESIAESIAESIAESIAESIAESIAESIAESIAESIAESIAESIAESIAEGkaACtuGZSiTQwIkQAIkQAIkQAIkQAIkQAIkQAIkQAIkQAIkQAIkQAIkQAIkQAIk0D0EqLDtnrxiTEmABEiABEiABEiABEiABEiABEiABEiABEiABEiABEiABEiABEiABBpGgArbhmUok0MCJEACJEACJEACJEACJEACJEACJEACJEACJEACJEACJEACJEACJNA9BKiw7Z68YkxJgARIgARIgARIgARIgARIgARIgARIgARIgARIgARIgARIgARIgAQaRoAK24ZlKJNDAiRAAiRAAiRAAiRAAiRAAiRAAiRAAiRAAiRAAiRAAiRAAiRAAiTQPQSosO2evGJMSYAESIAESIAESIAESIAESIAESIAESIAESIAESIAESIAESIAESIAEGkaACtuGZSiTQwIkQAIkQAIkQAIkQAIkQAIkQAIkQAIkQAIkQAIkQAIkQAIkQAIk0D0EqLDtnrxiTEmABEiABEiABEiABEiABEiABEiABEiABEiABEiABEiABEiABEiABBpGgArbhmUok0MCJEACJEACJEACJEACJEACJEACJEACJEACJEACJEACJEACJEACJNA9BKiw7Z68YkxJgARIgARIgARIgARIgARIgARIgARIgARIgARIgARIgARIgARIgAQaRoAK24ZlKJNDAiRAAiRAAiRAAiRAAiRAAiRAAiRAAiRAAiRAAiRAAiRAAiRAAiTQPQSosO2evGJMSYAESKBrCPzf//2f+Pbbb8UMM8zQNXFmREmABEiABEiABEiABEiABEiABEiABEiABEiABEiABEigCgJU2FZBnWGSAAnkIgDl38SJE8XHH38sPvnkk9YV7/bZZx8xxxxz5PKPlt0QeOKJJ8Qll1winn32WTFu3DgxZcoUMc8884hf/OIX4qSTThLLL7+8m4ATfJ00aVKrnKjlZoUVVhBrrbVWgosfX5Vx+6MvvCMBEiABEiABEiABEiABEiABEiABEiABEiABEiABEiABMwK1U9i+/fbbYrbZZhMzzzyzWQpoiwRIoLEEPvroI7H44ouLzz//XARBkJjOl156SSy55JKJv/GlHwIffvihOOaYY8SVV17ZyqcZZ5xRLLLIIuK5556LIjH11FOLW2+9VWy55ZZOI3XyySeL0047LVIWJwW0+eabixEjRiT9JMq4TfSQL0mABEiABEiABEiABEiABEiABEiABEiABEiABEiABEjAgEBtFLb333+/2G233cQ777wjevXqJTbZZBNx3XXXUXFrkIm0QgJNJYDVtHPNNZf44YcfUpNIhW0qGi8/YJXzz372M/Gvf/0rCg/t93nnnSf23XffSHGKlbXS9O3bV0AJP+2008pX1q8nnHCCGDx4cKq/WQrbMm5TA+QPJEACJEACJEACJEACJEACJEACJEACJEACJEACJEACJNCBQC0Utlg9h5VYUM6oZv/99xcXX3yx+or3JEACPYzAqFGjBJSyL7/8srjhhhva2gkqbKstEFtttZUYPnx4KxK33XabwDuYRRddVLz++uut33CDbZN//vOfx97ZfPjyyy/F9ddfLz777DNx7733CpQf1WQpbMu4VcPgPQmQAAmQAAmQAAmQAAmQAAmQAAmQAAmQAAmQAAmQAAnkIVALhS0G1TfaaKO2eA8YMEA888wzbe/5ggRIIJnAhAkTxKuvvirWW289Mc000yRb6uK3WImPtKmGCluVht/7oUOHikMOOaQV6BZbbBFT3s4333zRrgktC+HNCy+8IJZZZhn1ldN7xOmOO+5ohZGlsG1Z+u9NGbe6X3wmARIgARIgARIgARIgARIgARIgARIgARIgARIgARIggTQCtVDYPvjgg2KdddZpi+Oyyy4rnn/++bb3fEECJJBMQG7pevbZZ4tDDz002VIXv/3uu+9E7969YymgwjaGw+vDEkssIV555ZVWmGPGjBErr7xy6/mII44QZ511Vut5hRVWEGPHjm09+7j505/+FJ2vK8PKo7At41aGxysJkAAJkAAJkAAJkAAJkAAJkAAJkAAJkAAJkAAJkAAJdCJQC4Xt/2fvTKCtmv44vhUir0wpXlEikpR6yhBCioyVehpML3lkWCwykyksy1CmEpokyVSkDIWkSEXGpZJkVohUMmX/9/dY+6y99z3n3HPffffec/2/e6339j7n7N8ePmeffdc63/Pbe8OGDaJJkyZi1apVVnvPOeccMWLECOscD0iABMIJVFRUiLFjx4obbrhBDB48ODxjEV8pKSkR69ev93tAwdZHkdcEljrGksc6YH9aLENsBuw9PHr0aLFo0SLRvn170atXL1G7dm0zS87TWFZ/4MCBfj2ZCLbZ2PoVMkECJEACJEACJEACJEACJEACJEACJEACJEACJEACJEACaQgkQrBFG+fPny8GDRok5s6dK2rUqCG6desmRo0aJerWrZumC7xMAiSgCXTu3Nnbs/O/LNjWqVNHrFu3TnfZ29+2efPm/jET+SHw6quvik6dOvmVlZWViYULF/rHSUk8+OCDAvuh65CJYJuNra6PMQmQAAmQAAmQAAmQAAmQAAmQAAmQAAmQAAmQAAmQAAmkI5AYwVY3dO3atd6Sp7Vq1dKnGJMACcQgsHHjRlFaWup5qlOwjQGMWbIiMGnSJNG7d2+/jPLycoFzSQvZiK7Z2CaNA9tDAiRAAiRAAiRAAiRAAiRAAiRAAiRAAiRAAiRAAiSQXAKJE2yTi4otI4FkE5gxY4bo0qWL10gKtsm+V/+F1k2cOFH07dvX70plZaUYOXKkf5yURDaiaza2Sek/20ECJEACJEACJEACJEACJEACJEACJEACJEACJEACJJB8AhRsk3+P2EISiEWgf//+YsyYMV5eCraxkDFTFgQo2GYBj6YkQAIkQAIkQAIkQAIkQAIkQAIkQAIkQAIkQAIkQAIkYBCgYGvAYJIEipXA119/LVq2bCnWrFnjdYGCbbHeyeJpNwXb4rlXbCkJkAAJkAAJkAAJkAAJkAAJkAAJkAAJkAAJkAAJkECyCVCwTfb9YetIIC2B9evXi4MPPli89957fl4Ktj4KJnJEgIJtjsCyWBIgARIgARIgARIgARIgARIgARIgARIgARIgARIggf87AokVbDds2CA222wzsemmm8a+Kf/884/48MMPxVdffSV++ukn8ccff4i6deuKFi1aiL322ssrD4XNmTNHfPfdd6JXr16xy67ujCtXrhSffvqpgGfk2rVrxc477yx233130aRJk4z6HNSub7/9Vixbtkx88803AmJe06ZNRfPmzUVpaWlQ9iqdW7dunSgpKQm1Rb1///232HrrrUPzhF2Al2iNGjVEnTp1wrJkfD6qvRg3q1evFttuu62oWbNmxmVHGfz+++8CYxllZxqi2qzL2rhxo+jZs6eYMmWKPuXFuRBs0Q88XxizP/74o6hdu7Y3biEWVyc39Onnn3/2nt3NN9/c6hcOMC7ARodPPvnEG9/6OJ+xlNLjgWd5xYoVXpv32Wcf71muLiZJnddyIdjmYu7KZh/abGyDxmEu+hdUTxLOJXXcJoEN20ACJEACJEACJEACJEACJEACJEACJEACJEACJEACLoGCCrYfffSReOihhzzxBwKQ+ffbb7+Jk08+WTz++ONum1OOf/nlF3HdddeJcePG+UvCupkgVl522WWeiIgYL5Mh6m633XZu1pwdQ8AcNWqUePTRR8XcuXMFxB43QKDu3r27uOaaa0SrVq3cy6HHEAZHjhwpIKK8/fbbgfkgdPXp00dceeWVnjAcmMk4CRHw5Zdftu4LmOE+/fnnn2L8+PHilFNO8SzA87HHHhNjx44Vixcv9sRiXICoCzH6kEMOEQMHDhT77ruvUcO/SdzrYcOGiddff90TBCGmI0AQbNasmTj++OPFRRddJLbffvt/DUL+33PPPeLjjz/22qfbiRh/f/31lydqnnjiiZ71a6+95vH64IMPxPLlyz1xHx8I7Lbbbp74B04QQiEcpwvgNGPGDK8eXZ+OIVyjz4sWLQosBv2G4Kjzg61Og/Edd9whLrnkEssWguaSJUvEW2+9JW6//XYvbWVQB4cddpjo2LGje9o/vvTSS8VWW23lH0clFi5cKIYOHSqee+45SyjVNg0aNBDl5eWib9++4oADDtCnY8f4YAEM8Tdv3jyBjxnQx0022UTsuOOOXl8GDBggjjjiCK/MJAi2uE9gcv/99wfOOVtuuaXYe++9xWmnnSYqKytFrVq1YvPQGZM2r2EuePPNN3XzxOTJkwWeHx0aNWokzjzzTH3ox5jHevTo4R+7iVzMXWYd2Yiu2djqNlRX//B7CeYYW5gbEeODBjwnmCvwgRI+qkB9e+65p/c78uuvv3pjFHPbFlts4dkgxm8P8iMvbPB31FFHifbt2+tmiwULFohXXnnFmyd0XfgIAc8m8mN84rdqjz328G2QyNW4RV+efvppAdEbc9tBBx0Ua362GscDEiABEiABEiABEiABEiABEiABEiABEiABEiABEkgqAfXitmDhiSeegGIZ+nfsscembZsSDeUOO+zgl6HEPXnrrbdKJfTKF154QSoBUSohSaoXzn4eXad68Zu2/OrKoMRIqTx9rTaoF+fywAMPlGeffbZUAqF1Xb2El0oEk+qFetomPPvss1J55vplw/bII4+U119/vVSCnjzvvPPkTjvt5F9XorDs37+/VC/WI8tWQpNvo5mZsfLi9OyVaCOVV6GfV4kIXl+Ud7N/DnbqZb+8+eabrTqVACGVoOvnU2KcZ4syzLrQfiWKWrbugRJGLRvTHmklsMmlS5dKJUpY+ZSYJpV4aZ1DfiUWS4yvdCEdJ7QrLChRL6Ves93nnntuium0adMiEDbwfwAADGdJREFUbUz7sPT333+fUq57QnmxSvRNidZ+fUqAl2eccYYcMmSIN66USOdfQ10XX3yxW0zosRKZpBLZrecXZWyzzTZyv/32k+3atbOe2/PPP1+qjx4k2mD2SwneoXXk4oL6MMEfL2DTpk0befrpp8sbb7xRqo8SpPKUt9q3yy67SCVEZ9SUJM5rgwYNsvpl3oOodOvWrUP7nqu5y6xQfchitTvO74q2z8YWZVRn//CbFsXZvIa5FgHPl3k+Kn3vvfd6Nvqf8pxPa4vfLTPkatxivsJzZLa/a9eu3nxg1s80CZAACZAACZAACZAACZAACZAACZAACZAACZAACRQrAXjaFCwoL0e5//77S7VcsSUK6Zey6V6sv/HGG76d8vKRyhMwtC/vv/++rFevnvXCN1+C7SOPPCIhkup+QeRRHrQSgpgblHeqVF5qfl61bLNUHk1uNv8YwpkuF7HyZJVqeVb/uk4oD1P5wAMPWAIYxMIvv/xSZ0mJIfZCOFNep1Yduj4Itsqj1RfccA9mzpzpi8wQ1yBuQTzQNognTJjg1YVrWgzs0qWLxD3SfVVet1J5gVp2ELiVZ2lKO/WJiooKWVZWJhs3bmzZ6bqPPvpoCUEYxxCTleeqV56uUy3364nkOr+OtVCo63FjcIK4qJadlhDLtZ2OowTbU0891RP8TEFd2yEOEmwh/ikPWuvPFceVB5513cwPsR7jISr88MMPXp/MtuBjCHe8YAyDu5kPoqXyuI4qXiovWukKQm3btpXKi9eyVV51cvjw4Z6Iizo6d+5s1YVz+RRs8RGI8lb02gAeQXUrz0V5xRVXWOMeHwUo78BIJvpiUue1ESNGWGPK/QAF98IcZzqtvKN116w4l3OXWVE2oms2ttXdP+XtKpVXqcQ8GzTP6GcQwiZ+VxGeeuop2aFDh9A5HDZq2XqJ3wLkNQN+e3SZQXH9+vXl1Vdf7ZvkctziQ5CgNkydOtWvnwkSIAESIAESIAESIAESIAESIAESIAESIAESIAESKGYCBRVsTXBqv1W56667Wi9lowRbtSSj5wGJl7gQQyC2pQvIo5ZA9uvIh2ALL2Lz5TrEyyjhBl6v6Lf5chpeWkEBHn1mPghnEEmjglqa1xctYduwYUP52WefRZl41yCUmp7MsIXHHeyRPuuss6Ra/jewHHg8m+1US+jK2bNne8IXPGnVssCWSGcWcsIJJ1i2EMnihPnz50sIvGa9Og1RV+1zHFrMhRdemGKHerWwG2qoLsDbWO1Xa9lHCbZmWRAfzLGC9gYJtqaNTsNTW/cPsfZ+1tczidFP1wsZImxYgEDZsmVLq361RHlYdk/0db3lIMRCpA8Lat9c78MOs486HSSahpWTzXl4BEPc0vWij1Ee8Liu8yKGZ3DUBwdoW7HMa2grPrgw+4ePReKGfM5d2YiuVbXNdf/wcYtaIt7ij3sB0TQs4HdEf2yg7xs8ZPH8hgWMVzz7Oj9itb2AnD59ujVn53rcquWarTbo9uD+MJAACZAACZAACZAACZAACZAACZAACZAACZAACZDAf4FAYgRbwHQFjijBdtasWf4LXHgdxQ1q/1rfLteCLcRXtQenXx9eMg8ePDiyqRDa9MtoHUNAdIPaz9B6+Q6PqqgX76Y9PKl02Ygh9qUTemGv9pG17HQZeJkeFcDZFSK1bTphEeK2zosY4nyQZ3JQ/YcffrhlC3t4m0FcSBeCRFt3OeewMtS+vla9cQVblOcKpYUQbNW+rFb74QGfziMX3u2mFzmWNYZ3rBtw77BErnlPMX7i3JMVK1akPE8oJ1+CLcQws91Iw0M6LEDMVXuJWjZY5jwqFMO8pttfVcE233NXVUVX9LMqtvnq3y233GKNLYxH1wNe3ysdY+lucwxffvnl+lJoDG/5pk2benb46CBoBYdcj1vMg2a7dXr06NGh7eYFEiABEiABEiABEiABEiABEiABEiABEiABEiABEigmAokSbO+77z7rpWyUYHv33Xf7ebEUbdwAD0j9sjfXgu0FF1zg14U6sVdrOuHL9a6FXceOHa3u4QU6RGrdD8TwWM0kQLg07eOIkchj2iCNvYHjeOhC9HNtcd/SicyrV69OsXv33XdjdfWkk06ybOFdHeVZaxYKL1N3KWgIkvDcTRdc77pMBFv3/udbsMVekRBbzXsFL/E4oV+/fpbdXXfdlWLmeuvBSzCuAI/CsLy42Tak8yXYBo1/sIoK7h6i8PqOEqeLYV7T/a2KYFuIuasqoqvuY6a2+ewfVqXQS8rrZ+K2227TTQ+M58yZYz0/2PscbU4X9L7MV111VWDWXI9brAzh7jMOL/10+7AHNpYnSYAESIAESIAESIAESIAESIAESIAESIAESIAESCCBBBIl2Gbyctz0lMXLauwtGTdgf0/Y5FKwfeedd6w9LFFfHFHUFXlhh/0wzYC9JHFe/2UiWOtyJk6c6NujHAiv6V5+Y69WXaeOw17g63p0fOihh6bYTps2TV+OjE3PTdT74osvRubXF909GLFscybB/YAAdR9zzDFpi4BoovkgzkSw7datm2Wbb8HW9Q7Gnr9YCjhOgLeb2W+IPGaAsOreS4jbmQQIN2YdSOdLsB06dGhK3c2aNYtsPvYdddv7xRdfhNokfV4zG14VwbYQc1cmvytm/5DO1Dbf/evUqZM1vlq1auV2wTqGyOuOR4i4UQG/ZbDBs7tq1arArPkYt9jSAPuawyMfe9ri4xIGEiABEiABEiABEiABEiABEiABEiABEiABEiABEvivEChawXb8+PHWi2cslQtvtqh9MPVNa9u2rbeccNieqzpfNjH2PHVfjC9dujRtkVhOs379+r4t9o017SCeuXukRu0vGlYhXna77YPYEBWCBNu4QnkQjzVr1kRV519z92p88skn/WtRCVewraysjMqecg3jw9zzGLzg0ZbOS9flVCyCLcaEu3R1jx49UriEnfj888+tMYWyzD1e+/fvb10Hzzje2WZ92MvWHbf5EmwXL17sLclt1n/TTTeZzUtJBz1nUR7iSZ/XzA5mKtgWau7KVHQ1+5iJbSH6534kgbEZtZ87vN7N8Yt0ut8PiKPIF/WxSjGNW/P+Mk0CJEACJEACJEACJEACJEACJEACJEACJEACJEACSSFQtIIt9rN0XzzjGOIehKEJEybI5cuXB3LG3prpvEkDDWOehEilvXh1G+vVqxfTWnpeTNhn9vnnn0/xbgzy2IOoUJXQsGFDi2G7du0ii3GFSPQNAlqc4HqONm7cOI6Zl8cUsFHnpEmTYtlmK9iiEncJX9Q/ZMiQyPpdTsUi2I4bN84aD+hrph6w7r2CyImAPZLxDKBM/deoUaNIjkEXCynYoj0LFiyQ2Ae0T58+csqUKbH2fna9imfOnBnUNe9ckuc1t9GZCraFmrsyEV3dPmZiW4j+4XcMy2zrZwqxuyKD2aeysjIrL/LjuQzzosfS8KWlpZ4N7ndYKKZxG9YHnicBEiABEiABEiABEiABEiABEiABEiABEiABEiCBQhIoWsEW0Lp27Zry8tl8cY10gwYNZHl5uRw+fHiogFvdN2DWrFkp7erSpUu1VOMuPYk+PvPMM1Uqu3Xr1lY74T0a9uIeFbhCJDx94wZXsD3uuOPimloex+hvlHBgFlodgu2wYcMsRqi/e/fuZjUpaZdTsQi2WDIa/TP/xowZk9K/qBNt2rSx7LUH9rx586zzqAPPb6ah0IJtuvbCa3zJkiXentLwBMey2jVr1rT6Pn369MhikjqvuY3OVLAt1NyViejq9jET20L1r2fPntb4wt6uQfvSwhMdzx0+IMDHEuZzjo+DggI+LkC+kpISmW5FimIZt0H95DkSIAESIAESIAESIAESIAESIAESIAESIAESIAESKDSBohZsIY60aNHCevFsvoR20xAke/fuLVeuXJlT7u7ykGhHv379qqVOV4RE2S+99FKVyu7QoUMKu2XLloWW5QqREHzjBlewjbs3K8p3vTbhPR0nuKwyXRIZdUydOjWFEUTJqOByKhbBFiK6+8zgGM9N3D/XHnslI7h7JiPfgAEDojAGXkuaYIs56OGHH/Y8bps2bRrIz2WSTrBN6rzm3pBMBVv3eQSXfMxdmYiubh8zsS1U/yZPnpwy7mbPnu12RV577bVePixtfOedd1o28BgPChUVFV4+7G2dLhTLuE3XD14nARIgARIgARIgARIgARIgARIgARIgARIgARIggUIQ+B8AAAD//00PvdgAAEAASURBVOzdB/zU9P348Q9DtqIskSFLZLgRHODCqhXrFmfFLWArWnBC6x5FRaGiFuFv1aqtVgULgoIFRUVUBBEURRnuhYjspeSfd/wlJDdyubvse+XxgMvlMj6f5yd5f5N7Xz5RWoyGBx98UFNKWf9+97vfFSzdF198oZ1++ulalSpVrOXs68g13qxZM2327NkF113qDHfddVdWWfr161fq6hzLHXzwwVnrfv311x3zeH3z29/+NmtdU6dOzbt4Zr323nvvvPNmfnDiiSc6tvWHP/whc5a875s0aeJY9oknnsg7r/2DU0891bFc37597R97Gv/ggw8c65D9aYcddnBdNgqnAw880FHOm266ybWMuT7s1q2bYx1S17Zt22pHHXVUSf/E/6OPPjI2dffdd2et+8orr8xVDNdpX375ZdZ6PvzwQ9dlgvjwk08+0X7/+99rtWvXzipPp06dtP79+2t33HGH9thjj2V9PmnSpIJFimNcyyz0v/71L0fdJDa5DVHFrlL+rpj1KGbZqOq3ceNGIybZ/9bl+nvTrl07o72k3b7++mutatWqVvvVqVNHW716tVlt43X9+vVa/fr1jXlefPFFx2f53iRhv81XdqYjgAACCCCAAAIIIIAAAggggAACCCCAAAJRCqgoN5657WK+HM9c9p133tGOP/54Tb54tn9xnW+8ZcuW2o8//pi5Gl/e33bbbVllkOSOH0OXLl2y1v3222+XtGpJxGX6zJgxI++6okhESmGiTNguWbIky6hmzZp5jeSDKJz8SNjuv//+WXWdOXOma129fnjrrbdmrXvQoEFeF7fmizphu27dOu3aa6/VatSo4aiP7KO33HKLkQizCvt/I9tss41jXi8JW3MdcYprZpnM12ITtlHFrnL+rhSzbFT1k/a4+OKLHftYgwYNNEnkmoMcxxLr69Wrp61du9aYfOSRRzqWkR8X2Ienn37a+HzHHXfUfv75Z/tHBcfjvN8WLDwzIIAAAggggAACCCCAAAIIIIAAAggggAACEQikJmFr2smX1HLH6fDhw4074Nq0aeP4UtqeoDz77LPNxXx9feSRR7K22adPH1+2IXcd2+sg46+++mpJ6+7Ro0dR64oiESkVizJhO23atCwjSfa7DVE4FZOwffPNN7VZs2ZlVeG0007LqqvXO+uyVpYx4eGHH85a9/nnn58xV+G3USZsJdF1+OGHZ9Xjwgsv1NasWZO38OUkbM2VxiGumWUxX4tN2EYVu4pJupp1M1+LWTaq+klZX3nllaz98rnnnjOroV166aXG5/a/eY8++qhjmV69elnzy4jZK8Jll13mmF7Mmzjut8WUn3kRQAABBBBAAAEEEEAAAQQQQAABBBBAAIGwBBKbsJW7Si+44ALNS3eo0q2tdIebmTipXr269t133/lunevL88wvw0vd6B//+EfHl+ySsLV/MV/MevfZZ5+sdUlXr/mGKBKRUpYoE7ajRo3KMpI7Ud2GcpyOO+44x/a8dh1dTMK2WrVqRlenmXW4+uqrHduWfeuf//xn5mwlvc+V+JaEULFDlAnbY489NstH7hwuNGTGHbc7bOMc1zLrWWzCNqrYVUzSNbOOxSwbVf2kzFu2bNHkhyT2H/NIl+QybN68WWvcuLHx2QsvvGBMk/9WrVrl6JFC/h5+//33xucrVqyw7iL30oNDkvZbC4ARBBBAAAEEEEAAAQQQQAABBBBAAAEEEEAgRgKJTdgOHjzY+AJ64MCBnjknT56s1a1b1/Gl9vPPP+95ea8zynP87F+cy3jTpk29Lu46n9w5nLnue++913WZfB82atTIsa7tt9/e+HI/3/zlJCLNu7XMsntNREpZokzYXnHFFQ4jKb8kZtyGYcOGOZYp5lm/e+21l2NZr05+JGz/3//7f45tS12vueYat6p6/uyzzz7LWnehZ57mWnlUCVuJHea+a76edNJJuYqYNc0tYfvLL79oEydO1BYuXGgsF+e4llmxYhO2UcWuYpKumXUsZtmo6meWWY5Vc9+U11q1amkrV67U5AcC8j5X18ZnnHGGY5mRI0caqxs9erQxvX379ubqXV+TtN+6VoQPEUAAAQQQQAABBBBAAAEEEEAAAQQQQACBiAQSm7C98sorjS+U27ZtWxTd448/7viC+u9//3tRy3ud+YADDnBsR74wd7t7Nd96586dq91zzz3a8uXLjVkk8VW1alXHuv3qWvass87KVwxjeiUmbLt37+6wlnZ86aWXXJ3uu+8+xzLFJGwzf1AQRMJW9p/69etn1UGe6SxJHqmj+e/QQw/Nms/LhLfeekuTZPcPP/xgzb7vvvta65X1b7fddkU/GzOqhG2urpC93N0vd/Cbluar/Q5bM0l+0003GU5xj2tWY+ojxSZso4pdxSRd7fWT8WKWjap+Zpnfe++9rH1NuiKX56fLvpera2P5wZK5X8qr/N2SQY57eX/jjTeaq3d9TdJ+61oRPkQAAQQQQAABBBBAAAEEEEAAAQQQQAABBCISSHzCVr5Unjdvnmc+uePIfsebPG82iMFMxNi/DB86dGjRmzKTXE899ZS17NFHH+34kr1169aa3KlXzJCZiJByyp1+bkPSE7byjMlihlxdW++8887apk2bXFfzj3/8w9E+e+65p+v85odfffWVYzlpE68JWzPBYu5vf/7zn83VOl4l8S/zyN3VuQZ5xqW5DnmtUaOG9vXXX+ea1XWaecevfb+VH0fY1y3jktgtZli0aFHWOrwkTovZRq55GzRo4Niu3K3oZZAuaDPrbE/Yjhgxwvg8M2Ery8QxrtnrXGzCVpaNInZlxrpi4kCxy0ZRP3ub7LHHHo79TY5D80cguY41e3fJ5n4qca9KlSrGerz+yMhM2Aa930rvFfIMbnk2LgMCCCCAAAIIIIAAAggggAACCCCAAAIIIJAmgVQkbOVOvmKGNm3aWF9qz5o1q5hFPc+7evVqowtK80tweW3evHnBZJ99A1I2c3lJVJmD3OFpTjdf7c8mNOdze828A/iggw5ym934LOkJW7lbtpihZ8+eWc5enun69NNPO5Zr166dp83K81DN9jRfvSZszznnHMeyF154Yc5tmnfhSdfLuYZ33nlHk2fcmtuXV+nutJhhxowZ1vL2/VZ+LNGwYUPrM1m3lLuYITMZLusIOmEr5bZ7yPghhxziqdi52tSesDW70c2VsI1jXLNXupSEbRSxq9ikq72OxS4bRf3s5ZUfBWXuq/LerWvjSy+91LFMvXr1jPeFntVt3649YRvEfis/kundu7dVTukhQP4eMSCAAAIIIIAAAggggAACCCCAAAIIIIAAAmkRiFXCVp6fZ/+yWe5WyjfYvyCWO2a9Jm02bNhg3WErXcOuXbs23ybKnm4+O9Bep+uuu87Terds2aLJMz5l2VNOOSVrGXmOqn29++yzj7Z+/fqs+XJNePTRRx3L1qxZU5s9e3auWR3TbrvtNsdynTt3dnzu9kbuarOX9+KLL3ab3fGZPFvXvuwTTzzh+Dzfm1NPPdWxnKzj2WefzTe7Y/q0adOylpW7WKVdCg3Sba95h5psU8pfaLlVq1ZpmXdxyrJyx6uXQboutRvl64ZZEs4y37HHHpt3tZI8tK9L7tB7/fXX885v/0COry5duhjLn3baafaPjPGxY8c61i3HriSJvQxyd53c2Wovm4znunPQy/q8ziNtl/m8Z7mrvdCwbt06TY6RzPL+97//tRY1nzsq3Z7LkIS4ZhZeeiew103u5vQyhB27Mv+uHHnkkV6KacxTyrJh189eGemW2R57zPZx69pY7lg157O/FvNs9KD328zngpvlfPvtt+3VZxwBBBBAAAEEEEAAAQQQQAABBBBAAAEEEEisQKwStnJnjvlFrLzmuwtQtO1fEMu8hx12mKe7V4cMGWJtI99diH62pjw30F4nSRIXShpK98b9+vUzlpNnii5dujSrSJIMEh/7uuVuxZ9//jlrXvsE+YI7MwHq5a5RWUffvn0d25O7nKRLTS/D7rvv7ljWa9Lkp59+ciwn9b3jjju8bFLLlbCV56YuWLDAdXlJTu6www6O7cpd2cuWLXNdzv6h2ZW12T5uCU9JCGYmeczlxM1Ld9eZ3TfLXbK5utSVO6ll3dIVb75B9qHMLpa33XZbbebMmfkWMabLXeWSpJX1y5208vzWXMNFF13ksJVEda6y2peVdXfr1s2xnGn0wAMP2GcNZNysl7lNeX3xxRddt5VZT3NZe3fVxx13nFEnaT8ZkhLXpKyZif1mzZp5isFhx67MvysdOnSQ4nsaSlk27PplVkTu/jb3NfO1UNfGcgeuOa+8Vq9ePe/xm7k9eR/0fmseJ/YyyvhDDz2UqzhMQwABBBBAAAEEEEAAAQQQQAABBBBAAAEEEicQacJWukv93//+p02YMEGTrkMlOZn5hawkPf7zn/8YyRG5c9EcMr8gluUkobN48WJzFserJKHuv/9+TRKmMm/Tpk21FStWOOYJ4o1sN1fS9uabb855R6wkuU4++WTLwe0uJym/JKrtZvL+008/zaqKJFbly+06depY88uX8m7JroULF2rSxef48eO1G264wboz2b69E044QZM7XqdMmaJNnz7d2q7c9SjTpHvgCy64wNqmfdk//elPmtxxKdv48ccfjWXFS+5unTx5siZ3AufqllgSfLfffrtRrqlTp+ZMaMvKciVsZfuNGzc21m8V1jYi+2Lt2rUd5ZW7JPPtV7ZFHaN33nmnYx1yt7Q8PzZzkDtSzzjjDGNeSSafd955juWkvL169TLaTtoh1zrMdZp3ZJvG8t6e7DWfqyzHmeltLpv5KgnS448/3lEWSdDne86xdN+9yy67GPPL+u13kWauW7o3zdwnmjRpon3wwQeZsxrvpRvnjh07GuvObBupq5TrqquuMvY16Rr8hx9+yLmecibKvi13opu28ip3+0rZMge5W3rQoEHGvHJ3shwL9udmSzu/8cYbxvEh8Uj+yTIyxDmuSVyReP38888bP5qQJL7dQ8Yl/owaNUobN26cMa/UM9cQZOzy8ndFftwif1ckRskdpuZQzrLmOuQ1yPrZt5NrPLMbZy9dG2feoS8xp5gh6P32rLPOytrXZH+Tv+kMCCCAAAIIIIAAAggggAACCCCAAAIIIIBAGgQiTdjm+pI3MwFgfy/dU5qD/c4n6a7UfO6eJEPky3jpYlQSC5JMlDvBOnXqZH3hK3dLvvrqq+aqQnmVL5Yzk02SND799NO1v/71r5ok+CRRayZ2JJkq3UAWGjZu3KgNGDBAq1GjhlU/SQAdc8wxmnRhfO2112qXX365tvPOO1ufi6l06SrJTrch845ae1vkGpfklDnstttuju3lmt8+TZKrMuR6Xqh9vlzj+br7zEzYnnvuuYaLrEO6DT3iiCOMRKgkbR5//HFN7uIyE/rmdiRRYCbTzLp5eZUEudxFbK5HXuVZtn/5y180efan7JfSbuadbZJ0fO2114znxdqXyRw3nXKVQRKesk/Zl9lvv/2MH0NI18pmV6ny4wgvgyR7pctec5801yvdLV999dVGsuT666/Xunbtaq1b9isv3WvL9uV5m/b9VrbTp08fw0cS9vK8WtmPzTaRBPTcuXMd9TPLZH+VxHYQg8STzKStHKdyN7y06TPPPGP8sMFsA0loSpvKIP72MtrHxcEc4hzXMu+otdch37gk4vMNQcWuYv+u7LrrrlYRy1nWWsn/jQRVv8ztZL6XH3XYjyu3H/2Yy8oduPY2lHhYzBD0fiu9UtjLJ+Pyw5BCdw4XUwfmRQABBBBAAAEEEEAAAQQQQAABBBBAAAEEohSINGErd1BKwkOSrZJ0bd68uda2bVsjidWqVSsj+SRd00qiU76AticYJREpX9rK/N9++60md4NKgsxMSmV+uSvvZR2ynHRZGcXw/fffa9IdamZ3u/aySnJKEolen+tp1kOe7ykJwMyksH3dMi7dgQ4fPlyTZEKh4b777svZPpLgkLspJQksdxlKslFsu3fvbq1SuvKVBJwkreSO1pYtWxoJS1lWEpctWrQwpsvnMt9RRx1lLCvlknkkMSbrlfXLdmR7Ml3aW/YT6XJXEsSy/+TrYjozYSsJaOl+WJL5ZlIt00fey7YleVvu8xElaSvJ+Mznn2ZuU7oflkSkDIMHD85KTNjnL9SVtNwh+Nvf/jbvOqRL8GIH2bfkbmjxtpfFPi7tf+aZZ7reAZxru17WLXdUS+JY7kaWu+zt2801HlTCVsovseaWW24x9t9c2zanyZ3n77//vlVliTny4wx7fJK4d4N+57p9iHNck4StdLUtd+lLm0gXyBKn5diUuCI/PpBxOdbl+JSEWqH9Verud+wy/67I/irlMP+umHFLyieJZPlxj+y39h9BlLOsvR3t437Xz77ufOO9e/c2jhOpn/zd8TL06NHDWEZc1qxZ42URa54w9lu5c1ie1S5/I/fYY4+8vSRYhWIEAQQQQAABBBBAAAEEEEAAAQQQQAABBBBIkEAVKaueZEjcoCc0lX5Xm9Lv7FH6F/JW+T/++GOld6mr9MSV0hM8Sk/MKb07VaXfYav0ZILSk3HWvFGNrF27Vs2fP19JWeWffgen2mmnnZSeSFB68s54LbVsele26qOPPjL+6UlsY916ckLpyRWlJ1QNi1LXnbTl9OeOKr1LZqvYesJW6V/6G+/1ZKrSu3c1nD777DOlJ42NNtATwuo3v/mN0hPJ1nLljuhJYqU//1Xpz2lV+nNwlX4HnNITKUq2pd8Bq/Tn3Vqb0JONSu9+V+lJXqUnm7JeZZqUtdDw4YcfKv25qGrJkiVKT4Irvbtwo16yH5Q6yL6lJyGV7Fey38p+LOvTk3ZKT7grPYlX6qqVfme14WOuW9pHv1vXOGalPfTkn7FuCVd33323sV+Lhd3IfK8nnJSeGC25LF4W1O8+VnpXukrvJlh9/vnn6ptvvlH6DwyUnrhU+h3HeY8zvWttpT9DWenJRNWlSxelP0/asbkkxzVHRUp4k/bYFWb9ZL/Uf3BjHPf6DwU8tYYc23q36Uq/q904nj0t9H8zVfJ+W4wT8yKAAAIIIIAAAggggAACCCCAAAIIIIAAAvkEEpuwzVchpiNgCrglbM15eEUAAQQQQAABBBBAAAEEEEAAAQQQQAABBBBAAAEEEEAgSgEStlHqs+1ABUjYBsrLyhFAAAEEEEAAAQQQQAABBBBAAAEEEEAAAQQQQAABBHwQIGHrAyKriKcACdt4tgulQgABBBBAAAEEEEAAAQQQQAABBBBAAAEEEEAAAQQQ2CpAwnarBWMpEyBhm7IGpToIIIAAAggggAACCCCAAAIIIIAAAggggAACCCCAQAoFSNimsFGp0q8CvXv3Vs8++6zFcfHFF6vRo0db7xlBAAEEEEAAAQQQQAABBBBAAAEEEEAAAQQQQAABBBBAIGoBErZRtwDbD0zg0EMPVa+++qq1/hNPPFGNGzfOes8IAggggAACCCCAAAIIIIAAAggggAACCCCAAAIIIIAAAlELkLCNugXYvu8CGzZsUP/73/+U3GG7ceNGa/3bbruteu6559RBBx2katSoYU1nBAEEEEAAAQQQQAABBBBAAAEEEEAAAQQQQAABBBBAAIGoBEjYRiXPdn0XkETsnDlzjCTtli1b8q6/WrVqRsJ24MCB6rbbbss7Hx8ggAACCCCAAAIIIIAAAggggAACCCCAAAIIIIAAAgggELQACdughVl/aAL77LOPmjt3ruft9ezZU02bNs3z/MyIAAIIIIAAAggggAACCCCAAAIIIIAAAggggAACCCCAgN8CJGz9FmV9kQlMnz5drV+/XtWqVcv4V7NmTSX/qlatqn755Re1adMmJd0lm//q16+vunfvHll52TACCCCAAAIIIIAAAggggAACCCCAAAIIIIAAAggggAACJGzZBxBAAAEEEEAAAQQQQAABBBBAAAEEEEAAAQQQQAABBBBAAIGIBEjYRgTPZhFAAAEEEEAAAQQQQAABBBBAAAEEEEAAAQQQQAABBBBAAAEStuwDCCCAAAIIIIAAAggggAACCCCAAAIIIIAAAggggAACCCCAQEQCJGwjgmezCCCAAAIIIIAAAggggAACCCCAAAIIIIAAAggggAACCCCAAAlb9gEEEEAAAQQQQAABBBBAAAEEEEAAAQQQQAABBBBAAAEEEEAgIgESthHBs1kEEEAAAQQQQAABBBBAAAEEEEAAAQQQQAABBBBAAAEEEECAhC37AAIIIIAAAggggAACCCCAAAIIIIAAAggggAACCCCAAAIIIBCRAAnbiODZLAIIIIAAAggggAACCCCAAAIIIIAAAggggAACCCCAAAIIIEDCln0AAQQQQAABBBBAAAEEEEAAAQQQQAABBBBAAAEEEEAAAQQQiEiAhG1E8GwWAQQQQAABBBBAAAEEEEAAAQQQQAABBBBAAAEEEEAAAQQQIGHLPoAAAggggAACCCCAAAIIIIAAAggggAACCCCAAAIIIIAAAghEJEDCNiJ4NosAAggggAACCCCAAAIIIIAAAggggAACCCCAAAIIIIAAAgiQsGUfQAABBBBAAAEEEEAAAQQQQAABBBBAAAEEEEAAAQQQQAABBCISIGEbETybRQABBBBAAAEEEEAAAQQQQAABBBBAAAEEEEAAAQQQQAABBEjYsg8ggAACCCCAAAIIIIAAAggggAACCCCAAAIIIIAAAggggAACEQmQsI0Ins0igAACCCCAAAIIIIAAAggggAACCCCAAAIIIIAAAggggAACJGzZBxBAAAEEEEAAAQQQQAABBBBAAAEEEEAAAQQQQAABBBBAAIGIBEjYRgTPZhFAAAEEEEAAAQQQQAABBBBAAAEEEEAAAQQQQAABBBBAAAEStuwDCCCAAAIIIIAAAggggAACCCCAAAIIIIAAAggggAACCCCAQEQCJGwjgmezCCCAAAIIIIAAAggggAACCCCAAAIIIIAAAggggAACCCCAAAlb9gEEEEAAAQQQQAABBBBAAAEEEEAAAQQQQAABBBBAAAEEEEAgIgESthHBs1kEEEAAAQQQQAABBBBAAAEEEEAAAQQQQAABBBBAAAEEEECAhC37AAIIIIAAAggggAACCCCAAAIIIIAAAggggAACCCCAAAIIIBCRAAnbiODZLAIIIIAAAggggAACCCCAAAIIIIAAAggggAACCCCAAAIIIEDCln0AAQQQQAABBBBAAAEEEEAAAQQQQAABBBBAAAEEEEAAAQQQiEiAhG1E8GwWAQQQQAABBBBAAAEEEEAAAQQQQAABBBBAAAEEEEAAAQQQIGHLPoAAAggggAACCCCAAAIIIIAAAggggAACCCCAAAIIIIAAAghEJEDCNiJ4NosAAggggAACCCCAAAIIIIAAAggggAACCCCAAAIIIIAAAgiQsGUfQAABBBBAAAEEEEAAAQQQQAABBBBAAAEEEEAAAQQQQAABBCISIGEbETybRQABBBBAAAEEEEAAAQQQQAABBBBAAAEEEEAAAQQQQAABBEjYsg8ggAACCCCAAAIIIIAAAggggAACCCCAAAIIIIAAAggggAACEQmQsI0Ins0igAACCCCAAAIIIIAAAggggAACCCCAAAIIIIAAAggggAACJGzZBxBAAAEEEEAAAQQQQAABBBBAAAEEEEAAAQQQQAABBBBAAIGIBEjYRgTPZhFAAAEEEEAAAQQQQAABBBBAAAEEEEAAAQQQQAABBBBAAAEStuwDCCCAAAIIIIAAAggggAACCCCAAAIIIIAAAggggAACCCCAQEQCJGwjgmezCCCAAAIIIIAAAggggAACCCCAAAIIIIAAAggggAACCCCAAAlb9gEEEEAAAQQQQAABBBBAAAEEEEAAAQQQQAABBBBAAAEEEEAgIgESthHBs1kEEEAAAQQQQAABBBBAAAEEEEAAAQQQQAABBBBAAAEEEECAhC37AAIIIIAAAggggAACCCCAAAIIIIAAAggggAACCCCAAAIIIBCRAAnbiODZLAIIIIAAAggggAACCCCAAAIIIIAAAggggAACCCCAAAIIIEDCln0AAQQQQAABBBBAAAEEEEAAAQQQQAABBBBAAAEEEEAAAQQQiEiAhG1E8GwWAQQQQAABBBBAAAEEEEAAAQQQQAABBBBAAAEEEEAAAQQQIGHLPoAAAggggAACCCCAAAIIIIAAAggggAACCCCAAAIIIIAAAghEJEDCNiJ4NosAAggggAACCCCAAAIIIIAAAggggAACCCCAAAIIIIAAAgiQsGUfQAABBBBAAAEEEEAAAQQQQAABBBBAAAEEEEAAAQQQQAABBCISIGEbETybRQABBBBAAAEEEEAAAQQQQAABBBBAAAEEEEAAAQQQQAABBEjYsg8ggAACCCCAAAIIIIAAAggggAACCCCAAAIIIIAAAggggAACEQmQsI0Ins0igAACCCCAAAIIIIAAAggggAACCCCAAAIIIIAAAggggAACJGzZBxBAAAEEEEAAAQQQQAABBBBAAAEEEEAAAQQQQAABBBBAAIGIBEjYRgTPZhFAAAEEEEAAAQQQQAABBBBAAAEEEEAAAQQQQAABBBBAAAEStuwDCCCAAAIIIIAAAggggAACCCCAAAIIIIAAAggggAACCCCAQEQCJGwjgmezCCCAAAIIIIAAAggggAACCCCQTIHNmzerIUOGqBEjRqiuXbuqmTNnJrMilBoBBCpagFhW0c1P5RFAAAEEYiZAwjZmDUJxEEAAAQQQQAABBBBAAAEEEEAgvgJLly5VZ555pnrrrbeMQjZq1EgtW7YsvgWmZAgggEAOAWJZDhQmIYAAAgggEKEACdsI8dk0AggggAACCCCAAAIIIIAAAgjEX2DTpk1q0qRJ6p///KeaOHGikvfmQMLWlOAVAQTiLkAsi3sLUT4EEEAAgUoWIGFbya1P3RFAAAEEEEAAAQQQQAABBBBAIEvgqaeeUpMnT1Y//vij+vjjj9XixYsdSVr7AiRs7RqMI4BAnASIZXFqDcqCAAIIIICAuwAJW3cfPkUAAQQQQAABBBBAAAEEEEAAgQoTuOyyy9TIkSOzat2xY0f1008/qW+//db6jIStRcEIAgjETIBYFrMGoTgIIIAAAgi4CJCwdcHhIwQQQAABBBBAAAEEEEAAAQQQqDyBOXPmqGHDhqm6deuqJk2aqE6dOqlu3bqpDh06qIsuukg99NBDFgoJW4uCEQQQiJkAsSxmDUJxEEAAAQQQcBEgYeuCw0cIIIAAAggggAACCCCAAAIIIICAXYCErV2DcQQQSKoAsSypLUe5EUAAAQTSKkDCNq0tS70QQAABBBBAAAEEEEAAAQQQQMB3AZIcvpOyQgQQiECAWBYBOptEAAEEEEDARYCErQsOHyGAAAIIIIAAAggggAACCCCAAAJ2AZIcdg3GEUAgqQLEsqS2HOVGAAEEEEirAAnbtLYs9UIAAQQQQAABBBBAAAEEEEAAAd8FSHL4TsoKEUAgAgFiWQTobBIBBBBAAAEXARK2Ljh8hAACCCCAAAIIIIAAAggggAACCNgFSHLYNRhHAIGkChDLktpylBsBBBBAIK0CJGzT2rLUCwEEEEAAAQQQQAABBBBAAAEEfBcgyeE7KStEAIEIBIhlEaCzSQQQQAABBFwESNi64PARAggggAACCCCAAAIIIIAAAgggYBcgyWHXYBwBBJIqQCxLastRbgQQQACBtAqQsE1ry1IvBBBAAAEEEEAAAQQQQAABBBDwXYAkh++krBABBCIQIJZFgM4mEUAAAQQQcBEgYeuCw0cIIIAAAggggAACCCCAAAIIIICAXYAkh12DcQQQSKoAsSypLUe5EUAAAQTSKkDCNq0tS70QQAABBBBAAAEEEEAAAQQQQMB3AZIcvpOyQgQQiECAWBYBOptEAAEEEEDARYCErQsOHyGAAAIIIIAAAggggAACCCCAAAJ2AZIcdg3GEUAgqQLEsqS2HOVGAAEEEEirAAnbtLYs9UIAAQQQQAABBBBAAAEEEEAAAd8FSHL4TsoKEUAgAgFiWQTobBIBBBBAAAEXARK2Ljh8hAACCCCAAAIIIIAAAggggAACCNgFSHLYNRhHAIGkChDLktpylBsBBBBAIK0CJGzT2rLUCwEEEEAAAQQQQAABBBBAAAEEfBcgyeE7KStEAIEIBIhlEaCzSQQQQAABBFwESNi64PARAggggAACCCCAAAIIIIAAAgggYBcgyWHXYBwBBJIqQCxLastRbgQQQACBtAqQsE1ry1IvBBBAAAEEEEAAAQQQQAABBBDwXYAkh++krBABBCIQIJZFgM4mEUAAAQQQcBEgYeuCw0cIIIAAAggggAACCCCAAAIIIICAXYAkh12DcQQQSKoAsSypLUe5EUAAAQTSKkDCNq0tS70QQAABBBBAAAEEEEAAAQQQQMB3AZIcvpOyQgQQiECAWBYBOptEAAEEEEDARYCErQsOHyGAAAIIIIAAAggggAACCCCAAAJ2AZIcdg3GEUAgqQLEsqS2HOVGAAEEEEirAAnbtLYs9UIAAQQQQAABBBBAAAEEEEAAAd8FSHL4TsoKEUAgAgFiWQTobBIBBBBAAAEXARK2Ljh8hAACCCCAAAIIIIAAAggggAACCNgFSHLYNRhHAIGkChDLktpylBsBBBBAIK0CJGzT2rLUCwEEEEAAAQQQQAABBBBAAAEEfBcgyeE7KStEAIEIBIhlEaCzSQQQQAABBFwESNi64PARAggggAACCCCAAAIIIIAAAgggYBcgyWHXYBwBBJIqQCxLastRbgQQQACBtAqQsE1ry1IvBBBAAAEEEEAAAQQQQAABBBDwXYAkh++krBABBCIQIJZFgM4mEUAAAQQQcBEgYeuCw0cIIIAAAggggAACCCCAAAIIIICAXYAkh12DcQQQSKoAsSypLUe5EUAAAQTSKkDCNq0tS70QqCCBKVOmqJ9//lkdc8wxFVRrqooAAgggkBQB+Rs1ZswYddxxx6kWLVokpdiUMwYCnOPEoBFiUARiSAwaIaMIffr0UY8//rg1ddttt1WrVq2y3jOyVYA4ttWi0seIZfHbA4hl3tqEOObNqRLmIo5VQitTRz8F4hA/k3bckrD1cw9kXQggEKqABNy+ffuqhx9+WLVp00YtWbIk1O2zMQQQQAABBLwITJ8+XR122GGqbt266t///reRuPWyHPNUrgDnOJXb9rlqTgzJpRLdtF9++UV16dJFzZs3z1GIxYsXq7Zt2zqmVfIb4lglt37uuhPLcrtENZVYVlieOFbYqNLmII5VWotT31IF4hQ/k3bckrAtda9jOQQQ8CQgFwFr165V8qvzKlWqeFrGy0zr169Xp59+upowYYKqVq2aGjduHF+Ae4FjHgQQQACB0AW2bNmizjnnHPXEE0+o6tWrG3fbnnfeeaGXgw36JxDU+Y2UkHMc/9opLWsihkTTkj/99JN67733lKZpRm8+q1evVosWLTKuO2bOnJlVqNatWxvXJ5LM3X777dU222yjqlatqrp3726MZy0Q8QTiWMQNUIGbJ5ZF0+hpjmXEsWj2qUreKnGsklufunsViNv1bOKOW/3igwEBBBDwTeCzzz7T7rvvPu3EE0/UGjdurOlJWk0P6FqDBg20U045RdN/eV72tvRf6WhHH320sV5Z99///vey18kKEEAAAQQQCFJg06ZN2gEHHGD97dLvtA1yc6zbZ4Ewzm+kyJzj+NxwKVodMST8xnz55ZetmC3XHKX+u+GGG8IvfI4tEsdyoDApdAFiWejkWppiGXEs/P2HLWYLEMeyTZiCgCkQ1+vZJB233GGrX3UxIIBA+QJffPGFuvXWW43uiTdv3px3hQ0bNlQzZsxQHTp0yDtPoQ+uvPJKdffddxuzXXHFFWrYsGGFFuFzBBBAAAEEIheQv5Vy59UPP/ygateurV577TW17777Rl4uCpBfIMzzGykF5zj524JPlCKGhLsXyONWunXrZtxdW6dOHVWjRg2jlwTp3UfunLX3HqR/SWXciSu/4JdrIfm3YcMGtWbNGnXJJZeoESNGhFt429aIYzYMRmMhQCwLtxnSEMuIY+HuM2ytsABxrLARc1SmQJyvZ5Ny3JKwrcxjh1oj4JuAdHc8ZMgQNWrUKKX/WsXTes844wzjGX6eZs6Y6fHHH1d9+vQxpsrzAKdOnWp8YZIxG28RQAABBBCIpcCUKVNUr169lHyp37x5czVr1iy10047xbKslVyosM9vxJpznEre47zXnRji3arS5ySOVfoeEO/6E8vi3T5xKR1xLC4tQTlyCRDHcqkwrZIFgrielR9BSt5BfvzYtWtXleuxJMWYJ+G4JWFbTIsyLwIIOATmzZtnPKfpo48+sqbr3SAbdw7Jr8zzDfI8J+nPXn6dXsywYMEC404k+bW6/Mp9/vz5qm3btsWsgnkRQAABBBCIXOCmm25SN954o1GOnj17qmnTpkVeJgqwVSDs8xvZMuc4W/0ZKyxADClsVOlzEMcqfQ9IRv2JZclop6hKSRyLSp7tFiNAHCtGi3nTLBDE9ezSpUvVmWeeqd566y2DrlGjRmrZsmVlM8b+uDX7l+YVAQQQKEZA/0WKVq9ePetZTs2aNdPefPNNYxXLly/X9F/VOD7Xo6k1r4x/+umnxWzOmPeII46w1jF8+PCil2cBBBBAAAEE4iDwyy+/aN27d7f+pvE82zi0yq9liOL8RrbMOU589oEklIQYkoRWiq6MxLHo7NlycQLEsuK8Kmlu4lgltXay60ocS3b7UXr/BPy6nt24caM2btw47aSTTtL0x5FY35lILkFP2PpS4Lgft9xhW3ZOnhUgUHkCY8eONX7hYnaBLM9zki4d99xzTwfGf//7X3XiiSc6pplv5s6dq/baay/zbcHX8ePHqxNOOMGYb+edd1byHJZi79AtuBFmQAABBBBAICSBiRMnqmOPPdbYmnSNvHDhQlW3bt2Qts5mcglEcX4j5eAcJ1drMK2QADGkkFBlfk4cq8x2T3KtiWVJbr1gyk4cC8aVtQYnQBwLzpY1J0OgnOvZp556Sk2ePFn9+OOP6uOPP1aLFy/O+8hFv+6wFdVYH7e+pKVZCQIIVIyAnpjVatWq5fiFy5133pm3/rvssotjXj0mGu/1AJx3mcwP5Nc19vUMHTo0cxbeI4AAAgggkCgB/Rm2WufOna2/kddcc02iyp+2wkZxfiOGnOOkbU8Krz5JjCHffvutJrHu1VdfDQ+qgrZEHKugxk5RVZMWy4hjwe58xLFgfVl7MAJJi2PBKLDWShUo93p2wIAB1nciZs5AXjt27Kg1bdrU8Zlfd9hKW8X5uFWVujNRbwQQKF5A/7WL1qJFC0ewPOSQQzTpSiDf0KdPH8f8EnRbtWplBMZ8y2ROv+uuu6x11K5dW/vhhx8yZ+E9AggggAACiRN46KGHrL9v0t2P3ntE4uqQhgJHdX4jdpzjpGEPiq4OSYshF1xwgRHz9N4EokNL6ZaJYylt2AqpVpJiGXEsuJ2SOBacLWsOXiBJcSx4DbZQSQLlXs/Onj1b059Tq1100UXakCFDtMcee0z76KOPDMILL7zQ+r5E8gl+JmxlA3E9bknYVtIRRF0RKFPgkksucQTKqlWranp3Ba5rPf300x3LVK9eXdO7uHFdxv7h5s2btZ122slahwRrBgQQQAABBNIgIL9Gtf+NGzx4cBqqlbg6RHF+I0ic4yRuV4ldgZMWQ44//njrnH7Dhg2x80xygYhjSW49yp6kWEYcC25/JY4FZ8uagxdIUhwLXoMtVIpA0NezQSds43rckrCtlCOIeiJQpsA777yjSYLW3j1B7969C661a9eu1jJyN+6cOXMKLmOfYcKECdbysm392bf2jxlHAAEEEEAg0QK333679XdOkrdy0cMQnkBU5zdSQ85xwmvnNG8pSTHEnuhYv359mpsl1LoRx0LlZmMBCSQllhHHgtkBiGPBuLLWcAWSEsfCVWFraRYI+no26ISttE0cj9sqUjA9CcKAAAIIuAroyVn17LPPOuZ5++23Vbdu3RzTMt+MGDFCrV69Wh1++OGqR48emR8XfH/yySercePGGfPpCV81ffr0gsswAwIIIIAAAkkR+Prrr1Xz5s2t4j733HPqhBNOsN4zEqxAVOc3UivOcYJt20pZe5JiiMS28ePHG02jJ2xVrVq1KqWZAq0ncSxQXlYekkBSYhlxLJgdgjgWjCtrDVcgKXEsXBW2lmaBoK9n9W6Sld5tsUWod4msli1bZr33YySOxy0JWz9alnUgkHKBpUuXqvbt2yv9WbVWTQ899FD1yiuvWO+DGJEgLF9i63cbGasfNWqU6tevXxCbYp0IIIAAAghEJrDLLruoxYsXG9s/9thjlf5L1cjKUkkbjur8Row5x6mkPS34uiYlhpDo8H9fII75b8oaoxNIQiwjjvm/fxDH/DdljdEJJCGORafDltMkEMb1bBgJW2mTuB23JGzTdKRQFwQCEvjTn/6k/va3vznWLnfbyi9pghwefPBB1b9/f2sTenfIaq+99rLeM4IAAggggEAaBM477zz16KOPGlXRn/WuVqxYoerVq5eGqsW6DlGd3wgK5zix3jUSV7ikxBASHf7vWsQx/01ZY3QCSYhlxDH/9w/imP+mrDE6gSTEseh02HKaBMK4ng0rYRu345aEbZqOFOqCQAACK1euVC1btjS6NTZXv+2226rvv/8+8G7MzjzzTPXkk08am61Tp45atWqVqlatmlmMsl6XL1+uGjRooKpUqVLWetK8MEbeWhen/E6bNm1Sa9euVTvssEP+mWyfrFmzxjgm69ata5taGaNYeWvntDpJNz9yMWIOU6ZMUUceeaT5ltcABKI8v5HqBHWOw98k952FGOLuE/SnJDr8FSaO+euZlLWlNY6JfxLOh4hj/h4paY1josQ5Wf59hTiW34ZPEEiKQFDXs/b6h5Wwjd35hzzDlgEBBBDIJzBs2DB5zrXj39lnn51vdl+n690hW9s96KCDyl73/PnzNb2rSa1+/frGevUkknbMMcdoCxYsKGrdEydO1G6++WZt0qRJRS2XhJkx8tZKOLk7vf/++9phhx2m1axZ0zjW9B95aAMGDND0uwazFnzvvfe03//+91qLFi2s471Zs2bGtEWLFmXNn7YJWHlr0bQ7LVy40Nr/5W/udddd5w2GuUoWiPL8Rgrt5zkOf5MK7wbEkMJGYcxx/PHHW7FOf4ZtGJtM9TaIY9nNm+brtLTHMWnNJJwPEceyj7typqQpjokD52TuewNxzN2HTxFIkoCf17P56n3hhRda1w7yPYn+DNt8s5Y1PW7nH6qs2rAwAgikXmCfffZxBEcJkOPHjw+83vqz/BzbHTRoUFnbfOGFFzS9m0ljnXo3k9quu+5qrV8C/pw5czyt/5ZbbrGWE4u3337b03JJmAkjb62Ek7vTRx99pEmCVo6P2rVrG/9kXP41adJE++STT4wV6M/E1gYOHGgdT/rd81qHDh20xo0bW9O22WYbTS7i0zpg5a1lK8VJjg/zWNGfE+8Nh7lKFojq/EYK7Oc5Dn+TCu8CxJDCRmHNQaLDX2nimNMzzddplRLHpEXjfj5EHHMed+W+S0scEwfOydz3BuKYuw+fIpAkAT+vZ93qHVbCVsoQp/MPErZuewWfIVDhAnJ3m/nlsfkqd6du3LgxcJnHHnvMsW29a+SStykJou23395Yn94vvbZu3TpjXQcffLC1DS9fjm/ZssURwMXk6aefLrlccVoQI2+tgVNhJ7kbXo6N7t27a3oXx8Y/vVt161iTY1Duqundu7cxrUaNGtr1119v3X0rx9lVV11lzS/reuSRRwpvOIFzYOWt0SrFSX8uvLXf16pVS/v555+9ATFX0QJRnt9IYf06x+FvkremJ4Z4cwpjLhId/ikTx5yWab5Ok5pWShyTusb9fIg4Jq3kz5CWOCYanJMV3ieIY4WNmAOBpAj4dT1bqL5hJmzjdP5BwrbQnsHnCFSwwB133GF9eWwmbE8//fRQRKQ7SHOb8rpkyZKStisJo912281YlwR6+yDdI5vbkKSRmci1z2Mfl+5bzPnN17lz59pnSeQ4Rt6aDafCTtOnTzeOEf0ZtNrXX39tLXDaaac5jp127doZ7yWR+84771jz2Uf2339/axm50/bLL7+0f5z4cay8NWElOV199dXWPi9/Yz799FNvSCXOJXe5f/fdd8axKsdrVP8K/e0tsXqui0V5fiMF8+Mch79Jrk1sfUgMsShiMUKiw79mII45LdN6nSa1rKQ4JvUN+3xItlnMQBwrRst93jTEMakh52Tu7SyfEseCva4r3ALMgYC/An5cz3opUZgJ2zidf5Cw9bJ3MA8CFSrQrVs3x5fH8gWy/iDuUDTkOblmUlReN23aVNJ277nnHmM9khhauXKlYx3t27d3bCNf4shc6P7773fM36BBA01+zZ30ASNvLYhTYSf5QYccr/369XPMbE63H9NyTEo3KvkGiTX2+YcMGZJv1kRON02wcm++SnIaOnSoY59/5ZVX3HHK+PSbb77R5G+Y/RiLcvyBBx4oozbFLxrl+Y2U1o9zHP4meWt3Yog3p7DmItHhnzRxzGmZ1us0qWUlxTGpb5jnQ7K9YgfiWLFi+edPQxyT2nFOlr+NzU+IY8Fd15nGvCIQpoAf17NeyhtmwjZO5x8kbL3sHcyDQAUKfPbZZzm/yP3iiy9C0ejRo4e1/Tp16pS0TelOsk2bNsZ6MhPN0mVN5pfThe5myrxL8MQTTyypXHFaCCNvrYFTYSfp5ljurJXjKvPHD/vuu6/jeJM72uUZNm7DzJkzHcvIs23TMmDlrSUrzWn06NGOff7hhx/2BlXCXM8//7xjW5l/D8N+f8UVV5RQi9IWifr8Rkpd7jkOf5O8tT0x5GFvUCHORaLDH2ziWLZjGq/TpJaVFsekzmGeD8n2ih2IY8WK5Z4/DXFMasY5We72tU8ljiktyOs6uzXjCIQlUO71rNdyhpmwjdP5Bwlbr3sI8yFQYQKjRo3K+jK3U6dOoSnYn3nZrFmzkrb73HPPGXWQJNLq1asd67j11lsd9dthhx006R7Sbdhxxx0dy/ztb39zmz3rM+nSVU7o4zTExWjFihWa3PEV1zuW4+IkXYd+/vnnJd9xHuS+9+KLLxrHR9OmTR2bkWOvevXqjmNn0KBBjnlyvVmwYIFjGUkgffvtt7lmzTstjsecFDYuVnE/7uLiJG0WxrH3zDPPOPb5G2+8UTYdyLB27VpN1n/BBRdo5557bmT/5JnWkqxdtmxZIPXMtdKoz2+kTOWe48Tlb5LpS6w1Jdxfg3YKM4a41zT/pyQ68tsU8wlxLFurnOu0OJ8PxelcKCynuMcy4lj28VfKlDTEMal3XM7JwrhWKaWdZZk4xbGwnOIex0ptS5ZDwBQo93rWXE+h1zATtnE6bknYFtoz+ByBChU46aSTHF8cS7LksssuC01j++23t7ZfaqJYvoSWcssXwplDx44drfXLPBdddFHmLI73uZJH7733nmOefG/ki2i5G1e2k9n9ab5lwpoeldHmzZu1kSNHasccc4zji+uaNWtqu+66q3bOOedob7/9dlgMBbcTlZP8GnXMmDHG3VhNmjSx9llJgIqTPIf5P//5TywS3ddee61RPmk7+2BeoMn+L//kebTLly+3z5Jz/LXXXrPqay775ptv5pw3c2Kcjzkpa1RWSTvuonKSNori2Js2bZpjn/fywwYpK0NxAlGf30hpyz3HiepvUqY0sVZpXv4uheWUhBhCoiPzKCrtPXHM6VbsdVqSzoeiPBeKyinusYw45jz+Sn2XhjgmdY/qnCyKa5VS2zrKOBaVU9zjWKltyXIImALlXs+a6yn0GmbCNk7HLQnbQnsGnyNQgQJyp6k9+JrJEulCMaxBukw1t3vggQeWtNkjjjjCWIckfuyDJALNdZuvb7zxhn2WrHF5vp45r7w2bNjQNUkmd4rOmzdPGzx4sGb/xffJJ5+cte4oJ0RhNGPGDG3PPfc0PKtUqaJ16dJFO+qooxyJW9P64IMP1r7//vsoiYxtR+E0ffp0rVGjRoaT3AEuz33561//ajwj5/zzz9dq1apl7ZPS5fDrr78eqZP8MELaTRLI9sG8QDPbtHv37vaP844/+eSTVv3MZeUXb/mGpBxzUv4orJJ43EXhJO0T1bE3d+5cxz7fv39/KQ6DjwJxOL+R6pR7jhPF3ySzGYi1v/74qNDfpSickhBDSHSYR1Lpr8SxbLtirtOSdj4U1blQlE5xj2XEsexjsNgpaYljUu8ozsmiulYptp3N+aOKY1E6xT2OmW3DKwKlCpR7Pet1u2EmbON03JKw9bqHMB8CFSQwa9Ysx5fG8qWU3NG3atWqUBTk17zmF2HyevTRR5e0Xel67t13381a9tJLL3Wsv3379lnzZE7IfC5SrsSrPANX+vHffffdNXnurr0O5niu5TK3Feb7sI3mzJmjyV204iFdcWY+N1jKc9xxxzns9thjj1C7y8zlH7aTPL+1Xr16WrVq1bQ77rhDk+5LMwex22mnnSwrmd/rXd+Z6/LjvdxBJM+ulQtw+7D//vtbZZR2HzJkiP3jvON/+ctfHMvJspMmTXLMn8RjTioQtlVSj7uwnaRtojz25Bnx5t8Kec28W13Kx1CeQNTnN1J6P85xwv6bRKz9db8r9HcpaqegY4g84mC//fYzftS57bbbaqX8sz8ioZTlZZnttttO23nnnbWxY8eWFxByLD179mztN7/5TSj/vNydnaOIGnEsW8XLdZoslcTzoSjOhaJ2CjKWVUIck339d7/7XShx7J577pHNFT2kJY5JxcM+J4vyWqXohv6/BaKIY1E7BRnHSm0HlkPALwE/rme9liXMhG2cjlsStl73EOZDoIIE5C4++5fGMn7QQQeFJiDPlbBvX7rL8WuQZ8g2btzYsf6bbrqp4Ortd8lK2e69996sZczuuKTL19atW2vyh+XZZ5/VJOFo1ueUU07JWi5uE4IykoS/JMfz+ZkOclfK1VdfbZnJ/HvttVdoPxgwy1HoNSgn2a69i6jbbrstb1Hkrndz35JX+SI1ToO0uf3LWSnjlClTPBXR/LWyvX7yizf7kJZjTuoUlFXajrugnMz9Kspj78cff3Qcz5dffrlZLF59Eoj6/EaqEdQ5TpB/k4i1v+6Ahf4uRe0UdAwxn9Nn/7sc5fgf/vAHnyLD1tXIOUpYdZowYcLWDRcxRhzLxvJynZam86Egz4Xi4BRkLKuEOCZHSO3atUOJZYUeK5V9tP46Jc1xTGoY5DlZlNcq+dqzlOlBxjEpT9ROQcaxUrxZBgE/BYK6ns1VxjATtnE6bqsIhn5RwoAAAghYAvoXUmrq1KnWexnRfz2pBg4c6JgW1Bs9Yaf0Owut1f/2t79V+nMwrffljLzyyiuqZ8+ejlUsWbJEtWnTxjHN/ubDDz9UnTt3tk9SenfHSk/EOqbJG/3kXOkJKsd0Pdmt9G6ljGl6wlbp3bo6Po/bm6CM9O7K1B//+EfVokULpf9yW+mJ87xV37Rpk2G+ePFia56//e1vSn+OsvU+6pGgnPQ7VJXe5bZauXKlVcVvvvlGNW3a1Hpvjui/Elf169eXH18Zk6pWrar058MqvUtzc5ZIX+W47dWrl1UG/ccMasWKFapu3brWtFwjEgP0bqCVfiHn+Fj/da7Su4l2TEvDMScVCsoqbcddUE7SBlEfe/ov9FXLli2lKMagdx+mHn74YfMtrz4IRH1+I1UI6hwnqL9JJjux1tvfpSidgo4h+pcYxnnc559/buzH5r5RzKt+V6k1u/4jMyXnLaUMcp40YsQItcsuu5SyeN5lvv76a6X35pH3cz87rtJNAAAyBUlEQVQ/kOsbe8z3um7imFPK63Vams6HgjwXioNTkLGsEuKYHCGPPPKI8b2E82jx/13Hjh2VfNdR7JDmOCYWQZ2TRX2tUmw7u80fZByLg1OQcczNlc8QCEMgqOvZXGXXfxikHnroIesj+T5QvhcMYojVcZsre800BBCoXAHpJsjsslYPgMYvM+U5o/qXM6Gi2MtwwAEH+LbtzO6Q5dmfhQb9wtVwMD3kuaL6H6hCi1mfSzfJ5rJJuMM2KKOzzz7bcpDu7PRkrGWUa2TUqFHW/OLn536Qa3vFTgvKSU9WZ/0qWv9RQd7i6clPh9PHH3+cd96wP8i8U9rr82ulS0LzmDFf9R9VeC5+0o45qVhQVmk77oJykjaI+th7//33Hft9EHePST0rdYjL+Y34B3GOE9TfJLf9hVjr7e9SWE5JiCE8+9HtiCr8GXEs28jrdVqazoeCPBeKg1PcYxlxLPs4LGZK2uOYWAR1Thb1tUox7Vxo3iDjWByc4h7HCrUPnyNQSCCI69lc2wzzDts4Hbd0iZxrb2AaAhUsIF34mgkS81We5RT2oN9dZ5WjU6dOvm1euio26yWvXrpDznwuUrFJ17C+qPMLKSgj/Re4Dvvhw4e7Fvmtt95yzC+J8jgNQTlJHfU7ka26uz33WL8TxJpP9md5jq3+i9LYMEkXzfbjzevza2+55RbHcrKOAQMGeK5X0o45qVhQVmk77oJyMneuKI89vScGx35/5ZVXmsXi1QeBuJzfSFWCOMcJ8m9SPn5irbe/S2E5JSGGkOjIdzR5m04cy3byep2WpvOhIM+F4uAU91hGHMs+DouZkvY4JhZBnpNFea1STDsXmjfIOCbbjtop7nGsUPvwOQKFBIK4ns21zTATtnE6bknY5tobmIZABQuceuqpji+MJVEiz8kMe2jbtq1VjmbNmvmyeb17A2udZhJJ75q34Lozn4s0cuTIgsvYZwjrizr7NksdD9LoqKOOcvjLL+LdBrmr1GwneZVnocZlCNLJrOO7776ryfPw3Ib//Oc/DqMoflyRr3x6l86a3rW5o3yTJ0/ON7tjutxNbW97GX/ppZcc87i9SdIxJ/UI0ipNx12QTvb9Kapjb+LEiY79Xn64ENSwefNm7dxzzzV6LujWrZsW5T/ZR19//fWgqmqtNy7nN1Igv89xwvibZEHaRoi13v4uheUUZgyx7QZFjZLoKIora2biWBaJ5vU6LS3nQ0GfC8XBKe6xjDiWfRwWMyXNcUwcwjgni+papZh2dps36DhmbjtKp7jHMdOIVwRKFfD7ejZfOcJM2MbpuCVhm2+PYDoCFSigP/vS0U2fJEk6dOhQVPe/Xtmk21b9GVF5Zz/88MOtL66ly1c/hszklnTLW+huREmYZSaO5s+fX1RxwvqirqhC5Zk5SKPp06drzZs31/TnmGpy16h0h+Q2SILObq8/p8xt9lA/C9LJa0X05+Rp+rOVLaMaNWpoc+fO9bp44PNlnuxIu69Zs6bgdr/44gtNf6adVS/ZB3bfffei4lCSjjkBCdIqTcddkE4Fd0zbDEEde//6178c+/1jjz1m26q/oxMmTHBsyx5roxjv16+fvxXMWFuczm+kaH6f40T1N4lY6+3xGGE5hRlDMg4xz29JdHimypqROJZFYvywMfNvVr7rtLScDwV9LhQHp7jHMuJY9rHodUra45g4RHVOZm+DoK5V7NsoZzzoOOa1bEE6xT2OeTViPgTyCfh9PZtvO2EmbON03JKwzbdHMB2BChS47bbbsr7AlRNOP4fx48c7kkzffvttztVnBuX169fnnK+YiXfddZejfvIHptCQ+Vykxo0bF5U4kvWH9UVdobp4+TwMo40bN3opipbZLe5JJ53kabkwZgrDqVA9br/9dsf+PHTo0EKLhPr5VVdd5SjfgQce6Gn7ueLQU0895WlZc6YkHXNS5jCs0nDcheFk7kNur0Ede5l/b4K861SeS7/PPvtoDRs2NLrnlS6NovrXrl077c0333QjL/uzXHElqvMbqYzf5zhR/U0i1nrbNcNyCjOGeKt59lwkOrJNvE4hjmVLZe7zXq7Tkn4+FNa5UJROme0a5PlQ9l5VeApxrLBRvjnSHsek3lGdk9nNg7pWsW+jnPGw4lihMgbpFPc4VsiGzxEoJOD39Wy+7WVuJ8hH5cXpuCVhm2+PYDoCFSYgCdHMLqUOOeQQ3xRk/aeffrojgSN37+YbMpN18jzTcofME8NLL7204Cozn4vUu3fvgstkzhDEF3WfffaZ8QX32rVrMzdX1vuojDILLV8SSFfY9l/NT5kyJXM21/dBGclGo3DasmWL9tVXX2nyy3fpytS0kTtXCz0P2A0qKKeuXbtaZZSyDh482K0YxmcSJ1q1auVYTtZT6E74zBUn6ZiTskdpZbeL+3EXlVNQx57dXsYHDhzo2PfleGcoXyBu5zdSI7/PcaL4myT1INaKQuEhCKdcW01CDCHRkavlCk8jjuU28uM6Ldeayz0fCurcWsoa1blQEE651inT4h7LiGP5Ws59eiXEMRGI4pwsqGuVoGJZVHEsKKdce365cUx6HZMftHr98UyuMjANgSAF/L6ezVfWMBO25R63+epQynQStqWosQwCKRSQu/PMBJD5Kl3QHnbYYdpxxx2nXXLJJZr8IvKJJ57Qli5dWrTAjTfemLV+t7tbnn76acf88kuXcgdJGJl1k9cbbrjBdZXSZW+DBg0cy9x3332uy+T60M8v6jZt2qT16tXLKpN0gztixIhcmy1pWlRGmYW99957rTpKWxXzbNagjaSsYTrJsyblxw01a9Z0mIiL/Lps3rx5mXye3gfp9NNPP2U9v3bMmDEFyyXHpP0YrVOnjvbRRx8VXC5zhiQdc1Fb2e3ifNxF4RTUsWc3t4/b99v69esX3ZuDfV2MbxWI2/mNlMzvc5ww/yZtlfU3YRvk3yQpcxQxxLSyH9unnHKKOdn3V/t24hpDSHSU1uzEsWw3v67TstesaaWeD6U5jvnplGtd9mlxj2XEMXtreR+vhDgmGmGekwV1rRJkLIvifCwoJ7e9v9Q4JvZyk4j5nYicz8ld2wwIxE3A7+vZfPULM2Fb6nGbr+zlTCdhW44eyyKQEgFJwEpixDwp8PK68847a3369NHkGXuF7gLasGGDkViyr7dQd8TffPONozwSpMsdRo8e7Vjntdde67rKK6+80jG/lP+DDz5wXSbXh/agX+4XdWPHjs0qk5TrlVdeybXpoqdFZWQv6MKFCx37o9xpm6/rbPty5njQRrKdMJ3kl6B//vOfNbkjXP5J19CtW7e29oN69eppsi8Xe7d1kE7PP/+8VT7zuD/zzDPNJsr5Ku2emZQW51KGJB1zUVuZvnE/7qJwCurYM83tr/JFgv3v8DHHHGP/mPESBeJ4fiNV8fscJ8y/SfamINbaNfKP++mUbytJiSEkOvK1YP7pxLHcNn5dp2WuvZzzoSDPraWcUZwLZfqY78txMteR6zUJsYw4lqvl3KdVShwThTDPyYK6VgkylkURx4JyyrfXlxPHhg0blvU9inyf8vbbb+fbHNMRiETA7+vZfJU4++yzHcfEtttum2/WsqaXc9yWteE8C5OwzQPDZAQqRUBOXuwPCzeTK8W+durUyUgmycmdXMBJktYcMrtK2HvvvY07HczP873KHb5mOeRZe+UOM2fOtNYn65W7h/MNmQ8bl/mbNGmSb3bX6X5+UXfqqac66mD6nHHGGa5l8PphVEZm+VauXKntvvvuVh3l2YaLFi0yP/b0GrSRFCJqJymD3O0uv7g094G2bdsW/PGELGcOQTpdccUVVrnM8tWqVUv78ssvzc07XmW6lN+cV14lbpQ6JOmYi9pKjJNw3MXBydwfyz32zPXYX+fOnevY///617/aP2a8BIE4n99Idfw8x4nqbxKx1tuO6adTvi0mJYaQ6MjXgrmnE8dyu/h5nWbfQrnnQ0GeW0s543IuVK6T3TxzPAmxjDiW2Wru7yspjolEVOdk9lYo91olyFgWlzgmXuU62c3t4+XEMend0P6diDn+0EMP2TfBOAKxEPDzejZXhX7++Wdtzz33zDomFi9enGv2sqaVc9yWteE8C5OwzQPDZAQqRWDIkCFZwc88KSjntUqVKlqLFi20Ll26aFWrVrW2sd9++2nfffedJ94LLrjAWk6e02lPAntaQY6Z9t9/f2udUsY33njDMZf8QZBuWe1lNh3kxLWUwc8v6s466yyr/Ga55FXuQvVriMJIyi53iNp/PCD7jtd9xV73MIxke1E52ev68ssvO/YHeR7MunXr7LPkHQ/Sad9993WUy9xXc5VPunTu2LGjY/6bb745b7m9fJCkYy5qq6Qcd1E7Ze535Rx7meuS95m/xp8xY0au2ZhWhECcz2+kGn6f40TxN4lY622H9NMp3xaTEkNIdORrwdzTiWPBX6eZ8n6cDwV5bi3ljMO5kB9Opnmu1yTEMuJYrpbLP63S4phIRHFOltkC5VyrBBnL4hDH7FblONnXYx8vJ47ls7///vvtm2AcgVgI+HU9u2LFCqPXSDkeX3rpJU1uBLvzzju1Aw880PE9ofm9ovQ4eM0112hPPfWUNnnyZG3atGnG8tKleKlDOcdtqdt0W46ErZsOnyGQcoGRI0c6gl/z5s21iRMnGs9Wu+eee7QBAwZokmCpXr26Yz4zSBbzKsnRq6++WismgD766KOO7c6aNavsFpkzZ462/fbbW+vdbrvttFtvvVV78sknjeeN5Pr1jlnPUp+j6+cXdfLcX7M89tdq1appkmz2Y4jCSC7+e/bsadXt6KOP1uTZVKUMYRhJuaJwyuWR+SvMfv365Zota1pQTnKylfmDh4cffljbaaedjPaVi7THH39ck+3379/fEV+aNm2qvfDCC1llLXZCUo65qK2SctxF7ZRv/yv12Mu1vosuusiKf9LNz8aNG3PNxjSPAnE/v5Fq+H2OE8XfJGKttx3ST6d8W0xKDCHRka8Fs6cTx5QWxnWayPt1PhTUubWUMQ7nQn45SX3yDUmIZcSxfK2XPb0S45goRHFOlq2vaaVeqwQVy+IQx/x0yrUumVZOHHv22Weta0Lz+z7pqeyTTz7JtzmmIxCZgF/Xs5k/nDD3/WJf5earUodyjttSt+m2HAlbNx0+QyDFAvILFEmimgGwW7du2pIlS3LWWLo9GjdunJFcad++vbWMuWyh1yOPPFJ79dVXc67bbeJPP/3keKZfuXfdmduSrg7sX55llr9Dhw6adEeZOX3BggXmKop6tW+r3GfYyoZHjBihSRklkS4n4dItbt26dT3fWeml8GEarVmzRjv00EMtb0ns//LLL16KmXeeMIxk42E65ats5klSw4YNNel6yssQhNP48eOttpRjSPZTSb7L3eytWrVyfGYeY40aNdLk19fLli3zUuyC8yTlmIvSKknHXZRObjtbOcde5no7d+5sHRt+PLM9c/2V9D4J5zfSHkGc44T9N4lY6+3I8tsp11aTEkNIdORqvexpxLEe1t9E81zRfPX7Os3v86Egzq1lD4n6XMhvp+y9/tcpSYhlxLF8reecXslxTCTCPidz6v/6rpxrlSBiWdRxLJeRTCvHKdc6y41jDz74oCaPhJMfwe+xxx7GHYS5tsM0BKIW8Ot6Vro4btCggfFDPbmJY+eddzYemSb5Bznvkx75zH/yftdddzUeLyTfL0pvk7JsjRo1tMsvv7xkknKP25I3nGdBErZ5YJiMQNoFzAd3SwCUE5Ri7s784osvjGXOP/98o4sCCZD2O+pq165tnGDIL1TefffdsijPOecc64Jdgna5iTx7YaQrVnkG0l/+8hftT3/6k1Enef6uJLvkvfnFgLzutttu9kWLGg/6i7q99tpLky6j5SHpfg9BG0ki76CDDjKs69SpY9zpnKsO8ovCcp5TEKSRlNdPp88//1y7/fbbjedUzZ49OxeHY5p0nWrfV2V8/vz5jnm8vvHDadCgQY7ySDcm5rB+/XrjztrrrrtOu+yyy7Thw4drkyZN0mS6n0NSjrmorJJ23IXlFNWxJz9msB/Dr7/+up+HQ8WtKynnN9IwQZ3j+Pk3yW0HIta66Wz9LGinJMUQEh1b9wu3MeKYv+fW+azDOB/y49xayh/WuVAuqzCcZLtJiWWVEse+/PJL43q01F7GiGO/Hk1+npNFda0iNfEjloUVx6J0Skoc+3Xv5H8EyhcI6nq2/JJ5X0Mcj1sStt7bjzkRSJXA8uXL895RW0pFpftGSajJPz+Tqq+99prji+znn3++lOIVvUy7du0c2x01alTR6zAXCPqLOvk1UadOnczNhfZartGqVau07t27G87SHbd0HZRv2HvvvTW5c7TUISojKW+xTtINuZm8kTunv/rqK9dqy53f5vzm63PPPee6TL4P/XCSX4Oa5ZBXuXM27CEpx1wUVkk87sJyiurYO/PMM61jRn4tylCeQFLOb6SWUZzjFPs3ya01iLVuOls/C9opSTEk6YkOOWbl1/tdunTRdtxxR6MXkSZNmmjSU1Hv3r2NHnq++eabrY1f4hhxzB3OjzgW1vmQH+fWohHWuVCmfFhOst2kxLKkx7HMNs71Xr7PMZ8dKD8ML2UgjhVWKzaWRXWtIjXxI5aFFceidEpKHCu8dzIHAt4Eorie9VYy73PF8bglYeu9/ZgTAQQiEpCuD8wE0LHHHlt0KSSJLF1MykXHaaedpn344Yeu65BnaJrbk1d55q10A1XqEOQXdZ9++qlR1pNOOqnU4hnLhW0kXWcccMABRtnlxF1+wZtvWLdunXEHsXwZVsrgl5FsO2gnucPbvu/J+DPPPONabXnudOYychd8sYMfTj/++KPjbnsp10svvVRsUcqePwnHXBRWSTzuwnKK6tiTL/blizDzGJbu+BkqS6Ccc5yg/yYVaglibSGhXz8P0ilpMeTEE0+04l2SntUtz90744wzrLKbMTvXq8R0Sd6+99573naQFMyVtDgW1vmQH+fWsnuEdS6UuSuG5STbTVIsS2ocy2xft/fSC5I9vhXTG5vbeuP8WTlxTOoV9DlZVNcqUjc/YllYcSxKpyTFMWlXBgT8Eig3fvpVjlLWE9fjloRtKa3JMgggEKqAPMPBvGCQrpelixOvgzwTU/rAN5eX18MPP9x18Z49ezrml65byhmC/KLuzjvvNMpazl2MYRvJl1777befUe6jjz7aeL6pm688P1na7bzzznObLe9nfhjJysNwkm3Yny0t9S70A4Nhw4Y59tfWrVvntXD7wA+n//73v46yyJeWa9euddtsIJ/F/ZiTSodtldTjLiynqI69G2+80TpmGjdubDzXNJCDgpXGVqDUc5ww/iYVQiPWFhL69fMgnZIWQwYMGGDEPLk7NSnD1KlTtRYtWlixWr6Uuuaaa7R//OMf2j//+U/tqquu0qSnGPu1hozXqlVLGz16dFKqWVY5kxTHwjwf8uPcWhomrHMh+04QppNsN0mxLIlxzN62hcYl8SiPKrLHtEpI2JYax8QzjHOyqK5VpH5+xLKw4liUTkmKY9KuDAj4JVBO/PSrDKWuJ67HLQnbUluU5RBAIDQB6ZLH3n2KPP/S6zBixAjHxYZceLRs2TLv4v/+978d80s3Z253f+Zdke0Dszsh2bb8ItfPQZ4lIuudNm1ayasN00h+WWnvokbufO7fv3/Wv759+xoJWrlzWJIYUke5UChl8MNIthuW05577mntgzfddJNrleW5xfb5xemWW25xXSbfh344ZT772f782nzbDWJ63I85qXOYVkk+7sJ0sh9LYRx7mzZt0nbaaSfreJcLHYbKEyj1HCesv0luLUKsddPZ+llQTkmMIXJXrSQ5P/vss61AMR6bMWOG1XNIo0aNtEceeUTLlbiQetm7U5PzMfNfob8nMa6+56IlJY6FfT7kx7m1NEKY50KyvbCdkhbLkhbHpE29Dlu2bNEyf7wusSxX3PO6zqTMV2ock/qFdU4W9rWK2XZ+xLIw41gUTkmLY2bb8oqAHwLlxE8/tl/qOuJ83JKwLbVVWQ4BBEIVkC9MzDsP5Y7Z1atXe9r+xRdfbH1hYn5xki9p+t1332mSoDXnk1/Gz5w509N28s0k3cfIs1fNdbZp00aT7fgxPPnkk8Z6S+0q2CxDWEbyHBt55pdpUexrKc8v9stIrMJykjLLvl67dm1t/PjxZjPlfJXuU+2OvXr1KukZ0n45ybOG7eWRO1DCHpJwzIlJWFZJP+7CcpI2CfvYe+KJJ6zjRb4IkQsdhsoUKOUcJ6y/SflahFibT8Y5PUgnYojT2u93GzZs0Mwu3iRZO2/ePNdNSKLj6quvtuK6eT4k53STJk1yXTYNH8Y9joV9PuTXubXsG2GeC4XtJPUjlolCPIZRo0ZlxTCJZZWQsJUWKCWOyXJhnZOFfa0idfMrloUZx6JwIo7J3sJQyQKlxs8ozeJ83JKwjXLPYNsIIFCUwLnnnmtdQFx++eWelr300kutZeRio379+tr8+fOzlpW7aDt16mTNK1+uyIlescPxxx9vPCtXvnyX5Kz5ZY39Vbp1bteunXHxLXddXHvttcVuxkhYt2rVylh/oWecFlp5WEaSTLQ7FDu+ZMmSQlVxfC5Jfb+MZMVhOcm2zG6HxOiQQw7R/vWvf2n259JKV1V9+vRxeMq+JL+IL3bwy+n777+3flRhtu2ECROKLU7R8yfxmAvTKsnHXZhO5o4X1rG3atUqo7cH81h5+eWXzSLwWqECxZ7jhPk3SZqEWOttxwzLiRjirT3KmWvw4MHGeZact7/99tueV2XvAtuM8fKDUEkAp32IcxwL83zIr3Nr2V/CPhcK00nqRywThXgM8tip7bbbznF9acawSknYSksUG8dkmTDPycK6VpF6+RXLwo5jUvYwnYhjIs6AQGnxMyq3uB+3JGyj2jPYLgIIFC3w7bffWnerev3yRJKZ5oXG9ddfr/3www9Z2/3kk080ee6nOZ8ka4cOHZo1n5cJ0nWz3JkriWHpyleeaSXrlgSt/JMEYrNmzTT5pb5cENWsWdPo7tnLus155C4s+UJQyivdC5d7V1ZYRnvssYdlbFp7fZXn6MidC14Hv41ku2E5mXV89913tZNPPtmRBK1Xr55Wt25dh6PsY4899lhRPuY2/HKSi7l+/fo5yiVtK3eUFNNuZrmKeU3aMRe2VVKPu7Cd7PtcGMeedAVvxr9zzjnHvnnGK1Sg2HOcsP8mEWu97ZhhOElJiCHe2qPUuSS5WqNGDSNOn3XWWUWtRnqEMeO7/fXxxx8vaj1JnDnOcSys8yG/zq2l/aM4FwrLydy/iWWmRPSvbsn6SkrYFhvHpOXCPicL41rFr1gWRRwzj6YwnGRbxDFTnNdKFyglfkZlFvfjloRtVHsG20UAgZIE5Fmt1atXN74I2W233Qp2jbxy5Uptl112Mebfddddteeee05bv369sW15fpY8YHyHHXawvliRu2xfe+21ksoW1kJyR658AdSgQQNNutord8DIm2BUTh9++KH26KOPavLsZnk+2pFHHmlcFIwcOVKTu/LWrl3rrQI55ip3X5KEcmYC2f7lpIzLjyu23XZb407hHEVIxKRynaSSlWCVNqegjr3//e9/1g8xpJv4devWJeI4oJDBCxRzjhPV36QgFdIWQ4KyIoYEJbt1vW+99ZZ1bSDnMpKIL6ZbY7lGyTwfOuyww7ZuIMVjxLHyr9Mq4ZxRDgFiWXwCgTxbXGKWPJLnhhtuyIpflZSwlVYpJo7J/FGdkwV1rSJ1KvecLE5xLEgn4pjsLQwIbBUoNn5uXTK8sSQctyRsw9sf2BICCPgk8MADD1gXEcccc0zBZ6pIUlPubDW/OJFfzMvFiPleXuVO15tuuknbuHGjT6UMbjWSeJY7eKdOnerbRjDyRomT00nufLYfR27j7du3dy6coHd+HHOVYIVT4Z164cKFxo9t5FiRLjKl+zkGBOwCxZzj8DfJLvfreNpjLTEku82DmHL//fdnnd9ss8022vvvv+9pcxdddFHW8g0bNvS0bBpmIo6Vd52W9jgm+zixLD5HutwRJT8El3PTYcOGGT03ZV7TVVrCVlqnmDgm83NOJgpbB+LYVgvGEKg0gWLjZ5g+STn/qCIo+h9jBgQQQCBRAvpzQpT+ZYpR5gEDBqh7773Xtfz6XbVK/+Womjhxolq6dKnSfwWpdtxxR6UnctVRRx2lTjjhBOO960pi8qH+B0bpXeMqvStcX0uEkTdOnLY66d0Mqa+++krpP4Cw/uk/iFCbN29WeneCSv8BhPG6adMm1aFDB6Un9LYunKAxP465SrDCyX2n1rvkV/qzptWiRYuM42XKlCnqoIMOcl+ITytSoJhzHP4mOXeRNMdaYoizrYN817dvXzVmzJisTdx1113qyiuvzJqeOUF/tIrSn4GbOVnpz8tSeq8jWdPTOIE4Vvp1WprjmOzrxLJ4HfGnnHKKGjt2rNp///3VjBkz1L///W/Vp08fRyH1hK2qVq2aY1olvCkmjokH52Rb9wri2FYLxhCoRIFi42cYRkk6/yBhG8YewTYQQMB3AfmtyRVXXKGGDx9urFv/Najx3vcNsUIEEEAAAQTKFNC7LldHHHGEevPNN9X222+v9Gccqh49epS5VhZPqwDnOGlt2dLrRQwp3a6UJQcOHKhGjBiRtajeG4+6/vrrs6ZnTpAfiZ577rmZk5X8sCmpP17LqkyBCcSxAkAV+jGxLF4Nrz97VZ166qlKfnA7Z84cpXfnrvTnbZOw/b9mIo7Fa3+NS2mIY3FpCcoRZ4G4xc+kHbckbOO8d1M2BBAoKCCJ2j//+c9qv/32U/qzZwvOzwwIIIAAAgiELTB9+nSlP79QtWvXzriLYc899wy7CGwvgQKc4ySw0QIqMjEkINg8q5UeeY499tisT1966SXjxzdZH2RMuPvuu3Peiat3g69atmyZMXe63xLH0t2+xdaOWFasWHDzL1++XHXu3Fl9//336uabb1bXXXedsTESttnmxLFsk0qeQhyr5Nan7sUKxCV+Ju24JWFb7J7G/AggEDuBJUuWqC1btqhddtkldmWjQAgggAACCMjfKP254+rggw9WtWrVAgQBzwKc43imSvWMxJBwm1ce7SCPXHnwwQeNDVevXl1dddVV6vbbb/dUkP79+1vLmgtUrVpVrVmzxugS35xWKa/EsUpp6cL1JJYVNgprDun2WJKze+21l5o1a5bSn9NtbJqEbe4WII7ldqnEqcSxSmx16lyOQBziZ9KOWxK25exxLIsAAggggAACCCCAAAIIIIAAAqkT+Oabb9TXX3+tWrdurRo2bOi5ft27d1czZ850zC+9LLz88suOabxBAAEEohAwexGQH6O89dZbqkuXLlYxSNhaFIwggAACCCAQiQAJ20jY2SgCCCCAAAIIIIAAAggggAACCKRJ4OOPP1YdOnTIqtIDDzygLrnkkqzpTEAAAQTCFFi1apXxrNovv/xSDR48OKvnABK2YbYG20IAAQQQQCBbgIRttglTEEAAAQQQQAABBBBAAAEEEEAAgaIErrzySiXPsLUPNWvWVPL82iZNmtgnM44AAgiELtC3b181ZswY1bFjRzV37lwl8ck+kLC1azCOAAIIIIBA+AIkbMM3Z4sIIIAAAggggAACCCCAAAIIIJAiAXlGrXSfvHz5cket7rnnHjVw4EDHNN4ggAACYQtMnTpVHXHEEUqeqf3aa68p6b49cyBhmynCewQQQAABBMIVIGEbrjdbQwABBBBAAAEEEEAAAQQQQACBlAkMGjRIDR8+3FGro446Sr344ouqSpUqjum8QQABBMIUWLt2rdpjjz3U0qVL1eWXX65GjBiRc/MkbHOyMBEBBBBAAIHQBEjYhkbNhhBAAAEEEEAAAQQQQAABBBBAIG0C0rVo165d1S+//GJVbccddzS6HG3atKk1jREEEEAgCgFJ0t57772qTZs2av78+apu3bo5i0HCNicLExFAAAEEEAhNgIRtaNRsCAEEEEAAAQQQQAABBBBAAAEE0iSwadMm1aNHD/XOO+9Y1WrcuLF6+eWX1W677WZNYwQBBBCIQuCNN95QBx98sNqyZYuSbpEPP/zwvMUgYZuXhg8QQAABBBAIRYCEbSjMbAQBBBBAAAEEEEAAAQQQQAABBNIm0LdvXzVmzBirWpKsnTZtmtp9992taYwggAACUQhs2LBB7b333mrhwoXq4osvVqNHj3YtBglbVx4+RAABBBBAIHABEraBE7MBBBBAAAEEEEAAAQQQQAABBBBIm8CDDz6o+vfvb1WrUaNGRrJWnhXJgAACCEQtMHjwYDV06FDVokUL9cEHH6jtttvOtUgkbF15+BABBBBAAIHABUjYBk7MBhBAAAEEEEAAAQQQQAABBBBAIE0CL730kvrd736nNm/ebFSrefPmavLkyXSDnKZGpi4IJFhg9uzZav/99zeerf38888b8apQdUjYFhLicwQQQAABBIIVIGEbrC9rRwABBBBAAAEEEEAAAQQQQACBFAnMmTNHHXrooWrNmjVGrTp37qxefPFF1bJlyxTVkqoggEBSBeSHJF27dlXz5s1Tv//975UkYr0MJGy9KDEPAggggAACwQmQsA3OljUjgAACCCCAAAIIIIAAAggggECKBJYsWaK6d++uvvvuO6NWPXr0UBMmTFA77LBDimpJVRBAIMkCN998s7rhhhtUw4YN1YIFC4xXL/V54okn1LnnnuuYdePGjapatWrWtCpVqqiqVata7xlBAAEEEEAAAf8ESNj6Z8maEEAAAQQQQAABBBBAAAEEEEAgpQLLli0zkrWLFi0yanjCCSeoJ598UtWqVSulNaZaCCCQRIF99tlHzZ07N5CiS7ybOXOm2nvvvQNZPytFAAEEEECgkgVI2FZy61N3BBBAAAEEEEAAAQQQQAABBBAoKLB27VrVs2dPNWvWLGPeCy+8UD344IOOO89yraRXr15q6dKlRpfJrVu3zjUL0xBAAAFfBYJM2EpBn3nmGXXKKaf4WmZWhgACCCCAAAJKkbBlL0AAAQQQQAABBBBAAAEEEEAAAQTyCPz888/quOOOM5KuMssf//hHNXLkSCVdg7oNGzZsUPXq1VNbtmwxnndbp04dt9n5DAEEEPBFQO6ulR+ZFDtceumlWXfmTp8+PeuHKR07dvTczXKxZWB+BBBAAAEEKlmAhG0ltz51RwABBBBAAAEEEEAAAQQQQACBvAKapqnzzz9fPfroo8Y8gwYNUnfffXfe+e0fzJ49W3Xt2lW1atVKffrpp/aPGEcAAQRiJyB3zY4dO9ZRLvnBiv0Zto4PeYMAAggggAACvgqQsPWVk5UhgAACCCCAAAIIIIAAAggggEBaBAYPHqyGDh1qVEfGb7/9ds9Vu/fee9Xll1+ujj76aPXCCy94Xo4ZEUAAgSgESNhGoc42EUAAAQQQ2CpAwnarBWMIIIAAAggggAACCCCAAAIIIICAISDdHl922WXG+I033qhuuOEGzzK//PKLOvjgg9XMmTNVMXflet4AMyKAAAI+C5Cw9RmU1SGAAAIIIFCkAAnbIsGYHQEEEEAAAQQQQAABBBBAAAEE0i3w9NNPqzPOOMN4/qzU9Pjjjy9YYUnSynNrV6xYoZYsWaJ++uknY5kxY8aoiy66qODyzIAAAghEKSBxbsKECY4iSEyrWbOmYxpvEEAAAQQQQCAYARK2wbiyVgQQQAABBBBAAAEEEEAAAQQQSKDAK6+8YnRjvHHjRl9K//rrr6sePXr4si5WggACCAQhIM/r3n333dWCBQscq58/f74x3TGRNwgggAACCCAQiAAJ20BYWSkCCCCAAAIIIIAAAggggAACCCRN4OOPP1b77befWrlypW9FX758uWrQoIFv62NFCCCAQLkC77zzjlq1apVavXq1WrZsmRo3bpyaNGlS1mrbt2+vLrzwQtWuXTu13XbbqebNm6vddtstaz4mIIAAAggggED5AiRsyzdkDQgggAACCCCAAAIIIIAAAgggkAKBfv36qdGjR/tWkyZNmqjvvvvOt/WxIgQQQMAPAUm6Zt5N62W91atXV4sWLVKtWrXyMjvzIIAAAggggEARAiRsi8BiVgQQQAABBBBAAAEEEEAAAQQQSK/AFVdcoe655x7fKnjooYcq6WKZAQEEEIiTwFlnnaXGjh2r6tSpY/yrVauWqlq1qqpSpYrxT8q6ZcsWJV0lb9q0Sa1bt874t379evX++++rzp07x6k6lAUBBBBAAIFUCJCwTUUzUgkEEEAAAQQQQAABBBBAAAEEEEAAAQQQQAABBBBAAAEEEEiiAAnbJLYaZUYAAQQQQAABBBBAAAEEEEAAAQQQQAABBBBAAAEEEEAAgVQIkLBNRTNSCQQQQAABBBBAAAEEEEAAAQQQQAABBBBAAAEEEEAAAQQQSKIACdskthplRgABBBBAAAEEEEAAAQQQQAABBBBAAAEEEEAAAQQQQACBVAiQsE1FM1IJBBBAAAEEEEAAAQQQQAABBBBAAAEEEEAAAQQQQAABBBBIogAJ2yS2GmVGAAEEEEAAAQQQQAABBBBAAAEEEEAAAQQQQAABBBBAAIFUCJCwTUUzUgkEEEAAAQQQQAABBBBAAAEEEEAAAQQQQAABBBBAAAEEEEiiAAnbJLYaZUYAAQQQQAABBBBAAAEEEEAAAQQQQAABBBBAAAEEEEAAgVQIkLBNRTNSCQQQQAABBBBAAAEEEEAAAQQQQAABBBBAAAEEEEAAAQQQSKIACdskthplRgABBBBAAAEEEEAAAQQQQAABBBBAAAEEEEAAAQQQQACBVAiQsE1FM1IJBBBAAAEEEEAAAQQQQAABBBBAAAEEEEAAAQQQQAABBBBIogAJ2yS2GmVGAAEEEEAAAQQQQAABBBBAAAEEEEAAAQQQQAABBBBAAIFUCJCwTUUzUgkEEEAAAQQQQAABBBBAAAEEEEAAAQQQQAABBBBAAAEEEEiiAAnbJLYaZUYAAQQQQAABBBBAAAEEEEAAAQQQQAABBBBAAAEEEEAAgVQIkLBNRTNSCQQQQAABBBBAAAEEEEAAAQQQQAABBBBAAAEEEEAAAQQQSKIACdskthplRgABBBBAAAEEEEAAAQQQQAABBBBAAAEEEEAAAQQQQACBVAiQsE1FM1IJBBBAAAEEEEAAAQQQQAABBBBAAAEEEEAAAQQQQAABBBBIogAJ2yS2GmVGAAEEEEAAAQQQQAABBBBAAAEEEEAAAQQQQAABBBBAAIFUCJCwTUUzUgkEEEAAAQQQQAABBBBAAAEEEEAAAQQQQAABBBBAAAEEEEiiAAnbJLYaZUYAAQQQQAABBBBAAAEEEEAAAQQQQAABBBBAAAEEEEAAgVQIkLBNRTNSCQQQQAABBBBAAAEEEEAAAQQQQAABBBBAAAEEEEAAAQQQSKIACdskthplRgABBBBAAAEEEEAAAQQQQAABBBBAAAEEEEAAAQQQQACBVAiQsE1FM1IJBBBAAAEEEEAAAQQQQAABBBBAAAEEEEAAAQQQQAABBBBIogAJ2yS2GmVGAAEEEEAAAQQQQAABBBBAAAEEEEAAAQQQQAABBBBAAIH/354dFAEAABAQ7N9aDjfbgPWUEHDYJmZUggABAgQIECBAgAABAgQIECBAgAABAgQIECBAgACBRwGH7eNqMhMgQIAAAQIECBAgQIAAAQIECBAgQIAAAQIECBAgkBBw2CZmVIIAAQIECBAgQIAAAQIECBAgQIAAAQIECBAgQIAAgUcBh+3jajITIECAAAECBAgQIECAAAECBAgQIECAAAECBAgQIJAQcNgmZlSCAAECBAgQIECAAAECBAgQIECAAAECBAgQIECAAIFHAYft42oyEyBAgAABAgQIECBAgAABAgQIECBAgAABAgQIECCQEHDYJmZUggABAgQIECBAgAABAgQIECBAgAABAgQIECBAgACBRwGH7eNqMhMgQIAAAQIECBAgQIAAAQIECBAgQIAAAQIECBAgkBBw2CZmVIIAAQIECBAgQIAAAQIECBAgQIAAAQIECBAgQIAAgUcBh+3jajITIECAAAECBAgQIECAAAECBAgQIECAAAECBAgQIJAQcNgmZlSCAAECBAgQIECAAAECBAgQIECAAAECBAgQIECAAIFHAYft42oyEyBAgAABAgQIECBAgAABAgQIECBAgAABAgQIECCQEHDYJmZUggABAgQIECBAgAABAgQIECBAgAABAgQIECBAgACBRwGH7eNqMhMgQIAAAQIECBAgQIAAAQIECBAgQIAAAQIECBAgkBBw2CZmVIIAAQIECBAgQIAAAQIECBAgQIAAAQIECBAgQIAAgUcBh+3jajITIECAAAECBAgQIECAAAECBAgQIECAAAECBAgQIJAQcNgmZlSCAAECBAgQIECAAAECBAgQIECAAAECBAgQIECAAIFHAYft42oyEyBAgAABAgQIECBAgAABAgQIECBAgAABAgQIECCQEHDYJmZUggABAgQIECBAgAABAgQIECBAgAABAgQIECBAgACBRwGH7eNqMhMgQIAAAQIECBAgQIAAAQIECBAgQIAAAQIECBAgkBBw2CZmVIIAAQIECBAgQIAAAQIECBAgQIAAAQIECBAgQIAAgUcBh+3jajITIECAAAECBAgQIECAAAECBAgQIECAAAECBAgQIJAQcNgmZlSCAAECBAgQIECAAAECBAgQIECAAAECBAgQIECAAIFHAYft42oyEyBAgAABAgQIECBAgAABAgQIECBAgAABAgQIECCQEHDYJmZUggABAgQIECBAgAABAgQIECBAgAABAgQIECBAgACBRwGH7eNqMhMgQIAAAQIECBAgQIAAAQIECBAgQIAAAQIECBAgkBBw2CZmVIIAAQIECBAgQIAAAQIECBAgQIAAAQIECBAgQIAAgUcBh+3jajITIECAAAECBAgQIECAAAECBAgQIECAAAECBAgQIJAQcNgmZlSCAAECBAgQIECAAAECBAgQIECAAAECBAgQIECAAIFHAYft42oyEyBAgAABAgQIECBAgAABAgQIECBAgAABAgQIECCQEBj32NpLA/rZ6gAAAABJRU5ErkJggg==)"
      ],
      "metadata": {
        "id": "a-CcxlGiBlff"
      }
    },
    {
      "cell_type": "code",
      "source": [
        "# epochs\n",
        "epochs = 2 # should be 250\n",
        "# loss\n",
        "criterion1 = DiceLoss()\n",
        "criterion2 = nn.CrossEntropyLoss()\n",
        "# optimizer\n",
        "optimizer = torch.optim.SGD(params=model.parameters(), lr=0.01, momentum= 0.99)"
      ],
      "metadata": {
        "id": "GXgY6pGLLBEv"
      },
      "execution_count": 34,
      "outputs": []
    },
    {
      "cell_type": "code",
      "source": [
        "# To compute the deep supervision loss, labels were first downsampled using nearest neighbor interpolation to the\n",
        "# (64, 64, 64) and (32, 32, 32) spatial shapes such that they match the shapes of additional outputs\n",
        "def makeDiffSizeCopies(class_seg):\n",
        "  # should be [2, 128, 128, 128]\n",
        "  # goes 32 channels -> 64 -> 128\n",
        "  print(class_seg.shape)\n",
        "  class_seg128 = class_seg\n",
        "  class_seg64 = nn.Upsample(scale_factor=(0.5,0.5,0.5), mode='nearest')(class_seg128)\n",
        "  print(class_seg64.shape)\n",
        "  class_seg32 = nn.Upsample(scale_factor=(0.25,0.25,0.25), mode='nearest')(class_seg128)\n",
        "  print(class_seg32.shape)\n",
        "  class_segs = [class_seg32, class_seg64, class_seg128]\n",
        "  return class_segs"
      ],
      "metadata": {
        "id": "FR3wGN1T0NJs"
      },
      "execution_count": 35,
      "outputs": []
    },
    {
      "cell_type": "code",
      "source": [
        "new_seg = torch.rand(size=(2, 1, 128, 128, 128), dtype=torch.float32)\n",
        "lst = makeDiffSizeCopies(new_seg)\n",
        "print(len(lst))"
      ],
      "metadata": {
        "colab": {
          "base_uri": "https://localhost:8080/"
        },
        "id": "7_I4VJlt2jM2",
        "outputId": "b52e67ba-b56d-44a8-e8da-f68e24575fce"
      },
      "execution_count": 36,
      "outputs": [
        {
          "output_type": "stream",
          "name": "stdout",
          "text": [
            "torch.Size([2, 1, 128, 128, 128])\n",
            "torch.Size([2, 1, 64, 64, 64])\n",
            "torch.Size([2, 1, 32, 32, 32])\n",
            "3\n"
          ]
        }
      ]
    },
    {
      "cell_type": "code",
      "source": [
        "def losses_perclass(class_probabilities, class_segmentations):\n",
        "  # class1_probabilities, class2_probabilities, class3_probabilities = model(images)\n",
        "  # basically each classx_probabilities has 3 items each with images in them\n",
        "  print(len(class_probabilities))\n",
        "  print(len(class_segmentations))\n",
        "\n",
        "  tr_class_losses = []\n",
        "  for i in range(len(class_probabilities)):\n",
        "    print(class_probabilities[i].shape)\n",
        "    # for each deep supervision level that has 2 images\n",
        "    # have somethign like class1_probabilities, but replace each index with each of the items losses (so u have losses for each level)\n",
        "    # and then use that list of losses to find that class loss\n",
        "    dice_loss = criterion1(class_segmentations[i], class_probabilities[i])\n",
        "    ce_loss = criterion1(class_segmentations[i], class_probabilities[i])\n",
        "    # now add them to get the loss of this level for this class\n",
        "    tr_class_losses.append(dice_loss+ce_loss)\n",
        "  print(len(tr_class_losses))\n",
        "  print(tr_class_losses)\n",
        "  return tr_class_losses"
      ],
      "metadata": {
        "id": "Yo-gpU13AGPP"
      },
      "execution_count": 37,
      "outputs": []
    },
    {
      "cell_type": "code",
      "source": [
        "import datetime"
      ],
      "metadata": {
        "id": "HVQ4iAXEmGU1"
      },
      "execution_count": 38,
      "outputs": []
    },
    {
      "cell_type": "code",
      "source": [
        "training_losses = []\n",
        "validation_losses = []\n",
        "\n",
        "for i in range(epochs): # for every epoch\n",
        "  start_epoch = datetime.datetime.now() # start the timer in datetime module\n",
        "  training_loss = 0 # training loss for this epoch\n",
        "  validation_loss = 0 # validation loss for this epoch\n",
        "  print(\"training time\")\n",
        "  for images, segs in trainloader: # getting one batch from trainloader\n",
        "    optimizer.zero_grad() # turn on gradients (used for forward and backprop)\n",
        "    print(len(images), len(segs))\n",
        "    print(images.shape)\n",
        "    print(segs.shape)\n",
        "    # need to squeeze the 1 in first dimension\n",
        "    images = images.squeeze().clone().detach().requires_grad_(True)\n",
        "    # segs = segs.long() - no\n",
        "    segs = segs.squeeze().clone().detach().requires_grad_(True)\n",
        "    print(images.shape)\n",
        "    print(segs.shape)\n",
        "\n",
        "    # for each class in the ground truth segmentation- take it apart, make different copies for different levels of deep supervision\n",
        "    print()\n",
        "    class1_segs = segs[:, 0, :, :, :]\n",
        "    class1_segs = class1_segs.unsqueeze(dim=1)\n",
        "    print(class1_segs.shape)\n",
        "    class1_newsegs = makeDiffSizeCopies(class1_segs)\n",
        "    print(len(class1_newsegs))\n",
        "    print(class1_newsegs[0].shape)\n",
        "    print(class1_newsegs[1].shape)\n",
        "    print(class1_newsegs[2].shape)\n",
        "\n",
        "    print()\n",
        "    class2_segs = segs[:, 1, :, :, :]\n",
        "    class2_segs = class2_segs.unsqueeze(dim=1)\n",
        "    print(class2_segs.shape)\n",
        "    class2_newsegs = makeDiffSizeCopies(class2_segs)\n",
        "    print(len(class2_newsegs))\n",
        "    print(class2_newsegs[0].shape)\n",
        "    print(class2_newsegs[1].shape)\n",
        "    print(class2_newsegs[2].shape)\n",
        "\n",
        "    print()\n",
        "    class3_segs = segs[:, 2, :, :, :]\n",
        "    class3_segs = class3_segs.unsqueeze(dim=1)\n",
        "    print(class3_segs.shape)\n",
        "    class3_newsegs = makeDiffSizeCopies(class3_segs)\n",
        "    print(len(class3_newsegs))\n",
        "    print(class3_newsegs[0].shape)\n",
        "    print(class3_newsegs[1].shape)\n",
        "    print(class3_newsegs[2].shape)\n",
        "\n",
        "    class1_probabilities, class2_probabilities, class3_probabilities = model(images)  # put images through model\n",
        "    # basically each classx_probabilities has 3 items each with 2 images in them\n",
        "    print(len(class1_probabilities))\n",
        "    print(class1_probabilities[0].shape)\n",
        "    print(class1_probabilities[1].shape)\n",
        "    print(class1_probabilities[2].shape)\n",
        "\n",
        "    # build function for getting class probabilities' loss\n",
        "    tr_class1_losses = losses_perclass(class1_probabilities, class1_newsegs)\n",
        "    tr_class2_losses = losses_perclass(class2_probabilities, class2_newsegs)\n",
        "    tr_class3_losses = losses_perclass(class3_probabilities, class3_newsegs)\n",
        "    \n",
        "    print()\n",
        "    # calculating final loss for every class - the first index is y3 loss (multiplied by 1/4), then y2 loss (multiplied by 1/2), then y1 loss\n",
        "    class1_loss = 1/4*(tr_class1_losses[0]) + 1/2*(tr_class1_losses[1]) + tr_class1_losses[2]\n",
        "    print(class1_loss)\n",
        "    class2_loss = 1/4*(tr_class2_losses[0]) + 1/2*(tr_class2_losses[1]) + tr_class2_losses[2]\n",
        "    print(class2_loss)\n",
        "    class3_loss = 1/4*(tr_class3_losses[0]) + 1/2*(tr_class3_losses[1]) + tr_class3_losses[2]\n",
        "    print(class3_loss)\n",
        "\n",
        "    print()\n",
        "    # build code for getting loss for epoch\n",
        "    loss = (class1_loss + class2_loss + class3_loss)/3\n",
        "    print(loss)\n",
        "    loss.backward()\n",
        "    training_loss += loss.item()\n",
        "    print()\n",
        "\n",
        "  print(\"validation time\")\n",
        "  for images, segs in validationloader: # getting one batch from validationloader\n",
        "    optimizer.zero_grad() # keep gradients on (used for forward and backprop)\n",
        "    print(len(images), len(segs))\n",
        "    print(images.shape)\n",
        "    print(segs.shape)\n",
        "    # need to squeeze the 1 in first dimension\n",
        "    images = images.squeeze().clone().detach().requires_grad_(True)\n",
        "    # segs = segs.long() - no\n",
        "    segs = segs.squeeze().clone().detach().requires_grad_(True)\n",
        "    print(images.shape)\n",
        "    print(segs.shape)\n",
        "\n",
        "    # for each class in the ground truth segmentation- take it apart, make different copies for different levels of deep supervision\n",
        "    print()\n",
        "    class1_segs = segs[:, 0, :, :, :]\n",
        "    class1_segs = class1_segs.unsqueeze(dim=1)\n",
        "    print(class1_segs.shape)\n",
        "    class1_newsegs = makeDiffSizeCopies(class1_segs)\n",
        "    print(len(class1_newsegs))\n",
        "    print(class1_newsegs[0].shape)\n",
        "    print(class1_newsegs[1].shape)\n",
        "    print(class1_newsegs[2].shape)\n",
        "\n",
        "    print()\n",
        "    class2_segs = segs[:, 1, :, :, :]\n",
        "    class2_segs = class2_segs.unsqueeze(dim=1)\n",
        "    print(class2_segs.shape)\n",
        "    class2_newsegs = makeDiffSizeCopies(class2_segs)\n",
        "    print(len(class2_newsegs))\n",
        "    print(class2_newsegs[0].shape)\n",
        "    print(class2_newsegs[1].shape)\n",
        "    print(class2_newsegs[2].shape)\n",
        "\n",
        "    print()\n",
        "    class3_segs = segs[:, 2, :, :, :]\n",
        "    class3_segs = class3_segs.unsqueeze(dim=1)\n",
        "    print(class3_segs.shape)\n",
        "    class3_newsegs = makeDiffSizeCopies(class3_segs)\n",
        "    print(len(class3_newsegs))\n",
        "    print(class3_newsegs[0].shape)\n",
        "    print(class3_newsegs[1].shape)\n",
        "    print(class3_newsegs[2].shape)\n",
        "\n",
        "    class1_probabilities, class2_probabilities, class3_probabilities = model(images) # put images through model\n",
        "    # basically each classx_probabilities has 3 items each with 2 images in them\n",
        "    print(len(class1_probabilities))\n",
        "    print(class1_probabilities[0].shape)\n",
        "    print(class1_probabilities[1].shape)\n",
        "    print(class1_probabilities[2].shape)\n",
        "\n",
        "    # build function for getting class probabilities' loss\n",
        "    tr_class1_losses = losses_perclass(class1_probabilities, class1_newsegs)\n",
        "    tr_class2_losses = losses_perclass(class2_probabilities, class2_newsegs)\n",
        "    tr_class3_losses = losses_perclass(class3_probabilities, class3_newsegs)\n",
        "    \n",
        "    print()\n",
        "    # calculating final loss for every class - the first index is y3 loss (multiplied by 1/4), then y2 loss (multiplied by 1/2), then y1 loss\n",
        "    class1_loss = 1/4*(tr_class1_losses[0]) + 1/2*(tr_class1_losses[1]) + tr_class1_losses[2]\n",
        "    print(class1_loss)\n",
        "    class2_loss = 1/4*(tr_class2_losses[0]) + 1/2*(tr_class2_losses[1]) + tr_class2_losses[2]\n",
        "    print(class2_loss)\n",
        "    class3_loss = 1/4*(tr_class3_losses[0]) + 1/2*(tr_class3_losses[1]) + tr_class3_losses[2]\n",
        "    print(class3_loss)\n",
        "\n",
        "    print()\n",
        "    # build code for getting loss for epoch\n",
        "    loss = (class1_loss + class2_loss + class3_loss)/3\n",
        "    print(loss) # loss with random tensors will be really high because none of the tensors are related to each other\n",
        "    loss.backward() # backpropagation\n",
        "    validation_loss += loss.item() # add loss to validation loss\n",
        "\n",
        "  # find avg losses for each image\n",
        "  training_losses.append(training_loss/len(trainloader))\n",
        "  validation_losses.append(validation_loss/len(validationloader))\n",
        "\n",
        "  # print results about epoch\n",
        "  print(\"Epoch: {}/{}... Training Loss: {}... Validation Loss: {}...\".format(i+1,epochs, training_losses[-1], validation_losses[-1]))\n",
        "  if validation_loss < min(validation_losses):\n",
        "    print(\"Validation loss has decreased...saving model\")\n",
        "    torch.save(model.state_dict(), \"fcn.pth\")\n",
        "  # end timer\n",
        "  end_epoch = datetime.datetime.now()\n",
        "  # calculate and print out time it takes for every epoch\n",
        "  time_epoch = end_epoch-start_epoch\n",
        "  print(\"Epoch time:\", str(time_epoch), \"\\n\")\n",
        "  print()"
      ],
      "metadata": {
        "id": "UvYlOwRQMEeS"
      },
      "execution_count": null,
      "outputs": []
    },
    {
      "cell_type": "code",
      "source": [
        "print(training_losses)\n",
        "print(validation_losses)"
      ],
      "metadata": {
        "id": "S3GkLG_WHgC4",
        "outputId": "51215a89-24dc-4bf7-defd-6fffa496b4e9",
        "colab": {
          "base_uri": "https://localhost:8080/"
        }
      },
      "execution_count": 40,
      "outputs": [
        {
          "output_type": "stream",
          "name": "stdout",
          "text": [
            "[1.7353047132492065, 1.7353047132492065]\n",
            "[1.7356363534927368, 1.7356363534927368]\n"
          ]
        }
      ]
    },
    {
      "cell_type": "code",
      "source": [
        "import matplotlib.pyplot as plt"
      ],
      "metadata": {
        "id": "-DivgotFmUSe"
      },
      "execution_count": 41,
      "outputs": []
    },
    {
      "cell_type": "code",
      "source": [
        "# visualize losses\n",
        "plt.plot(training_losses, label=\"Training loss\")\n",
        "plt.plot(validation_losses, label=\"Validation loss\")\n",
        "plt.legend(frameon=False)"
      ],
      "metadata": {
        "colab": {
          "base_uri": "https://localhost:8080/",
          "height": 294
        },
        "id": "tjXFhhg_mVcq",
        "outputId": "61c1aee3-c289-47c9-b0dc-070a39514d26"
      },
      "execution_count": 42,
      "outputs": [
        {
          "output_type": "execute_result",
          "data": {
            "text/plain": [
              "<matplotlib.legend.Legend at 0x7f7e0ade7b90>"
            ]
          },
          "metadata": {},
          "execution_count": 42
        },
        {
          "output_type": "display_data",
          "data": {
            "text/plain": [
              "<Figure size 432x288 with 1 Axes>"
            ],
            "image/png": "[encoded data removed]"
          },
          "metadata": {
            "needs_background": "light"
          }
        }
      ]
    },
    {
      "cell_type": "code",
      "source": [
        "def dice_score(outputs, segmentations): # they find individual\n",
        "  # outputs = torch.Size([2, 3, 128, 128, 128])\n",
        "  # segmentations = torch.Size([2, 3, 128, 128, 128])\n",
        "  # print(segmentations.shape)\n",
        "  n_classes = segmentations.shape[1]\n",
        "  region_scores = []\n",
        "  for i in range(n_classes):\n",
        "    outputs = outputs.view(-1)\n",
        "    segmentations = segmentations.view(-1)\n",
        "    numerator = 2*(outputs*segmentations).sum()\n",
        "    denominator = outputs.sum() + segmentations.sum()\n",
        "    dice = (numerator) / (denominator)\n",
        "    region_scores.append(dice)\n",
        "  return region_scores"
      ],
      "metadata": {
        "id": "Dwu3Knpua2PI"
      },
      "execution_count": 43,
      "outputs": []
    },
    {
      "cell_type": "code",
      "source": [
        "from scipy.spatial.distance import directed_hausdorff"
      ],
      "metadata": {
        "id": "oIohIAFPIfeO"
      },
      "execution_count": 44,
      "outputs": []
    },
    {
      "cell_type": "code",
      "source": [
        "def hausdorff(outputs, segmentations): # for region for every image\n",
        "  # print(outputs.shape)\n",
        "  # print(segmentations.shape)\n",
        "\n",
        "  # for each image in batch\n",
        "  h_imgs = [0,0,0]\n",
        "  len_imgs = len(outputs)\n",
        "\n",
        "  for idx in range(len_imgs): # for each image\n",
        "    out = outputs[idx]\n",
        "    seg = segmentations[idx]\n",
        "    n_classes = out.shape[0]\n",
        "    # print(n_classes)\n",
        "\n",
        "    region_hd_scores = []\n",
        "    for i in range(n_classes): # for each class\n",
        "      region_out = out[i]\n",
        "      region_seg = seg[i]\n",
        "      # print(region_out.shape)\n",
        "      # print(region_seg.shape)\n",
        "\n",
        "      total_hd_image = 0\n",
        "      for j in range(region_out.shape[0]): # for each slice\n",
        "        out_slice = region_out[j]\n",
        "        seg_slice = region_seg[j]\n",
        "        # print(out_slice.shape)\n",
        "        # print(seg_slice.shape)\n",
        "        a = directed_hausdorff(out_slice, seg_slice)[0]\n",
        "        b = directed_hausdorff(seg_slice, out_slice)[0]\n",
        "        hd_slice = max(a, b)\n",
        "        total_hd_image += hd_slice\n",
        "      avg_hd_image = total_hd_image/region_out.shape[0]\n",
        "      # print(avg_hd_image)\n",
        "      region_hd_scores.append(avg_hd_image)\n",
        "    # print(region_hd95_scores)\n",
        "    h_imgs[0] += region_hd_scores[0]\n",
        "    h_imgs[1] += region_hd_scores[1]\n",
        "    h_imgs[2] += region_hd_scores[2]\n",
        "  \n",
        "  for each in range(len(h_imgs)):\n",
        "    h_imgs[each] = h_imgs[each]/len_imgs\n",
        "  \n",
        "  print(h_imgs)\n",
        "\n",
        "  return h_imgs"
      ],
      "metadata": {
        "id": "c1TAjdlxmbPJ"
      },
      "execution_count": 45,
      "outputs": []
    },
    {
      "cell_type": "code",
      "source": [
        "\"\"\"\n",
        "1 NECROTIC TUMOUR CORE (NCR — label 1) - index 0\n",
        "\n",
        "2 GD-ENHANCING TUMOUR (ET — label 2) - index 1\n",
        "\n",
        "3 PERITUMORAL EDEMATOUS/INVADED TISSUE (ED — label 3) - index 2\n",
        "\"\"\""
      ],
      "metadata": {
        "colab": {
          "base_uri": "https://localhost:8080/",
          "height": 53
        },
        "id": "OfkZYmisbLSt",
        "outputId": "a6d2e689-bf4d-4ec0-cb67-95579e469ced"
      },
      "execution_count": 46,
      "outputs": [
        {
          "output_type": "execute_result",
          "data": {
            "text/plain": [
              "'\\n1 NECROTIC TUMOUR CORE (NCR — label 1) - index 0\\n\\n2 GD-ENHANCING TUMOUR (ET — label 2) - index 1\\n\\n3 PERITUMORAL EDEMATOUS/INVADED TISSUE (ED — label 3) - index 2\\n'"
            ],
            "application/vnd.google.colaboratory.intrinsic+json": {
              "type": "string"
            }
          },
          "metadata": {},
          "execution_count": 46
        }
      ]
    },
    {
      "cell_type": "code",
      "source": [
        "for images, segs in testingloader:\n",
        "    with torch.no_grad():\n",
        "      print(len(images), len(segs))\n",
        "      print(images.shape)\n",
        "      print(segs.shape)\n",
        "      # exclude first dimension of 1\n",
        "      images = images.squeeze().clone().detach().requires_grad_(True)\n",
        "      # segs = segs.long() - no\n",
        "      segs = segs.squeeze().clone().detach().requires_grad_(True)\n",
        "      print(images.shape)\n",
        "      print(segs.shape)\n",
        "      class1_probabilities, class2_probabilities, class3_probabilities = model(images) # put images through model\n",
        "      # basically each classx_probabilities has 3 items each with 2 images in them\n",
        "      print(len(class1_probabilities))\n",
        "      print(class1_probabilities[2].shape)\n",
        "      print(class2_probabilities[2].shape)\n",
        "      print(class3_probabilities[2].shape)\n",
        "\n",
        "      activated_outputs = torch.cat((class1_probabilities[2].unsqueeze(dim=1), class2_probabilities[2].unsqueeze(dim=1), class3_probabilities[2].unsqueeze(dim=1)),dim=1)\n",
        "      print(activated_outputs.shape)\n",
        "      \n",
        "      region_scores = dice_score(activated_outputs, segs)\n",
        "\n",
        "      print(\"\\n\", \".......\"*5, \"\\n\")\n",
        "\n",
        "      print(len(region_scores))\n",
        "      print(region_scores)\n",
        "      print()\n",
        "\n",
        "      print(\"1 NECROTIC TUMOUR CORE (NCR — label 1)\")\n",
        "      print(region_scores[0].item())\n",
        "      print()\n",
        "\n",
        "      print(\"2 GD-ENHANCING TUMOUR (ET — label 2)\")\n",
        "      print(region_scores[1].item())\n",
        "      print()\n",
        "\n",
        "      print(\"3 PERITUMORAL EDEMATOUS/INVADED TISSUE (ED — label 3)\")\n",
        "      print(region_scores[2].item())\n",
        "\n",
        "      print(\"\\n\", \".......\"*5, \"\\n\")\n",
        "\n",
        "      hd_scores = hausdorff(activated_outputs, segs)\n",
        "\n",
        "      print()\n",
        "      print(len(hd_scores))\n",
        "      print(hd_scores)\n",
        "      print()\n",
        "\n",
        "      print(\"1 NECROTIC TUMOUR CORE (NCR — label 1)\")\n",
        "      print(hd_scores[0])\n",
        "      print()\n",
        "\n",
        "      print(\"2 GD-ENHANCING TUMOUR (ET — label 2)\")\n",
        "      print(hd_scores[1])\n",
        "      print()\n",
        "\n",
        "      print(\"3 PERITUMORAL EDEMATOUS/INVADED TISSUE (ED — label 3)\")\n",
        "      print(hd_scores[2])"
      ],
      "metadata": {
        "colab": {
          "base_uri": "https://localhost:8080/"
        },
        "id": "85vxP7TmbLzJ",
        "outputId": "4faf3591-775a-445e-e35a-59cf67dbe83d"
      },
      "execution_count": 47,
      "outputs": [
        {
          "output_type": "stream",
          "name": "stdout",
          "text": [
            "2 2\n",
            "torch.Size([2, 1, 4, 128, 128, 128])\n",
            "torch.Size([2, 1, 3, 128, 128, 128])\n",
            "torch.Size([2, 4, 128, 128, 128])\n",
            "torch.Size([2, 3, 128, 128, 128])\n",
            "torch.Size([2, 4, 128, 128, 128])\n",
            "torch.Size([2, 32, 128, 128, 128])\n",
            "torch.Size([2, 64, 64, 64, 64])\n",
            "torch.Size([2, 128, 32, 32, 32])\n",
            "torch.Size([2, 256, 16, 16, 16])\n",
            "torch.Size([2, 320, 8, 8, 8])\n",
            "torch.Size([2, 320, 4, 4, 4])\n",
            "torch.Size([2, 256, 8, 8, 8])\n",
            "torch.Size([2, 128, 16, 16, 16])\n",
            "torch.Size([2, 64, 32, 32, 32])\n",
            "torch.Size([2, 3, 32, 32, 32])\n",
            "sigmoid\n",
            "torch.Size([2, 32, 32, 32])\n",
            "torch.Size([2, 32, 32, 32])\n",
            "torch.Size([2, 32, 32, 32])\n",
            "torch.Size([2, 32, 64, 64, 64])\n",
            "torch.Size([2, 3, 64, 64, 64])\n",
            "sigmoid\n",
            "torch.Size([2, 64, 64, 64])\n",
            "torch.Size([2, 64, 64, 64])\n",
            "torch.Size([2, 64, 64, 64])\n",
            "torch.Size([2, 32, 128, 128, 128])\n",
            "torch.Size([2, 3, 128, 128, 128])\n",
            "sigmoid\n",
            "torch.Size([2, 128, 128, 128])\n",
            "torch.Size([2, 128, 128, 128])\n",
            "torch.Size([2, 128, 128, 128])\n",
            "3 3 3\n",
            "2 2 2\n",
            "3\n",
            "torch.Size([2, 128, 128, 128])\n",
            "torch.Size([2, 128, 128, 128])\n",
            "torch.Size([2, 128, 128, 128])\n",
            "torch.Size([2, 3, 128, 128, 128])\n",
            "\n",
            " ................................... \n",
            "\n",
            "3\n",
            "[tensor(0.4933), tensor(0.4933), tensor(0.4933)]\n",
            "\n",
            "1 NECROTIC TUMOUR CORE (NCR — label 1)\n",
            "0.4932918846607208\n",
            "\n",
            "2 GD-ENHANCING TUMOUR (ET — label 2)\n",
            "0.4932918846607208\n",
            "\n",
            "3 PERITUMORAL EDEMATOUS/INVADED TISSUE (ED — label 3)\n",
            "0.4932918846607208\n",
            "\n",
            " ................................... \n",
            "\n",
            "[3.51494225798546, 3.5367064244489113, 3.5175081520577693]\n",
            "\n",
            "3\n",
            "[3.51494225798546, 3.5367064244489113, 3.5175081520577693]\n",
            "\n",
            "1 NECROTIC TUMOUR CORE (NCR — label 1)\n",
            "3.51494225798546\n",
            "\n",
            "2 GD-ENHANCING TUMOUR (ET — label 2)\n",
            "3.5367064244489113\n",
            "\n",
            "3 PERITUMORAL EDEMATOUS/INVADED TISSUE (ED — label 3)\n",
            "3.5175081520577693\n"
          ]
        }
      ]
    }
  ]
}