{
  "nbformat": 4,
  "nbformat_minor": 0,
  "metadata": {
    "colab": {
      "provenance": [],
      "collapsed_sections": [],
      "machine_shape": "hm"
    },
    "kernelspec": {
      "name": "python3",
      "display_name": "Python 3"
    },
    "language_info": {
      "name": "python"
    },
    "gpuClass": "standard",
    "accelerator": "TPU"
  },
  "cells": [
    {
      "cell_type": "code",
      "execution_count": 1,
      "metadata": {
        "id": "OXG09_X81jA7"
      },
      "outputs": [],
      "source": [
        "import torch\n",
        "import torch.nn as nn\n",
        "import scipy.ndimage"
      ]
    },
    {
      "cell_type": "code",
      "source": [
        "class HDC_Block(nn.Module):\n",
        "  def __init__(self, channels):\n",
        "    super().__init__()\n",
        "    # my assumption was that if you wanted a convolution with 3x3x1, you couldn't have it be 3d and specify the kernel size like that\n",
        "    # however, looking at the code implementation, you can do that\n",
        "    self.one_one_one1 = nn.Conv3d(channels, channels, kernel_size=1, stride=1)\n",
        "    self.three_three_one = nn.Conv3d(8, 8, kernel_size=(3,3,1), padding=(1,1,0))\n",
        "    self.one_three_three = nn.Conv3d(channels, channels, kernel_size=(1,3,3), padding=(0,1,1))\n",
        "  def forward(self, x):\n",
        "    x1 = self.one_one_one1(x)\n",
        "    print(x1.shape)\n",
        "\n",
        "    # [2, 32, 64, 64, 64]\n",
        "\n",
        "    print(\"channel groups\")\n",
        "    channel_group1 = x1[:, 0:8, :, :, :] # one modality\n",
        "    print(channel_group1.shape)\n",
        "\n",
        "    channel_group2 = x1[:, 8:16, :, :, :]\n",
        "    print(channel_group2.shape)\n",
        "\n",
        "    channel_group3 = x1[:, 16:24, :, :, :]\n",
        "    print(channel_group3.shape)\n",
        "\n",
        "    channel_group4 = x1[:, 24:32, :, :, :]\n",
        "    print(channel_group4.shape)\n",
        "\n",
        "    x2 = self.three_three_one(channel_group2)\n",
        "    print(x2.shape)\n",
        "    x3 = self.three_three_one(channel_group3+x2)\n",
        "    print(x3.shape)\n",
        "    x4 = self.three_three_one(channel_group4+x3)\n",
        "    print(x4.shape)\n",
        "\n",
        "    end = torch.cat([channel_group1, x2, x3, x4], dim=1)\n",
        "    print(end.shape)\n",
        "\n",
        "    x5 = self.one_one_one1(end)\n",
        "    print(x5.shape)\n",
        "\n",
        "    out = self.one_three_three(x5)\n",
        "    print(out.shape)\n",
        "    return out"
      ],
      "metadata": {
        "id": "5EfLQVgJ7r5n"
      },
      "execution_count": 2,
      "outputs": []
    },
    {
      "cell_type": "code",
      "source": [
        "x = torch.rand(size=(2, 32, 64, 64, 64), dtype=torch.float32)\n",
        "print(x.shape)\n",
        "\n",
        "model = HDC_Block(32)\n",
        "print(model)\n",
        "print()\n",
        "\n",
        "out = model(x)"
      ],
      "metadata": {
        "colab": {
          "base_uri": "https://localhost:8080/"
        },
        "id": "rCTjnTjRKHJN",
        "outputId": "7d910591-06aa-4355-c375-351dae771c55"
      },
      "execution_count": 3,
      "outputs": [
        {
          "output_type": "stream",
          "name": "stdout",
          "text": [
            "torch.Size([2, 32, 64, 64, 64])\n",
            "HDC_Block(\n",
            "  (one_one_one1): Conv3d(32, 32, kernel_size=(1, 1, 1), stride=(1, 1, 1))\n",
            "  (three_three_one): Conv3d(8, 8, kernel_size=(3, 3, 1), stride=(1, 1, 1), padding=(1, 1, 0))\n",
            "  (one_three_three): Conv3d(32, 32, kernel_size=(1, 3, 3), stride=(1, 1, 1), padding=(0, 1, 1))\n",
            ")\n",
            "\n",
            "torch.Size([2, 32, 64, 64, 64])\n",
            "channel groups\n",
            "torch.Size([2, 8, 64, 64, 64])\n",
            "torch.Size([2, 8, 64, 64, 64])\n",
            "torch.Size([2, 8, 64, 64, 64])\n",
            "torch.Size([2, 8, 64, 64, 64])\n",
            "torch.Size([2, 8, 64, 64, 64])\n",
            "torch.Size([2, 8, 64, 64, 64])\n",
            "torch.Size([2, 8, 64, 64, 64])\n",
            "torch.Size([2, 32, 64, 64, 64])\n",
            "torch.Size([2, 32, 64, 64, 64])\n",
            "torch.Size([2, 32, 64, 64, 64])\n"
          ]
        }
      ]
    },
    {
      "cell_type": "code",
      "source": [
        "class HDC_Net(nn.Module):\n",
        "  def __init__(self, x):\n",
        "    super().__init__()\n",
        "    # self.pds = torch.nn.functional.interpolate(x)\n",
        "    self.conv1 = nn.Conv3d(in_channels=4, out_channels=32, kernel_size=3, padding=1, stride=1)\n",
        "    self.downsample = nn.Conv3d(32, 32, kernel_size=2, stride=2)\n",
        "    self.HDC = HDC_Block(32)\n",
        "    self.upsample = nn.ConvTranspose3d(32, 32, kernel_size=2, stride=2)\n",
        "    self.upinterpolate = nn.Upsample(scale_factor=2, mode='trilinear')\n",
        "    self.conv2 = nn.Conv3d(in_channels=32, out_channels=3, kernel_size=1, stride=1)\n",
        "    self.softmax = nn.Softmax(dim=1)\n",
        "  def forward(self, x):\n",
        "    print(x.shape)\n",
        "    nimages, channels, width, height, depth = x.shape\n",
        "    print(nimages, channels, width, height, depth)\n",
        "    print(x.type)\n",
        "    # x1 = torch.tensor(scipy.ndimage.zoom(x, [1, 8.0, 0.5, 0.5, 0.5])) # using this function took about 2 minutes and for many images, it's not reasonable\n",
        "    x1 = torch.nn.functional.interpolate(x, scale_factor=[0.5, 0.5, 0.5]) # PDS - interpolate only looks at dim 2,3,4... (doesn't regard for channel and number of images)\n",
        "    # instead, I used torch.nn.functional.interpolate to interpolate the spatial dimensions, but for the channels I used a 1x1x1 conv\n",
        "    # because they did want to avoid using 3x3x3 conv and it will work same\n",
        "    print(x1.shape)\n",
        "    x1 = self.conv1(x1)\n",
        "    print(x1.shape)\n",
        "\n",
        "    x2 = self.HDC(x1)\n",
        "    print(x2.shape)\n",
        "    print()\n",
        "    x3 = self.downsample(x2)\n",
        "    print(x3.shape)\n",
        "\n",
        "    x4 = self.HDC(x3)\n",
        "    print(x4.shape)\n",
        "    print()\n",
        "    x5 = self.downsample(x4)\n",
        "    print(x5.shape)\n",
        "\n",
        "    x6 = self.HDC(x5)\n",
        "    print(x6.shape)\n",
        "    print()\n",
        "    x7 = self.downsample(x6)\n",
        "    print(x7.shape)\n",
        "\n",
        "    x8 = self.HDC(x7)\n",
        "    print(x8.shape)\n",
        "    print()\n",
        "\n",
        "    print(\"decoder time\")\n",
        "\n",
        "    x9 = self.upsample(x8)\n",
        "    print(x9.shape)\n",
        "    x10 = torch.add(x9, x6)\n",
        "    print(x10.shape)\n",
        "    x11 = self.HDC(x10)\n",
        "    print(x11.shape)\n",
        "\n",
        "    x12 = self.upsample(x11)\n",
        "    print(x12.shape)\n",
        "    x13 = torch.add(x12, x4)\n",
        "    print(x13.shape)\n",
        "    x14 = self.HDC(x13)\n",
        "    print(x14.shape)\n",
        "\n",
        "    x15 = self.upsample(x14)\n",
        "    print(x15.shape)\n",
        "    x16 = torch.add(x15, x2)\n",
        "    print(x16.shape)\n",
        "    x17 = self.HDC(x16)\n",
        "    print(x17.shape)\n",
        "\n",
        "    print(\"\\nupsampling\\n\") # by this they meant interpolation\n",
        "\n",
        "    x18 = self.upinterpolate(x17)\n",
        "    print(x18.shape)\n",
        "\n",
        "    x19 = self.conv2(x18)\n",
        "    print(x19.shape)\n",
        "\n",
        "    out = self.softmax(x19)\n",
        "    print(out.shape)\n",
        "\n",
        "    return x19, out"
      ],
      "metadata": {
        "id": "FnUEVd9i3bS8"
      },
      "execution_count": 4,
      "outputs": []
    },
    {
      "cell_type": "code",
      "source": [
        "x = torch.rand(size=(2, 4, 128, 128, 128), dtype=torch.float32)\n",
        "print(x.shape)\n",
        "\n",
        "model = HDC_Net(x)\n",
        "print(model)\n",
        "print()\n",
        "\n",
        "# out = model(x)\n",
        "# print(out.shape)"
      ],
      "metadata": {
        "colab": {
          "base_uri": "https://localhost:8080/"
        },
        "id": "0Bf1ybX73Wjd",
        "outputId": "ea431b17-ee27-4522-e944-5596c3396d84"
      },
      "execution_count": 5,
      "outputs": [
        {
          "output_type": "stream",
          "name": "stdout",
          "text": [
            "torch.Size([2, 4, 128, 128, 128])\n",
            "HDC_Net(\n",
            "  (conv1): Conv3d(4, 32, kernel_size=(3, 3, 3), stride=(1, 1, 1), padding=(1, 1, 1))\n",
            "  (downsample): Conv3d(32, 32, kernel_size=(2, 2, 2), stride=(2, 2, 2))\n",
            "  (HDC): HDC_Block(\n",
            "    (one_one_one1): Conv3d(32, 32, kernel_size=(1, 1, 1), stride=(1, 1, 1))\n",
            "    (three_three_one): Conv3d(8, 8, kernel_size=(3, 3, 1), stride=(1, 1, 1), padding=(1, 1, 0))\n",
            "    (one_three_three): Conv3d(32, 32, kernel_size=(1, 3, 3), stride=(1, 1, 1), padding=(0, 1, 1))\n",
            "  )\n",
            "  (upsample): ConvTranspose3d(32, 32, kernel_size=(2, 2, 2), stride=(2, 2, 2))\n",
            "  (upinterpolate): Upsample(scale_factor=2.0, mode=trilinear)\n",
            "  (conv2): Conv3d(32, 3, kernel_size=(1, 1, 1), stride=(1, 1, 1))\n",
            "  (softmax): Softmax(dim=1)\n",
            ")\n",
            "\n"
          ]
        }
      ]
    },
    {
      "cell_type": "code",
      "source": [
        "# output, probability = out"
      ],
      "metadata": {
        "id": "Z4lqjhQl9QRF"
      },
      "execution_count": 6,
      "outputs": []
    },
    {
      "cell_type": "code",
      "source": [
        "# print(output.shape)\n",
        "# print(output)"
      ],
      "metadata": {
        "id": "dX3XHUnj9SiF"
      },
      "execution_count": 7,
      "outputs": []
    },
    {
      "cell_type": "code",
      "source": [
        "# print(probability.shape)\n",
        "# print(probability)"
      ],
      "metadata": {
        "id": "3NRhxzDM9Z8n"
      },
      "execution_count": 8,
      "outputs": []
    },
    {
      "cell_type": "code",
      "source": [
        "import numpy as np"
      ],
      "metadata": {
        "id": "KYmHvHW0gvIB"
      },
      "execution_count": 9,
      "outputs": []
    },
    {
      "cell_type": "code",
      "source": [
        "randomized_training_images = []\n",
        "for i in range(2):\n",
        "  newx = torch.rand(size=(1, 4, 128, 128, 128), dtype=torch.float32)\n",
        "  randomized_training_images.append(newx)"
      ],
      "metadata": {
        "id": "lRm-uxBpgzku"
      },
      "execution_count": 10,
      "outputs": []
    },
    {
      "cell_type": "code",
      "source": [
        "print(len(randomized_training_images))\n",
        "print(randomized_training_images[0].shape)\n",
        "# print(randomized_training_images[0])"
      ],
      "metadata": {
        "colab": {
          "base_uri": "https://localhost:8080/"
        },
        "id": "zOFYVukkg0wi",
        "outputId": "27c589d3-abbf-4ffb-8ed6-d43d46fbb0de"
      },
      "execution_count": 11,
      "outputs": [
        {
          "output_type": "stream",
          "name": "stdout",
          "text": [
            "2\n",
            "torch.Size([1, 4, 128, 128, 128])\n"
          ]
        }
      ]
    },
    {
      "cell_type": "code",
      "source": [
        "randomized_training_segmentations = []\n",
        "for i in range(2):\n",
        "  newy = torch.rand(size=(1, 3, 128, 128, 128), dtype=torch.float32)\n",
        "  randomized_training_segmentations.append(newy)"
      ],
      "metadata": {
        "id": "lLHd0_Jlg2D8"
      },
      "execution_count": 12,
      "outputs": []
    },
    {
      "cell_type": "code",
      "source": [
        "print(len(randomized_training_segmentations))\n",
        "print(randomized_training_segmentations[0].shape)\n",
        "# print(randomized_training_segmentations[1])"
      ],
      "metadata": {
        "colab": {
          "base_uri": "https://localhost:8080/"
        },
        "id": "h-Lpq1Yeg3ta",
        "outputId": "8a84477e-c41a-404b-9a1d-c19720cf5b86"
      },
      "execution_count": 13,
      "outputs": [
        {
          "output_type": "stream",
          "name": "stdout",
          "text": [
            "2\n",
            "torch.Size([1, 3, 128, 128, 128])\n"
          ]
        }
      ]
    },
    {
      "cell_type": "code",
      "source": [
        "randomized_training_data = list(zip(randomized_training_images, randomized_training_segmentations))"
      ],
      "metadata": {
        "id": "nO6zxE6rg48U"
      },
      "execution_count": 14,
      "outputs": []
    },
    {
      "cell_type": "code",
      "source": [
        "trainloader = torch.utils.data.DataLoader(dataset=randomized_training_data, batch_size=2, shuffle=True) # batch size should be 10"
      ],
      "metadata": {
        "id": "tm7kwmsHg6F4"
      },
      "execution_count": 15,
      "outputs": []
    },
    {
      "cell_type": "code",
      "source": [
        "len(trainloader)"
      ],
      "metadata": {
        "colab": {
          "base_uri": "https://localhost:8080/"
        },
        "id": "rVib00lgg7UU",
        "outputId": "bee9bf5d-0391-4174-f851-ac2e9623945f"
      },
      "execution_count": 16,
      "outputs": [
        {
          "output_type": "execute_result",
          "data": {
            "text/plain": [
              "1"
            ]
          },
          "metadata": {},
          "execution_count": 16
        }
      ]
    },
    {
      "cell_type": "code",
      "source": [
        "randomized_validation_images = []\n",
        "for i in range(2):\n",
        "  newy = torch.rand(size=(1, 4, 128, 128, 128), dtype=torch.float32)\n",
        "  randomized_validation_images.append(newy)"
      ],
      "metadata": {
        "id": "0OhQ4jPeg9NF"
      },
      "execution_count": 17,
      "outputs": []
    },
    {
      "cell_type": "code",
      "source": [
        "print(len(randomized_validation_images))\n",
        "print(randomized_validation_images[0].shape)"
      ],
      "metadata": {
        "colab": {
          "base_uri": "https://localhost:8080/"
        },
        "id": "DRQD263Dg_F-",
        "outputId": "4377f450-1307-4754-a8ac-a9af2600300e"
      },
      "execution_count": 18,
      "outputs": [
        {
          "output_type": "stream",
          "name": "stdout",
          "text": [
            "2\n",
            "torch.Size([1, 4, 128, 128, 128])\n"
          ]
        }
      ]
    },
    {
      "cell_type": "code",
      "source": [
        "randomized_validation_segmentations = []\n",
        "for i in range(2):\n",
        "  newy = torch.rand(size=(1, 3, 128, 128, 128), dtype=torch.float32)\n",
        "  randomized_validation_segmentations.append(newy)"
      ],
      "metadata": {
        "id": "gRq6qPWAhBSd"
      },
      "execution_count": 19,
      "outputs": []
    },
    {
      "cell_type": "code",
      "source": [
        "print(len(randomized_validation_segmentations))\n",
        "print(randomized_validation_segmentations[0].shape)"
      ],
      "metadata": {
        "colab": {
          "base_uri": "https://localhost:8080/"
        },
        "id": "JsV3ZlvFhCrk",
        "outputId": "dd92cb79-f9cb-4069-c980-5f2177e1fc91"
      },
      "execution_count": 20,
      "outputs": [
        {
          "output_type": "stream",
          "name": "stdout",
          "text": [
            "2\n",
            "torch.Size([1, 3, 128, 128, 128])\n"
          ]
        }
      ]
    },
    {
      "cell_type": "code",
      "source": [
        "randomized_validation_data = list(zip(randomized_validation_images, randomized_validation_segmentations))"
      ],
      "metadata": {
        "id": "2jXVLmIvhDxh"
      },
      "execution_count": 21,
      "outputs": []
    },
    {
      "cell_type": "code",
      "source": [
        "validationloader = torch.utils.data.DataLoader(dataset=randomized_validation_data, batch_size=2, shuffle=True) # batch size should be 10"
      ],
      "metadata": {
        "id": "-PjukyAkhFP3"
      },
      "execution_count": 22,
      "outputs": []
    },
    {
      "cell_type": "code",
      "source": [
        "len(validationloader)"
      ],
      "metadata": {
        "colab": {
          "base_uri": "https://localhost:8080/"
        },
        "id": "ZPI6wgumhGZA",
        "outputId": "d8453616-b3b2-4b94-ea9f-24004357b4d7"
      },
      "execution_count": 23,
      "outputs": [
        {
          "output_type": "execute_result",
          "data": {
            "text/plain": [
              "1"
            ]
          },
          "metadata": {},
          "execution_count": 23
        }
      ]
    },
    {
      "cell_type": "code",
      "source": [
        "randomized_testing_images = []\n",
        "for i in range(2):\n",
        "  newy = torch.rand(size=(1, 4, 128, 128, 128), dtype=torch.float32)\n",
        "  randomized_testing_images.append(newy)"
      ],
      "metadata": {
        "id": "ggGc5XCNhHu4"
      },
      "execution_count": 24,
      "outputs": []
    },
    {
      "cell_type": "code",
      "source": [
        "print(len(randomized_testing_images))\n",
        "print(randomized_testing_images[0].shape)"
      ],
      "metadata": {
        "colab": {
          "base_uri": "https://localhost:8080/"
        },
        "id": "1VcPrDJhhJHS",
        "outputId": "d0b2f027-e23a-4de4-a838-43502232b5b0"
      },
      "execution_count": 25,
      "outputs": [
        {
          "output_type": "stream",
          "name": "stdout",
          "text": [
            "2\n",
            "torch.Size([1, 4, 128, 128, 128])\n"
          ]
        }
      ]
    },
    {
      "cell_type": "code",
      "source": [
        "randomized_testing_segmentations = []\n",
        "for i in range(2):\n",
        "  newy = torch.rand(size=(1, 3, 128, 128, 128), dtype=torch.float32)\n",
        "  randomized_testing_segmentations.append(newy)"
      ],
      "metadata": {
        "id": "YKFnOHG0hKsv"
      },
      "execution_count": 26,
      "outputs": []
    },
    {
      "cell_type": "code",
      "source": [
        "print(len(randomized_testing_segmentations))\n",
        "print(randomized_testing_segmentations[0].shape)"
      ],
      "metadata": {
        "colab": {
          "base_uri": "https://localhost:8080/"
        },
        "id": "0wkfD4POhMQU",
        "outputId": "aa695617-e9eb-43bd-ce3b-335d9e125ba6"
      },
      "execution_count": 27,
      "outputs": [
        {
          "output_type": "stream",
          "name": "stdout",
          "text": [
            "2\n",
            "torch.Size([1, 3, 128, 128, 128])\n"
          ]
        }
      ]
    },
    {
      "cell_type": "code",
      "source": [
        "randomized_testing_data = list(zip(randomized_testing_images, randomized_testing_segmentations))"
      ],
      "metadata": {
        "id": "qnIpezVFhNt8"
      },
      "execution_count": 28,
      "outputs": []
    },
    {
      "cell_type": "code",
      "source": [
        "testingloader = torch.utils.data.DataLoader(dataset=randomized_testing_data, batch_size=2, shuffle=True) # batch size should be 10"
      ],
      "metadata": {
        "id": "zvIhDCEchQii"
      },
      "execution_count": 29,
      "outputs": []
    },
    {
      "cell_type": "code",
      "source": [
        "\"\"\"\n",
        "Training + Validation:\n",
        "multi-class soft Dice function as the loss function\n",
        "\n",
        "Testing:\n",
        "mean accuracy\n",
        "dice coefficient\n",
        "hausdorff implementation\n",
        "\"\"\""
      ],
      "metadata": {
        "colab": {
          "base_uri": "https://localhost:8080/",
          "height": 35
        },
        "id": "njyI0anWCXzA",
        "outputId": "b95a5f4c-76f4-4371-83af-d6e253942d24"
      },
      "execution_count": 30,
      "outputs": [
        {
          "output_type": "execute_result",
          "data": {
            "text/plain": [
              "'\\nTraining + Validation:\\nmulti-class soft Dice function as the loss function\\n\\nTesting:\\nmean accuracy\\ndice coefficient\\nhausdorff implementation\\n'"
            ],
            "application/vnd.google.colaboratory.intrinsic+json": {
              "type": "string"
            }
          },
          "metadata": {},
          "execution_count": 30
        }
      ]
    },
    {
      "cell_type": "code",
      "source": [
        "# chose to make this a class because when you call dice loss in criterion, you don't have anything to input, but when u run the prediction through inside the training, then you have params\n",
        "# also because most sources I saw used a class\n",
        "class DiceLoss(nn.Module):\n",
        "  def __init__(self):\n",
        "    super().__init__()\n",
        "    self.smooth = 1\n",
        "  def forward(self, true, pred):\n",
        "    # flatten to easily do it pixel by pixel\n",
        "    true = true.view(-1)\n",
        "    pred = pred.view(-1)\n",
        "    numerator = 2*(true*pred).sum()\n",
        "    denominator = true.sum() + pred.sum()\n",
        "    dice_loss = 1 - (numerator + self.smooth) / (denominator + self.smooth)\n",
        "    return dice_loss"
      ],
      "metadata": {
        "id": "j1mhy3eKdCM9"
      },
      "execution_count": 31,
      "outputs": []
    },
    {
      "cell_type": "code",
      "source": [
        "import torch.optim"
      ],
      "metadata": {
        "id": "kvtMJWXLgeJl"
      },
      "execution_count": 32,
      "outputs": []
    },
    {
      "cell_type": "code",
      "source": [
        "# epochs\n",
        "epochs = 2 # should be 800\n",
        "# loss\n",
        "criterion = DiceLoss()\n",
        "# optimizer\n",
        "optimizer = torch.optim.Adam(params=model.parameters(), lr=10**-3, weight_decay=10**-5)"
      ],
      "metadata": {
        "id": "2__9J37GgnAq"
      },
      "execution_count": 33,
      "outputs": []
    },
    {
      "cell_type": "code",
      "source": [
        "import datetime"
      ],
      "metadata": {
        "id": "ZLqeEDDUl1L1"
      },
      "execution_count": 34,
      "outputs": []
    },
    {
      "cell_type": "code",
      "source": [
        "training_losses = []\n",
        "validation_losses = []\n",
        "\n",
        "for i in range(epochs):\n",
        "  start_epoch = datetime.datetime.now()\n",
        "  training_loss = 0\n",
        "  validation_loss = 0\n",
        "  print(\"training time\")\n",
        "  for images, segs in trainloader:\n",
        "    optimizer.zero_grad()\n",
        "    print(len(images), len(segs))\n",
        "    print(images.shape)\n",
        "    print(segs.shape)\n",
        "    images = images.squeeze().clone().detach().requires_grad_(True)\n",
        "    # segs = segs.long() - no\n",
        "    segs = segs.squeeze().clone().detach().requires_grad_(True)\n",
        "    print(images.shape)\n",
        "    print(segs.shape)\n",
        "    outputs, softmax_outputs = model(images)\n",
        "    print(outputs.shape)\n",
        "    print(softmax_outputs.shape)\n",
        "\n",
        "    # arg_outputs = outputs.argmax(dim=1)\n",
        "    # print(arg_outputs.shape)\n",
        "    # print(arg_outputs)\n",
        "    # print(segs.shape)\n",
        "    print()\n",
        "    loss = criterion(softmax_outputs.float(), segs)\n",
        "    print(loss) # loss with random tensors will be really high because none of the tensors are related to each other\n",
        "    \n",
        "    # loss can be > 1 - https://ai.stackexchange.com/questions/24685/can-the-sparse-categorical-cross-entropy-be-greater-than-one, https://stats.stackexchange.com/questions/392681/cross-entropy-loss-max-value\n",
        "    loss.backward()\n",
        "    training_loss += loss.item()\n",
        "    print()\n",
        "  print(\"validation time\")\n",
        "  for images, segs in validationloader:\n",
        "    optimizer.zero_grad()\n",
        "    print(len(images), len(segs))\n",
        "    print(images.shape)\n",
        "    print(segs.shape)\n",
        "    images = images.squeeze().clone().detach().requires_grad_(True)\n",
        "    # segs = segs.long() - no\n",
        "    segs = segs.squeeze().clone().detach().requires_grad_(True)\n",
        "    print(images.shape)\n",
        "    print(segs.shape)\n",
        "    outputs, softmax_outputs = model(images)\n",
        "    print(outputs.shape)\n",
        "    print(softmax_outputs.shape)\n",
        "    loss = criterion(softmax_outputs.float(), segs)\n",
        "    print(loss) # loss with random tensors will be really high because none of the tensors are related to each other\n",
        "    # loss can be > 1 - https://ai.stackexchange.com/questions/24685/can-the-sparse-categorical-cross-entropy-be-greater-than-one, https://stats.stackexchange.com/questions/392681/cross-entropy-loss-max-value\n",
        "    loss.backward()\n",
        "    validation_loss += loss.item()\n",
        "  training_losses.append(training_loss/len(trainloader))\n",
        "  validation_losses.append(validation_loss/len(validationloader))\n",
        "  print(\"Epoch: {}/{}... Training Loss: {}... Validation Loss: {}...\".format(i+1,epochs, training_losses[-1], validation_losses[-1]))\n",
        "  if validation_loss < min(validation_losses):\n",
        "    print(\"Validation loss has decreased...saving model\")\n",
        "    torch.save(model.state_dict(), \"fcn.pth\")\n",
        "  end_epoch = datetime.datetime.now()\n",
        "  time_epoch = end_epoch-start_epoch\n",
        "  print(\"Epoch time:\", str(time_epoch), \"\\n\")\n",
        "  print()"
      ],
      "metadata": {
        "colab": {
          "base_uri": "https://localhost:8080/"
        },
        "id": "F02PVic5gpXT",
        "outputId": "2e613bf5-f150-4b2c-da5d-5d6888e91564"
      },
      "execution_count": 35,
      "outputs": [
        {
          "output_type": "stream",
          "name": "stdout",
          "text": [
            "training time\n",
            "2 2\n",
            "torch.Size([2, 1, 4, 128, 128, 128])\n",
            "torch.Size([2, 1, 3, 128, 128, 128])\n",
            "torch.Size([2, 4, 128, 128, 128])\n",
            "torch.Size([2, 3, 128, 128, 128])\n",
            "torch.Size([2, 4, 128, 128, 128])\n",
            "2 4 128 128 128\n",
            "<built-in method type of Tensor object at 0x7fc45f6e30b0>\n",
            "torch.Size([2, 4, 64, 64, 64])\n",
            "torch.Size([2, 32, 64, 64, 64])\n",
            "torch.Size([2, 32, 64, 64, 64])\n",
            "channel groups\n",
            "torch.Size([2, 8, 64, 64, 64])\n",
            "torch.Size([2, 8, 64, 64, 64])\n",
            "torch.Size([2, 8, 64, 64, 64])\n",
            "torch.Size([2, 8, 64, 64, 64])\n",
            "torch.Size([2, 8, 64, 64, 64])\n",
            "torch.Size([2, 8, 64, 64, 64])\n",
            "torch.Size([2, 8, 64, 64, 64])\n",
            "torch.Size([2, 32, 64, 64, 64])\n",
            "torch.Size([2, 32, 64, 64, 64])\n",
            "torch.Size([2, 32, 64, 64, 64])\n",
            "torch.Size([2, 32, 64, 64, 64])\n",
            "\n",
            "torch.Size([2, 32, 32, 32, 32])\n",
            "torch.Size([2, 32, 32, 32, 32])\n",
            "channel groups\n",
            "torch.Size([2, 8, 32, 32, 32])\n",
            "torch.Size([2, 8, 32, 32, 32])\n",
            "torch.Size([2, 8, 32, 32, 32])\n",
            "torch.Size([2, 8, 32, 32, 32])\n",
            "torch.Size([2, 8, 32, 32, 32])\n",
            "torch.Size([2, 8, 32, 32, 32])\n",
            "torch.Size([2, 8, 32, 32, 32])\n",
            "torch.Size([2, 32, 32, 32, 32])\n",
            "torch.Size([2, 32, 32, 32, 32])\n",
            "torch.Size([2, 32, 32, 32, 32])\n",
            "torch.Size([2, 32, 32, 32, 32])\n",
            "\n",
            "torch.Size([2, 32, 16, 16, 16])\n",
            "torch.Size([2, 32, 16, 16, 16])\n",
            "channel groups\n",
            "torch.Size([2, 8, 16, 16, 16])\n",
            "torch.Size([2, 8, 16, 16, 16])\n",
            "torch.Size([2, 8, 16, 16, 16])\n",
            "torch.Size([2, 8, 16, 16, 16])\n",
            "torch.Size([2, 8, 16, 16, 16])\n",
            "torch.Size([2, 8, 16, 16, 16])\n",
            "torch.Size([2, 8, 16, 16, 16])\n",
            "torch.Size([2, 32, 16, 16, 16])\n",
            "torch.Size([2, 32, 16, 16, 16])\n",
            "torch.Size([2, 32, 16, 16, 16])\n",
            "torch.Size([2, 32, 16, 16, 16])\n",
            "\n",
            "torch.Size([2, 32, 8, 8, 8])\n",
            "torch.Size([2, 32, 8, 8, 8])\n",
            "channel groups\n",
            "torch.Size([2, 8, 8, 8, 8])\n",
            "torch.Size([2, 8, 8, 8, 8])\n",
            "torch.Size([2, 8, 8, 8, 8])\n",
            "torch.Size([2, 8, 8, 8, 8])\n",
            "torch.Size([2, 8, 8, 8, 8])\n",
            "torch.Size([2, 8, 8, 8, 8])\n",
            "torch.Size([2, 8, 8, 8, 8])\n",
            "torch.Size([2, 32, 8, 8, 8])\n",
            "torch.Size([2, 32, 8, 8, 8])\n",
            "torch.Size([2, 32, 8, 8, 8])\n",
            "torch.Size([2, 32, 8, 8, 8])\n",
            "\n",
            "decoder time\n",
            "torch.Size([2, 32, 16, 16, 16])\n",
            "torch.Size([2, 32, 16, 16, 16])\n",
            "torch.Size([2, 32, 16, 16, 16])\n",
            "channel groups\n",
            "torch.Size([2, 8, 16, 16, 16])\n",
            "torch.Size([2, 8, 16, 16, 16])\n",
            "torch.Size([2, 8, 16, 16, 16])\n",
            "torch.Size([2, 8, 16, 16, 16])\n",
            "torch.Size([2, 8, 16, 16, 16])\n",
            "torch.Size([2, 8, 16, 16, 16])\n",
            "torch.Size([2, 8, 16, 16, 16])\n",
            "torch.Size([2, 32, 16, 16, 16])\n",
            "torch.Size([2, 32, 16, 16, 16])\n",
            "torch.Size([2, 32, 16, 16, 16])\n",
            "torch.Size([2, 32, 16, 16, 16])\n",
            "torch.Size([2, 32, 32, 32, 32])\n",
            "torch.Size([2, 32, 32, 32, 32])\n",
            "torch.Size([2, 32, 32, 32, 32])\n",
            "channel groups\n",
            "torch.Size([2, 8, 32, 32, 32])\n",
            "torch.Size([2, 8, 32, 32, 32])\n",
            "torch.Size([2, 8, 32, 32, 32])\n",
            "torch.Size([2, 8, 32, 32, 32])\n",
            "torch.Size([2, 8, 32, 32, 32])\n",
            "torch.Size([2, 8, 32, 32, 32])\n",
            "torch.Size([2, 8, 32, 32, 32])\n",
            "torch.Size([2, 32, 32, 32, 32])\n",
            "torch.Size([2, 32, 32, 32, 32])\n",
            "torch.Size([2, 32, 32, 32, 32])\n",
            "torch.Size([2, 32, 32, 32, 32])\n",
            "torch.Size([2, 32, 64, 64, 64])\n",
            "torch.Size([2, 32, 64, 64, 64])\n",
            "torch.Size([2, 32, 64, 64, 64])\n",
            "channel groups\n",
            "torch.Size([2, 8, 64, 64, 64])\n",
            "torch.Size([2, 8, 64, 64, 64])\n",
            "torch.Size([2, 8, 64, 64, 64])\n",
            "torch.Size([2, 8, 64, 64, 64])\n",
            "torch.Size([2, 8, 64, 64, 64])\n",
            "torch.Size([2, 8, 64, 64, 64])\n",
            "torch.Size([2, 8, 64, 64, 64])\n",
            "torch.Size([2, 32, 64, 64, 64])\n",
            "torch.Size([2, 32, 64, 64, 64])\n",
            "torch.Size([2, 32, 64, 64, 64])\n",
            "torch.Size([2, 32, 64, 64, 64])\n",
            "\n",
            "upsampling\n",
            "\n",
            "torch.Size([2, 32, 128, 128, 128])\n",
            "torch.Size([2, 3, 128, 128, 128])\n",
            "torch.Size([2, 3, 128, 128, 128])\n",
            "torch.Size([2, 3, 128, 128, 128])\n",
            "torch.Size([2, 3, 128, 128, 128])\n",
            "\n",
            "tensor(0.6000, grad_fn=<RsubBackward1>)\n",
            "\n",
            "validation time\n",
            "2 2\n",
            "torch.Size([2, 1, 4, 128, 128, 128])\n",
            "torch.Size([2, 1, 3, 128, 128, 128])\n",
            "torch.Size([2, 4, 128, 128, 128])\n",
            "torch.Size([2, 3, 128, 128, 128])\n",
            "torch.Size([2, 4, 128, 128, 128])\n",
            "2 4 128 128 128\n",
            "<built-in method type of Tensor object at 0x7fc45f695350>\n",
            "torch.Size([2, 4, 64, 64, 64])\n",
            "torch.Size([2, 32, 64, 64, 64])\n",
            "torch.Size([2, 32, 64, 64, 64])\n",
            "channel groups\n",
            "torch.Size([2, 8, 64, 64, 64])\n",
            "torch.Size([2, 8, 64, 64, 64])\n",
            "torch.Size([2, 8, 64, 64, 64])\n",
            "torch.Size([2, 8, 64, 64, 64])\n",
            "torch.Size([2, 8, 64, 64, 64])\n",
            "torch.Size([2, 8, 64, 64, 64])\n",
            "torch.Size([2, 8, 64, 64, 64])\n",
            "torch.Size([2, 32, 64, 64, 64])\n",
            "torch.Size([2, 32, 64, 64, 64])\n",
            "torch.Size([2, 32, 64, 64, 64])\n",
            "torch.Size([2, 32, 64, 64, 64])\n",
            "\n",
            "torch.Size([2, 32, 32, 32, 32])\n",
            "torch.Size([2, 32, 32, 32, 32])\n",
            "channel groups\n",
            "torch.Size([2, 8, 32, 32, 32])\n",
            "torch.Size([2, 8, 32, 32, 32])\n",
            "torch.Size([2, 8, 32, 32, 32])\n",
            "torch.Size([2, 8, 32, 32, 32])\n",
            "torch.Size([2, 8, 32, 32, 32])\n",
            "torch.Size([2, 8, 32, 32, 32])\n",
            "torch.Size([2, 8, 32, 32, 32])\n",
            "torch.Size([2, 32, 32, 32, 32])\n",
            "torch.Size([2, 32, 32, 32, 32])\n",
            "torch.Size([2, 32, 32, 32, 32])\n",
            "torch.Size([2, 32, 32, 32, 32])\n",
            "\n",
            "torch.Size([2, 32, 16, 16, 16])\n",
            "torch.Size([2, 32, 16, 16, 16])\n",
            "channel groups\n",
            "torch.Size([2, 8, 16, 16, 16])\n",
            "torch.Size([2, 8, 16, 16, 16])\n",
            "torch.Size([2, 8, 16, 16, 16])\n",
            "torch.Size([2, 8, 16, 16, 16])\n",
            "torch.Size([2, 8, 16, 16, 16])\n",
            "torch.Size([2, 8, 16, 16, 16])\n",
            "torch.Size([2, 8, 16, 16, 16])\n",
            "torch.Size([2, 32, 16, 16, 16])\n",
            "torch.Size([2, 32, 16, 16, 16])\n",
            "torch.Size([2, 32, 16, 16, 16])\n",
            "torch.Size([2, 32, 16, 16, 16])\n",
            "\n",
            "torch.Size([2, 32, 8, 8, 8])\n",
            "torch.Size([2, 32, 8, 8, 8])\n",
            "channel groups\n",
            "torch.Size([2, 8, 8, 8, 8])\n",
            "torch.Size([2, 8, 8, 8, 8])\n",
            "torch.Size([2, 8, 8, 8, 8])\n",
            "torch.Size([2, 8, 8, 8, 8])\n",
            "torch.Size([2, 8, 8, 8, 8])\n",
            "torch.Size([2, 8, 8, 8, 8])\n",
            "torch.Size([2, 8, 8, 8, 8])\n",
            "torch.Size([2, 32, 8, 8, 8])\n",
            "torch.Size([2, 32, 8, 8, 8])\n",
            "torch.Size([2, 32, 8, 8, 8])\n",
            "torch.Size([2, 32, 8, 8, 8])\n",
            "\n",
            "decoder time\n",
            "torch.Size([2, 32, 16, 16, 16])\n",
            "torch.Size([2, 32, 16, 16, 16])\n",
            "torch.Size([2, 32, 16, 16, 16])\n",
            "channel groups\n",
            "torch.Size([2, 8, 16, 16, 16])\n",
            "torch.Size([2, 8, 16, 16, 16])\n",
            "torch.Size([2, 8, 16, 16, 16])\n",
            "torch.Size([2, 8, 16, 16, 16])\n",
            "torch.Size([2, 8, 16, 16, 16])\n",
            "torch.Size([2, 8, 16, 16, 16])\n",
            "torch.Size([2, 8, 16, 16, 16])\n",
            "torch.Size([2, 32, 16, 16, 16])\n",
            "torch.Size([2, 32, 16, 16, 16])\n",
            "torch.Size([2, 32, 16, 16, 16])\n",
            "torch.Size([2, 32, 16, 16, 16])\n",
            "torch.Size([2, 32, 32, 32, 32])\n",
            "torch.Size([2, 32, 32, 32, 32])\n",
            "torch.Size([2, 32, 32, 32, 32])\n",
            "channel groups\n",
            "torch.Size([2, 8, 32, 32, 32])\n",
            "torch.Size([2, 8, 32, 32, 32])\n",
            "torch.Size([2, 8, 32, 32, 32])\n",
            "torch.Size([2, 8, 32, 32, 32])\n",
            "torch.Size([2, 8, 32, 32, 32])\n",
            "torch.Size([2, 8, 32, 32, 32])\n",
            "torch.Size([2, 8, 32, 32, 32])\n",
            "torch.Size([2, 32, 32, 32, 32])\n",
            "torch.Size([2, 32, 32, 32, 32])\n",
            "torch.Size([2, 32, 32, 32, 32])\n",
            "torch.Size([2, 32, 32, 32, 32])\n",
            "torch.Size([2, 32, 64, 64, 64])\n",
            "torch.Size([2, 32, 64, 64, 64])\n",
            "torch.Size([2, 32, 64, 64, 64])\n",
            "channel groups\n",
            "torch.Size([2, 8, 64, 64, 64])\n",
            "torch.Size([2, 8, 64, 64, 64])\n",
            "torch.Size([2, 8, 64, 64, 64])\n",
            "torch.Size([2, 8, 64, 64, 64])\n",
            "torch.Size([2, 8, 64, 64, 64])\n",
            "torch.Size([2, 8, 64, 64, 64])\n",
            "torch.Size([2, 8, 64, 64, 64])\n",
            "torch.Size([2, 32, 64, 64, 64])\n",
            "torch.Size([2, 32, 64, 64, 64])\n",
            "torch.Size([2, 32, 64, 64, 64])\n",
            "torch.Size([2, 32, 64, 64, 64])\n",
            "\n",
            "upsampling\n",
            "\n",
            "torch.Size([2, 32, 128, 128, 128])\n",
            "torch.Size([2, 3, 128, 128, 128])\n",
            "torch.Size([2, 3, 128, 128, 128])\n",
            "torch.Size([2, 3, 128, 128, 128])\n",
            "torch.Size([2, 3, 128, 128, 128])\n",
            "tensor(0.6001, grad_fn=<RsubBackward1>)\n",
            "Epoch: 1/2... Training Loss: 0.5999929904937744... Validation Loss: 0.600071907043457...\n",
            "Epoch time: 0:00:05.250780 \n",
            "\n",
            "\n",
            "training time\n",
            "2 2\n",
            "torch.Size([2, 1, 4, 128, 128, 128])\n",
            "torch.Size([2, 1, 3, 128, 128, 128])\n",
            "torch.Size([2, 4, 128, 128, 128])\n",
            "torch.Size([2, 3, 128, 128, 128])\n",
            "torch.Size([2, 4, 128, 128, 128])\n",
            "2 4 128 128 128\n",
            "<built-in method type of Tensor object at 0x7fc45f6957d0>\n",
            "torch.Size([2, 4, 64, 64, 64])\n",
            "torch.Size([2, 32, 64, 64, 64])\n",
            "torch.Size([2, 32, 64, 64, 64])\n",
            "channel groups\n",
            "torch.Size([2, 8, 64, 64, 64])\n",
            "torch.Size([2, 8, 64, 64, 64])\n",
            "torch.Size([2, 8, 64, 64, 64])\n",
            "torch.Size([2, 8, 64, 64, 64])\n",
            "torch.Size([2, 8, 64, 64, 64])\n",
            "torch.Size([2, 8, 64, 64, 64])\n",
            "torch.Size([2, 8, 64, 64, 64])\n",
            "torch.Size([2, 32, 64, 64, 64])\n",
            "torch.Size([2, 32, 64, 64, 64])\n",
            "torch.Size([2, 32, 64, 64, 64])\n",
            "torch.Size([2, 32, 64, 64, 64])\n",
            "\n",
            "torch.Size([2, 32, 32, 32, 32])\n",
            "torch.Size([2, 32, 32, 32, 32])\n",
            "channel groups\n",
            "torch.Size([2, 8, 32, 32, 32])\n",
            "torch.Size([2, 8, 32, 32, 32])\n",
            "torch.Size([2, 8, 32, 32, 32])\n",
            "torch.Size([2, 8, 32, 32, 32])\n",
            "torch.Size([2, 8, 32, 32, 32])\n",
            "torch.Size([2, 8, 32, 32, 32])\n",
            "torch.Size([2, 8, 32, 32, 32])\n",
            "torch.Size([2, 32, 32, 32, 32])\n",
            "torch.Size([2, 32, 32, 32, 32])\n",
            "torch.Size([2, 32, 32, 32, 32])\n",
            "torch.Size([2, 32, 32, 32, 32])\n",
            "\n",
            "torch.Size([2, 32, 16, 16, 16])\n",
            "torch.Size([2, 32, 16, 16, 16])\n",
            "channel groups\n",
            "torch.Size([2, 8, 16, 16, 16])\n",
            "torch.Size([2, 8, 16, 16, 16])\n",
            "torch.Size([2, 8, 16, 16, 16])\n",
            "torch.Size([2, 8, 16, 16, 16])\n",
            "torch.Size([2, 8, 16, 16, 16])\n",
            "torch.Size([2, 8, 16, 16, 16])\n",
            "torch.Size([2, 8, 16, 16, 16])\n",
            "torch.Size([2, 32, 16, 16, 16])\n",
            "torch.Size([2, 32, 16, 16, 16])\n",
            "torch.Size([2, 32, 16, 16, 16])\n",
            "torch.Size([2, 32, 16, 16, 16])\n",
            "\n",
            "torch.Size([2, 32, 8, 8, 8])\n",
            "torch.Size([2, 32, 8, 8, 8])\n",
            "channel groups\n",
            "torch.Size([2, 8, 8, 8, 8])\n",
            "torch.Size([2, 8, 8, 8, 8])\n",
            "torch.Size([2, 8, 8, 8, 8])\n",
            "torch.Size([2, 8, 8, 8, 8])\n",
            "torch.Size([2, 8, 8, 8, 8])\n",
            "torch.Size([2, 8, 8, 8, 8])\n",
            "torch.Size([2, 8, 8, 8, 8])\n",
            "torch.Size([2, 32, 8, 8, 8])\n",
            "torch.Size([2, 32, 8, 8, 8])\n",
            "torch.Size([2, 32, 8, 8, 8])\n",
            "torch.Size([2, 32, 8, 8, 8])\n",
            "\n",
            "decoder time\n",
            "torch.Size([2, 32, 16, 16, 16])\n",
            "torch.Size([2, 32, 16, 16, 16])\n",
            "torch.Size([2, 32, 16, 16, 16])\n",
            "channel groups\n",
            "torch.Size([2, 8, 16, 16, 16])\n",
            "torch.Size([2, 8, 16, 16, 16])\n",
            "torch.Size([2, 8, 16, 16, 16])\n",
            "torch.Size([2, 8, 16, 16, 16])\n",
            "torch.Size([2, 8, 16, 16, 16])\n",
            "torch.Size([2, 8, 16, 16, 16])\n",
            "torch.Size([2, 8, 16, 16, 16])\n",
            "torch.Size([2, 32, 16, 16, 16])\n",
            "torch.Size([2, 32, 16, 16, 16])\n",
            "torch.Size([2, 32, 16, 16, 16])\n",
            "torch.Size([2, 32, 16, 16, 16])\n",
            "torch.Size([2, 32, 32, 32, 32])\n",
            "torch.Size([2, 32, 32, 32, 32])\n",
            "torch.Size([2, 32, 32, 32, 32])\n",
            "channel groups\n",
            "torch.Size([2, 8, 32, 32, 32])\n",
            "torch.Size([2, 8, 32, 32, 32])\n",
            "torch.Size([2, 8, 32, 32, 32])\n",
            "torch.Size([2, 8, 32, 32, 32])\n",
            "torch.Size([2, 8, 32, 32, 32])\n",
            "torch.Size([2, 8, 32, 32, 32])\n",
            "torch.Size([2, 8, 32, 32, 32])\n",
            "torch.Size([2, 32, 32, 32, 32])\n",
            "torch.Size([2, 32, 32, 32, 32])\n",
            "torch.Size([2, 32, 32, 32, 32])\n",
            "torch.Size([2, 32, 32, 32, 32])\n",
            "torch.Size([2, 32, 64, 64, 64])\n",
            "torch.Size([2, 32, 64, 64, 64])\n",
            "torch.Size([2, 32, 64, 64, 64])\n",
            "channel groups\n",
            "torch.Size([2, 8, 64, 64, 64])\n",
            "torch.Size([2, 8, 64, 64, 64])\n",
            "torch.Size([2, 8, 64, 64, 64])\n",
            "torch.Size([2, 8, 64, 64, 64])\n",
            "torch.Size([2, 8, 64, 64, 64])\n",
            "torch.Size([2, 8, 64, 64, 64])\n",
            "torch.Size([2, 8, 64, 64, 64])\n",
            "torch.Size([2, 32, 64, 64, 64])\n",
            "torch.Size([2, 32, 64, 64, 64])\n",
            "torch.Size([2, 32, 64, 64, 64])\n",
            "torch.Size([2, 32, 64, 64, 64])\n",
            "\n",
            "upsampling\n",
            "\n",
            "torch.Size([2, 32, 128, 128, 128])\n",
            "torch.Size([2, 3, 128, 128, 128])\n",
            "torch.Size([2, 3, 128, 128, 128])\n",
            "torch.Size([2, 3, 128, 128, 128])\n",
            "torch.Size([2, 3, 128, 128, 128])\n",
            "\n",
            "tensor(0.6000, grad_fn=<RsubBackward1>)\n",
            "\n",
            "validation time\n",
            "2 2\n",
            "torch.Size([2, 1, 4, 128, 128, 128])\n",
            "torch.Size([2, 1, 3, 128, 128, 128])\n",
            "torch.Size([2, 4, 128, 128, 128])\n",
            "torch.Size([2, 3, 128, 128, 128])\n",
            "torch.Size([2, 4, 128, 128, 128])\n",
            "2 4 128 128 128\n",
            "<built-in method type of Tensor object at 0x7fc45f6e3590>\n",
            "torch.Size([2, 4, 64, 64, 64])\n",
            "torch.Size([2, 32, 64, 64, 64])\n",
            "torch.Size([2, 32, 64, 64, 64])\n",
            "channel groups\n",
            "torch.Size([2, 8, 64, 64, 64])\n",
            "torch.Size([2, 8, 64, 64, 64])\n",
            "torch.Size([2, 8, 64, 64, 64])\n",
            "torch.Size([2, 8, 64, 64, 64])\n",
            "torch.Size([2, 8, 64, 64, 64])\n",
            "torch.Size([2, 8, 64, 64, 64])\n",
            "torch.Size([2, 8, 64, 64, 64])\n",
            "torch.Size([2, 32, 64, 64, 64])\n",
            "torch.Size([2, 32, 64, 64, 64])\n",
            "torch.Size([2, 32, 64, 64, 64])\n",
            "torch.Size([2, 32, 64, 64, 64])\n",
            "\n",
            "torch.Size([2, 32, 32, 32, 32])\n",
            "torch.Size([2, 32, 32, 32, 32])\n",
            "channel groups\n",
            "torch.Size([2, 8, 32, 32, 32])\n",
            "torch.Size([2, 8, 32, 32, 32])\n",
            "torch.Size([2, 8, 32, 32, 32])\n",
            "torch.Size([2, 8, 32, 32, 32])\n",
            "torch.Size([2, 8, 32, 32, 32])\n",
            "torch.Size([2, 8, 32, 32, 32])\n",
            "torch.Size([2, 8, 32, 32, 32])\n",
            "torch.Size([2, 32, 32, 32, 32])\n",
            "torch.Size([2, 32, 32, 32, 32])\n",
            "torch.Size([2, 32, 32, 32, 32])\n",
            "torch.Size([2, 32, 32, 32, 32])\n",
            "\n",
            "torch.Size([2, 32, 16, 16, 16])\n",
            "torch.Size([2, 32, 16, 16, 16])\n",
            "channel groups\n",
            "torch.Size([2, 8, 16, 16, 16])\n",
            "torch.Size([2, 8, 16, 16, 16])\n",
            "torch.Size([2, 8, 16, 16, 16])\n",
            "torch.Size([2, 8, 16, 16, 16])\n",
            "torch.Size([2, 8, 16, 16, 16])\n",
            "torch.Size([2, 8, 16, 16, 16])\n",
            "torch.Size([2, 8, 16, 16, 16])\n",
            "torch.Size([2, 32, 16, 16, 16])\n",
            "torch.Size([2, 32, 16, 16, 16])\n",
            "torch.Size([2, 32, 16, 16, 16])\n",
            "torch.Size([2, 32, 16, 16, 16])\n",
            "\n",
            "torch.Size([2, 32, 8, 8, 8])\n",
            "torch.Size([2, 32, 8, 8, 8])\n",
            "channel groups\n",
            "torch.Size([2, 8, 8, 8, 8])\n",
            "torch.Size([2, 8, 8, 8, 8])\n",
            "torch.Size([2, 8, 8, 8, 8])\n",
            "torch.Size([2, 8, 8, 8, 8])\n",
            "torch.Size([2, 8, 8, 8, 8])\n",
            "torch.Size([2, 8, 8, 8, 8])\n",
            "torch.Size([2, 8, 8, 8, 8])\n",
            "torch.Size([2, 32, 8, 8, 8])\n",
            "torch.Size([2, 32, 8, 8, 8])\n",
            "torch.Size([2, 32, 8, 8, 8])\n",
            "torch.Size([2, 32, 8, 8, 8])\n",
            "\n",
            "decoder time\n",
            "torch.Size([2, 32, 16, 16, 16])\n",
            "torch.Size([2, 32, 16, 16, 16])\n",
            "torch.Size([2, 32, 16, 16, 16])\n",
            "channel groups\n",
            "torch.Size([2, 8, 16, 16, 16])\n",
            "torch.Size([2, 8, 16, 16, 16])\n",
            "torch.Size([2, 8, 16, 16, 16])\n",
            "torch.Size([2, 8, 16, 16, 16])\n",
            "torch.Size([2, 8, 16, 16, 16])\n",
            "torch.Size([2, 8, 16, 16, 16])\n",
            "torch.Size([2, 8, 16, 16, 16])\n",
            "torch.Size([2, 32, 16, 16, 16])\n",
            "torch.Size([2, 32, 16, 16, 16])\n",
            "torch.Size([2, 32, 16, 16, 16])\n",
            "torch.Size([2, 32, 16, 16, 16])\n",
            "torch.Size([2, 32, 32, 32, 32])\n",
            "torch.Size([2, 32, 32, 32, 32])\n",
            "torch.Size([2, 32, 32, 32, 32])\n",
            "channel groups\n",
            "torch.Size([2, 8, 32, 32, 32])\n",
            "torch.Size([2, 8, 32, 32, 32])\n",
            "torch.Size([2, 8, 32, 32, 32])\n",
            "torch.Size([2, 8, 32, 32, 32])\n",
            "torch.Size([2, 8, 32, 32, 32])\n",
            "torch.Size([2, 8, 32, 32, 32])\n",
            "torch.Size([2, 8, 32, 32, 32])\n",
            "torch.Size([2, 32, 32, 32, 32])\n",
            "torch.Size([2, 32, 32, 32, 32])\n",
            "torch.Size([2, 32, 32, 32, 32])\n",
            "torch.Size([2, 32, 32, 32, 32])\n",
            "torch.Size([2, 32, 64, 64, 64])\n",
            "torch.Size([2, 32, 64, 64, 64])\n",
            "torch.Size([2, 32, 64, 64, 64])\n",
            "channel groups\n",
            "torch.Size([2, 8, 64, 64, 64])\n",
            "torch.Size([2, 8, 64, 64, 64])\n",
            "torch.Size([2, 8, 64, 64, 64])\n",
            "torch.Size([2, 8, 64, 64, 64])\n",
            "torch.Size([2, 8, 64, 64, 64])\n",
            "torch.Size([2, 8, 64, 64, 64])\n",
            "torch.Size([2, 8, 64, 64, 64])\n",
            "torch.Size([2, 32, 64, 64, 64])\n",
            "torch.Size([2, 32, 64, 64, 64])\n",
            "torch.Size([2, 32, 64, 64, 64])\n",
            "torch.Size([2, 32, 64, 64, 64])\n",
            "\n",
            "upsampling\n",
            "\n",
            "torch.Size([2, 32, 128, 128, 128])\n",
            "torch.Size([2, 3, 128, 128, 128])\n",
            "torch.Size([2, 3, 128, 128, 128])\n",
            "torch.Size([2, 3, 128, 128, 128])\n",
            "torch.Size([2, 3, 128, 128, 128])\n",
            "tensor(0.6001, grad_fn=<RsubBackward1>)\n",
            "Epoch: 2/2... Training Loss: 0.5999929904937744... Validation Loss: 0.600071907043457...\n",
            "Epoch time: 0:00:04.335367 \n",
            "\n",
            "\n"
          ]
        }
      ]
    },
    {
      "cell_type": "code",
      "source": [
        "print(training_losses)\n",
        "print(validation_losses)"
      ],
      "metadata": {
        "id": "g0I2BsZrNHcj",
        "colab": {
          "base_uri": "https://localhost:8080/"
        },
        "outputId": "4a6a7f61-7c7a-4904-d87b-2d468f685dec"
      },
      "execution_count": 36,
      "outputs": [
        {
          "output_type": "stream",
          "name": "stdout",
          "text": [
            "[0.5999929904937744, 0.5999929904937744]\n",
            "[0.600071907043457, 0.600071907043457]\n"
          ]
        }
      ]
    },
    {
      "cell_type": "code",
      "source": [
        "import matplotlib.pyplot as plt"
      ],
      "metadata": {
        "id": "N0NootnrlxW7"
      },
      "execution_count": 37,
      "outputs": []
    },
    {
      "cell_type": "code",
      "source": [
        "# visualize losses\n",
        "plt.plot(training_losses, label=\"Training loss\")\n",
        "plt.plot(validation_losses, label=\"Validation loss\")\n",
        "plt.legend(frameon=False)"
      ],
      "metadata": {
        "colab": {
          "base_uri": "https://localhost:8080/",
          "height": 293
        },
        "id": "lTegyA5-lw3J",
        "outputId": "6f3d3f1f-cf3b-42b3-b144-99052f3e74c7"
      },
      "execution_count": 38,
      "outputs": [
        {
          "output_type": "execute_result",
          "data": {
            "text/plain": [
              "<matplotlib.legend.Legend at 0x7fc3c8c0b110>"
            ]
          },
          "metadata": {},
          "execution_count": 38
        },
        {
          "output_type": "display_data",
          "data": {
            "text/plain": [
              "<Figure size 432x288 with 1 Axes>"
            ],
            "image/png": "[encoded data removed]"
          },
          "metadata": {
            "needs_background": "light"
          }
        }
      ]
    },
    {
      "cell_type": "code",
      "source": [
        "def dice_score(outputs, segmentations): # they find individual\n",
        "  # outputs = torch.Size([2, 3, 128, 128, 128])\n",
        "  # segmentations = torch.Size([2, 3, 128, 128, 128])\n",
        "  # print(outputs.shape)\n",
        "  # print(segmentations.shape)\n",
        "  n_classes = segmentations.shape[1]\n",
        "  region_dice_scores = []\n",
        "  for i in range(n_classes):\n",
        "    outputs = outputs.view(-1)\n",
        "    segmentations = segmentations.view(-1)\n",
        "    numerator = 2*(outputs*segmentations).sum()\n",
        "    denominator = outputs.sum() + segmentations.sum()\n",
        "    dice = (numerator) / (denominator)\n",
        "    region_dice_scores.append(dice)\n",
        "  return region_dice_scores"
      ],
      "metadata": {
        "id": "c8DSrR2MXfHC"
      },
      "execution_count": 39,
      "outputs": []
    },
    {
      "cell_type": "code",
      "source": [
        "# def hausdorff95(outputs, segmentations):\n",
        "#   from scipy.spatial.distance import directed_hausdorff\n",
        "#   # make outputs and segmentations arrays\n",
        "#   outputs = outputs.numpy()\n",
        "#   segmentations = segmentations.numpy()\n",
        "#   hd95 = directed_hausdorff(outputs, outputs)\n",
        "#   print(len(hd95))\n",
        "#   print(hd95)\n",
        "#   return hd95"
      ],
      "metadata": {
        "id": "NNRMOty_IvtZ"
      },
      "execution_count": 40,
      "outputs": []
    },
    {
      "cell_type": "code",
      "source": [
        "\"\"\"\n",
        "1 NECROTIC TUMOUR CORE (NCR — label 1) - index 0\n",
        "\n",
        "2 GD-ENHANCING TUMOUR (ET — label 2) - index 1\n",
        "\n",
        "3 PERITUMORAL EDEMATOUS/INVADED TISSUE (ED — label 3) - index 2\n",
        "\"\"\""
      ],
      "metadata": {
        "colab": {
          "base_uri": "https://localhost:8080/",
          "height": 35
        },
        "id": "liYRO6MtW-H4",
        "outputId": "01a04fa5-a4d5-4613-bff2-601c2dcbd379"
      },
      "execution_count": 41,
      "outputs": [
        {
          "output_type": "execute_result",
          "data": {
            "text/plain": [
              "'\\n1 NECROTIC TUMOUR CORE (NCR — label 1) - index 0\\n\\n2 GD-ENHANCING TUMOUR (ET — label 2) - index 1\\n\\n3 PERITUMORAL EDEMATOUS/INVADED TISSUE (ED — label 3) - index 2\\n'"
            ],
            "application/vnd.google.colaboratory.intrinsic+json": {
              "type": "string"
            }
          },
          "metadata": {},
          "execution_count": 41
        }
      ]
    },
    {
      "cell_type": "code",
      "source": [
        "# from scipy.spatial._hausdorff import directed_hausdorff\n",
        "\n",
        "# def hausdorff_distance(point_set_a, point_set_b):\n",
        "#     difference = point_set_a-point_set_b\n",
        "#     # Calculate the square distances between each two points: |ai - bj|^2.\n",
        "#     square_distances = torch.einsum(\"...i,...i->...\", difference, difference)\n",
        "#     minimum_square_distance_a_to_b = torch.math.reduce_min(square_distances, axis=-1)\n",
        "#     return torch.math.sqrt(torch.math.reduce_max(minimum_square_distance_a_to_b, axis=-1))\n",
        "\n",
        "# # def HausdorffDist(A,B):\n",
        "# #     # Find pairwise distance\n",
        "# #     D_mat = np.sqrt(inner1d(A,A)[np.newaxis].T + inner1d(B,B)-2*(np.dot(A,B.T)))\n",
        "# #     # Find DH\n",
        "# #     dH = np.max(np.array([np.max(np.min(D_mat,axis=0)),np.max(np.min(D_mat,axis=1))]))\n",
        "# #     return(dH)"
      ],
      "metadata": {
        "id": "iNhVDfVdT3hC"
      },
      "execution_count": 42,
      "outputs": []
    },
    {
      "cell_type": "code",
      "source": [
        "# !pip install -q monai\n",
        "# import monai"
      ],
      "metadata": {
        "id": "bQFULhTuYhXQ"
      },
      "execution_count": 43,
      "outputs": []
    },
    {
      "cell_type": "code",
      "source": [
        "# pip install slicer"
      ],
      "metadata": {
        "id": "1b0m-7NeNtUe"
      },
      "execution_count": 44,
      "outputs": []
    },
    {
      "cell_type": "code",
      "source": [
        "# import slicer"
      ],
      "metadata": {
        "id": "RVUyMf-lN4M7"
      },
      "execution_count": 45,
      "outputs": []
    },
    {
      "cell_type": "code",
      "source": [
        "# import slicer.vtkSlicerSegmentComparisonModuleLogicPython\n",
        "# s=getNode('vtkMRMLSegmentationNode1') # Whatever your input is\n",
        "# p1=s.GetClosedSurfaceRepresentation('Segment_1') # Again, depends on your input. If it's not a segmentation then you'll need to access the model nodes\n",
        "# p2=s.GetClosedSurfaceRepresentation('Segment_2')\n",
        "# pdf = slicer.vtkSlicerSegmentComparisonModuleLogic.vtkPolyDataDistanceHistogramFilter()\n",
        "# pdf.SetInputReferencePolyData(p1)\n",
        "# pdf.SetInputComparePolyData(p2)\n",
        "# pdf.Update()\n",
        "# pdf.GetNthPercentileHausdorffDistance(0)"
      ],
      "metadata": {
        "id": "kQ7f3_AZNbnX"
      },
      "execution_count": 46,
      "outputs": []
    },
    {
      "cell_type": "code",
      "source": [
        "# def hausdorff95(outputs, segmentations):\n",
        "#   print(outputs.shape)\n",
        "#   print(segmentations.shape)\n",
        "#   n_classes = segmentations.shape[1]\n",
        "#   region_hd95_scores = []\n",
        "#   for i in range(n_classes):\n",
        "#     region_out = outputs[:, i, :, :, :].numpy()\n",
        "#     region_out = region_out.astype(np.uint8)\n",
        "#     region_seg = segmentations[:, i, :, :, :].numpy()\n",
        "#     region_seg = region_seg.astype(np.uint8)\n",
        "#     print(region_out.shape)\n",
        "#     print(region_seg.shape)\n",
        "#     print(\"\\nya\\n\")\n",
        "#     d = monai.metrics.compute_percent_hausdorff_distance(region_out, region_seg)\n",
        "#     print(\"done\")\n",
        "#     #   print(type(outputs[i]))\n",
        "#     #   print(type(segmentations[i]))\n",
        "#     #   out = outputs[i].numpy()\n",
        "#     #   seg = segmentations[i].numpy()\n",
        "#     #   print(type(out))\n",
        "#     #   print(type(seg))\n",
        "#       # numerator = 2*(outputs*segmentations).sum()\n",
        "#       # denominator = outputs.sum() + segmentations.sum()\n",
        "#       # dice = (numerator) / (denominator)\n",
        "#       # region_scores.append(dice)\n",
        "#   return region_hd95_scores"
      ],
      "metadata": {
        "id": "gtCZvH_KY_rm"
      },
      "execution_count": 47,
      "outputs": []
    },
    {
      "cell_type": "code",
      "source": [
        "# !pip install -q kornia"
      ],
      "metadata": {
        "id": "4tEF3NK3kKW4"
      },
      "execution_count": 48,
      "outputs": []
    },
    {
      "cell_type": "code",
      "source": [
        "# import kornia.losses as losses"
      ],
      "metadata": {
        "id": "FVlPL3ewkaUA"
      },
      "execution_count": 49,
      "outputs": []
    },
    {
      "cell_type": "code",
      "source": [
        "# def hausdorff95(outputs, segmentations):\n",
        "#   print(outputs.shape)\n",
        "#   print(segmentations.shape)\n",
        "#   n_classes = segmentations.shape[1]\n",
        "#   region_hd95_scores = []\n",
        "#   for i in range(n_classes):\n",
        "#     region_out = outputs[:, i, :, :, :].numpy()\n",
        "#     region_out = region_out.astype(np.uint8)\n",
        "#     region_seg = segmentations[:, i, :, :, :].numpy()\n",
        "#     region_seg = region_seg.astype(np.uint8)\n",
        "#     print(region_out.shape)\n",
        "#     print(region_seg.shape)\n",
        "#     print(\"\\nya\\n\")\n",
        "#     d = monai.metrics.compute_percent_hausdorff_distance(region_out, region_seg)\n",
        "#     print(\"done\")\n",
        "#     #   print(type(outputs[i]))\n",
        "#     #   print(type(segmentations[i]))\n",
        "#     #   out = outputs[i].numpy()\n",
        "#     #   seg = segmentations[i].numpy()\n",
        "#     #   print(type(out))\n",
        "#     #   print(type(seg))\n",
        "#       # numerator = 2*(outputs*segmentations).sum()\n",
        "#       # denominator = outputs.sum() + segmentations.sum()\n",
        "#       # dice = (numerator) / (denominator)\n",
        "#       # region_scores.append(dice)\n",
        "#   return region_hd95_scores"
      ],
      "metadata": {
        "id": "JMguaLMojPiW"
      },
      "execution_count": 50,
      "outputs": []
    },
    {
      "cell_type": "code",
      "source": [
        "import math"
      ],
      "metadata": {
        "id": "VQfPcWW2nygw"
      },
      "execution_count": 51,
      "outputs": []
    },
    {
      "cell_type": "code",
      "source": [
        "# def hausdorff95(outputs, segmentations):\n",
        "#   n_classes = segmentations.shape[1]\n",
        "#   region_hd95_scores = []\n",
        "#   for i in range(n_classes):\n",
        "#     region_out = outputs[:, i, :, :, :]\n",
        "#     region_seg = segmentations[:, i, :, :, :]\n",
        "#     print(region_out.shape)\n",
        "#     print(region_seg.shape)\n",
        "#     difference = region_out-region_seg\n",
        "#     # Calculate the square distances between each two points: |ai - bj|^2.\n",
        "#     square_distances = torch.einsum(\"...i,...i->...\", difference, difference)\n",
        "#     print(square_distances.shape)\n",
        "#     minimum_square_distance_a_to_b = torch.min(square_distances, axis=-1)\n",
        "#     next = torch.max(minimum_square_distance_a_to_b, axis=-1)\n",
        "#     # return math.sqrt()"
      ],
      "metadata": {
        "id": "c7-b5TXCncis"
      },
      "execution_count": 52,
      "outputs": []
    },
    {
      "cell_type": "code",
      "source": [
        "# def HausdorffDist(A,B):\n",
        "#     # Find pairwise distance\n",
        "#     D_mat = np.sqrt(inner1d(A,A)[np.newaxis].T + inner1d(B,B)-2*(np.dot(A,B.T)))\n",
        "#     # Find DH\n",
        "#     dH = np.max(np.array([np.max(np.min(D_mat,axis=0)),np.max(np.min(D_mat,axis=1))]))\n",
        "#     return(dH)"
      ],
      "metadata": {
        "id": "_cL_Vv1HpIeT"
      },
      "execution_count": 53,
      "outputs": []
    },
    {
      "cell_type": "code",
      "source": [
        "from scipy.spatial.distance import directed_hausdorff"
      ],
      "metadata": {
        "id": "Xj5rZBc6-aKW"
      },
      "execution_count": 54,
      "outputs": []
    },
    {
      "cell_type": "code",
      "source": [
        "def hausdorff(outputs, segmentations): # for region for every image\n",
        "  # print(outputs.shape)\n",
        "  # print(segmentations.shape)\n",
        "\n",
        "  # for each image in batch\n",
        "  h_imgs = [0,0,0]\n",
        "  len_imgs = len(outputs)\n",
        "\n",
        "  for idx in range(len_imgs): # for each image\n",
        "    out = outputs[idx]\n",
        "    seg = segmentations[idx]\n",
        "    n_classes = out.shape[0]\n",
        "    # print(n_classes)\n",
        "\n",
        "    region_hd_scores = []\n",
        "    for i in range(n_classes): # for each class\n",
        "      region_out = out[i]\n",
        "      region_seg = seg[i]\n",
        "      # print(region_out.shape)\n",
        "      # print(region_seg.shape)\n",
        "\n",
        "      # print()\n",
        "      total_hd_image = 0\n",
        "      for j in range(region_out.shape[0]): # for each slice\n",
        "        out_slice = region_out[j]\n",
        "        seg_slice = region_seg[j]\n",
        "        # print(out_slice.shape)\n",
        "        # print(seg_slice.shape)\n",
        "        a = directed_hausdorff(out_slice, seg_slice)[0]\n",
        "        b = directed_hausdorff(seg_slice, out_slice)[0]\n",
        "        hd_slice = max(a, b)\n",
        "        total_hd_image += hd_slice\n",
        "      avg_hd_image = total_hd_image/region_out.shape[0]\n",
        "      # print(avg_hd_image)\n",
        "      region_hd_scores.append(avg_hd_image)\n",
        "    # print(region_hd95_scores)\n",
        "    h_imgs[0] += region_hd_scores[0]\n",
        "    h_imgs[1] += region_hd_scores[1]\n",
        "    h_imgs[2] += region_hd_scores[2]\n",
        "  \n",
        "  for each in range(len(h_imgs)):\n",
        "    h_imgs[each] = h_imgs[each]/len_imgs\n",
        "  \n",
        "  print(h_imgs)\n",
        "\n",
        "  return h_imgs"
      ],
      "metadata": {
        "id": "EP9p1B_u7CA3"
      },
      "execution_count": 55,
      "outputs": []
    },
    {
      "cell_type": "code",
      "source": [
        "for images, segs in testingloader:\n",
        "    with torch.no_grad():\n",
        "      print(len(images), len(segs))\n",
        "      print(images.shape)\n",
        "      print(segs.shape)\n",
        "      images = images.squeeze().clone().detach().requires_grad_(True)\n",
        "      # segs = segs.long() - no\n",
        "      segs = segs.squeeze().clone().detach().requires_grad_(True)\n",
        "      print(images.shape)\n",
        "      print(segs.shape)\n",
        "      outputs, softmax_outputs = model(images)\n",
        "      print(outputs.shape)\n",
        "      print(softmax_outputs.shape)\n",
        "      print()\n",
        "\n",
        "      print(\"\\n\", \".......\"*5, \"\\n\")\n",
        "\n",
        "      region_dice_scores = dice_score(softmax_outputs, segs)\n",
        "\n",
        "      print(len(region_dice_scores))\n",
        "      print(region_dice_scores)\n",
        "      print()\n",
        "\n",
        "      print(\"1 NECROTIC TUMOUR CORE (NCR — label 1)\")\n",
        "      print(region_dice_scores[0].item())\n",
        "      print()\n",
        "\n",
        "      print(\"2 GD-ENHANCING TUMOUR (ET — label 2)\")\n",
        "      print(region_dice_scores[1].item())\n",
        "      print()\n",
        "\n",
        "      print(\"3 PERITUMORAL EDEMATOUS/INVADED TISSUE (ED — label 3)\")\n",
        "      print(region_dice_scores[2].item())\n",
        "\n",
        "      print(\"\\n\", \".......\"*5, \"\\n\")\n",
        "\n",
        "      hd_scores = hausdorff(softmax_outputs, segs)\n",
        "\n",
        "      print()\n",
        "      print(len(hd_scores))\n",
        "      print(hd_scores)\n",
        "      print()\n",
        "\n",
        "      print(\"1 NECROTIC TUMOUR CORE (NCR — label 1)\")\n",
        "      print(hd_scores[0])\n",
        "      print()\n",
        "\n",
        "      print(\"2 GD-ENHANCING TUMOUR (ET — label 2)\")\n",
        "      print(hd_scores[1])\n",
        "      print()\n",
        "\n",
        "      print(\"3 PERITUMORAL EDEMATOUS/INVADED TISSUE (ED — label 3)\")\n",
        "      print(hd_scores[2])"
      ],
      "metadata": {
        "colab": {
          "base_uri": "https://localhost:8080/"
        },
        "id": "XI2kt2CTXcnm",
        "outputId": "c93c685e-d74d-43a0-d71f-573fbbf39850"
      },
      "execution_count": 57,
      "outputs": [
        {
          "output_type": "stream",
          "name": "stdout",
          "text": [
            "2 2\n",
            "torch.Size([2, 1, 4, 128, 128, 128])\n",
            "torch.Size([2, 1, 3, 128, 128, 128])\n",
            "torch.Size([2, 4, 128, 128, 128])\n",
            "torch.Size([2, 3, 128, 128, 128])\n",
            "torch.Size([2, 4, 128, 128, 128])\n",
            "2 4 128 128 128\n",
            "<built-in method type of Tensor object at 0x7fc3c72d68f0>\n",
            "torch.Size([2, 4, 64, 64, 64])\n",
            "torch.Size([2, 32, 64, 64, 64])\n",
            "torch.Size([2, 32, 64, 64, 64])\n",
            "channel groups\n",
            "torch.Size([2, 8, 64, 64, 64])\n",
            "torch.Size([2, 8, 64, 64, 64])\n",
            "torch.Size([2, 8, 64, 64, 64])\n",
            "torch.Size([2, 8, 64, 64, 64])\n",
            "torch.Size([2, 8, 64, 64, 64])\n",
            "torch.Size([2, 8, 64, 64, 64])\n",
            "torch.Size([2, 8, 64, 64, 64])\n",
            "torch.Size([2, 32, 64, 64, 64])\n",
            "torch.Size([2, 32, 64, 64, 64])\n",
            "torch.Size([2, 32, 64, 64, 64])\n",
            "torch.Size([2, 32, 64, 64, 64])\n",
            "\n",
            "torch.Size([2, 32, 32, 32, 32])\n",
            "torch.Size([2, 32, 32, 32, 32])\n",
            "channel groups\n",
            "torch.Size([2, 8, 32, 32, 32])\n",
            "torch.Size([2, 8, 32, 32, 32])\n",
            "torch.Size([2, 8, 32, 32, 32])\n",
            "torch.Size([2, 8, 32, 32, 32])\n",
            "torch.Size([2, 8, 32, 32, 32])\n",
            "torch.Size([2, 8, 32, 32, 32])\n",
            "torch.Size([2, 8, 32, 32, 32])\n",
            "torch.Size([2, 32, 32, 32, 32])\n",
            "torch.Size([2, 32, 32, 32, 32])\n",
            "torch.Size([2, 32, 32, 32, 32])\n",
            "torch.Size([2, 32, 32, 32, 32])\n",
            "\n",
            "torch.Size([2, 32, 16, 16, 16])\n",
            "torch.Size([2, 32, 16, 16, 16])\n",
            "channel groups\n",
            "torch.Size([2, 8, 16, 16, 16])\n",
            "torch.Size([2, 8, 16, 16, 16])\n",
            "torch.Size([2, 8, 16, 16, 16])\n",
            "torch.Size([2, 8, 16, 16, 16])\n",
            "torch.Size([2, 8, 16, 16, 16])\n",
            "torch.Size([2, 8, 16, 16, 16])\n",
            "torch.Size([2, 8, 16, 16, 16])\n",
            "torch.Size([2, 32, 16, 16, 16])\n",
            "torch.Size([2, 32, 16, 16, 16])\n",
            "torch.Size([2, 32, 16, 16, 16])\n",
            "torch.Size([2, 32, 16, 16, 16])\n",
            "\n",
            "torch.Size([2, 32, 8, 8, 8])\n",
            "torch.Size([2, 32, 8, 8, 8])\n",
            "channel groups\n",
            "torch.Size([2, 8, 8, 8, 8])\n",
            "torch.Size([2, 8, 8, 8, 8])\n",
            "torch.Size([2, 8, 8, 8, 8])\n",
            "torch.Size([2, 8, 8, 8, 8])\n",
            "torch.Size([2, 8, 8, 8, 8])\n",
            "torch.Size([2, 8, 8, 8, 8])\n",
            "torch.Size([2, 8, 8, 8, 8])\n",
            "torch.Size([2, 32, 8, 8, 8])\n",
            "torch.Size([2, 32, 8, 8, 8])\n",
            "torch.Size([2, 32, 8, 8, 8])\n",
            "torch.Size([2, 32, 8, 8, 8])\n",
            "\n",
            "decoder time\n",
            "torch.Size([2, 32, 16, 16, 16])\n",
            "torch.Size([2, 32, 16, 16, 16])\n",
            "torch.Size([2, 32, 16, 16, 16])\n",
            "channel groups\n",
            "torch.Size([2, 8, 16, 16, 16])\n",
            "torch.Size([2, 8, 16, 16, 16])\n",
            "torch.Size([2, 8, 16, 16, 16])\n",
            "torch.Size([2, 8, 16, 16, 16])\n",
            "torch.Size([2, 8, 16, 16, 16])\n",
            "torch.Size([2, 8, 16, 16, 16])\n",
            "torch.Size([2, 8, 16, 16, 16])\n",
            "torch.Size([2, 32, 16, 16, 16])\n",
            "torch.Size([2, 32, 16, 16, 16])\n",
            "torch.Size([2, 32, 16, 16, 16])\n",
            "torch.Size([2, 32, 16, 16, 16])\n",
            "torch.Size([2, 32, 32, 32, 32])\n",
            "torch.Size([2, 32, 32, 32, 32])\n",
            "torch.Size([2, 32, 32, 32, 32])\n",
            "channel groups\n",
            "torch.Size([2, 8, 32, 32, 32])\n",
            "torch.Size([2, 8, 32, 32, 32])\n",
            "torch.Size([2, 8, 32, 32, 32])\n",
            "torch.Size([2, 8, 32, 32, 32])\n",
            "torch.Size([2, 8, 32, 32, 32])\n",
            "torch.Size([2, 8, 32, 32, 32])\n",
            "torch.Size([2, 8, 32, 32, 32])\n",
            "torch.Size([2, 32, 32, 32, 32])\n",
            "torch.Size([2, 32, 32, 32, 32])\n",
            "torch.Size([2, 32, 32, 32, 32])\n",
            "torch.Size([2, 32, 32, 32, 32])\n",
            "torch.Size([2, 32, 64, 64, 64])\n",
            "torch.Size([2, 32, 64, 64, 64])\n",
            "torch.Size([2, 32, 64, 64, 64])\n",
            "channel groups\n",
            "torch.Size([2, 8, 64, 64, 64])\n",
            "torch.Size([2, 8, 64, 64, 64])\n",
            "torch.Size([2, 8, 64, 64, 64])\n",
            "torch.Size([2, 8, 64, 64, 64])\n",
            "torch.Size([2, 8, 64, 64, 64])\n",
            "torch.Size([2, 8, 64, 64, 64])\n",
            "torch.Size([2, 8, 64, 64, 64])\n",
            "torch.Size([2, 32, 64, 64, 64])\n",
            "torch.Size([2, 32, 64, 64, 64])\n",
            "torch.Size([2, 32, 64, 64, 64])\n",
            "torch.Size([2, 32, 64, 64, 64])\n",
            "\n",
            "upsampling\n",
            "\n",
            "torch.Size([2, 32, 128, 128, 128])\n",
            "torch.Size([2, 3, 128, 128, 128])\n",
            "torch.Size([2, 3, 128, 128, 128])\n",
            "torch.Size([2, 3, 128, 128, 128])\n",
            "torch.Size([2, 3, 128, 128, 128])\n",
            "\n",
            "\n",
            " ................................... \n",
            "\n",
            "3\n",
            "[tensor(0.4000), tensor(0.4000), tensor(0.4000)]\n",
            "\n",
            "1 NECROTIC TUMOUR CORE (NCR — label 1)\n",
            "0.39996883273124695\n",
            "\n",
            "2 GD-ENHANCING TUMOUR (ET — label 2)\n",
            "0.39996883273124695\n",
            "\n",
            "3 PERITUMORAL EDEMATOUS/INVADED TISSUE (ED — label 3)\n",
            "0.39996883273124695\n",
            "\n",
            " ................................... \n",
            "\n",
            "[3.911422844038931, 4.385733865284312, 4.3516512121260815]\n",
            "\n",
            "3\n",
            "[3.911422844038931, 4.385733865284312, 4.3516512121260815]\n",
            "\n",
            "1 NECROTIC TUMOUR CORE (NCR — label 1)\n",
            "3.911422844038931\n",
            "\n",
            "2 GD-ENHANCING TUMOUR (ET — label 2)\n",
            "4.385733865284312\n",
            "\n",
            "3 PERITUMORAL EDEMATOUS/INVADED TISSUE (ED — label 3)\n",
            "4.3516512121260815\n"
          ]
        }
      ]
    }
  ]
}