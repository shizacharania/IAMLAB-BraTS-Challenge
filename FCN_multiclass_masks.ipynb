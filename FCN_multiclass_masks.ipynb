{
  "nbformat": 4,
  "nbformat_minor": 0,
  "metadata": {
    "colab": {
      "provenance": [],
      "collapsed_sections": [],
      "machine_shape": "hm"
    },
    "kernelspec": {
      "name": "python3",
      "display_name": "Python 3"
    },
    "language_info": {
      "name": "python"
    },
    "accelerator": "TPU",
    "gpuClass": "standard"
  },
  "cells": [
    {
      "cell_type": "code",
      "execution_count": 1,
      "metadata": {
        "colab": {
          "base_uri": "https://localhost:8080/",
          "height": 107
        },
        "id": "sekni6kJ5Cby",
        "outputId": "d2d84d72-66d2-401c-a515-d011ef3f5ced"
      },
      "outputs": [
        {
          "output_type": "execute_result",
          "data": {
            "text/plain": [
              "'\\nNotes on this model: https://shizacharania.notion.site/FCN-Fully-Convolutional-Network-bbc70d47ad92491cb534e2987ac7eb48\\n\\nclass convBlock (because you have 6 so its more feasible)\\n  - conv3d 3x3 (increase channels)\\n  - relu\\n  - conv3d 3x3 (same channels)\\n  - relu\\n  - max pool = conv with same channels, but stride is 2 and kernel is 2 (just like max pool layer)\\n\\n  ~~~~~~~~~~~~~~~~~~\\n\\n  - convtranspose3d = deconv increased channels, but stride is 2 and kernel is 3 (combining steps) - this is approach one\\n \\n  ~~~~~~~~~~~~~~~~~~\\n\\n  approach 2:\\n  - convtranspose3d = deconv with same channels, but stride is 2 and kernel is 2 (to increase spatial size)\\n  - conv 3x3 (less channels)\\n\\n  ~~~~~~~~~~~~~~~~~~\\n\\n  torch.add - for element wise summation\\n'"
            ],
            "application/vnd.google.colaboratory.intrinsic+json": {
              "type": "string"
            }
          },
          "metadata": {},
          "execution_count": 1
        }
      ],
      "source": [
        "\"\"\"\n",
        "Notes on this model: https://shizacharania.notion.site/FCN-Fully-Convolutional-Network-bbc70d47ad92491cb534e2987ac7eb48\n",
        "\n",
        "class convBlock (because you have 6 so its more feasible)\n",
        "  - conv3d 3x3 (increase channels)\n",
        "  - relu\n",
        "  - conv3d 3x3 (same channels)\n",
        "  - relu\n",
        "  - max pool = conv with same channels, but stride is 2 and kernel is 2 (just like max pool layer)\n",
        "\n",
        "  ~~~~~~~~~~~~~~~~~~\n",
        "\n",
        "  - convtranspose3d = deconv increased channels, but stride is 2 and kernel is 3 (combining steps) - this is approach one\n",
        " \n",
        "  ~~~~~~~~~~~~~~~~~~\n",
        "\n",
        "  approach 2:\n",
        "  - convtranspose3d = deconv with same channels, but stride is 2 and kernel is 2 (to increase spatial size)\n",
        "  - conv 3x3 (less channels)\n",
        "\n",
        "  ~~~~~~~~~~~~~~~~~~\n",
        "\n",
        "  torch.add - for element wise summation\n",
        "\"\"\""
      ]
    },
    {
      "cell_type": "code",
      "source": [
        "import torch\n",
        "import torch.nn as nn"
      ],
      "metadata": {
        "id": "s_yRAVKD5k6X"
      },
      "execution_count": 2,
      "outputs": []
    },
    {
      "cell_type": "code",
      "source": [
        "class ConvBlockEncoder(nn.Module): # need to add nn.Module here\n",
        "  def __init__(self, input_channels, output_channels): # need to add variables needed here\n",
        "    super().__init__()\n",
        "    self.convblock1 = nn.Conv3d(in_channels=input_channels, out_channels=output_channels, kernel_size=3, padding=1)\n",
        "    self.relu = nn.ReLU()\n",
        "    self.convblock2 = nn.Conv3d(in_channels=output_channels, out_channels=output_channels, kernel_size=3, padding=1)\n",
        "    self.downsample = nn.Conv3d(in_channels=output_channels, out_channels=output_channels, kernel_size=2, stride=2)\n",
        "\n",
        "  def forward(self, x): # x represents the input\n",
        "    x = self.convblock1(x)\n",
        "    x = self.relu(x)\n",
        "    x = self.convblock2(x)\n",
        "    out = self.relu(x)\n",
        "    down_out = self.downsample(out)\n",
        "    return out, down_out # out is before downsamping and down_out is after\n",
        "\n",
        "class ConvBlockDecoder(nn.Module):\n",
        "  def __init__(self, input_channels, output_channels):\n",
        "    super().__init__()\n",
        "    # self.deconv = nn.ConvTranspose3d(in_channels=input_channels, out_channels=output_channels, kernel_size=3, stride=2, padding=1, dilation=1)\n",
        "    self.upsample = nn.ConvTranspose3d(in_channels=input_channels, out_channels=input_channels, kernel_size=2, stride=2)\n",
        "    self.convblock = nn.Conv3d(in_channels=input_channels, out_channels=output_channels, kernel_size=3, padding=1)\n",
        "\n",
        "  def forward(self, x):\n",
        "    # x = self.deconv(x) # didn't work because it was just outputing 7 or 9 as the amount of channels and I coulnd't change the padding because it would either have one extra or one less (and I wanted 8 as the spatial dimensions)\n",
        "    x = self.upsample(x)\n",
        "    x = self.convblock(x)\n",
        "    return x\n",
        "\n",
        "\n",
        "class FCN(nn.Module):\n",
        "  def __init__(self, input_shape):\n",
        "    super().__init__()\n",
        "    # 4, 128, 128, 128\n",
        "    # print(input_shape)\n",
        "    self.nimages, self.channels, self.w, self.h, self.d = input_shape\n",
        "    self.block1 = ConvBlockEncoder(4, 64)\n",
        "    self.block2 = ConvBlockEncoder(64, 128)\n",
        "    self.block3 = ConvBlockEncoder(128, 256)\n",
        "    self.block4 = ConvBlockEncoder(256, 512)\n",
        "    self.block5 = ConvBlockEncoder(512, 1024)\n",
        "    self.block6 = ConvBlockEncoder(1024, 2048)\n",
        "\n",
        "    self.block7 = ConvBlockDecoder(2048, 1024)\n",
        "    self.block8 = ConvBlockDecoder(1024, 512)\n",
        "    self.block9 = ConvBlockDecoder(512, 256)\n",
        "    self.block10 = ConvBlockDecoder(256, 128)\n",
        "    self.block11 = ConvBlockDecoder(128, 64)\n",
        "\n",
        "    self.conv1by1 = nn.Conv3d(in_channels=64, out_channels=3, kernel_size=1, stride=1) # output is 3 channels for WT, ET, TC\n",
        "    self.softmax = nn.Softmax(dim=1)\n",
        "  \n",
        "  def forward(self, x):\n",
        "    # print(\"Before shape: \", str(x.shape))\n",
        "    out1, down_out1 = self.block1(x)\n",
        "    # print(out1.shape, down_out1.shape)\n",
        "\n",
        "    out2, down_out2 = self.block2(down_out1)\n",
        "    # print(out2.shape, down_out2.shape)\n",
        "\n",
        "    out3, down_out3 = self.block3(down_out2)\n",
        "    # print(out3.shape, down_out3.shape)\n",
        "\n",
        "    out4, down_out4 = self.block4(down_out3)\n",
        "    # print(out4.shape, down_out4.shape)\n",
        "\n",
        "    out5, down_out5 = self.block5(down_out4)\n",
        "    # print(out5.shape, down_out5.shape)\n",
        "\n",
        "    out6, ____ = self.block6(down_out5)\n",
        "    # print(out6.shape)\n",
        "\n",
        "    out7 = self.block7(out6)\n",
        "    # print(out7.shape)\n",
        "\n",
        "    # sum here with block 5 + block 7\n",
        "    out57 = torch.add(out5, out7)\n",
        "    # print(out57.shape)\n",
        "\n",
        "    out8 = self.block8(out57)\n",
        "    # print(out8.shape)\n",
        "    \n",
        "    # sum here with block 4 + block 8\n",
        "    out48 = torch.add(out4, out8)\n",
        "    # print(out48.shape)\n",
        "\n",
        "    out9 = self.block9(out48)\n",
        "    # print(out9.shape)\n",
        "\n",
        "    out10 = self.block10(out9)\n",
        "    # print(out10.shape)\n",
        "\n",
        "    out11 = self.block11(out10)\n",
        "    # print(out11.shape)\n",
        "\n",
        "    out12 = self.conv1by1(out11)\n",
        "    # print(out12.shape)\n",
        "\n",
        "    # end = self.softmax(out12)\n",
        "    # print(end.shape) # i thought that the shape would change when using softmax, but only the values change to add up to 1\n",
        "\n",
        "    return out12"
      ],
      "metadata": {
        "id": "_Rfg_Cal5nOI"
      },
      "execution_count": 3,
      "outputs": []
    },
    {
      "cell_type": "code",
      "source": [
        "x = torch.rand(size=(1, 4, 128, 128, 128), dtype=torch.float32)\n",
        "# print(x.shape)\n",
        "\n",
        "model = FCN(x.shape)\n",
        "print(model)\n",
        "print()\n",
        "\n",
        "out = model(x)"
      ],
      "metadata": {
        "colab": {
          "base_uri": "https://localhost:8080/"
        },
        "id": "ecBbNjRS6CyC",
        "outputId": "5b8bb54e-91ca-496f-f5e9-ab7944cd90bf"
      },
      "execution_count": 4,
      "outputs": [
        {
          "output_type": "stream",
          "name": "stdout",
          "text": [
            "FCN(\n",
            "  (block1): ConvBlockEncoder(\n",
            "    (convblock1): Conv3d(4, 64, kernel_size=(3, 3, 3), stride=(1, 1, 1), padding=(1, 1, 1))\n",
            "    (relu): ReLU()\n",
            "    (convblock2): Conv3d(64, 64, kernel_size=(3, 3, 3), stride=(1, 1, 1), padding=(1, 1, 1))\n",
            "    (downsample): Conv3d(64, 64, kernel_size=(2, 2, 2), stride=(2, 2, 2))\n",
            "  )\n",
            "  (block2): ConvBlockEncoder(\n",
            "    (convblock1): Conv3d(64, 128, kernel_size=(3, 3, 3), stride=(1, 1, 1), padding=(1, 1, 1))\n",
            "    (relu): ReLU()\n",
            "    (convblock2): Conv3d(128, 128, kernel_size=(3, 3, 3), stride=(1, 1, 1), padding=(1, 1, 1))\n",
            "    (downsample): Conv3d(128, 128, kernel_size=(2, 2, 2), stride=(2, 2, 2))\n",
            "  )\n",
            "  (block3): ConvBlockEncoder(\n",
            "    (convblock1): Conv3d(128, 256, kernel_size=(3, 3, 3), stride=(1, 1, 1), padding=(1, 1, 1))\n",
            "    (relu): ReLU()\n",
            "    (convblock2): Conv3d(256, 256, kernel_size=(3, 3, 3), stride=(1, 1, 1), padding=(1, 1, 1))\n",
            "    (downsample): Conv3d(256, 256, kernel_size=(2, 2, 2), stride=(2, 2, 2))\n",
            "  )\n",
            "  (block4): ConvBlockEncoder(\n",
            "    (convblock1): Conv3d(256, 512, kernel_size=(3, 3, 3), stride=(1, 1, 1), padding=(1, 1, 1))\n",
            "    (relu): ReLU()\n",
            "    (convblock2): Conv3d(512, 512, kernel_size=(3, 3, 3), stride=(1, 1, 1), padding=(1, 1, 1))\n",
            "    (downsample): Conv3d(512, 512, kernel_size=(2, 2, 2), stride=(2, 2, 2))\n",
            "  )\n",
            "  (block5): ConvBlockEncoder(\n",
            "    (convblock1): Conv3d(512, 1024, kernel_size=(3, 3, 3), stride=(1, 1, 1), padding=(1, 1, 1))\n",
            "    (relu): ReLU()\n",
            "    (convblock2): Conv3d(1024, 1024, kernel_size=(3, 3, 3), stride=(1, 1, 1), padding=(1, 1, 1))\n",
            "    (downsample): Conv3d(1024, 1024, kernel_size=(2, 2, 2), stride=(2, 2, 2))\n",
            "  )\n",
            "  (block6): ConvBlockEncoder(\n",
            "    (convblock1): Conv3d(1024, 2048, kernel_size=(3, 3, 3), stride=(1, 1, 1), padding=(1, 1, 1))\n",
            "    (relu): ReLU()\n",
            "    (convblock2): Conv3d(2048, 2048, kernel_size=(3, 3, 3), stride=(1, 1, 1), padding=(1, 1, 1))\n",
            "    (downsample): Conv3d(2048, 2048, kernel_size=(2, 2, 2), stride=(2, 2, 2))\n",
            "  )\n",
            "  (block7): ConvBlockDecoder(\n",
            "    (upsample): ConvTranspose3d(2048, 2048, kernel_size=(2, 2, 2), stride=(2, 2, 2))\n",
            "    (convblock): Conv3d(2048, 1024, kernel_size=(3, 3, 3), stride=(1, 1, 1), padding=(1, 1, 1))\n",
            "  )\n",
            "  (block8): ConvBlockDecoder(\n",
            "    (upsample): ConvTranspose3d(1024, 1024, kernel_size=(2, 2, 2), stride=(2, 2, 2))\n",
            "    (convblock): Conv3d(1024, 512, kernel_size=(3, 3, 3), stride=(1, 1, 1), padding=(1, 1, 1))\n",
            "  )\n",
            "  (block9): ConvBlockDecoder(\n",
            "    (upsample): ConvTranspose3d(512, 512, kernel_size=(2, 2, 2), stride=(2, 2, 2))\n",
            "    (convblock): Conv3d(512, 256, kernel_size=(3, 3, 3), stride=(1, 1, 1), padding=(1, 1, 1))\n",
            "  )\n",
            "  (block10): ConvBlockDecoder(\n",
            "    (upsample): ConvTranspose3d(256, 256, kernel_size=(2, 2, 2), stride=(2, 2, 2))\n",
            "    (convblock): Conv3d(256, 128, kernel_size=(3, 3, 3), stride=(1, 1, 1), padding=(1, 1, 1))\n",
            "  )\n",
            "  (block11): ConvBlockDecoder(\n",
            "    (upsample): ConvTranspose3d(128, 128, kernel_size=(2, 2, 2), stride=(2, 2, 2))\n",
            "    (convblock): Conv3d(128, 64, kernel_size=(3, 3, 3), stride=(1, 1, 1), padding=(1, 1, 1))\n",
            "  )\n",
            "  (conv1by1): Conv3d(64, 3, kernel_size=(1, 1, 1), stride=(1, 1, 1))\n",
            "  (softmax): Softmax(dim=1)\n",
            ")\n",
            "\n"
          ]
        }
      ]
    },
    {
      "cell_type": "code",
      "source": [
        "print(out.shape)\n",
        "print(out)"
      ],
      "metadata": {
        "id": "kcU3q4WYfBoo",
        "colab": {
          "base_uri": "https://localhost:8080/"
        },
        "outputId": "37a40159-7b0b-4b64-ec8f-43f4e1e7f2bc"
      },
      "execution_count": 5,
      "outputs": [
        {
          "output_type": "stream",
          "name": "stdout",
          "text": [
            "torch.Size([1, 3, 128, 128, 128])\n",
            "tensor([[[[[-0.1079, -0.1077, -0.1080,  ..., -0.1078, -0.1080, -0.1053],\n",
            "           [-0.1118, -0.1130, -0.1131,  ..., -0.1133, -0.1132, -0.1100],\n",
            "           [-0.1120, -0.1126, -0.1136,  ..., -0.1130, -0.1137, -0.1097],\n",
            "           ...,\n",
            "           [-0.1118, -0.1129, -0.1132,  ..., -0.1132, -0.1133, -0.1100],\n",
            "           [-0.1121, -0.1124, -0.1136,  ..., -0.1126, -0.1136, -0.1095],\n",
            "           [-0.1117, -0.1132, -0.1134,  ..., -0.1133, -0.1134, -0.1105]],\n",
            "\n",
            "          [[-0.1056, -0.1056, -0.1047,  ..., -0.1057, -0.1048, -0.1044],\n",
            "           [-0.1069, -0.1091, -0.1067,  ..., -0.1088, -0.1066, -0.1083],\n",
            "           [-0.1061, -0.1067, -0.1061,  ..., -0.1070, -0.1063, -0.1079],\n",
            "           ...,\n",
            "           [-0.1066, -0.1086, -0.1067,  ..., -0.1083, -0.1067, -0.1083],\n",
            "           [-0.1063, -0.1068, -0.1063,  ..., -0.1069, -0.1064, -0.1077],\n",
            "           [-0.1084, -0.1087, -0.1085,  ..., -0.1085, -0.1085, -0.1079]],\n",
            "\n",
            "          [[-0.1062, -0.1049, -0.1053,  ..., -0.1052, -0.1054, -0.1037],\n",
            "           [-0.1066, -0.1068, -0.1070,  ..., -0.1071, -0.1073, -0.1077],\n",
            "           [-0.1067, -0.1063, -0.1074,  ..., -0.1068, -0.1075, -0.1073],\n",
            "           ...,\n",
            "           [-0.1064, -0.1068, -0.1070,  ..., -0.1071, -0.1074, -0.1078],\n",
            "           [-0.1066, -0.1059, -0.1070,  ..., -0.1061, -0.1071, -0.1071],\n",
            "           [-0.1080, -0.1082, -0.1083,  ..., -0.1083, -0.1084, -0.1080]],\n",
            "\n",
            "          ...,\n",
            "\n",
            "          [[-0.1056, -0.1059, -0.1046,  ..., -0.1059, -0.1048, -0.1045],\n",
            "           [-0.1067, -0.1089, -0.1068,  ..., -0.1087, -0.1067, -0.1082],\n",
            "           [-0.1059, -0.1071, -0.1060,  ..., -0.1073, -0.1063, -0.1080],\n",
            "           ...,\n",
            "           [-0.1066, -0.1086, -0.1067,  ..., -0.1084, -0.1069, -0.1084],\n",
            "           [-0.1062, -0.1071, -0.1062,  ..., -0.1072, -0.1064, -0.1079],\n",
            "           [-0.1082, -0.1087, -0.1082,  ..., -0.1086, -0.1084, -0.1080]],\n",
            "\n",
            "          [[-0.1063, -0.1052, -0.1053,  ..., -0.1053, -0.1053, -0.1038],\n",
            "           [-0.1066, -0.1069, -0.1071,  ..., -0.1072, -0.1074, -0.1077],\n",
            "           [-0.1068, -0.1067, -0.1073,  ..., -0.1070, -0.1072, -0.1074],\n",
            "           ...,\n",
            "           [-0.1065, -0.1070, -0.1070,  ..., -0.1073, -0.1075, -0.1079],\n",
            "           [-0.1067, -0.1063, -0.1069,  ..., -0.1064, -0.1069, -0.1073],\n",
            "           [-0.1080, -0.1083, -0.1082,  ..., -0.1085, -0.1084, -0.1082]],\n",
            "\n",
            "          [[-0.1045, -0.1055, -0.1040,  ..., -0.1054, -0.1043, -0.1044],\n",
            "           [-0.1039, -0.1055, -0.1047,  ..., -0.1053, -0.1048, -0.1061],\n",
            "           [-0.1028, -0.1049, -0.1033,  ..., -0.1047, -0.1035, -0.1057],\n",
            "           ...,\n",
            "           [-0.1039, -0.1055, -0.1047,  ..., -0.1055, -0.1048, -0.1063],\n",
            "           [-0.1030, -0.1048, -0.1034,  ..., -0.1048, -0.1036, -0.1058],\n",
            "           [-0.1047, -0.1055, -0.1056,  ..., -0.1054, -0.1057, -0.1061]]],\n",
            "\n",
            "\n",
            "         [[[ 0.0285,  0.0328,  0.0317,  ...,  0.0330,  0.0317,  0.0329],\n",
            "           [ 0.0300,  0.0329,  0.0320,  ...,  0.0329,  0.0323,  0.0298],\n",
            "           [ 0.0302,  0.0327,  0.0317,  ...,  0.0328,  0.0317,  0.0302],\n",
            "           ...,\n",
            "           [ 0.0299,  0.0331,  0.0319,  ...,  0.0330,  0.0322,  0.0297],\n",
            "           [ 0.0303,  0.0325,  0.0318,  ...,  0.0325,  0.0317,  0.0300],\n",
            "           [ 0.0301,  0.0319,  0.0313,  ...,  0.0319,  0.0315,  0.0295]],\n",
            "\n",
            "          [[ 0.0300,  0.0332,  0.0329,  ...,  0.0329,  0.0332,  0.0333],\n",
            "           [ 0.0311,  0.0330,  0.0326,  ...,  0.0328,  0.0326,  0.0312],\n",
            "           [ 0.0311,  0.0329,  0.0324,  ...,  0.0325,  0.0324,  0.0305],\n",
            "           ...,\n",
            "           [ 0.0308,  0.0327,  0.0321,  ...,  0.0329,  0.0324,  0.0313],\n",
            "           [ 0.0312,  0.0331,  0.0324,  ...,  0.0327,  0.0324,  0.0303],\n",
            "           [ 0.0301,  0.0308,  0.0312,  ...,  0.0309,  0.0314,  0.0297]],\n",
            "\n",
            "          [[ 0.0304,  0.0337,  0.0332,  ...,  0.0338,  0.0331,  0.0338],\n",
            "           [ 0.0303,  0.0329,  0.0316,  ...,  0.0326,  0.0320,  0.0302],\n",
            "           [ 0.0315,  0.0325,  0.0327,  ...,  0.0326,  0.0326,  0.0306],\n",
            "           ...,\n",
            "           [ 0.0302,  0.0329,  0.0317,  ...,  0.0325,  0.0320,  0.0300],\n",
            "           [ 0.0315,  0.0323,  0.0325,  ...,  0.0323,  0.0324,  0.0303],\n",
            "           [ 0.0298,  0.0318,  0.0312,  ...,  0.0316,  0.0313,  0.0295]],\n",
            "\n",
            "          ...,\n",
            "\n",
            "          [[ 0.0299,  0.0334,  0.0329,  ...,  0.0331,  0.0331,  0.0335],\n",
            "           [ 0.0311,  0.0332,  0.0325,  ...,  0.0330,  0.0329,  0.0313],\n",
            "           [ 0.0309,  0.0328,  0.0322,  ...,  0.0328,  0.0324,  0.0307],\n",
            "           ...,\n",
            "           [ 0.0307,  0.0330,  0.0321,  ...,  0.0332,  0.0328,  0.0316],\n",
            "           [ 0.0312,  0.0330,  0.0325,  ...,  0.0328,  0.0327,  0.0304],\n",
            "           [ 0.0299,  0.0310,  0.0311,  ...,  0.0311,  0.0315,  0.0299]],\n",
            "\n",
            "          [[ 0.0304,  0.0338,  0.0332,  ...,  0.0337,  0.0331,  0.0336],\n",
            "           [ 0.0303,  0.0328,  0.0316,  ...,  0.0325,  0.0320,  0.0301],\n",
            "           [ 0.0315,  0.0328,  0.0326,  ...,  0.0326,  0.0326,  0.0304],\n",
            "           ...,\n",
            "           [ 0.0302,  0.0329,  0.0315,  ...,  0.0326,  0.0317,  0.0301],\n",
            "           [ 0.0313,  0.0324,  0.0323,  ...,  0.0324,  0.0323,  0.0302],\n",
            "           [ 0.0299,  0.0319,  0.0312,  ...,  0.0317,  0.0311,  0.0297]],\n",
            "\n",
            "          [[ 0.0288,  0.0307,  0.0300,  ...,  0.0306,  0.0302,  0.0309],\n",
            "           [ 0.0261,  0.0276,  0.0268,  ...,  0.0274,  0.0272,  0.0282],\n",
            "           [ 0.0258,  0.0275,  0.0264,  ...,  0.0274,  0.0267,  0.0279],\n",
            "           ...,\n",
            "           [ 0.0260,  0.0276,  0.0268,  ...,  0.0275,  0.0273,  0.0283],\n",
            "           [ 0.0260,  0.0275,  0.0266,  ...,  0.0273,  0.0268,  0.0277],\n",
            "           [ 0.0273,  0.0279,  0.0278,  ...,  0.0279,  0.0281,  0.0282]]],\n",
            "\n",
            "\n",
            "         [[[ 0.0259,  0.0273,  0.0278,  ...,  0.0273,  0.0275,  0.0301],\n",
            "           [ 0.0239,  0.0227,  0.0219,  ...,  0.0227,  0.0221,  0.0271],\n",
            "           [ 0.0245,  0.0232,  0.0225,  ...,  0.0230,  0.0222,  0.0276],\n",
            "           ...,\n",
            "           [ 0.0239,  0.0226,  0.0220,  ...,  0.0227,  0.0222,  0.0273],\n",
            "           [ 0.0247,  0.0235,  0.0226,  ...,  0.0234,  0.0222,  0.0278],\n",
            "           [ 0.0240,  0.0211,  0.0210,  ...,  0.0212,  0.0211,  0.0253]],\n",
            "\n",
            "          [[ 0.0295,  0.0321,  0.0330,  ...,  0.0320,  0.0330,  0.0342],\n",
            "           [ 0.0310,  0.0298,  0.0296,  ...,  0.0297,  0.0297,  0.0329],\n",
            "           [ 0.0308,  0.0280,  0.0291,  ...,  0.0278,  0.0291,  0.0312],\n",
            "           ...,\n",
            "           [ 0.0311,  0.0297,  0.0297,  ...,  0.0295,  0.0300,  0.0328],\n",
            "           [ 0.0308,  0.0276,  0.0294,  ...,  0.0275,  0.0293,  0.0312],\n",
            "           [ 0.0287,  0.0254,  0.0249,  ...,  0.0250,  0.0248,  0.0284]],\n",
            "\n",
            "          [[ 0.0299,  0.0331,  0.0341,  ...,  0.0331,  0.0337,  0.0359],\n",
            "           [ 0.0301,  0.0298,  0.0287,  ...,  0.0298,  0.0287,  0.0329],\n",
            "           [ 0.0305,  0.0299,  0.0294,  ...,  0.0300,  0.0290,  0.0333],\n",
            "           ...,\n",
            "           [ 0.0303,  0.0296,  0.0290,  ...,  0.0297,  0.0288,  0.0330],\n",
            "           [ 0.0307,  0.0302,  0.0293,  ...,  0.0302,  0.0289,  0.0333],\n",
            "           [ 0.0279,  0.0249,  0.0246,  ...,  0.0248,  0.0246,  0.0284]],\n",
            "\n",
            "          ...,\n",
            "\n",
            "          [[ 0.0296,  0.0321,  0.0333,  ...,  0.0321,  0.0333,  0.0344],\n",
            "           [ 0.0313,  0.0298,  0.0299,  ...,  0.0296,  0.0299,  0.0328],\n",
            "           [ 0.0309,  0.0276,  0.0295,  ...,  0.0277,  0.0293,  0.0312],\n",
            "           ...,\n",
            "           [ 0.0310,  0.0296,  0.0298,  ...,  0.0294,  0.0301,  0.0328],\n",
            "           [ 0.0309,  0.0273,  0.0296,  ...,  0.0274,  0.0294,  0.0311],\n",
            "           [ 0.0286,  0.0253,  0.0249,  ...,  0.0249,  0.0249,  0.0284]],\n",
            "\n",
            "          [[ 0.0298,  0.0332,  0.0340,  ...,  0.0332,  0.0338,  0.0361],\n",
            "           [ 0.0299,  0.0300,  0.0285,  ...,  0.0299,  0.0286,  0.0330],\n",
            "           [ 0.0305,  0.0300,  0.0294,  ...,  0.0301,  0.0293,  0.0335],\n",
            "           ...,\n",
            "           [ 0.0302,  0.0300,  0.0287,  ...,  0.0299,  0.0287,  0.0329],\n",
            "           [ 0.0305,  0.0300,  0.0292,  ...,  0.0301,  0.0290,  0.0335],\n",
            "           [ 0.0278,  0.0250,  0.0244,  ...,  0.0248,  0.0245,  0.0283]],\n",
            "\n",
            "          [[ 0.0318,  0.0340,  0.0345,  ...,  0.0340,  0.0347,  0.0320],\n",
            "           [ 0.0336,  0.0335,  0.0334,  ...,  0.0333,  0.0333,  0.0324],\n",
            "           [ 0.0328,  0.0317,  0.0325,  ...,  0.0319,  0.0327,  0.0312],\n",
            "           ...,\n",
            "           [ 0.0336,  0.0334,  0.0334,  ...,  0.0332,  0.0333,  0.0325],\n",
            "           [ 0.0328,  0.0316,  0.0327,  ...,  0.0318,  0.0327,  0.0311],\n",
            "           [ 0.0309,  0.0294,  0.0291,  ...,  0.0291,  0.0289,  0.0304]]]]],\n",
            "       grad_fn=<ConvolutionBackward0>)\n"
          ]
        }
      ]
    },
    {
      "cell_type": "code",
      "source": [
        "\"\"\"\n",
        "- SGD\n",
        "- minibatch size = 20\n",
        "- learning rates of 10^-3 (fcn-alexNet), **10^-4 (fcn-vgg16- use this initially because the paper said the model is “our VGG-16 based net)**, ^-5 (fcn-googlelenet)\n",
        "- momentum = 0.9\n",
        "- weight decay = 5^-4 or 2^-4\n",
        "\n",
        "- dropout was included where used in the original classifier nets\n",
        "- didn’t choose patches because although it has a better convergence rate compared to the whole image training, it takes significantly more time because of the larger numbers that need to be considered per batch\n",
        "- data augmentation of randomly mirroring and “jittering” the images by translating them up to 32 pixels\n",
        "- Nvidia Tesla K40 GPU\n",
        "- metrics (testing)\n",
        "\"\"\""
      ],
      "metadata": {
        "id": "mdYaxZ3ImSYj",
        "colab": {
          "base_uri": "https://localhost:8080/",
          "height": 107
        },
        "outputId": "e89fe0ae-ec67-49a6-801c-53a4c4e7dda7"
      },
      "execution_count": 6,
      "outputs": [
        {
          "output_type": "execute_result",
          "data": {
            "text/plain": [
              "'\\n- SGD\\n- minibatch size = 20\\n- learning rates of 10^-3 (fcn-alexNet), **10^-4 (fcn-vgg16- use this initially because the paper said the model is “our VGG-16 based net)**, ^-5 (fcn-googlelenet)\\n- momentum = 0.9\\n- weight decay = 5^-4 or 2^-4\\n\\n- dropout was included where used in the original classifier nets\\n- didn’t choose patches because although it has a better convergence rate compared to the whole image training, it takes significantly more time because of the larger numbers that need to be considered per batch\\n- data augmentation of randomly mirroring and “jittering” the images by translating them up to 32 pixels\\n- Nvidia Tesla K40 GPU\\n- metrics (testing)\\n'"
            ],
            "application/vnd.google.colaboratory.intrinsic+json": {
              "type": "string"
            }
          },
          "metadata": {},
          "execution_count": 6
        }
      ]
    },
    {
      "cell_type": "code",
      "source": [
        "import numpy as np"
      ],
      "metadata": {
        "id": "Ipi3RPNjPo0P"
      },
      "execution_count": 7,
      "outputs": []
    },
    {
      "cell_type": "code",
      "source": [
        "randomized_training_images = []\n",
        "for i in range(2):\n",
        "  newx = torch.rand(size=(1, 4, 128, 128, 128), dtype=torch.float32)\n",
        "  randomized_training_images.append(newx)"
      ],
      "metadata": {
        "id": "wqbqSSkuWcx4"
      },
      "execution_count": 8,
      "outputs": []
    },
    {
      "cell_type": "code",
      "source": [
        "print(len(randomized_training_images))\n",
        "print(randomized_training_images[0].shape)\n",
        "# print(randomized_training_images[0])"
      ],
      "metadata": {
        "id": "q6ktAW6fW0ov",
        "colab": {
          "base_uri": "https://localhost:8080/"
        },
        "outputId": "6f97a368-feea-488d-bb74-3d31c4b749ef"
      },
      "execution_count": 9,
      "outputs": [
        {
          "output_type": "stream",
          "name": "stdout",
          "text": [
            "2\n",
            "torch.Size([1, 4, 128, 128, 128])\n"
          ]
        }
      ]
    },
    {
      "cell_type": "code",
      "source": [
        "randomized_training_segmentations = []\n",
        "for i in range(2):\n",
        "  newy = torch.rand(size=(1, 3, 128, 128, 128), dtype=torch.float32)\n",
        "  randomized_training_segmentations.append(newy)"
      ],
      "metadata": {
        "id": "aDVmPENFSb0s"
      },
      "execution_count": 10,
      "outputs": []
    },
    {
      "cell_type": "code",
      "source": [
        "print(len(randomized_training_segmentations))\n",
        "print(randomized_training_segmentations[0].shape)\n",
        "# print(randomized_training_segmentations[1])"
      ],
      "metadata": {
        "colab": {
          "base_uri": "https://localhost:8080/"
        },
        "id": "q0qOiO38aBIF",
        "outputId": "806afea9-b4fc-49d3-e03c-deb7c435055c"
      },
      "execution_count": 11,
      "outputs": [
        {
          "output_type": "stream",
          "name": "stdout",
          "text": [
            "2\n",
            "torch.Size([1, 3, 128, 128, 128])\n"
          ]
        }
      ]
    },
    {
      "cell_type": "code",
      "source": [
        "randomized_training_data = list(zip(randomized_training_images, randomized_training_segmentations))"
      ],
      "metadata": {
        "id": "js05JjGBZ70U"
      },
      "execution_count": 12,
      "outputs": []
    },
    {
      "cell_type": "code",
      "source": [
        "trainloader = torch.utils.data.DataLoader(dataset=randomized_training_data, batch_size=2, shuffle=True) # minibatch size should be 20"
      ],
      "metadata": {
        "id": "4r-AxBLjXXjS"
      },
      "execution_count": 13,
      "outputs": []
    },
    {
      "cell_type": "code",
      "source": [
        "len(trainloader)"
      ],
      "metadata": {
        "colab": {
          "base_uri": "https://localhost:8080/"
        },
        "id": "FtlV5270S3Ih",
        "outputId": "704b1c96-6e3b-4bea-930c-29a41fac894c"
      },
      "execution_count": 14,
      "outputs": [
        {
          "output_type": "execute_result",
          "data": {
            "text/plain": [
              "1"
            ]
          },
          "metadata": {},
          "execution_count": 14
        }
      ]
    },
    {
      "cell_type": "code",
      "source": [
        "randomized_validation_images = []\n",
        "for i in range(2):\n",
        "  newy = torch.rand(size=(1, 4, 128, 128, 128), dtype=torch.float32)\n",
        "  randomized_validation_images.append(newy)"
      ],
      "metadata": {
        "id": "pEpEXM3ZUAPJ"
      },
      "execution_count": 15,
      "outputs": []
    },
    {
      "cell_type": "code",
      "source": [
        "print(len(randomized_validation_images))\n",
        "print(randomized_validation_images[0].shape)"
      ],
      "metadata": {
        "colab": {
          "base_uri": "https://localhost:8080/"
        },
        "id": "h3X6DyAKUFnu",
        "outputId": "6891e8b0-9468-40e2-bcdb-4f2d7302ee57"
      },
      "execution_count": 16,
      "outputs": [
        {
          "output_type": "stream",
          "name": "stdout",
          "text": [
            "2\n",
            "torch.Size([1, 4, 128, 128, 128])\n"
          ]
        }
      ]
    },
    {
      "cell_type": "code",
      "source": [
        "randomized_validation_segmentations = []\n",
        "for i in range(2):\n",
        "  newy = torch.rand(size=(1, 3, 128, 128, 128), dtype=torch.float32)\n",
        "  randomized_validation_segmentations.append(newy)"
      ],
      "metadata": {
        "id": "Iu-sVnEoTMr5"
      },
      "execution_count": 17,
      "outputs": []
    },
    {
      "cell_type": "code",
      "source": [
        "print(len(randomized_validation_segmentations))\n",
        "print(randomized_validation_segmentations[0].shape)"
      ],
      "metadata": {
        "colab": {
          "base_uri": "https://localhost:8080/"
        },
        "id": "JRoKkofFAVfZ",
        "outputId": "18ee7d87-b093-4624-d2c1-0205d2ed734f"
      },
      "execution_count": 18,
      "outputs": [
        {
          "output_type": "stream",
          "name": "stdout",
          "text": [
            "2\n",
            "torch.Size([1, 3, 128, 128, 128])\n"
          ]
        }
      ]
    },
    {
      "cell_type": "code",
      "source": [
        "randomized_validation_data = list(zip(randomized_validation_images, randomized_validation_segmentations))"
      ],
      "metadata": {
        "id": "48i1TPJSKTQz"
      },
      "execution_count": 19,
      "outputs": []
    },
    {
      "cell_type": "code",
      "source": [
        "validationloader = torch.utils.data.DataLoader(dataset=randomized_validation_data, batch_size=2, shuffle=True) # minibatch size should be 20"
      ],
      "metadata": {
        "id": "ZrSAuo6KKW0W"
      },
      "execution_count": 20,
      "outputs": []
    },
    {
      "cell_type": "code",
      "source": [
        "len(validationloader)"
      ],
      "metadata": {
        "colab": {
          "base_uri": "https://localhost:8080/"
        },
        "id": "SP5YoV7DKgpg",
        "outputId": "abb51f44-c94e-407e-a115-a3596af9aeba"
      },
      "execution_count": 21,
      "outputs": [
        {
          "output_type": "execute_result",
          "data": {
            "text/plain": [
              "1"
            ]
          },
          "metadata": {},
          "execution_count": 21
        }
      ]
    },
    {
      "cell_type": "code",
      "source": [
        "randomized_testing_images = []\n",
        "for i in range(2):\n",
        "  newy = torch.rand(size=(1, 4, 128, 128, 128), dtype=torch.float32)\n",
        "  randomized_testing_images.append(newy)"
      ],
      "metadata": {
        "id": "qjaixBaM-jEM"
      },
      "execution_count": 22,
      "outputs": []
    },
    {
      "cell_type": "code",
      "source": [
        "print(len(randomized_testing_images))\n",
        "print(randomized_testing_images[0].shape)"
      ],
      "metadata": {
        "colab": {
          "base_uri": "https://localhost:8080/"
        },
        "id": "zYaRErS--m7p",
        "outputId": "1500c132-4958-4ae1-f893-dcea00f5e989"
      },
      "execution_count": 23,
      "outputs": [
        {
          "output_type": "stream",
          "name": "stdout",
          "text": [
            "2\n",
            "torch.Size([1, 4, 128, 128, 128])\n"
          ]
        }
      ]
    },
    {
      "cell_type": "code",
      "source": [
        "randomized_testing_segmentations = []\n",
        "for i in range(2):\n",
        "  newy = torch.rand(size=(1, 3, 128, 128, 128), dtype=torch.float32)\n",
        "  randomized_testing_segmentations.append(newy)"
      ],
      "metadata": {
        "id": "-2gvY6w_-p10"
      },
      "execution_count": 24,
      "outputs": []
    },
    {
      "cell_type": "code",
      "source": [
        "print(len(randomized_testing_segmentations))\n",
        "print(randomized_testing_segmentations[0].shape)"
      ],
      "metadata": {
        "colab": {
          "base_uri": "https://localhost:8080/"
        },
        "id": "XlB0Jd3Y-sT-",
        "outputId": "ad399b32-b048-4357-d1c0-2ec762a2ff69"
      },
      "execution_count": 25,
      "outputs": [
        {
          "output_type": "stream",
          "name": "stdout",
          "text": [
            "2\n",
            "torch.Size([1, 3, 128, 128, 128])\n"
          ]
        }
      ]
    },
    {
      "cell_type": "code",
      "source": [
        "randomized_testing_data = list(zip(randomized_testing_images, randomized_testing_segmentations))"
      ],
      "metadata": {
        "id": "tHSkw4Xh-vnS"
      },
      "execution_count": 26,
      "outputs": []
    },
    {
      "cell_type": "code",
      "source": [
        "testingloader = torch.utils.data.DataLoader(dataset=randomized_testing_data, batch_size=2, shuffle=True) # same size as testing dataset"
      ],
      "metadata": {
        "id": "WMGjLOLD-0nI"
      },
      "execution_count": 77,
      "outputs": []
    },
    {
      "cell_type": "code",
      "source": [
        "# batch size should be one or the entire size of the dataset:\n",
        "# https://stackoverflow.com/questions/54413160/training-validation-testing-batch-size-ratio\n",
        "# https://vijayabhaskar96.medium.com/validation-set-can-have-the-same-batch-size-as-your-training-set-only-the-final-dataset-that-you-824679aca3f9"
      ],
      "metadata": {
        "id": "Owbo7BoREZLI"
      },
      "execution_count": 78,
      "outputs": []
    },
    {
      "cell_type": "code",
      "source": [
        "\"\"\"\n",
        "Training + Validation:\n",
        "categorical cross entropy loss (nn.CrossEntropyLoss())\n",
        "\n",
        "Testing:\n",
        "(update)\n",
        "\"\"\""
      ],
      "metadata": {
        "colab": {
          "base_uri": "https://localhost:8080/",
          "height": 35
        },
        "id": "sVWy7_u2sSEf",
        "outputId": "4ce33066-6404-4781-dea6-99fc4ed0800b"
      },
      "execution_count": 79,
      "outputs": [
        {
          "output_type": "execute_result",
          "data": {
            "text/plain": [
              "'\\nTraining + Validation:\\ncategorical cross entropy loss (nn.CrossEntropyLoss())\\n\\nTesting:\\n(update)\\n'"
            ],
            "application/vnd.google.colaboratory.intrinsic+json": {
              "type": "string"
            }
          },
          "metadata": {},
          "execution_count": 79
        }
      ]
    },
    {
      "cell_type": "code",
      "source": [
        "import torch.optim"
      ],
      "metadata": {
        "id": "2g8R0TJkUfhw"
      },
      "execution_count": 80,
      "outputs": []
    },
    {
      "cell_type": "code",
      "source": [
        "# epochs\n",
        "epochs = 2\n",
        "# loss\n",
        "criterion = torch.nn.CrossEntropyLoss()\n",
        "# optimizer\n",
        "optimizer = torch.optim.SGD(params=model.parameters(), lr=10**-4, momentum=0.9, weight_decay=5**-4)"
      ],
      "metadata": {
        "id": "JlEoLVSkoJA7"
      },
      "execution_count": 81,
      "outputs": []
    },
    {
      "cell_type": "code",
      "source": [
        "training_losses = []\n",
        "validation_losses = []\n",
        "\n",
        "for i in range(epochs):\n",
        "  training_loss = 0\n",
        "  validation_loss = 0\n",
        "  print(\"training time\")\n",
        "  for images, segs in trainloader:\n",
        "    optimizer.zero_grad()\n",
        "    print(len(images), len(segs))\n",
        "    print(images.shape)\n",
        "    print(segs.shape)\n",
        "    images = images.squeeze().clone().detach().requires_grad_(True)\n",
        "    # segs = segs.long() - no\n",
        "    segs = segs.squeeze().clone().detach().requires_grad_(True)\n",
        "    print(images.shape)\n",
        "    print(segs.shape)\n",
        "    outputs = model(images)\n",
        "    print(outputs.shape)\n",
        "\n",
        "    # arg_outputs = outputs.argmax(dim=1)\n",
        "    # print(arg_outputs.shape)\n",
        "    # print(arg_outputs)\n",
        "    # print(segs.shape)\n",
        "    print()\n",
        "    loss = criterion(outputs.float(), segs)\n",
        "    print(loss) # loss with random tensors will be really high because none of the tensors are related to each other\n",
        "    \n",
        "    # loss can be > 1 - https://ai.stackexchange.com/questions/24685/can-the-sparse-categorical-cross-entropy-be-greater-than-one, https://stats.stackexchange.com/questions/392681/cross-entropy-loss-max-value\n",
        "    loss.backward()\n",
        "    training_loss += loss.item()\n",
        "    print()\n",
        "  print(\"validation time\")\n",
        "  for images, segs in validationloader:\n",
        "    optimizer.zero_grad()\n",
        "    print(len(images), len(segs))\n",
        "    print(images.shape)\n",
        "    print(segs.shape)\n",
        "    images = images.squeeze().clone().detach().requires_grad_(True)\n",
        "    # segs = segs.long() - no\n",
        "    segs = segs.squeeze().clone().detach().requires_grad_(True)\n",
        "    print(images.shape)\n",
        "    print(segs.shape)\n",
        "    outputs = model(images)\n",
        "    print(outputs.shape)\n",
        "    print(segs.shape)\n",
        "    print()\n",
        "    loss = criterion(outputs.float(), segs)\n",
        "    print(loss) # loss with random tensors will be really high because none of the tensors are related to each other\n",
        "    # loss can be > 1 - https://ai.stackexchange.com/questions/24685/can-the-sparse-categorical-cross-entropy-be-greater-than-one, https://stats.stackexchange.com/questions/392681/cross-entropy-loss-max-value\n",
        "    loss.backward()\n",
        "    validation_loss += loss.item()\n",
        "  training_losses.append(training_loss/len(trainloader))\n",
        "  validation_losses.append(validation_loss/len(validationloader))\n",
        "  print(\"Epoch: {}/{}... Training Loss: {}... Validation Loss: {}...\".format(i+1,epochs, training_losses[-1], validation_losses[-1]))\n",
        "  if validation_loss < min(validation_losses):\n",
        "    print(\"Validation loss has decreased...saving model\")\n",
        "    torch.save(model.state_dict(), \"fcn.pth\")\n",
        "  print()\n",
        "\n",
        "print(training_losses)\n",
        "print(validation_losses)"
      ],
      "metadata": {
        "colab": {
          "base_uri": "https://localhost:8080/"
        },
        "id": "TY0jnrOufB9L",
        "outputId": "ecdfe669-0381-489b-8411-e999ed4627b4"
      },
      "execution_count": 32,
      "outputs": [
        {
          "output_type": "stream",
          "name": "stdout",
          "text": [
            "training time\n",
            "2 2\n",
            "torch.Size([2, 1, 4, 128, 128, 128])\n",
            "torch.Size([2, 1, 3, 128, 128, 128])\n",
            "torch.Size([2, 4, 128, 128, 128])\n",
            "torch.Size([2, 3, 128, 128, 128])\n",
            "torch.Size([2, 3, 128, 128, 128])\n",
            "\n",
            "tensor(1.6508, grad_fn=<DivBackward1>)\n",
            "\n",
            "validation time\n",
            "2 2\n",
            "torch.Size([2, 1, 4, 128, 128, 128])\n",
            "torch.Size([2, 1, 3, 128, 128, 128])\n",
            "torch.Size([2, 4, 128, 128, 128])\n",
            "torch.Size([2, 3, 128, 128, 128])\n",
            "torch.Size([2, 3, 128, 128, 128])\n",
            "torch.Size([2, 3, 128, 128, 128])\n",
            "\n",
            "tensor(1.6510, grad_fn=<DivBackward1>)\n",
            "Epoch: 1/2... Training Loss: 1.650814414024353... Validation Loss: 1.6510000228881836...\n",
            "\n",
            "training time\n",
            "2 2\n",
            "torch.Size([2, 1, 4, 128, 128, 128])\n",
            "torch.Size([2, 1, 3, 128, 128, 128])\n",
            "torch.Size([2, 4, 128, 128, 128])\n",
            "torch.Size([2, 3, 128, 128, 128])\n",
            "torch.Size([2, 3, 128, 128, 128])\n",
            "\n",
            "tensor(1.6508, grad_fn=<DivBackward1>)\n",
            "\n",
            "validation time\n",
            "2 2\n",
            "torch.Size([2, 1, 4, 128, 128, 128])\n",
            "torch.Size([2, 1, 3, 128, 128, 128])\n",
            "torch.Size([2, 4, 128, 128, 128])\n",
            "torch.Size([2, 3, 128, 128, 128])\n",
            "torch.Size([2, 3, 128, 128, 128])\n",
            "torch.Size([2, 3, 128, 128, 128])\n",
            "\n",
            "tensor(1.6510, grad_fn=<DivBackward1>)\n",
            "Epoch: 2/2... Training Loss: 1.650814414024353... Validation Loss: 1.6510000228881836...\n",
            "\n",
            "[1.650814414024353, 1.650814414024353]\n",
            "[1.6510000228881836, 1.6510000228881836]\n"
          ]
        }
      ]
    },
    {
      "cell_type": "code",
      "source": [
        "def pixel_accuracy(outputs, segmentations):\n",
        "  # outputs = torch.Size([3, 128, 128, 128])\n",
        "  # segmentations = torch.Size([3, 128, 128, 128])\n",
        "  # print(torch.numel(segmentations))\n",
        "  # print(torch.numel(segmentations[0]))\n",
        "  # print()\n",
        "\n",
        "  total_correct_pixels = 0\n",
        "  total_num_pixels = 0\n",
        "  for i in range(outputs.shape[0]):\n",
        "    # class x torch.Size([128, 128, 128])\n",
        "    # print(i)\n",
        "    # print(outputs[i].shape)\n",
        "    # print(segmentations[i].shape)\n",
        "    correct_pixels = (outputs[i] == segmentations[i]).sum() # find total number of pixels where output == seg\n",
        "    num_pixels = torch.numel(segmentations[i]) # find total number of pixels in prediction\n",
        "    # print(correct_pixels.item())\n",
        "    # print(num_pixels)\n",
        "    total_correct_pixels += correct_pixels.item()\n",
        "    total_num_pixels += num_pixels\n",
        "\n",
        "  # print()\n",
        "  # print(total_correct_pixels)\n",
        "  # print(total_num_pixels)\n",
        "  pixel_acc = (int(total_correct_pixels)/int(total_num_pixels))\n",
        "  # print(pixel_acc)\n",
        "  return pixel_acc"
      ],
      "metadata": {
        "id": "8t1kW6bEQW_9"
      },
      "execution_count": 83,
      "outputs": []
    },
    {
      "cell_type": "code",
      "source": [
        "def mean_accuracy(outputs, segmentations):\n",
        "  # outputs = torch.Size([3, 128, 128, 128])\n",
        "  # segmentations = torch.Size([3, 128, 128, 128])\n",
        "  n_classes = outputs.shape[0]\n",
        "  total_mean_accuracies = 0\n",
        "  for i in range(n_classes):\n",
        "    # print(i)\n",
        "    # print(outputs[i].shape)\n",
        "    # print(segmentations[i].shape)\n",
        "    correct_pixels = (outputs[i] == segmentations[i]).sum() # find total number of pixels where output == seg\n",
        "    num_pixels = torch.numel(segmentations[i]) # find total number of pixels in prediction\n",
        "    # print(correct_pixels.item())\n",
        "    # print(num_pixels)\n",
        "    mean_acc_classx = (int(correct_pixels)/int(num_pixels))\n",
        "    # print(mean_acc_classx)\n",
        "    total_mean_accuracies += mean_acc_classx\n",
        "  # print()\n",
        "  # print(total_mean_accuracies)\n",
        "  final_mean_accuracy = total_mean_accuracies/n_classes\n",
        "  return final_mean_accuracy"
      ],
      "metadata": {
        "id": "GThi3xWZZy1V"
      },
      "execution_count": 91,
      "outputs": []
    },
    {
      "cell_type": "code",
      "source": [
        "# IoU - find it per class and then do the mean\n",
        "def mean_IoU(outputs, segmentations):\n",
        "  # outputs = torch.Size([3, 128, 128, 128])\n",
        "  # segmentations = torch.Size([3, 128, 128, 128])\n",
        "  n_classes = outputs.shape[0]\n",
        "  total_mean_iou = 0\n",
        "  for i in range(n_classes):\n",
        "    print(i)\n",
        "    print(outputs[i].shape)\n",
        "    print(segmentations[i].shape)\n",
        "\n",
        "    # when you have a size of (BATCH x H x W) shape, then when you do .sum(), the dim should be [1,2]\n",
        "    # this means that, when you have (BATCH x H x W x D), where batch is 1 so it doesn't count, you would do [0,1,2]\n",
        "    intersection = torch.sum(torch.abs(outputs[i]*segmentations[i]), dim=[0,1,2]) # will be zero if Truth=0 or Prediction=0\n",
        "    union = torch.sum(outputs, dim=[1,2,3]) + torch.sum(outputs, dim=[1,2,3]) - intersection  # will be zero if both are 0\n",
        "    iou = torch.mean(intersection/union)\n",
        "    total_mean_iou += iou\n",
        "  print()\n",
        "  print(total_mean_iou)\n",
        "  final_mean_iou = total_mean_iou/n_classes\n",
        "  return final_mean_iou"
      ],
      "metadata": {
        "id": "E4nt4OPRg0VT"
      },
      "execution_count": 90,
      "outputs": []
    },
    {
      "cell_type": "code",
      "source": [
        "def frequency_weighted_IoU(outputs, segmentations):\n",
        "  # outputs = torch.Size([3, 128, 128, 128])\n",
        "  # segmentations = torch.Size([3, 128, 128, 128])\n",
        "  n_classes = outputs.shape[0]\n",
        "  total_mean_iou = 0\n",
        "  for i in range(n_classes):\n",
        "    # print(i)\n",
        "    # print(outputs[i].shape)\n",
        "    # print(segmentations[i].shape)\n",
        "\n",
        "    # when you have a size of (BATCH x H x W) shape, then when you do .sum(), the dim should be [1,2]\n",
        "    # this means that, when you have (BATCH x H x W x D), where batch is 1 so it doesn't count, you would do [0,1,2]\n",
        "    intersection = torch.sum(torch.abs(outputs[i]*segmentations[i]), dim=[0,1,2]) # will be zero if Truth=0 or Prediction=0\n",
        "    union = torch.sum(outputs, dim=[1,2,3]) + torch.sum(outputs, dim=[1,2,3]) - intersection  # will be zero if both are 0\n",
        "    num_pixels = torch.numel(segmentations[i]) # find total number of pixels in prediction\n",
        "    iou = torch.mean(intersection/num_pixels-union)*num_pixels # modification: multiplied this by the number of pixels in each class\n",
        "    total_mean_iou += iou\n",
        "  # print()\n",
        "  # print(total_mean_iou)\n",
        "  final_mean_iou = total_mean_iou/n_classes\n",
        "  return final_mean_iou"
      ],
      "metadata": {
        "id": "pTc61YeThvzn"
      },
      "execution_count": 97,
      "outputs": []
    },
    {
      "cell_type": "code",
      "source": [
        "# total_pixels = 0\n",
        "# correct_pixels = 0\n",
        "\n",
        "for images, segs in testingloader:\n",
        "    with torch.no_grad():\n",
        "      print(len(images), len(segs))\n",
        "      print(images.shape)\n",
        "      print(segs.shape)\n",
        "      images = images.squeeze().clone().detach().requires_grad_(True)\n",
        "      # segs = segs.long() - no\n",
        "      segs = segs.squeeze().clone().detach().requires_grad_(True)\n",
        "      print(images.shape)\n",
        "      print(segs.shape)\n",
        "      outputs = model(images)\n",
        "      print(outputs.shape)\n",
        "      print(segs.shape)\n",
        "      print()\n",
        "  \n",
        "      print(len(outputs))\n",
        "      print(outputs[0].shape)\n",
        "      print(len(segs))\n",
        "      print(segs[0].shape)\n",
        "      print()\n",
        "\n",
        "      print(\".......\"*5)\n",
        "\n",
        "      print(\"\\nPIXEL ACCURACY METRIC\")\n",
        "      pixel_accuracy_metric = pixel_accuracy(outputs, segs) # IN DECIMAL\n",
        "      print(pixel_accuracy_metric)\n",
        "      print()\n",
        "      # format after: print(\"Pixel Accuracy: during testing, the model correctly classified {}/{} pixels, with an accuracy of {:.2f}%\".format(correct_pixels, total_pixels, accuracy))\n",
        "\n",
        "      print(\".......\"*5)\n",
        "\n",
        "      print(\"\\nMEAN ACCURACY METRIC\")\n",
        "      mean_accuracy_metric = mean_accuracy(outputs, segs) # IN DECIMAL\n",
        "      print(mean_accuracy_metric)\n",
        "      print()\n",
        "\n",
        "      print(\".......\"*5)\n",
        "\n",
        "      print(\"\\nMEAN IOU METRIC\")\n",
        "      mean_iou_metric = mean_accuracy(outputs, segs) # IN DECIMAL\n",
        "      print(mean_iou_metric)\n",
        "      print()\n",
        "\n",
        "      print(\".......\"*5)\n",
        "\n",
        "      print(\"\\nFREQUENCY WEIGHTED IOU METRIC\")\n",
        "      frequency_weighted_iou_metric = frequency_weighted_IoU(outputs, segs) # IN DECIMAL\n",
        "      print(frequency_weighted_iou_metric)\n",
        "      print()\n",
        "\n",
        "    # correct_pixels_batch = (softmax_outs == segs).sum() # find total number of pixels where output == seg (output includes the argmax) - why?\n",
        "    # # e.x.s using predicitions instead of one hot encoding (numerical value): https://ilmonteux.github.io/2019/05/10/segmentation-metrics.html, https://github.com/qubvel/segmentation_models/issues/68, https://stackoverflow.com/questions/62461379/multiclass-semantic-segmentation-model-evaluation\n",
        "    # total_pixels_batch = torch.numel(segs) # find total number of pixels in prediction\n",
        "    # print(correct_pixels_batch.item())\n",
        "  #   print(total_pixels_batch)\n",
        "\n",
        "  #   correct_pixels += correct_pixels_batch.item()\n",
        "  #   total_pixels += total_pixels_batch\n",
        "\n",
        "  #   iou = IoU(softmax_outs, segs)\n",
        "  #   print(iou)"
      ],
      "metadata": {
        "id": "WHQH__qA-TgT",
        "colab": {
          "base_uri": "https://localhost:8080/"
        },
        "outputId": "7412b60e-bab9-4260-c5d1-5062176adbcd"
      },
      "execution_count": 100,
      "outputs": [
        {
          "output_type": "stream",
          "name": "stdout",
          "text": [
            "2 2\n",
            "torch.Size([2, 1, 4, 128, 128, 128])\n",
            "torch.Size([2, 1, 3, 128, 128, 128])\n",
            "torch.Size([2, 4, 128, 128, 128])\n",
            "torch.Size([2, 3, 128, 128, 128])\n",
            "torch.Size([2, 3, 128, 128, 128])\n",
            "torch.Size([2, 3, 128, 128, 128])\n",
            "\n",
            "2\n",
            "torch.Size([3, 128, 128, 128])\n",
            "2\n",
            "torch.Size([3, 128, 128, 128])\n",
            "\n",
            "...................................\n",
            "\n",
            "PIXEL ACCURACY METRIC\n",
            "0.0\n",
            "\n",
            "...................................\n",
            "\n",
            "MEAN ACCURACY METRIC\n",
            "0.0\n",
            "\n",
            "...................................\n",
            "\n",
            "MEAN IOU METRIC\n",
            "0.0\n",
            "\n",
            "...................................\n",
            "\n",
            "FREQUENCY WEIGHTED IOU METRIC\n",
            "tensor(1.8094e+10)\n",
            "\n"
          ]
        }
      ]
    }
  ]
}