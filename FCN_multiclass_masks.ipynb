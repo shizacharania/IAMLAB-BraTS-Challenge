{
  "nbformat": 4,
  "nbformat_minor": 0,
  "metadata": {
    "colab": {
      "provenance": [],
      "collapsed_sections": [],
      "machine_shape": "hm"
    },
    "kernelspec": {
      "name": "python3",
      "display_name": "Python 3"
    },
    "language_info": {
      "name": "python"
    },
    "accelerator": "TPU",
    "gpuClass": "standard"
  },
  "cells": [
    {
      "cell_type": "code",
      "execution_count": null,
      "metadata": {
        "colab": {
          "base_uri": "https://localhost:8080/",
          "height": 178
        },
        "id": "sekni6kJ5Cby",
        "outputId": "913468de-084e-4dc4-bafb-ac69d09c1650"
      },
      "outputs": [
        {
          "output_type": "execute_result",
          "data": {
            "text/plain": [
              "'\\nNotes on this model: https://shizacharania.notion.site/FCN-Fully-Convolutional-Network-bbc70d47ad92491cb534e2987ac7eb48\\n\\nclass convBlock (because you have 6 so its more feasible)\\n  - conv3d 3x3 (increase channels)\\n  - relu\\n  - conv3d 3x3 (same channels)\\n  - relu\\n  - max pool = conv with same channels, but stride is 2 and kernel is 2 (just like max pool layer)\\n\\n  ~~~~~~~~~~~~~~~~~~\\n\\n  - convtranspose3d = deconv increased channels, but stride is 2 and kernel is 3 (combining steps) - this is approach one\\n \\n  ~~~~~~~~~~~~~~~~~~\\n\\n  approach 2:\\n  - convtranspose3d = deconv with same channels, but stride is 2 and kernel is 2 (to increase spatial size)\\n  - conv 3x3 (less channels)\\n\\n  ~~~~~~~~~~~~~~~~~~\\n\\n  torch.add - for element wise summation\\n'"
            ],
            "application/vnd.google.colaboratory.intrinsic+json": {
              "type": "string"
            }
          },
          "metadata": {},
          "execution_count": 2
        }
      ],
      "source": [
        "\"\"\"\n",
        "Notes on this model: https://shizacharania.notion.site/FCN-Fully-Convolutional-Network-bbc70d47ad92491cb534e2987ac7eb48\n",
        "\n",
        "class convBlock (because you have 6 so its more feasible)\n",
        "  - conv3d 3x3 (increase channels)\n",
        "  - relu\n",
        "  - conv3d 3x3 (same channels)\n",
        "  - relu\n",
        "  - max pool = conv with same channels, but stride is 2 and kernel is 2 (just like max pool layer)\n",
        "\n",
        "  ~~~~~~~~~~~~~~~~~~\n",
        "\n",
        "  - convtranspose3d = deconv increased channels, but stride is 2 and kernel is 3 (combining steps) - this is approach one\n",
        " \n",
        "  ~~~~~~~~~~~~~~~~~~\n",
        "\n",
        "  approach 2:\n",
        "  - convtranspose3d = deconv with same channels, but stride is 2 and kernel is 2 (to increase spatial size)\n",
        "  - conv 3x3 (less channels)\n",
        "\n",
        "  ~~~~~~~~~~~~~~~~~~\n",
        "\n",
        "  torch.add - for element wise summation\n",
        "\"\"\""
      ]
    },
    {
      "cell_type": "code",
      "source": [
        "import torch\n",
        "import torch.nn as nn"
      ],
      "metadata": {
        "id": "s_yRAVKD5k6X"
      },
      "execution_count": null,
      "outputs": []
    },
    {
      "cell_type": "code",
      "source": [
        "class ConvBlockEncoder(nn.Module): # need to add nn.Module here\n",
        "  def __init__(self, input_channels, output_channels): # need to add variables needed here\n",
        "    super().__init__()\n",
        "    self.convblock1 = nn.Conv3d(in_channels=input_channels, out_channels=output_channels, kernel_size=3, padding=1)\n",
        "    self.relu = nn.ReLU()\n",
        "    self.convblock2 = nn.Conv3d(in_channels=output_channels, out_channels=output_channels, kernel_size=3, padding=1)\n",
        "    self.downsample = nn.Conv3d(in_channels=output_channels, out_channels=output_channels, kernel_size=2, stride=2)\n",
        "\n",
        "  def forward(self, x): # x represents the input\n",
        "    x = self.convblock1(x)\n",
        "    x = self.relu(x)\n",
        "    x = self.convblock2(x)\n",
        "    out = self.relu(x)\n",
        "    down_out = self.downsample(out)\n",
        "    return out, down_out # out is before downsamping and down_out is after\n",
        "\n",
        "class ConvBlockDecoder(nn.Module):\n",
        "  def __init__(self, input_channels, output_channels):\n",
        "    super().__init__()\n",
        "    # self.deconv = nn.ConvTranspose3d(in_channels=input_channels, out_channels=output_channels, kernel_size=3, stride=2, padding=1, dilation=1)\n",
        "    self.upsample = nn.ConvTranspose3d(in_channels=input_channels, out_channels=input_channels, kernel_size=2, stride=2)\n",
        "    self.convblock = nn.Conv3d(in_channels=input_channels, out_channels=output_channels, kernel_size=3, padding=1)\n",
        "\n",
        "  def forward(self, x):\n",
        "    # x = self.deconv(x) # didn't work because it was just outputing 7 or 9 as the amount of channels and I coulnd't change the padding because it would either have one extra or one less (and I wanted 8 as the spatial dimensions)\n",
        "    x = self.upsample(x)\n",
        "    x = self.convblock(x)\n",
        "    return x\n",
        "\n",
        "\n",
        "class FCN(nn.Module):\n",
        "  def __init__(self, input_shape):\n",
        "    super().__init__()\n",
        "    # 4, 128, 128, 128\n",
        "    # print(input_shape)\n",
        "    self.nimages, self.channels, self.w, self.h, self.d = input_shape\n",
        "    self.block1 = ConvBlockEncoder(4, 64)\n",
        "    self.block2 = ConvBlockEncoder(64, 128)\n",
        "    self.block3 = ConvBlockEncoder(128, 256)\n",
        "    self.block4 = ConvBlockEncoder(256, 512)\n",
        "    self.block5 = ConvBlockEncoder(512, 1024)\n",
        "    self.block6 = ConvBlockEncoder(1024, 2048)\n",
        "\n",
        "    self.block7 = ConvBlockDecoder(2048, 1024)\n",
        "    self.block8 = ConvBlockDecoder(1024, 512)\n",
        "    self.block9 = ConvBlockDecoder(512, 256)\n",
        "    self.block10 = ConvBlockDecoder(256, 128)\n",
        "    self.block11 = ConvBlockDecoder(128, 64)\n",
        "\n",
        "    self.conv1by1 = nn.Conv3d(in_channels=64, out_channels=4, kernel_size=1, stride=1) # output is 3 channels for WT, ET, TC\n",
        "    self.softmax = nn.Softmax(dim=1)\n",
        "  \n",
        "  def forward(self, x):\n",
        "    # print(\"Before shape: \", str(x.shape))\n",
        "    out1, down_out1 = self.block1(x)\n",
        "    # print(out1.shape, down_out1.shape)\n",
        "\n",
        "    out2, down_out2 = self.block2(down_out1)\n",
        "    # print(out2.shape, down_out2.shape)\n",
        "\n",
        "    out3, down_out3 = self.block3(down_out2)\n",
        "    # print(out3.shape, down_out3.shape)\n",
        "\n",
        "    out4, down_out4 = self.block4(down_out3)\n",
        "    # print(out4.shape, down_out4.shape)\n",
        "\n",
        "    out5, down_out5 = self.block5(down_out4)\n",
        "    # print(out5.shape, down_out5.shape)\n",
        "\n",
        "    out6, ____ = self.block6(down_out5)\n",
        "    # print(out6.shape)\n",
        "\n",
        "    out7 = self.block7(out6)\n",
        "    # print(out7.shape)\n",
        "\n",
        "    # sum here with block 5 + block 7\n",
        "    out57 = torch.add(out5, out7)\n",
        "    # print(out57.shape)\n",
        "\n",
        "    out8 = self.block8(out57)\n",
        "    # print(out8.shape)\n",
        "    \n",
        "    # sum here with block 4 + block 8\n",
        "    out48 = torch.add(out4, out8)\n",
        "    # print(out48.shape)\n",
        "\n",
        "    out9 = self.block9(out48)\n",
        "    # print(out9.shape)\n",
        "\n",
        "    out10 = self.block10(out9)\n",
        "    # print(out10.shape)\n",
        "\n",
        "    out11 = self.block11(out10)\n",
        "    # print(out11.shape)\n",
        "\n",
        "    out12 = self.conv1by1(out11)\n",
        "    # print(out12.shape)\n",
        "\n",
        "    # end = self.softmax(out12)\n",
        "    # print(end.shape) # i thought that the shape would change when using softmax, but only the values change to add up to 1\n",
        "\n",
        "    return out12"
      ],
      "metadata": {
        "id": "_Rfg_Cal5nOI"
      },
      "execution_count": null,
      "outputs": []
    },
    {
      "cell_type": "code",
      "source": [
        "x = torch.rand(size=(1, 4, 128, 128, 128), dtype=torch.float32)\n",
        "# print(x.shape)\n",
        "\n",
        "model = FCN(x.shape)\n",
        "print(model)\n",
        "print()\n",
        "\n",
        "out = model(x)"
      ],
      "metadata": {
        "colab": {
          "base_uri": "https://localhost:8080/"
        },
        "id": "ecBbNjRS6CyC",
        "outputId": "0553701f-f365-4404-b766-aadb2dab1897"
      },
      "execution_count": null,
      "outputs": [
        {
          "output_type": "stream",
          "name": "stdout",
          "text": [
            "FCN(\n",
            "  (block1): ConvBlockEncoder(\n",
            "    (convblock1): Conv3d(4, 64, kernel_size=(3, 3, 3), stride=(1, 1, 1), padding=(1, 1, 1))\n",
            "    (relu): ReLU()\n",
            "    (convblock2): Conv3d(64, 64, kernel_size=(3, 3, 3), stride=(1, 1, 1), padding=(1, 1, 1))\n",
            "    (downsample): Conv3d(64, 64, kernel_size=(2, 2, 2), stride=(2, 2, 2))\n",
            "  )\n",
            "  (block2): ConvBlockEncoder(\n",
            "    (convblock1): Conv3d(64, 128, kernel_size=(3, 3, 3), stride=(1, 1, 1), padding=(1, 1, 1))\n",
            "    (relu): ReLU()\n",
            "    (convblock2): Conv3d(128, 128, kernel_size=(3, 3, 3), stride=(1, 1, 1), padding=(1, 1, 1))\n",
            "    (downsample): Conv3d(128, 128, kernel_size=(2, 2, 2), stride=(2, 2, 2))\n",
            "  )\n",
            "  (block3): ConvBlockEncoder(\n",
            "    (convblock1): Conv3d(128, 256, kernel_size=(3, 3, 3), stride=(1, 1, 1), padding=(1, 1, 1))\n",
            "    (relu): ReLU()\n",
            "    (convblock2): Conv3d(256, 256, kernel_size=(3, 3, 3), stride=(1, 1, 1), padding=(1, 1, 1))\n",
            "    (downsample): Conv3d(256, 256, kernel_size=(2, 2, 2), stride=(2, 2, 2))\n",
            "  )\n",
            "  (block4): ConvBlockEncoder(\n",
            "    (convblock1): Conv3d(256, 512, kernel_size=(3, 3, 3), stride=(1, 1, 1), padding=(1, 1, 1))\n",
            "    (relu): ReLU()\n",
            "    (convblock2): Conv3d(512, 512, kernel_size=(3, 3, 3), stride=(1, 1, 1), padding=(1, 1, 1))\n",
            "    (downsample): Conv3d(512, 512, kernel_size=(2, 2, 2), stride=(2, 2, 2))\n",
            "  )\n",
            "  (block5): ConvBlockEncoder(\n",
            "    (convblock1): Conv3d(512, 1024, kernel_size=(3, 3, 3), stride=(1, 1, 1), padding=(1, 1, 1))\n",
            "    (relu): ReLU()\n",
            "    (convblock2): Conv3d(1024, 1024, kernel_size=(3, 3, 3), stride=(1, 1, 1), padding=(1, 1, 1))\n",
            "    (downsample): Conv3d(1024, 1024, kernel_size=(2, 2, 2), stride=(2, 2, 2))\n",
            "  )\n",
            "  (block6): ConvBlockEncoder(\n",
            "    (convblock1): Conv3d(1024, 2048, kernel_size=(3, 3, 3), stride=(1, 1, 1), padding=(1, 1, 1))\n",
            "    (relu): ReLU()\n",
            "    (convblock2): Conv3d(2048, 2048, kernel_size=(3, 3, 3), stride=(1, 1, 1), padding=(1, 1, 1))\n",
            "    (downsample): Conv3d(2048, 2048, kernel_size=(2, 2, 2), stride=(2, 2, 2))\n",
            "  )\n",
            "  (block7): ConvBlockDecoder(\n",
            "    (upsample): ConvTranspose3d(2048, 2048, kernel_size=(2, 2, 2), stride=(2, 2, 2))\n",
            "    (convblock): Conv3d(2048, 1024, kernel_size=(3, 3, 3), stride=(1, 1, 1), padding=(1, 1, 1))\n",
            "  )\n",
            "  (block8): ConvBlockDecoder(\n",
            "    (upsample): ConvTranspose3d(1024, 1024, kernel_size=(2, 2, 2), stride=(2, 2, 2))\n",
            "    (convblock): Conv3d(1024, 512, kernel_size=(3, 3, 3), stride=(1, 1, 1), padding=(1, 1, 1))\n",
            "  )\n",
            "  (block9): ConvBlockDecoder(\n",
            "    (upsample): ConvTranspose3d(512, 512, kernel_size=(2, 2, 2), stride=(2, 2, 2))\n",
            "    (convblock): Conv3d(512, 256, kernel_size=(3, 3, 3), stride=(1, 1, 1), padding=(1, 1, 1))\n",
            "  )\n",
            "  (block10): ConvBlockDecoder(\n",
            "    (upsample): ConvTranspose3d(256, 256, kernel_size=(2, 2, 2), stride=(2, 2, 2))\n",
            "    (convblock): Conv3d(256, 128, kernel_size=(3, 3, 3), stride=(1, 1, 1), padding=(1, 1, 1))\n",
            "  )\n",
            "  (block11): ConvBlockDecoder(\n",
            "    (upsample): ConvTranspose3d(128, 128, kernel_size=(2, 2, 2), stride=(2, 2, 2))\n",
            "    (convblock): Conv3d(128, 64, kernel_size=(3, 3, 3), stride=(1, 1, 1), padding=(1, 1, 1))\n",
            "  )\n",
            "  (conv1by1): Conv3d(64, 4, kernel_size=(1, 1, 1), stride=(1, 1, 1))\n",
            "  (softmax): Softmax(dim=1)\n",
            ")\n",
            "\n"
          ]
        }
      ]
    },
    {
      "cell_type": "code",
      "source": [
        "print(out.shape)\n",
        "print(out)"
      ],
      "metadata": {
        "id": "kcU3q4WYfBoo",
        "colab": {
          "base_uri": "https://localhost:8080/"
        },
        "outputId": "ae2882fd-f885-48b2-8a24-ea9a37fe227b"
      },
      "execution_count": null,
      "outputs": [
        {
          "output_type": "stream",
          "name": "stdout",
          "text": [
            "torch.Size([1, 4, 128, 128, 128])\n",
            "tensor([[[[[ 0.1091,  0.1081,  0.1087,  ...,  0.1082,  0.1087,  0.1056],\n",
            "           [ 0.1129,  0.1146,  0.1142,  ...,  0.1144,  0.1143,  0.1099],\n",
            "           [ 0.1135,  0.1142,  0.1145,  ...,  0.1143,  0.1145,  0.1094],\n",
            "           ...,\n",
            "           [ 0.1130,  0.1146,  0.1143,  ...,  0.1145,  0.1140,  0.1099],\n",
            "           [ 0.1136,  0.1140,  0.1145,  ...,  0.1140,  0.1147,  0.1092],\n",
            "           [ 0.1121,  0.1125,  0.1121,  ...,  0.1124,  0.1120,  0.1095]],\n",
            "\n",
            "          [[ 0.1130,  0.1107,  0.1106,  ...,  0.1107,  0.1106,  0.1061],\n",
            "           [ 0.1169,  0.1168,  0.1158,  ...,  0.1165,  0.1157,  0.1084],\n",
            "           [ 0.1173,  0.1157,  0.1154,  ...,  0.1162,  0.1155,  0.1087],\n",
            "           ...,\n",
            "           [ 0.1170,  0.1166,  0.1157,  ...,  0.1165,  0.1156,  0.1084],\n",
            "           [ 0.1175,  0.1158,  0.1156,  ...,  0.1165,  0.1155,  0.1088],\n",
            "           [ 0.1125,  0.1114,  0.1107,  ...,  0.1115,  0.1107,  0.1079]],\n",
            "\n",
            "          [[ 0.1133,  0.1106,  0.1112,  ...,  0.1106,  0.1111,  0.1058],\n",
            "           [ 0.1165,  0.1157,  0.1151,  ...,  0.1158,  0.1154,  0.1084],\n",
            "           [ 0.1173,  0.1151,  0.1152,  ...,  0.1152,  0.1151,  0.1077],\n",
            "           ...,\n",
            "           [ 0.1168,  0.1158,  0.1153,  ...,  0.1160,  0.1151,  0.1083],\n",
            "           [ 0.1174,  0.1148,  0.1153,  ...,  0.1148,  0.1154,  0.1074],\n",
            "           [ 0.1122,  0.1111,  0.1104,  ...,  0.1112,  0.1103,  0.1075]],\n",
            "\n",
            "          ...,\n",
            "\n",
            "          [[ 0.1129,  0.1107,  0.1105,  ...,  0.1106,  0.1105,  0.1060],\n",
            "           [ 0.1169,  0.1169,  0.1157,  ...,  0.1167,  0.1161,  0.1086],\n",
            "           [ 0.1174,  0.1156,  0.1155,  ...,  0.1158,  0.1156,  0.1083],\n",
            "           ...,\n",
            "           [ 0.1169,  0.1166,  0.1157,  ...,  0.1166,  0.1159,  0.1085],\n",
            "           [ 0.1175,  0.1156,  0.1156,  ...,  0.1161,  0.1154,  0.1084],\n",
            "           [ 0.1124,  0.1113,  0.1108,  ...,  0.1114,  0.1108,  0.1079]],\n",
            "\n",
            "          [[ 0.1136,  0.1105,  0.1114,  ...,  0.1105,  0.1112,  0.1058],\n",
            "           [ 0.1164,  0.1150,  0.1149,  ...,  0.1155,  0.1150,  0.1083],\n",
            "           [ 0.1176,  0.1151,  0.1153,  ...,  0.1151,  0.1152,  0.1076],\n",
            "           ...,\n",
            "           [ 0.1168,  0.1155,  0.1152,  ...,  0.1158,  0.1151,  0.1084],\n",
            "           [ 0.1176,  0.1148,  0.1153,  ...,  0.1147,  0.1153,  0.1075],\n",
            "           [ 0.1122,  0.1112,  0.1105,  ...,  0.1113,  0.1103,  0.1076]],\n",
            "\n",
            "          [[ 0.1108,  0.1097,  0.1098,  ...,  0.1097,  0.1098,  0.1071],\n",
            "           [ 0.1123,  0.1121,  0.1116,  ...,  0.1119,  0.1119,  0.1074],\n",
            "           [ 0.1126,  0.1111,  0.1115,  ...,  0.1112,  0.1115,  0.1070],\n",
            "           ...,\n",
            "           [ 0.1124,  0.1120,  0.1117,  ...,  0.1118,  0.1118,  0.1074],\n",
            "           [ 0.1125,  0.1111,  0.1114,  ...,  0.1112,  0.1113,  0.1070],\n",
            "           [ 0.1078,  0.1060,  0.1062,  ...,  0.1060,  0.1062,  0.1054]]],\n",
            "\n",
            "\n",
            "         [[[ 0.1236,  0.1209,  0.1209,  ...,  0.1209,  0.1210,  0.1189],\n",
            "           [ 0.1283,  0.1251,  0.1259,  ...,  0.1250,  0.1257,  0.1212],\n",
            "           [ 0.1280,  0.1254,  0.1254,  ...,  0.1252,  0.1253,  0.1210],\n",
            "           ...,\n",
            "           [ 0.1281,  0.1251,  0.1260,  ...,  0.1250,  0.1260,  0.1211],\n",
            "           [ 0.1282,  0.1252,  0.1255,  ...,  0.1250,  0.1254,  0.1210],\n",
            "           [ 0.1261,  0.1246,  0.1252,  ...,  0.1247,  0.1251,  0.1208]],\n",
            "\n",
            "          [[ 0.1258,  0.1223,  0.1234,  ...,  0.1223,  0.1235,  0.1206],\n",
            "           [ 0.1298,  0.1284,  0.1281,  ...,  0.1285,  0.1283,  0.1247],\n",
            "           [ 0.1306,  0.1288,  0.1300,  ...,  0.1290,  0.1301,  0.1245],\n",
            "           ...,\n",
            "           [ 0.1296,  0.1285,  0.1278,  ...,  0.1287,  0.1283,  0.1249],\n",
            "           [ 0.1306,  0.1287,  0.1297,  ...,  0.1287,  0.1298,  0.1241],\n",
            "           [ 0.1296,  0.1293,  0.1295,  ...,  0.1295,  0.1298,  0.1249]],\n",
            "\n",
            "          [[ 0.1257,  0.1226,  0.1224,  ...,  0.1224,  0.1226,  0.1211],\n",
            "           [ 0.1313,  0.1294,  0.1305,  ...,  0.1293,  0.1302,  0.1250],\n",
            "           [ 0.1303,  0.1290,  0.1289,  ...,  0.1287,  0.1289,  0.1249],\n",
            "           ...,\n",
            "           [ 0.1312,  0.1293,  0.1309,  ...,  0.1291,  0.1308,  0.1248],\n",
            "           [ 0.1306,  0.1290,  0.1291,  ...,  0.1286,  0.1289,  0.1246],\n",
            "           [ 0.1310,  0.1305,  0.1315,  ...,  0.1306,  0.1315,  0.1250]],\n",
            "\n",
            "          ...,\n",
            "\n",
            "          [[ 0.1257,  0.1222,  0.1231,  ...,  0.1224,  0.1232,  0.1208],\n",
            "           [ 0.1298,  0.1280,  0.1281,  ...,  0.1284,  0.1282,  0.1246],\n",
            "           [ 0.1303,  0.1289,  0.1295,  ...,  0.1294,  0.1297,  0.1249],\n",
            "           ...,\n",
            "           [ 0.1296,  0.1282,  0.1279,  ...,  0.1285,  0.1283,  0.1246],\n",
            "           [ 0.1302,  0.1288,  0.1293,  ...,  0.1291,  0.1296,  0.1244],\n",
            "           [ 0.1295,  0.1292,  0.1294,  ...,  0.1294,  0.1297,  0.1246]],\n",
            "\n",
            "          [[ 0.1256,  0.1225,  0.1225,  ...,  0.1223,  0.1229,  0.1211],\n",
            "           [ 0.1311,  0.1296,  0.1303,  ...,  0.1296,  0.1303,  0.1250],\n",
            "           [ 0.1302,  0.1289,  0.1289,  ...,  0.1287,  0.1292,  0.1251],\n",
            "           ...,\n",
            "           [ 0.1312,  0.1297,  0.1306,  ...,  0.1295,  0.1307,  0.1248],\n",
            "           [ 0.1305,  0.1291,  0.1290,  ...,  0.1289,  0.1291,  0.1248],\n",
            "           [ 0.1310,  0.1307,  0.1314,  ...,  0.1306,  0.1314,  0.1250]],\n",
            "\n",
            "          [[ 0.1225,  0.1207,  0.1213,  ...,  0.1208,  0.1213,  0.1212],\n",
            "           [ 0.1270,  0.1259,  0.1261,  ...,  0.1264,  0.1260,  0.1247],\n",
            "           [ 0.1266,  0.1264,  0.1264,  ...,  0.1266,  0.1265,  0.1248],\n",
            "           ...,\n",
            "           [ 0.1269,  0.1261,  0.1260,  ...,  0.1266,  0.1260,  0.1247],\n",
            "           [ 0.1267,  0.1265,  0.1265,  ...,  0.1266,  0.1266,  0.1247],\n",
            "           [ 0.1292,  0.1282,  0.1283,  ...,  0.1284,  0.1283,  0.1243]]],\n",
            "\n",
            "\n",
            "         [[[ 0.0169,  0.0190,  0.0190,  ...,  0.0192,  0.0191,  0.0214],\n",
            "           [ 0.0121,  0.0153,  0.0142,  ...,  0.0151,  0.0140,  0.0200],\n",
            "           [ 0.0123,  0.0148,  0.0148,  ...,  0.0150,  0.0152,  0.0200],\n",
            "           ...,\n",
            "           [ 0.0122,  0.0155,  0.0141,  ...,  0.0157,  0.0138,  0.0205],\n",
            "           [ 0.0121,  0.0146,  0.0147,  ...,  0.0147,  0.0151,  0.0199],\n",
            "           [ 0.0136,  0.0151,  0.0142,  ...,  0.0153,  0.0141,  0.0181]],\n",
            "\n",
            "          [[ 0.0267,  0.0287,  0.0291,  ...,  0.0287,  0.0291,  0.0248],\n",
            "           [ 0.0223,  0.0234,  0.0229,  ...,  0.0239,  0.0228,  0.0210],\n",
            "           [ 0.0231,  0.0224,  0.0234,  ...,  0.0224,  0.0233,  0.0203],\n",
            "           ...,\n",
            "           [ 0.0220,  0.0229,  0.0226,  ...,  0.0232,  0.0226,  0.0206],\n",
            "           [ 0.0233,  0.0225,  0.0239,  ...,  0.0226,  0.0237,  0.0205],\n",
            "           [ 0.0179,  0.0190,  0.0179,  ...,  0.0190,  0.0180,  0.0172]],\n",
            "\n",
            "          [[ 0.0268,  0.0297,  0.0295,  ...,  0.0298,  0.0296,  0.0256],\n",
            "           [ 0.0214,  0.0228,  0.0216,  ...,  0.0226,  0.0215,  0.0208],\n",
            "           [ 0.0217,  0.0223,  0.0224,  ...,  0.0222,  0.0229,  0.0203],\n",
            "           ...,\n",
            "           [ 0.0215,  0.0230,  0.0216,  ...,  0.0234,  0.0213,  0.0213],\n",
            "           [ 0.0216,  0.0219,  0.0224,  ...,  0.0218,  0.0227,  0.0202],\n",
            "           [ 0.0180,  0.0186,  0.0177,  ...,  0.0191,  0.0175,  0.0178]],\n",
            "\n",
            "          ...,\n",
            "\n",
            "          [[ 0.0268,  0.0285,  0.0293,  ...,  0.0288,  0.0295,  0.0248],\n",
            "           [ 0.0221,  0.0241,  0.0229,  ...,  0.0242,  0.0232,  0.0209],\n",
            "           [ 0.0231,  0.0222,  0.0235,  ...,  0.0225,  0.0236,  0.0203],\n",
            "           ...,\n",
            "           [ 0.0220,  0.0233,  0.0227,  ...,  0.0233,  0.0231,  0.0205],\n",
            "           [ 0.0232,  0.0223,  0.0237,  ...,  0.0225,  0.0236,  0.0204],\n",
            "           [ 0.0181,  0.0190,  0.0181,  ...,  0.0190,  0.0182,  0.0172]],\n",
            "\n",
            "          [[ 0.0270,  0.0296,  0.0298,  ...,  0.0297,  0.0297,  0.0255],\n",
            "           [ 0.0214,  0.0227,  0.0217,  ...,  0.0226,  0.0217,  0.0207],\n",
            "           [ 0.0222,  0.0222,  0.0230,  ...,  0.0220,  0.0233,  0.0201],\n",
            "           ...,\n",
            "           [ 0.0216,  0.0229,  0.0216,  ...,  0.0231,  0.0215,  0.0210],\n",
            "           [ 0.0219,  0.0219,  0.0228,  ...,  0.0217,  0.0230,  0.0200],\n",
            "           [ 0.0178,  0.0187,  0.0175,  ...,  0.0190,  0.0174,  0.0177]],\n",
            "\n",
            "          [[ 0.0294,  0.0313,  0.0317,  ...,  0.0314,  0.0321,  0.0260],\n",
            "           [ 0.0287,  0.0306,  0.0297,  ...,  0.0302,  0.0302,  0.0228],\n",
            "           [ 0.0294,  0.0291,  0.0300,  ...,  0.0294,  0.0303,  0.0225],\n",
            "           ...,\n",
            "           [ 0.0291,  0.0301,  0.0299,  ...,  0.0298,  0.0303,  0.0226],\n",
            "           [ 0.0294,  0.0291,  0.0299,  ...,  0.0293,  0.0300,  0.0223],\n",
            "           [ 0.0261,  0.0270,  0.0268,  ...,  0.0270,  0.0268,  0.0214]]],\n",
            "\n",
            "\n",
            "         [[[-0.1125, -0.1069, -0.1067,  ..., -0.1069, -0.1066, -0.1045],\n",
            "           [-0.1201, -0.1120, -0.1131,  ..., -0.1120, -0.1130, -0.1063],\n",
            "           [-0.1202, -0.1133, -0.1128,  ..., -0.1134, -0.1126, -0.1067],\n",
            "           ...,\n",
            "           [-0.1200, -0.1119, -0.1129,  ..., -0.1119, -0.1129, -0.1060],\n",
            "           [-0.1202, -0.1133, -0.1130,  ..., -0.1136, -0.1129, -0.1069],\n",
            "           [-0.1173, -0.1107, -0.1123,  ..., -0.1108, -0.1124, -0.1064]],\n",
            "\n",
            "          [[-0.1113, -0.1083, -0.1079,  ..., -0.1081, -0.1076, -0.1071],\n",
            "           [-0.1172, -0.1162, -0.1150,  ..., -0.1161, -0.1150, -0.1100],\n",
            "           [-0.1176, -0.1150, -0.1152,  ..., -0.1148, -0.1148, -0.1099],\n",
            "           ...,\n",
            "           [-0.1173, -0.1161, -0.1151,  ..., -0.1160, -0.1153, -0.1102],\n",
            "           [-0.1177, -0.1150, -0.1153,  ..., -0.1151, -0.1149, -0.1103],\n",
            "           [-0.1168, -0.1149, -0.1139,  ..., -0.1150, -0.1141, -0.1085]],\n",
            "\n",
            "          [[-0.1109, -0.1082, -0.1077,  ..., -0.1083, -0.1076, -0.1073],\n",
            "           [-0.1181, -0.1146, -0.1158,  ..., -0.1147, -0.1157, -0.1095],\n",
            "           [-0.1171, -0.1155, -0.1145,  ..., -0.1157, -0.1144, -0.1099],\n",
            "           ...,\n",
            "           [-0.1179, -0.1145, -0.1156,  ..., -0.1145, -0.1156, -0.1091],\n",
            "           [-0.1173, -0.1157, -0.1148,  ..., -0.1160, -0.1148, -0.1100],\n",
            "           [-0.1177, -0.1133, -0.1149,  ..., -0.1133, -0.1151, -0.1069]],\n",
            "\n",
            "          ...,\n",
            "\n",
            "          [[-0.1115, -0.1084, -0.1081,  ..., -0.1081, -0.1079, -0.1071],\n",
            "           [-0.1174, -0.1162, -0.1150,  ..., -0.1159, -0.1148, -0.1099],\n",
            "           [-0.1177, -0.1151, -0.1155,  ..., -0.1151, -0.1152, -0.1100],\n",
            "           ...,\n",
            "           [-0.1174, -0.1162, -0.1151,  ..., -0.1159, -0.1150, -0.1101],\n",
            "           [-0.1177, -0.1151, -0.1154,  ..., -0.1152, -0.1152, -0.1103],\n",
            "           [-0.1169, -0.1150, -0.1139,  ..., -0.1150, -0.1140, -0.1086]],\n",
            "\n",
            "          [[-0.1110, -0.1087, -0.1077,  ..., -0.1087, -0.1078, -0.1076],\n",
            "           [-0.1178, -0.1148, -0.1156,  ..., -0.1146, -0.1156, -0.1092],\n",
            "           [-0.1171, -0.1160, -0.1144,  ..., -0.1159, -0.1145, -0.1100],\n",
            "           ...,\n",
            "           [-0.1178, -0.1148, -0.1155,  ..., -0.1147, -0.1155, -0.1091],\n",
            "           [-0.1172, -0.1160, -0.1146,  ..., -0.1159, -0.1147, -0.1099],\n",
            "           [-0.1177, -0.1138, -0.1148,  ..., -0.1137, -0.1150, -0.1071]],\n",
            "\n",
            "          [[-0.1116, -0.1101, -0.1104,  ..., -0.1100, -0.1101, -0.1090],\n",
            "           [-0.1136, -0.1152, -0.1143,  ..., -0.1149, -0.1142, -0.1109],\n",
            "           [-0.1139, -0.1142, -0.1143,  ..., -0.1141, -0.1140, -0.1110],\n",
            "           ...,\n",
            "           [-0.1136, -0.1153, -0.1144,  ..., -0.1148, -0.1144, -0.1110],\n",
            "           [-0.1136, -0.1143, -0.1141,  ..., -0.1142, -0.1140, -0.1112],\n",
            "           [-0.1117, -0.1123, -0.1116,  ..., -0.1121, -0.1116, -0.1082]]]]],\n",
            "       grad_fn=<ConvolutionBackward0>)\n"
          ]
        }
      ]
    },
    {
      "cell_type": "code",
      "source": [
        "\"\"\"\n",
        "- SGD\n",
        "- minibatch size = 20\n",
        "- learning rates of 10^-3 (fcn-alexNet), **10^-4 (fcn-vgg16- use this initially because the paper said the model is “our VGG-16 based net)**, ^-5 (fcn-googlelenet)\n",
        "- momentum = 0.9\n",
        "- weight decay = 5^-4 or 2^-4\n",
        "\n",
        "- dropout was included where used in the original classifier nets\n",
        "- didn’t choose patches because although it has a better convergence rate compared to the whole image training, it takes significantly more time because of the larger numbers that need to be considered per batch\n",
        "- data augmentation of randomly mirroring and “jittering” the images by translating them up to 32 pixels\n",
        "- Nvidia Tesla K40 GPU\n",
        "- metrics (testing)\n",
        "\"\"\""
      ],
      "metadata": {
        "id": "mdYaxZ3ImSYj",
        "colab": {
          "base_uri": "https://localhost:8080/",
          "height": 160
        },
        "outputId": "c631677d-bb8a-40ee-a376-937464e58d16"
      },
      "execution_count": null,
      "outputs": [
        {
          "output_type": "execute_result",
          "data": {
            "text/plain": [
              "'\\n- SGD\\n- minibatch size = 20\\n- learning rates of 10^-3 (fcn-alexNet), **10^-4 (fcn-vgg16- use this initially because the paper said the model is “our VGG-16 based net)**, ^-5 (fcn-googlelenet)\\n- momentum = 0.9\\n- weight decay = 5^-4 or 2^-4\\n\\n- dropout was included where used in the original classifier nets\\n- didn’t choose patches because although it has a better convergence rate compared to the whole image training, it takes significantly more time because of the larger numbers that need to be considered per batch\\n- data augmentation of randomly mirroring and “jittering” the images by translating them up to 32 pixels\\n- Nvidia Tesla K40 GPU\\n- metrics (testing)\\n'"
            ],
            "application/vnd.google.colaboratory.intrinsic+json": {
              "type": "string"
            }
          },
          "metadata": {},
          "execution_count": 37
        }
      ]
    },
    {
      "cell_type": "code",
      "source": [
        "import numpy as np"
      ],
      "metadata": {
        "id": "Ipi3RPNjPo0P"
      },
      "execution_count": null,
      "outputs": []
    },
    {
      "cell_type": "code",
      "source": [
        "randomized_training_images = []\n",
        "for i in range(2):\n",
        "  newx = torch.rand(size=(1, 4, 128, 128, 128), dtype=torch.float32)\n",
        "  randomized_training_images.append(newx)"
      ],
      "metadata": {
        "id": "wqbqSSkuWcx4"
      },
      "execution_count": null,
      "outputs": []
    },
    {
      "cell_type": "code",
      "source": [
        "print(len(randomized_training_images))\n",
        "print(randomized_training_images[0].shape)\n",
        "# print(randomized_training_images[0])"
      ],
      "metadata": {
        "id": "q6ktAW6fW0ov",
        "colab": {
          "base_uri": "https://localhost:8080/"
        },
        "outputId": "7ac5610c-ac70-42f5-f753-990ff27d2664"
      },
      "execution_count": null,
      "outputs": [
        {
          "output_type": "stream",
          "name": "stdout",
          "text": [
            "2\n",
            "torch.Size([1, 4, 128, 128, 128])\n"
          ]
        }
      ]
    },
    {
      "cell_type": "code",
      "source": [
        "randomized_training_segmentations = []\n",
        "for i in range(2):\n",
        "  newy = torch.rand(size=(1, 4, 128, 128, 128), dtype=torch.float32)\n",
        "  randomized_training_segmentations.append(newy)"
      ],
      "metadata": {
        "id": "aDVmPENFSb0s"
      },
      "execution_count": null,
      "outputs": []
    },
    {
      "cell_type": "code",
      "source": [
        "print(len(randomized_training_segmentations))\n",
        "print(randomized_training_segmentations[0].shape)\n",
        "# print(randomized_training_segmentations[1])"
      ],
      "metadata": {
        "colab": {
          "base_uri": "https://localhost:8080/"
        },
        "id": "q0qOiO38aBIF",
        "outputId": "de57c732-2b9c-4f86-ed7b-7644191ccdac"
      },
      "execution_count": null,
      "outputs": [
        {
          "output_type": "stream",
          "name": "stdout",
          "text": [
            "2\n",
            "torch.Size([1, 4, 128, 128, 128])\n"
          ]
        }
      ]
    },
    {
      "cell_type": "code",
      "source": [
        "randomized_training_data = list(zip(randomized_training_images, randomized_training_segmentations))"
      ],
      "metadata": {
        "id": "js05JjGBZ70U"
      },
      "execution_count": null,
      "outputs": []
    },
    {
      "cell_type": "code",
      "source": [
        "trainloader = torch.utils.data.DataLoader(dataset=randomized_training_data, batch_size=2, shuffle=True) # minibatch size should be 20"
      ],
      "metadata": {
        "id": "4r-AxBLjXXjS"
      },
      "execution_count": null,
      "outputs": []
    },
    {
      "cell_type": "code",
      "source": [
        "len(trainloader)"
      ],
      "metadata": {
        "colab": {
          "base_uri": "https://localhost:8080/"
        },
        "id": "FtlV5270S3Ih",
        "outputId": "60007cfc-b097-4d9a-fa5a-393082b4b115"
      },
      "execution_count": null,
      "outputs": [
        {
          "output_type": "execute_result",
          "data": {
            "text/plain": [
              "1"
            ]
          },
          "metadata": {},
          "execution_count": 45
        }
      ]
    },
    {
      "cell_type": "code",
      "source": [
        "randomized_validation_images = []\n",
        "for i in range(2):\n",
        "  newy = torch.rand(size=(1, 4, 128, 128, 128), dtype=torch.float32)\n",
        "  randomized_validation_images.append(newy)"
      ],
      "metadata": {
        "id": "pEpEXM3ZUAPJ"
      },
      "execution_count": null,
      "outputs": []
    },
    {
      "cell_type": "code",
      "source": [
        "print(len(randomized_validation_images))\n",
        "print(randomized_validation_images[0].shape)"
      ],
      "metadata": {
        "colab": {
          "base_uri": "https://localhost:8080/"
        },
        "id": "h3X6DyAKUFnu",
        "outputId": "71ee1e03-e1da-44f8-ec69-c6948d4eab3f"
      },
      "execution_count": null,
      "outputs": [
        {
          "output_type": "stream",
          "name": "stdout",
          "text": [
            "2\n",
            "torch.Size([1, 4, 128, 128, 128])\n"
          ]
        }
      ]
    },
    {
      "cell_type": "code",
      "source": [
        "randomized_validation_segmentations = []\n",
        "for i in range(2):\n",
        "  newy = torch.rand(size=(1, 4, 128, 128, 128), dtype=torch.float32)\n",
        "  randomized_validation_segmentations.append(newy)"
      ],
      "metadata": {
        "id": "Iu-sVnEoTMr5"
      },
      "execution_count": null,
      "outputs": []
    },
    {
      "cell_type": "code",
      "source": [
        "print(len(randomized_validation_segmentations))\n",
        "print(randomized_validation_segmentations[0].shape)"
      ],
      "metadata": {
        "colab": {
          "base_uri": "https://localhost:8080/"
        },
        "id": "JRoKkofFAVfZ",
        "outputId": "c30e20d0-3c2f-4091-a2c7-6d760c87d667"
      },
      "execution_count": null,
      "outputs": [
        {
          "output_type": "stream",
          "name": "stdout",
          "text": [
            "2\n",
            "torch.Size([1, 4, 128, 128, 128])\n"
          ]
        }
      ]
    },
    {
      "cell_type": "code",
      "source": [
        "randomized_validation_data = list(zip(randomized_validation_images, randomized_validation_segmentations))"
      ],
      "metadata": {
        "id": "48i1TPJSKTQz"
      },
      "execution_count": null,
      "outputs": []
    },
    {
      "cell_type": "code",
      "source": [
        "validationloader = torch.utils.data.DataLoader(dataset=randomized_validation_data, batch_size=2, shuffle=True) # minibatch size should be 20"
      ],
      "metadata": {
        "id": "ZrSAuo6KKW0W"
      },
      "execution_count": null,
      "outputs": []
    },
    {
      "cell_type": "code",
      "source": [
        "len(validationloader)"
      ],
      "metadata": {
        "colab": {
          "base_uri": "https://localhost:8080/"
        },
        "id": "SP5YoV7DKgpg",
        "outputId": "e48fdb04-0765-472a-de62-bb30faec409e"
      },
      "execution_count": null,
      "outputs": [
        {
          "output_type": "execute_result",
          "data": {
            "text/plain": [
              "1"
            ]
          },
          "metadata": {},
          "execution_count": 52
        }
      ]
    },
    {
      "cell_type": "code",
      "source": [
        "randomized_testing_images = []\n",
        "for i in range(2):\n",
        "  newy = torch.rand(size=(1, 4, 128, 128, 128), dtype=torch.float32)\n",
        "  randomized_testing_images.append(newy)"
      ],
      "metadata": {
        "id": "qjaixBaM-jEM"
      },
      "execution_count": null,
      "outputs": []
    },
    {
      "cell_type": "code",
      "source": [
        "print(len(randomized_testing_images))\n",
        "print(randomized_testing_images[0].shape)"
      ],
      "metadata": {
        "colab": {
          "base_uri": "https://localhost:8080/"
        },
        "id": "zYaRErS--m7p",
        "outputId": "6bf0c15f-049a-487a-c438-c7c1b414c539"
      },
      "execution_count": null,
      "outputs": [
        {
          "output_type": "stream",
          "name": "stdout",
          "text": [
            "2\n",
            "torch.Size([1, 4, 128, 128, 128])\n"
          ]
        }
      ]
    },
    {
      "cell_type": "code",
      "source": [
        "randomized_testing_segmentations = []\n",
        "for i in range(2):\n",
        "  newy = torch.rand(size=(1, 4, 128, 128, 128), dtype=torch.float32)\n",
        "  randomized_testing_segmentations.append(newy)"
      ],
      "metadata": {
        "id": "-2gvY6w_-p10"
      },
      "execution_count": null,
      "outputs": []
    },
    {
      "cell_type": "code",
      "source": [
        "print(len(randomized_testing_segmentations))\n",
        "print(randomized_testing_segmentations[0].shape)"
      ],
      "metadata": {
        "colab": {
          "base_uri": "https://localhost:8080/"
        },
        "id": "XlB0Jd3Y-sT-",
        "outputId": "a0c00bd9-ef86-4268-9d5c-1848b3efa0ba"
      },
      "execution_count": null,
      "outputs": [
        {
          "output_type": "stream",
          "name": "stdout",
          "text": [
            "2\n",
            "torch.Size([1, 4, 128, 128, 128])\n"
          ]
        }
      ]
    },
    {
      "cell_type": "code",
      "source": [
        "randomized_testing_data = list(zip(randomized_testing_segmentations, randomized_testing_segmentations))"
      ],
      "metadata": {
        "id": "tHSkw4Xh-vnS"
      },
      "execution_count": null,
      "outputs": []
    },
    {
      "cell_type": "code",
      "source": [
        "testingloader = torch.utils.data.DataLoader(dataset=randomized_testing_data, batch_size=1, shuffle=True) # minibatch size should be 20"
      ],
      "metadata": {
        "id": "WMGjLOLD-0nI"
      },
      "execution_count": null,
      "outputs": []
    },
    {
      "cell_type": "code",
      "source": [
        "# batch size should be one or the entire size of the dataset:\n",
        "# https://stackoverflow.com/questions/54413160/training-validation-testing-batch-size-ratio\n",
        "# https://vijayabhaskar96.medium.com/validation-set-can-have-the-same-batch-size-as-your-training-set-only-the-final-dataset-that-you-824679aca3f9"
      ],
      "metadata": {
        "id": "Owbo7BoREZLI"
      },
      "execution_count": null,
      "outputs": []
    },
    {
      "cell_type": "code",
      "source": [
        "\"\"\"\n",
        "Training + Validation:\n",
        "categorical cross entropy loss (nn.CrossEntropyLoss())\n",
        "\n",
        "Testing:\n",
        "(update)\n",
        "\"\"\""
      ],
      "metadata": {
        "colab": {
          "base_uri": "https://localhost:8080/",
          "height": 53
        },
        "id": "sVWy7_u2sSEf",
        "outputId": "b4632d33-4a09-463c-d8d1-54a18da0241b"
      },
      "execution_count": null,
      "outputs": [
        {
          "output_type": "execute_result",
          "data": {
            "text/plain": [
              "'\\nTraining + Validation:\\ncategorical cross entropy loss (nn.CrossEntropyLoss())\\n\\nTesting:\\n(update)\\n'"
            ],
            "application/vnd.google.colaboratory.intrinsic+json": {
              "type": "string"
            }
          },
          "metadata": {},
          "execution_count": 60
        }
      ]
    },
    {
      "cell_type": "code",
      "source": [
        "import torch.optim"
      ],
      "metadata": {
        "id": "2g8R0TJkUfhw"
      },
      "execution_count": null,
      "outputs": []
    },
    {
      "cell_type": "code",
      "source": [
        "# epochs\n",
        "epochs = 2\n",
        "# loss\n",
        "criterion = torch.nn.CrossEntropyLoss()\n",
        "# optimizer\n",
        "optimizer = torch.optim.SGD(params=model.parameters(), lr=10**-4, momentum=0.9, weight_decay=5**-4)"
      ],
      "metadata": {
        "id": "JlEoLVSkoJA7"
      },
      "execution_count": null,
      "outputs": []
    },
    {
      "cell_type": "code",
      "source": [
        "training_losses = []\n",
        "validation_losses = []\n",
        "\n",
        "for i in range(epochs):\n",
        "  training_loss = 0\n",
        "  validation_loss = 0\n",
        "  print(\"training time\")\n",
        "  for images, segs in trainloader:\n",
        "    optimizer.zero_grad()\n",
        "    print(len(images), len(segs))\n",
        "    print(images.shape)\n",
        "    print(segs.shape)\n",
        "    images = images.squeeze().clone().detach().requires_grad_(True)\n",
        "    # segs = segs.long() - no\n",
        "    segs = segs.squeeze().clone().detach().requires_grad_(True)\n",
        "    print(images.shape)\n",
        "    print(segs.shape)\n",
        "    outputs = model(images)\n",
        "    print(outputs.shape)\n",
        "\n",
        "    # arg_outputs = outputs.argmax(dim=1)\n",
        "    # print(arg_outputs.shape)\n",
        "    # print(arg_outputs)\n",
        "    # print(segs.shape)\n",
        "    print()\n",
        "    loss = criterion(outputs.float(), segs)\n",
        "    print(loss) # loss with random tensors will be really high because none of the tensors are related to each other\n",
        "    \n",
        "    # loss can be > 1 - https://ai.stackexchange.com/questions/24685/can-the-sparse-categorical-cross-entropy-be-greater-than-one, https://stats.stackexchange.com/questions/392681/cross-entropy-loss-max-value\n",
        "    loss.backward()\n",
        "    training_loss += loss.item()\n",
        "    print()\n",
        "  print(\"validation time\")\n",
        "  for images, segs in validationloader:\n",
        "    optimizer.zero_grad()\n",
        "    print(len(images), len(segs))\n",
        "    print(images.shape)\n",
        "    print(segs.shape)\n",
        "    images = images.squeeze().clone().detach().requires_grad_(True)\n",
        "    # segs = segs.long() - no\n",
        "    segs = segs.squeeze().clone().detach().requires_grad_(True)\n",
        "    print(images.shape)\n",
        "    print(segs.shape)\n",
        "    outputs = model(images)\n",
        "    print(outputs.shape)\n",
        "    print(segs.shape)\n",
        "    print()\n",
        "    loss = criterion(outputs.float(), segs)\n",
        "    print(loss) # loss with random tensors will be really high because none of the tensors are related to each other\n",
        "    # loss can be > 1 - https://ai.stackexchange.com/questions/24685/can-the-sparse-categorical-cross-entropy-be-greater-than-one, https://stats.stackexchange.com/questions/392681/cross-entropy-loss-max-value\n",
        "    loss.backward()\n",
        "    validation_loss += loss.item()\n",
        "  training_losses.append(training_loss/len(trainloader))\n",
        "  validation_losses.append(validation_loss/len(validationloader))\n",
        "  print(\"Epoch: {}/{}... Training Loss: {}... Validation Loss: {}...\".format(i+1,epochs, training_losses[-1], validation_losses[-1]))\n",
        "  if validation_loss < min(validation_losses):\n",
        "    print(\"Validation loss has decreased...saving model\")\n",
        "    torch.save(model.state_dict(), \"fcn.pth\")\n",
        "  print()\n",
        "\n",
        "print(training_losses)\n",
        "print(validation_losses)"
      ],
      "metadata": {
        "colab": {
          "base_uri": "https://localhost:8080/"
        },
        "id": "TY0jnrOufB9L",
        "outputId": "373d98e1-424b-4c75-f00a-8dd2995ea720"
      },
      "execution_count": null,
      "outputs": [
        {
          "output_type": "stream",
          "name": "stdout",
          "text": [
            "training time\n",
            "2 2\n",
            "torch.Size([2, 1, 4, 128, 128, 128])\n",
            "torch.Size([2, 1, 4, 128, 128, 128])\n",
            "torch.Size([2, 4, 128, 128, 128])\n",
            "torch.Size([2, 4, 128, 128, 128])\n",
            "torch.Size([2, 4, 128, 128, 128])\n",
            "\n",
            "tensor(2.7828, grad_fn=<DivBackward1>)\n",
            "\n",
            "validation time\n",
            "2 2\n",
            "torch.Size([2, 1, 4, 128, 128, 128])\n",
            "torch.Size([2, 1, 4, 128, 128, 128])\n",
            "torch.Size([2, 4, 128, 128, 128])\n",
            "torch.Size([2, 4, 128, 128, 128])\n",
            "torch.Size([2, 4, 128, 128, 128])\n",
            "torch.Size([2, 4, 128, 128, 128])\n",
            "\n",
            "tensor(2.7819, grad_fn=<DivBackward1>)\n",
            "Epoch: 1/2... Training Loss: 2.7827634811401367... Validation Loss: 2.7819418907165527...\n",
            "\n",
            "training time\n",
            "2 2\n",
            "torch.Size([2, 1, 4, 128, 128, 128])\n",
            "torch.Size([2, 1, 4, 128, 128, 128])\n",
            "torch.Size([2, 4, 128, 128, 128])\n",
            "torch.Size([2, 4, 128, 128, 128])\n",
            "torch.Size([2, 4, 128, 128, 128])\n",
            "\n",
            "tensor(2.7828, grad_fn=<DivBackward1>)\n",
            "\n",
            "validation time\n",
            "2 2\n",
            "torch.Size([2, 1, 4, 128, 128, 128])\n",
            "torch.Size([2, 1, 4, 128, 128, 128])\n",
            "torch.Size([2, 4, 128, 128, 128])\n",
            "torch.Size([2, 4, 128, 128, 128])\n",
            "torch.Size([2, 4, 128, 128, 128])\n",
            "torch.Size([2, 4, 128, 128, 128])\n",
            "\n",
            "tensor(2.7819, grad_fn=<DivBackward1>)\n",
            "Epoch: 2/2... Training Loss: 2.7827632427215576... Validation Loss: 2.7819418907165527...\n",
            "\n",
            "[2.7827634811401367, 2.7827632427215576]\n",
            "[2.7819418907165527, 2.7819418907165527]\n"
          ]
        }
      ]
    },
    {
      "cell_type": "code",
      "source": [
        "# # IoU - find it per class and then do the mean\n",
        "# def IoU(y_preds, y_targets):\n",
        "#   intersection = torch.sum(torch.abs(y_preds*y_targets), dim=[1,2,3]) # since you have 4 dimensions\n",
        "#   union = torch.sum(y_preds, dim=[1,2,3]) + torch.sum(y_preds, dim=[1,2,3]) - intersection\n",
        "#   iou = torch.mean(intersection/union, dim=0)\n",
        "#   return iou"
      ],
      "metadata": {
        "id": "E4nt4OPRg0VT"
      },
      "execution_count": null,
      "outputs": []
    },
    {
      "cell_type": "code",
      "source": [
        "# total_pixels = 0\n",
        "# correct_pixels = 0\n",
        "\n",
        "# for images, segs in testingloader:\n",
        "#   optimizer.zero_grad()\n",
        "#   print(len(images), len(segs))\n",
        "#   print(images.shape)\n",
        "#   print(segs.shape)\n",
        "#   images = images.squeeze()\n",
        "#   images = torch.tensor(data=images, dtype=torch.float, requires_grad=False)\n",
        "#   segs = segs.squeeze()\n",
        "#   segs = torch.tensor(data=segs, requires_grad=False)\n",
        "#   print(images.shape)\n",
        "#   print(segs.shape)\n",
        "#   print()\n",
        "#   outputs = model(images)\n",
        "#   outs, softmax_outs = outputs\n",
        "#   print()\n",
        "#   print(softmax_outs.shape)\n",
        "#   softmax_outs = torch.argmax(softmax_outs, dim=1)\n",
        "#   print(softmax_outs.shape)\n",
        "#   print()\n",
        "  \n",
        "#   print(len(outs))\n",
        "#   print(outs[0].shape)\n",
        "#   print(len(segs))\n",
        "#   print(segs[0].shape)\n",
        "#   correct_pixels_batch = (softmax_outs == segs).sum() # find total number of pixels where output == seg (output includes the argmax) - why?\n",
        "#   # e.x.s using predicitions instead of one hot encoding (numerical value): https://ilmonteux.github.io/2019/05/10/segmentation-metrics.html, https://github.com/qubvel/segmentation_models/issues/68, https://stackoverflow.com/questions/62461379/multiclass-semantic-segmentation-model-evaluation\n",
        "#   total_pixels_batch = torch.numel(segs) # find total number of pixels in prediction\n",
        "#   print(correct_pixels_batch.item())\n",
        "#   print(total_pixels_batch)\n",
        "\n",
        "#   correct_pixels += correct_pixels_batch.item()\n",
        "#   total_pixels += total_pixels_batch\n",
        "\n",
        "#   iou = IoU(softmax_outs, segs)\n",
        "#   print(iou)"
      ],
      "metadata": {
        "id": "WHQH__qA-TgT"
      },
      "execution_count": null,
      "outputs": []
    },
    {
      "cell_type": "code",
      "source": [
        "# print(total_pixels)\n",
        "# print(total_pixels == 2*128*128*128) # i used 2 just because there's 2 images in one batch"
      ],
      "metadata": {
        "colab": {
          "base_uri": "https://localhost:8080/"
        },
        "id": "B96a5JBOHPVm",
        "outputId": "efa2b7b0-8d5d-41f7-c663-299a098fbf20"
      },
      "execution_count": null,
      "outputs": [
        {
          "output_type": "stream",
          "name": "stdout",
          "text": [
            "4194304\n",
            "True\n"
          ]
        }
      ]
    },
    {
      "cell_type": "code",
      "source": [
        "# print(correct_pixels)"
      ],
      "metadata": {
        "colab": {
          "base_uri": "https://localhost:8080/"
        },
        "id": "WgkeI6mqIFjY",
        "outputId": "f34eca5e-44ff-4c00-e41b-b0dd24a0752e"
      },
      "execution_count": null,
      "outputs": [
        {
          "output_type": "stream",
          "name": "stdout",
          "text": [
            "0\n"
          ]
        }
      ]
    },
    {
      "cell_type": "code",
      "source": [
        "# accuracy = correct_pixels/total_pixels\n",
        "# print(accuracy)"
      ],
      "metadata": {
        "colab": {
          "base_uri": "https://localhost:8080/"
        },
        "id": "-cQ7R0yjIbxj",
        "outputId": "02172185-882a-4050-f823-922a6320eb31"
      },
      "execution_count": null,
      "outputs": [
        {
          "output_type": "stream",
          "name": "stdout",
          "text": [
            "0.0\n"
          ]
        }
      ]
    },
    {
      "cell_type": "code",
      "source": [
        "# print(\"Pixel Accuracy: during testing, the model correctly classified {}/{} pixels, with an accuracy of {:.2f}%\".format(correct_pixels, total_pixels, accuracy))"
      ],
      "metadata": {
        "colab": {
          "base_uri": "https://localhost:8080/"
        },
        "id": "_2jpEREbIHel",
        "outputId": "38c9d1d6-7e4e-409a-e383-ffbd82f05519"
      },
      "execution_count": null,
      "outputs": [
        {
          "output_type": "stream",
          "name": "stdout",
          "text": [
            "Pixel Accuracy: during testing, the model correctly classified 0/4194304 pixels, with an accuracy of 0.00%\n"
          ]
        }
      ]
    }
  ]
}