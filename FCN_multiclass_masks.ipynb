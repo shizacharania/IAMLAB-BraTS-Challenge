{
  "nbformat": 4,
  "nbformat_minor": 0,
  "metadata": {
    "colab": {
      "provenance": [],
      "collapsed_sections": [],
      "machine_shape": "hm"
    },
    "kernelspec": {
      "name": "python3",
      "display_name": "Python 3"
    },
    "language_info": {
      "name": "python"
    },
    "accelerator": "TPU",
    "gpuClass": "standard"
  },
  "cells": [
    {
      "cell_type": "code",
      "execution_count": 40,
      "metadata": {
        "colab": {
          "base_uri": "https://localhost:8080/",
          "height": 107
        },
        "id": "sekni6kJ5Cby",
        "outputId": "dc392efb-3b31-46d2-b407-4c9361dac73c"
      },
      "outputs": [
        {
          "output_type": "execute_result",
          "data": {
            "text/plain": [
              "'\\nNotes on this model: https://shizacharania.notion.site/FCN-Fully-Convolutional-Network-bbc70d47ad92491cb534e2987ac7eb48\\n\\nclass convBlock (because you have 6 so its more feasible)\\n  - conv3d 3x3 (increase channels)\\n  - relu\\n  - conv3d 3x3 (same channels)\\n  - relu\\n  - max pool = conv with same channels, but stride is 2 and kernel is 2 (just like max pool layer)\\n\\n  ~~~~~~~~~~~~~~~~~~\\n\\n  - convtranspose3d = deconv increased channels, but stride is 2 and kernel is 3 (combining steps) - this is approach one\\n \\n  ~~~~~~~~~~~~~~~~~~\\n\\n  approach 2:\\n  - convtranspose3d = deconv with same channels, but stride is 2 and kernel is 2 (to increase spatial size)\\n  - conv 3x3 (less channels)\\n\\n  ~~~~~~~~~~~~~~~~~~\\n\\n  torch.add - for element wise summation\\n'"
            ],
            "application/vnd.google.colaboratory.intrinsic+json": {
              "type": "string"
            }
          },
          "metadata": {},
          "execution_count": 40
        }
      ],
      "source": [
        "\"\"\"\n",
        "Notes on this model: https://shizacharania.notion.site/FCN-Fully-Convolutional-Network-bbc70d47ad92491cb534e2987ac7eb48\n",
        "\n",
        "class convBlock (because you have 6 so its more feasible)\n",
        "  - conv3d 3x3 (increase channels)\n",
        "  - relu\n",
        "  - conv3d 3x3 (same channels)\n",
        "  - relu\n",
        "  - max pool = conv with same channels, but stride is 2 and kernel is 2 (just like max pool layer)\n",
        "\n",
        "  ~~~~~~~~~~~~~~~~~~\n",
        "\n",
        "  - convtranspose3d = deconv increased channels, but stride is 2 and kernel is 3 (combining steps) - this is approach one\n",
        " \n",
        "  ~~~~~~~~~~~~~~~~~~\n",
        "\n",
        "  approach 2:\n",
        "  - convtranspose3d = deconv with same channels, but stride is 2 and kernel is 2 (to increase spatial size)\n",
        "  - conv 3x3 (less channels)\n",
        "\n",
        "  ~~~~~~~~~~~~~~~~~~\n",
        "\n",
        "  torch.add - for element wise summation\n",
        "\"\"\""
      ]
    },
    {
      "cell_type": "code",
      "source": [
        "import torch\n",
        "import torch.nn as nn"
      ],
      "metadata": {
        "id": "s_yRAVKD5k6X"
      },
      "execution_count": 41,
      "outputs": []
    },
    {
      "cell_type": "code",
      "source": [
        "class ConvBlockEncoder(nn.Module): # need to add nn.Module here\n",
        "  def __init__(self, input_channels, output_channels): # need to add variables needed here\n",
        "    super().__init__()\n",
        "    self.convblock1 = nn.Conv3d(in_channels=input_channels, out_channels=output_channels, kernel_size=3, padding=1)\n",
        "    self.relu = nn.ReLU()\n",
        "    self.convblock2 = nn.Conv3d(in_channels=output_channels, out_channels=output_channels, kernel_size=3, padding=1)\n",
        "    self.downsample = nn.Conv3d(in_channels=output_channels, out_channels=output_channels, kernel_size=2, stride=2)\n",
        "\n",
        "  def forward(self, x): # x represents the input\n",
        "    x = self.convblock1(x)\n",
        "    x = self.relu(x)\n",
        "    x = self.convblock2(x)\n",
        "    out = self.relu(x)\n",
        "    down_out = self.downsample(out)\n",
        "    return out, down_out # out is before downsamping and down_out is after\n",
        "\n",
        "class ConvBlockDecoder(nn.Module):\n",
        "  def __init__(self, input_channels, output_channels):\n",
        "    super().__init__()\n",
        "    # self.deconv = nn.ConvTranspose3d(in_channels=input_channels, out_channels=output_channels, kernel_size=3, stride=2, padding=1, dilation=1)\n",
        "    self.upsample = nn.ConvTranspose3d(in_channels=input_channels, out_channels=input_channels, kernel_size=2, stride=2)\n",
        "    self.convblock = nn.Conv3d(in_channels=input_channels, out_channels=output_channels, kernel_size=3, padding=1)\n",
        "\n",
        "  def forward(self, x):\n",
        "    # x = self.deconv(x) # didn't work because it was just outputing 7 or 9 as the amount of channels and I coulnd't change the padding because it would either have one extra or one less (and I wanted 8 as the spatial dimensions)\n",
        "    x = self.upsample(x)\n",
        "    x = self.convblock(x)\n",
        "    return x\n",
        "\n",
        "\n",
        "class FCN(nn.Module):\n",
        "  def __init__(self, input_shape):\n",
        "    super().__init__()\n",
        "    # 4, 128, 128, 128\n",
        "    # print(input_shape)\n",
        "    self.nimages, self.channels, self.w, self.h, self.d = input_shape\n",
        "    self.block1 = ConvBlockEncoder(4, 64)\n",
        "    self.block2 = ConvBlockEncoder(64, 128)\n",
        "    self.block3 = ConvBlockEncoder(128, 256)\n",
        "    self.block4 = ConvBlockEncoder(256, 512)\n",
        "    self.block5 = ConvBlockEncoder(512, 1024)\n",
        "    self.block6 = ConvBlockEncoder(1024, 2048)\n",
        "\n",
        "    self.block7 = ConvBlockDecoder(2048, 1024)\n",
        "    self.block8 = ConvBlockDecoder(1024, 512)\n",
        "    self.block9 = ConvBlockDecoder(512, 256)\n",
        "    self.block10 = ConvBlockDecoder(256, 128)\n",
        "    self.block11 = ConvBlockDecoder(128, 64)\n",
        "\n",
        "    self.conv1by1 = nn.Conv3d(in_channels=64, out_channels=3, kernel_size=1, stride=1) # output is 3 channels for WT, ET, TC\n",
        "    self.softmax = nn.Softmax(dim=1)\n",
        "  \n",
        "  def forward(self, x):\n",
        "    # print(\"Before shape: \", str(x.shape))\n",
        "    out1, down_out1 = self.block1(x)\n",
        "    # print(out1.shape, down_out1.shape)\n",
        "\n",
        "    out2, down_out2 = self.block2(down_out1)\n",
        "    # print(out2.shape, down_out2.shape)\n",
        "\n",
        "    out3, down_out3 = self.block3(down_out2)\n",
        "    # print(out3.shape, down_out3.shape)\n",
        "\n",
        "    out4, down_out4 = self.block4(down_out3)\n",
        "    # print(out4.shape, down_out4.shape)\n",
        "\n",
        "    out5, down_out5 = self.block5(down_out4)\n",
        "    # print(out5.shape, down_out5.shape)\n",
        "\n",
        "    out6, ____ = self.block6(down_out5)\n",
        "    # print(out6.shape)\n",
        "\n",
        "    out7 = self.block7(out6)\n",
        "    # print(out7.shape)\n",
        "\n",
        "    # sum here with block 5 + block 7\n",
        "    out57 = torch.add(out5, out7)\n",
        "    # print(out57.shape)\n",
        "\n",
        "    out8 = self.block8(out57)\n",
        "    # print(out8.shape)\n",
        "    \n",
        "    # sum here with block 4 + block 8\n",
        "    out48 = torch.add(out4, out8)\n",
        "    # print(out48.shape)\n",
        "\n",
        "    out9 = self.block9(out48)\n",
        "    # print(out9.shape)\n",
        "\n",
        "    out10 = self.block10(out9)\n",
        "    # print(out10.shape)\n",
        "\n",
        "    out11 = self.block11(out10)\n",
        "    # print(out11.shape)\n",
        "\n",
        "    out12 = self.conv1by1(out11)\n",
        "    # print(out12.shape)\n",
        "\n",
        "    # end = self.softmax(out12)\n",
        "    # print(end.shape) # i thought that the shape would change when using softmax, but only the values change to add up to 1\n",
        "\n",
        "    return out12"
      ],
      "metadata": {
        "id": "_Rfg_Cal5nOI"
      },
      "execution_count": 42,
      "outputs": []
    },
    {
      "cell_type": "code",
      "source": [
        "x = torch.rand(size=(1, 4, 128, 128, 128), dtype=torch.float32)\n",
        "# print(x.shape)\n",
        "\n",
        "model = FCN(x.shape)\n",
        "print(model)\n",
        "print()\n",
        "\n",
        "out = model(x)"
      ],
      "metadata": {
        "colab": {
          "base_uri": "https://localhost:8080/"
        },
        "id": "ecBbNjRS6CyC",
        "outputId": "9614319d-a433-4688-a69d-3c5f7af34cd7"
      },
      "execution_count": 43,
      "outputs": [
        {
          "output_type": "stream",
          "name": "stdout",
          "text": [
            "FCN(\n",
            "  (block1): ConvBlockEncoder(\n",
            "    (convblock1): Conv3d(4, 64, kernel_size=(3, 3, 3), stride=(1, 1, 1), padding=(1, 1, 1))\n",
            "    (relu): ReLU()\n",
            "    (convblock2): Conv3d(64, 64, kernel_size=(3, 3, 3), stride=(1, 1, 1), padding=(1, 1, 1))\n",
            "    (downsample): Conv3d(64, 64, kernel_size=(2, 2, 2), stride=(2, 2, 2))\n",
            "  )\n",
            "  (block2): ConvBlockEncoder(\n",
            "    (convblock1): Conv3d(64, 128, kernel_size=(3, 3, 3), stride=(1, 1, 1), padding=(1, 1, 1))\n",
            "    (relu): ReLU()\n",
            "    (convblock2): Conv3d(128, 128, kernel_size=(3, 3, 3), stride=(1, 1, 1), padding=(1, 1, 1))\n",
            "    (downsample): Conv3d(128, 128, kernel_size=(2, 2, 2), stride=(2, 2, 2))\n",
            "  )\n",
            "  (block3): ConvBlockEncoder(\n",
            "    (convblock1): Conv3d(128, 256, kernel_size=(3, 3, 3), stride=(1, 1, 1), padding=(1, 1, 1))\n",
            "    (relu): ReLU()\n",
            "    (convblock2): Conv3d(256, 256, kernel_size=(3, 3, 3), stride=(1, 1, 1), padding=(1, 1, 1))\n",
            "    (downsample): Conv3d(256, 256, kernel_size=(2, 2, 2), stride=(2, 2, 2))\n",
            "  )\n",
            "  (block4): ConvBlockEncoder(\n",
            "    (convblock1): Conv3d(256, 512, kernel_size=(3, 3, 3), stride=(1, 1, 1), padding=(1, 1, 1))\n",
            "    (relu): ReLU()\n",
            "    (convblock2): Conv3d(512, 512, kernel_size=(3, 3, 3), stride=(1, 1, 1), padding=(1, 1, 1))\n",
            "    (downsample): Conv3d(512, 512, kernel_size=(2, 2, 2), stride=(2, 2, 2))\n",
            "  )\n",
            "  (block5): ConvBlockEncoder(\n",
            "    (convblock1): Conv3d(512, 1024, kernel_size=(3, 3, 3), stride=(1, 1, 1), padding=(1, 1, 1))\n",
            "    (relu): ReLU()\n",
            "    (convblock2): Conv3d(1024, 1024, kernel_size=(3, 3, 3), stride=(1, 1, 1), padding=(1, 1, 1))\n",
            "    (downsample): Conv3d(1024, 1024, kernel_size=(2, 2, 2), stride=(2, 2, 2))\n",
            "  )\n",
            "  (block6): ConvBlockEncoder(\n",
            "    (convblock1): Conv3d(1024, 2048, kernel_size=(3, 3, 3), stride=(1, 1, 1), padding=(1, 1, 1))\n",
            "    (relu): ReLU()\n",
            "    (convblock2): Conv3d(2048, 2048, kernel_size=(3, 3, 3), stride=(1, 1, 1), padding=(1, 1, 1))\n",
            "    (downsample): Conv3d(2048, 2048, kernel_size=(2, 2, 2), stride=(2, 2, 2))\n",
            "  )\n",
            "  (block7): ConvBlockDecoder(\n",
            "    (upsample): ConvTranspose3d(2048, 2048, kernel_size=(2, 2, 2), stride=(2, 2, 2))\n",
            "    (convblock): Conv3d(2048, 1024, kernel_size=(3, 3, 3), stride=(1, 1, 1), padding=(1, 1, 1))\n",
            "  )\n",
            "  (block8): ConvBlockDecoder(\n",
            "    (upsample): ConvTranspose3d(1024, 1024, kernel_size=(2, 2, 2), stride=(2, 2, 2))\n",
            "    (convblock): Conv3d(1024, 512, kernel_size=(3, 3, 3), stride=(1, 1, 1), padding=(1, 1, 1))\n",
            "  )\n",
            "  (block9): ConvBlockDecoder(\n",
            "    (upsample): ConvTranspose3d(512, 512, kernel_size=(2, 2, 2), stride=(2, 2, 2))\n",
            "    (convblock): Conv3d(512, 256, kernel_size=(3, 3, 3), stride=(1, 1, 1), padding=(1, 1, 1))\n",
            "  )\n",
            "  (block10): ConvBlockDecoder(\n",
            "    (upsample): ConvTranspose3d(256, 256, kernel_size=(2, 2, 2), stride=(2, 2, 2))\n",
            "    (convblock): Conv3d(256, 128, kernel_size=(3, 3, 3), stride=(1, 1, 1), padding=(1, 1, 1))\n",
            "  )\n",
            "  (block11): ConvBlockDecoder(\n",
            "    (upsample): ConvTranspose3d(128, 128, kernel_size=(2, 2, 2), stride=(2, 2, 2))\n",
            "    (convblock): Conv3d(128, 64, kernel_size=(3, 3, 3), stride=(1, 1, 1), padding=(1, 1, 1))\n",
            "  )\n",
            "  (conv1by1): Conv3d(64, 3, kernel_size=(1, 1, 1), stride=(1, 1, 1))\n",
            "  (softmax): Softmax(dim=1)\n",
            ")\n",
            "\n"
          ]
        }
      ]
    },
    {
      "cell_type": "code",
      "source": [
        "print(out.shape)\n",
        "print(out)"
      ],
      "metadata": {
        "id": "kcU3q4WYfBoo",
        "colab": {
          "base_uri": "https://localhost:8080/"
        },
        "outputId": "24d6b641-7379-4a30-b0c3-a932c12558fb"
      },
      "execution_count": 44,
      "outputs": [
        {
          "output_type": "stream",
          "name": "stdout",
          "text": [
            "torch.Size([1, 3, 128, 128, 128])\n",
            "tensor([[[[[-0.0943, -0.0902, -0.0906,  ..., -0.0901, -0.0908, -0.0904],\n",
            "           [-0.0916, -0.0891, -0.0885,  ..., -0.0893, -0.0884, -0.0897],\n",
            "           [-0.0912, -0.0880, -0.0879,  ..., -0.0879, -0.0883, -0.0890],\n",
            "           ...,\n",
            "           [-0.0913, -0.0888, -0.0883,  ..., -0.0891, -0.0883, -0.0898],\n",
            "           [-0.0911, -0.0882, -0.0877,  ..., -0.0881, -0.0879, -0.0891],\n",
            "           [-0.0892, -0.0875, -0.0876,  ..., -0.0876, -0.0877, -0.0906]],\n",
            "\n",
            "          [[-0.0940, -0.0940, -0.0931,  ..., -0.0939, -0.0931, -0.0926],\n",
            "           [-0.0902, -0.0895, -0.0909,  ..., -0.0893, -0.0906, -0.0901],\n",
            "           [-0.0895, -0.0909, -0.0898,  ..., -0.0909, -0.0896, -0.0914],\n",
            "           ...,\n",
            "           [-0.0899, -0.0896, -0.0909,  ..., -0.0894, -0.0908, -0.0903],\n",
            "           [-0.0897, -0.0907, -0.0898,  ..., -0.0907, -0.0895, -0.0914],\n",
            "           [-0.0900, -0.0916, -0.0924,  ..., -0.0917, -0.0923, -0.0942]],\n",
            "\n",
            "          [[-0.0939, -0.0926, -0.0923,  ..., -0.0926, -0.0924, -0.0923],\n",
            "           [-0.0897, -0.0904, -0.0901,  ..., -0.0903, -0.0903, -0.0918],\n",
            "           [-0.0889, -0.0893, -0.0883,  ..., -0.0894, -0.0887, -0.0913],\n",
            "           ...,\n",
            "           [-0.0894, -0.0901, -0.0898,  ..., -0.0902, -0.0899, -0.0917],\n",
            "           [-0.0888, -0.0894, -0.0883,  ..., -0.0896, -0.0886, -0.0913],\n",
            "           [-0.0895, -0.0914, -0.0917,  ..., -0.0914, -0.0918, -0.0945]],\n",
            "\n",
            "          ...,\n",
            "\n",
            "          [[-0.0938, -0.0940, -0.0931,  ..., -0.0938, -0.0932, -0.0925],\n",
            "           [-0.0905, -0.0891, -0.0913,  ..., -0.0890, -0.0908, -0.0902],\n",
            "           [-0.0893, -0.0906, -0.0899,  ..., -0.0906, -0.0899, -0.0912],\n",
            "           ...,\n",
            "           [-0.0903, -0.0891, -0.0914,  ..., -0.0889, -0.0912, -0.0902],\n",
            "           [-0.0897, -0.0904, -0.0899,  ..., -0.0905, -0.0897, -0.0912],\n",
            "           [-0.0902, -0.0914, -0.0926,  ..., -0.0913, -0.0927, -0.0939]],\n",
            "\n",
            "          [[-0.0938, -0.0925, -0.0923,  ..., -0.0925, -0.0923, -0.0921],\n",
            "           [-0.0896, -0.0905, -0.0902,  ..., -0.0900, -0.0904, -0.0914],\n",
            "           [-0.0890, -0.0894, -0.0885,  ..., -0.0894, -0.0887, -0.0911],\n",
            "           ...,\n",
            "           [-0.0894, -0.0905, -0.0900,  ..., -0.0901, -0.0902, -0.0913],\n",
            "           [-0.0890, -0.0895, -0.0884,  ..., -0.0895, -0.0885, -0.0912],\n",
            "           [-0.0897, -0.0918, -0.0920,  ..., -0.0916, -0.0920, -0.0943]],\n",
            "\n",
            "          [[-0.0936, -0.0943, -0.0941,  ..., -0.0944, -0.0941, -0.0949],\n",
            "           [-0.0919, -0.0913, -0.0926,  ..., -0.0912, -0.0923, -0.0925],\n",
            "           [-0.0913, -0.0915, -0.0921,  ..., -0.0917, -0.0921, -0.0931],\n",
            "           ...,\n",
            "           [-0.0918, -0.0909, -0.0927,  ..., -0.0909, -0.0925, -0.0923],\n",
            "           [-0.0916, -0.0913, -0.0923,  ..., -0.0915, -0.0922, -0.0929],\n",
            "           [-0.0936, -0.0950, -0.0961,  ..., -0.0948, -0.0962, -0.0953]]],\n",
            "\n",
            "\n",
            "         [[[ 0.1004,  0.1009,  0.1012,  ...,  0.1008,  0.1009,  0.1018],\n",
            "           [ 0.0992,  0.1001,  0.1000,  ...,  0.1000,  0.1001,  0.1018],\n",
            "           [ 0.0990,  0.0993,  0.1003,  ...,  0.0995,  0.0999,  0.1020],\n",
            "           ...,\n",
            "           [ 0.0990,  0.0997,  0.0998,  ...,  0.0996,  0.1000,  0.1016],\n",
            "           [ 0.0990,  0.0994,  0.1003,  ...,  0.0998,  0.1001,  0.1022],\n",
            "           [ 0.1007,  0.1027,  0.1026,  ...,  0.1026,  0.1026,  0.1050]],\n",
            "\n",
            "          [[ 0.1016,  0.1030,  0.1023,  ...,  0.1031,  0.1024,  0.1056],\n",
            "           [ 0.1009,  0.1008,  0.1018,  ...,  0.1008,  0.1017,  0.1057],\n",
            "           [ 0.1006,  0.1013,  0.1010,  ...,  0.1014,  0.1010,  0.1053],\n",
            "           ...,\n",
            "           [ 0.1006,  0.1007,  0.1013,  ...,  0.1008,  0.1014,  0.1060],\n",
            "           [ 0.1006,  0.1013,  0.1011,  ...,  0.1013,  0.1009,  0.1052],\n",
            "           [ 0.1022,  0.1038,  0.1035,  ...,  0.1040,  0.1036,  0.1063]],\n",
            "\n",
            "          [[ 0.1019,  0.1023,  0.1029,  ...,  0.1022,  0.1025,  0.1047],\n",
            "           [ 0.1007,  0.1013,  0.1013,  ...,  0.1013,  0.1013,  0.1052],\n",
            "           [ 0.1005,  0.1008,  0.1015,  ...,  0.1010,  0.1011,  0.1049],\n",
            "           ...,\n",
            "           [ 0.1007,  0.1008,  0.1011,  ...,  0.1008,  0.1010,  0.1049],\n",
            "           [ 0.1004,  0.1008,  0.1012,  ...,  0.1011,  0.1011,  0.1052],\n",
            "           [ 0.1024,  0.1041,  0.1039,  ...,  0.1040,  0.1038,  0.1057]],\n",
            "\n",
            "          ...,\n",
            "\n",
            "          [[ 0.1015,  0.1032,  0.1024,  ...,  0.1033,  0.1025,  0.1057],\n",
            "           [ 0.1008,  0.1010,  0.1016,  ...,  0.1009,  0.1017,  0.1058],\n",
            "           [ 0.1004,  0.1014,  0.1012,  ...,  0.1016,  0.1013,  0.1053],\n",
            "           ...,\n",
            "           [ 0.1003,  0.1007,  0.1010,  ...,  0.1009,  0.1014,  0.1061],\n",
            "           [ 0.1005,  0.1013,  0.1012,  ...,  0.1014,  0.1012,  0.1052],\n",
            "           [ 0.1021,  0.1038,  0.1034,  ...,  0.1040,  0.1036,  0.1063]],\n",
            "\n",
            "          [[ 0.1018,  0.1024,  0.1028,  ...,  0.1023,  0.1027,  0.1047],\n",
            "           [ 0.1009,  0.1013,  0.1012,  ...,  0.1014,  0.1011,  0.1051],\n",
            "           [ 0.1003,  0.1010,  0.1013,  ...,  0.1012,  0.1012,  0.1051],\n",
            "           ...,\n",
            "           [ 0.1010,  0.1010,  0.1011,  ...,  0.1009,  0.1009,  0.1048],\n",
            "           [ 0.1002,  0.1007,  0.1011,  ...,  0.1010,  0.1011,  0.1051],\n",
            "           [ 0.1025,  0.1042,  0.1039,  ...,  0.1040,  0.1036,  0.1056]],\n",
            "\n",
            "          [[ 0.1006,  0.1005,  0.1004,  ...,  0.1006,  0.1004,  0.1034],\n",
            "           [ 0.0993,  0.0993,  0.0995,  ...,  0.0993,  0.0997,  0.1040],\n",
            "           [ 0.0992,  0.0991,  0.0997,  ...,  0.0992,  0.0997,  0.1030],\n",
            "           ...,\n",
            "           [ 0.0991,  0.0991,  0.0993,  ...,  0.0993,  0.0995,  0.1041],\n",
            "           [ 0.0992,  0.0989,  0.0995,  ...,  0.0990,  0.0996,  0.1029],\n",
            "           [ 0.1012,  0.1014,  0.1016,  ...,  0.1016,  0.1016,  0.1021]]],\n",
            "\n",
            "\n",
            "         [[[ 0.0253,  0.0276,  0.0266,  ...,  0.0276,  0.0265,  0.0253],\n",
            "           [ 0.0260,  0.0264,  0.0265,  ...,  0.0264,  0.0265,  0.0224],\n",
            "           [ 0.0257,  0.0273,  0.0261,  ...,  0.0273,  0.0259,  0.0231],\n",
            "           ...,\n",
            "           [ 0.0261,  0.0263,  0.0266,  ...,  0.0262,  0.0266,  0.0223],\n",
            "           [ 0.0255,  0.0272,  0.0260,  ...,  0.0272,  0.0261,  0.0231],\n",
            "           [ 0.0239,  0.0229,  0.0233,  ...,  0.0229,  0.0234,  0.0193]],\n",
            "\n",
            "          [[ 0.0287,  0.0327,  0.0330,  ...,  0.0326,  0.0333,  0.0285],\n",
            "           [ 0.0282,  0.0316,  0.0326,  ...,  0.0316,  0.0323,  0.0249],\n",
            "           [ 0.0275,  0.0308,  0.0316,  ...,  0.0306,  0.0321,  0.0243],\n",
            "           ...,\n",
            "           [ 0.0281,  0.0315,  0.0326,  ...,  0.0314,  0.0323,  0.0248],\n",
            "           [ 0.0275,  0.0308,  0.0317,  ...,  0.0305,  0.0319,  0.0245],\n",
            "           [ 0.0236,  0.0253,  0.0260,  ...,  0.0253,  0.0261,  0.0191]],\n",
            "\n",
            "          [[ 0.0288,  0.0343,  0.0330,  ...,  0.0344,  0.0329,  0.0301],\n",
            "           [ 0.0280,  0.0320,  0.0316,  ...,  0.0321,  0.0314,  0.0252],\n",
            "           [ 0.0273,  0.0335,  0.0312,  ...,  0.0337,  0.0311,  0.0263],\n",
            "           ...,\n",
            "           [ 0.0282,  0.0321,  0.0322,  ...,  0.0320,  0.0320,  0.0249],\n",
            "           [ 0.0272,  0.0335,  0.0312,  ...,  0.0339,  0.0312,  0.0263],\n",
            "           [ 0.0240,  0.0259,  0.0262,  ...,  0.0259,  0.0260,  0.0196]],\n",
            "\n",
            "          ...,\n",
            "\n",
            "          [[ 0.0289,  0.0326,  0.0331,  ...,  0.0327,  0.0332,  0.0286],\n",
            "           [ 0.0284,  0.0316,  0.0326,  ...,  0.0315,  0.0324,  0.0249],\n",
            "           [ 0.0276,  0.0305,  0.0315,  ...,  0.0306,  0.0319,  0.0245],\n",
            "           ...,\n",
            "           [ 0.0283,  0.0316,  0.0325,  ...,  0.0315,  0.0323,  0.0249],\n",
            "           [ 0.0274,  0.0306,  0.0314,  ...,  0.0306,  0.0317,  0.0247],\n",
            "           [ 0.0237,  0.0252,  0.0262,  ...,  0.0251,  0.0262,  0.0191]],\n",
            "\n",
            "          [[ 0.0287,  0.0344,  0.0330,  ...,  0.0344,  0.0330,  0.0301],\n",
            "           [ 0.0280,  0.0318,  0.0316,  ...,  0.0319,  0.0317,  0.0251],\n",
            "           [ 0.0272,  0.0336,  0.0311,  ...,  0.0337,  0.0312,  0.0262],\n",
            "           ...,\n",
            "           [ 0.0282,  0.0318,  0.0322,  ...,  0.0318,  0.0321,  0.0247],\n",
            "           [ 0.0273,  0.0335,  0.0313,  ...,  0.0338,  0.0313,  0.0262],\n",
            "           [ 0.0241,  0.0258,  0.0263,  ...,  0.0257,  0.0262,  0.0195]],\n",
            "\n",
            "          [[ 0.0259,  0.0288,  0.0288,  ...,  0.0290,  0.0289,  0.0253],\n",
            "           [ 0.0243,  0.0270,  0.0276,  ...,  0.0269,  0.0275,  0.0222],\n",
            "           [ 0.0238,  0.0266,  0.0269,  ...,  0.0269,  0.0271,  0.0220],\n",
            "           ...,\n",
            "           [ 0.0243,  0.0271,  0.0277,  ...,  0.0271,  0.0275,  0.0223],\n",
            "           [ 0.0239,  0.0265,  0.0270,  ...,  0.0268,  0.0270,  0.0222],\n",
            "           [ 0.0210,  0.0223,  0.0231,  ...,  0.0223,  0.0230,  0.0178]]]]],\n",
            "       grad_fn=<ConvolutionBackward0>)\n"
          ]
        }
      ]
    },
    {
      "cell_type": "code",
      "source": [
        "\"\"\"\n",
        "- SGD\n",
        "- minibatch size = 20\n",
        "- learning rates of 10^-3 (fcn-alexNet), **10^-4 (fcn-vgg16- use this initially because the paper said the model is “our VGG-16 based net)**, ^-5 (fcn-googlelenet)\n",
        "- momentum = 0.9\n",
        "- weight decay = 5^-4 or 2^-4\n",
        "\n",
        "- dropout was included where used in the original classifier nets\n",
        "- didn’t choose patches because although it has a better convergence rate compared to the whole image training, it takes significantly more time because of the larger numbers that need to be considered per batch\n",
        "- data augmentation of randomly mirroring and “jittering” the images by translating them up to 32 pixels\n",
        "- Nvidia Tesla K40 GPU\n",
        "- metrics (testing)\n",
        "\"\"\""
      ],
      "metadata": {
        "id": "mdYaxZ3ImSYj",
        "colab": {
          "base_uri": "https://localhost:8080/",
          "height": 107
        },
        "outputId": "61c56da0-a44c-42dc-8854-e7d0aead1487"
      },
      "execution_count": 45,
      "outputs": [
        {
          "output_type": "execute_result",
          "data": {
            "text/plain": [
              "'\\n- SGD\\n- minibatch size = 20\\n- learning rates of 10^-3 (fcn-alexNet), **10^-4 (fcn-vgg16- use this initially because the paper said the model is “our VGG-16 based net)**, ^-5 (fcn-googlelenet)\\n- momentum = 0.9\\n- weight decay = 5^-4 or 2^-4\\n\\n- dropout was included where used in the original classifier nets\\n- didn’t choose patches because although it has a better convergence rate compared to the whole image training, it takes significantly more time because of the larger numbers that need to be considered per batch\\n- data augmentation of randomly mirroring and “jittering” the images by translating them up to 32 pixels\\n- Nvidia Tesla K40 GPU\\n- metrics (testing)\\n'"
            ],
            "application/vnd.google.colaboratory.intrinsic+json": {
              "type": "string"
            }
          },
          "metadata": {},
          "execution_count": 45
        }
      ]
    },
    {
      "cell_type": "code",
      "source": [
        "import numpy as np"
      ],
      "metadata": {
        "id": "Ipi3RPNjPo0P"
      },
      "execution_count": 46,
      "outputs": []
    },
    {
      "cell_type": "code",
      "source": [
        "randomized_training_images = []\n",
        "for i in range(2):\n",
        "  newx = torch.rand(size=(1, 4, 128, 128, 128), dtype=torch.float32)\n",
        "  randomized_training_images.append(newx)"
      ],
      "metadata": {
        "id": "wqbqSSkuWcx4"
      },
      "execution_count": 47,
      "outputs": []
    },
    {
      "cell_type": "code",
      "source": [
        "print(len(randomized_training_images))\n",
        "print(randomized_training_images[0].shape)\n",
        "# print(randomized_training_images[0])"
      ],
      "metadata": {
        "id": "q6ktAW6fW0ov",
        "colab": {
          "base_uri": "https://localhost:8080/"
        },
        "outputId": "2b5d5ef8-a468-4783-bc0a-88d33203711c"
      },
      "execution_count": 48,
      "outputs": [
        {
          "output_type": "stream",
          "name": "stdout",
          "text": [
            "2\n",
            "torch.Size([1, 4, 128, 128, 128])\n"
          ]
        }
      ]
    },
    {
      "cell_type": "code",
      "source": [
        "randomized_training_segmentations = []\n",
        "for i in range(2):\n",
        "  newy = torch.rand(size=(1, 3, 128, 128, 128), dtype=torch.float32)\n",
        "  randomized_training_segmentations.append(newy)"
      ],
      "metadata": {
        "id": "aDVmPENFSb0s"
      },
      "execution_count": 49,
      "outputs": []
    },
    {
      "cell_type": "code",
      "source": [
        "print(len(randomized_training_segmentations))\n",
        "print(randomized_training_segmentations[0].shape)\n",
        "# print(randomized_training_segmentations[1])"
      ],
      "metadata": {
        "colab": {
          "base_uri": "https://localhost:8080/"
        },
        "id": "q0qOiO38aBIF",
        "outputId": "374152ac-3b8b-4ad5-b1ac-81d54a879df0"
      },
      "execution_count": 50,
      "outputs": [
        {
          "output_type": "stream",
          "name": "stdout",
          "text": [
            "2\n",
            "torch.Size([1, 3, 128, 128, 128])\n"
          ]
        }
      ]
    },
    {
      "cell_type": "code",
      "source": [
        "randomized_training_data = list(zip(randomized_training_images, randomized_training_segmentations))"
      ],
      "metadata": {
        "id": "js05JjGBZ70U"
      },
      "execution_count": 51,
      "outputs": []
    },
    {
      "cell_type": "code",
      "source": [
        "trainloader = torch.utils.data.DataLoader(dataset=randomized_training_data, batch_size=2, shuffle=True) # minibatch size should be 20"
      ],
      "metadata": {
        "id": "4r-AxBLjXXjS"
      },
      "execution_count": 52,
      "outputs": []
    },
    {
      "cell_type": "code",
      "source": [
        "len(trainloader)"
      ],
      "metadata": {
        "colab": {
          "base_uri": "https://localhost:8080/"
        },
        "id": "FtlV5270S3Ih",
        "outputId": "c973f00a-343b-4854-de16-10bfcb4abd5f"
      },
      "execution_count": 53,
      "outputs": [
        {
          "output_type": "execute_result",
          "data": {
            "text/plain": [
              "1"
            ]
          },
          "metadata": {},
          "execution_count": 53
        }
      ]
    },
    {
      "cell_type": "code",
      "source": [
        "randomized_validation_images = []\n",
        "for i in range(2):\n",
        "  newy = torch.rand(size=(1, 4, 128, 128, 128), dtype=torch.float32)\n",
        "  randomized_validation_images.append(newy)"
      ],
      "metadata": {
        "id": "pEpEXM3ZUAPJ"
      },
      "execution_count": 54,
      "outputs": []
    },
    {
      "cell_type": "code",
      "source": [
        "print(len(randomized_validation_images))\n",
        "print(randomized_validation_images[0].shape)"
      ],
      "metadata": {
        "colab": {
          "base_uri": "https://localhost:8080/"
        },
        "id": "h3X6DyAKUFnu",
        "outputId": "71978818-0437-4acd-e439-d68b2b352df9"
      },
      "execution_count": 55,
      "outputs": [
        {
          "output_type": "stream",
          "name": "stdout",
          "text": [
            "2\n",
            "torch.Size([1, 4, 128, 128, 128])\n"
          ]
        }
      ]
    },
    {
      "cell_type": "code",
      "source": [
        "randomized_validation_segmentations = []\n",
        "for i in range(2):\n",
        "  newy = torch.rand(size=(1, 3, 128, 128, 128), dtype=torch.float32)\n",
        "  randomized_validation_segmentations.append(newy)"
      ],
      "metadata": {
        "id": "Iu-sVnEoTMr5"
      },
      "execution_count": 56,
      "outputs": []
    },
    {
      "cell_type": "code",
      "source": [
        "print(len(randomized_validation_segmentations))\n",
        "print(randomized_validation_segmentations[0].shape)"
      ],
      "metadata": {
        "colab": {
          "base_uri": "https://localhost:8080/"
        },
        "id": "JRoKkofFAVfZ",
        "outputId": "473f88a9-7e20-4718-cfd2-aa07626e00d8"
      },
      "execution_count": 57,
      "outputs": [
        {
          "output_type": "stream",
          "name": "stdout",
          "text": [
            "2\n",
            "torch.Size([1, 3, 128, 128, 128])\n"
          ]
        }
      ]
    },
    {
      "cell_type": "code",
      "source": [
        "randomized_validation_data = list(zip(randomized_validation_images, randomized_validation_segmentations))"
      ],
      "metadata": {
        "id": "48i1TPJSKTQz"
      },
      "execution_count": 58,
      "outputs": []
    },
    {
      "cell_type": "code",
      "source": [
        "validationloader = torch.utils.data.DataLoader(dataset=randomized_validation_data, batch_size=2, shuffle=True) # minibatch size should be 20"
      ],
      "metadata": {
        "id": "ZrSAuo6KKW0W"
      },
      "execution_count": 59,
      "outputs": []
    },
    {
      "cell_type": "code",
      "source": [
        "len(validationloader)"
      ],
      "metadata": {
        "colab": {
          "base_uri": "https://localhost:8080/"
        },
        "id": "SP5YoV7DKgpg",
        "outputId": "38fbd77f-0388-4619-c0ae-00933a312050"
      },
      "execution_count": 60,
      "outputs": [
        {
          "output_type": "execute_result",
          "data": {
            "text/plain": [
              "1"
            ]
          },
          "metadata": {},
          "execution_count": 60
        }
      ]
    },
    {
      "cell_type": "code",
      "source": [
        "randomized_testing_images = []\n",
        "for i in range(2):\n",
        "  newy = torch.rand(size=(1, 4, 128, 128, 128), dtype=torch.float32)\n",
        "  randomized_testing_images.append(newy)"
      ],
      "metadata": {
        "id": "qjaixBaM-jEM"
      },
      "execution_count": 61,
      "outputs": []
    },
    {
      "cell_type": "code",
      "source": [
        "print(len(randomized_testing_images))\n",
        "print(randomized_testing_images[0].shape)"
      ],
      "metadata": {
        "colab": {
          "base_uri": "https://localhost:8080/"
        },
        "id": "zYaRErS--m7p",
        "outputId": "eab8a39f-4c8e-40bc-dd24-9584652fb4b8"
      },
      "execution_count": 62,
      "outputs": [
        {
          "output_type": "stream",
          "name": "stdout",
          "text": [
            "2\n",
            "torch.Size([1, 4, 128, 128, 128])\n"
          ]
        }
      ]
    },
    {
      "cell_type": "code",
      "source": [
        "randomized_testing_segmentations = []\n",
        "for i in range(2):\n",
        "  newy = torch.rand(size=(1, 3, 128, 128, 128), dtype=torch.float32)\n",
        "  randomized_testing_segmentations.append(newy)"
      ],
      "metadata": {
        "id": "-2gvY6w_-p10"
      },
      "execution_count": 63,
      "outputs": []
    },
    {
      "cell_type": "code",
      "source": [
        "print(len(randomized_testing_segmentations))\n",
        "print(randomized_testing_segmentations[0].shape)"
      ],
      "metadata": {
        "colab": {
          "base_uri": "https://localhost:8080/"
        },
        "id": "XlB0Jd3Y-sT-",
        "outputId": "d1c662ec-30b9-423d-8359-d930e129c7ac"
      },
      "execution_count": 64,
      "outputs": [
        {
          "output_type": "stream",
          "name": "stdout",
          "text": [
            "2\n",
            "torch.Size([1, 3, 128, 128, 128])\n"
          ]
        }
      ]
    },
    {
      "cell_type": "code",
      "source": [
        "randomized_testing_data = list(zip(randomized_testing_segmentations, randomized_testing_segmentations))"
      ],
      "metadata": {
        "id": "tHSkw4Xh-vnS"
      },
      "execution_count": 65,
      "outputs": []
    },
    {
      "cell_type": "code",
      "source": [
        "testingloader = torch.utils.data.DataLoader(dataset=randomized_testing_data, batch_size=1, shuffle=True) # minibatch size should be 20"
      ],
      "metadata": {
        "id": "WMGjLOLD-0nI"
      },
      "execution_count": 66,
      "outputs": []
    },
    {
      "cell_type": "code",
      "source": [
        "# batch size should be one or the entire size of the dataset:\n",
        "# https://stackoverflow.com/questions/54413160/training-validation-testing-batch-size-ratio\n",
        "# https://vijayabhaskar96.medium.com/validation-set-can-have-the-same-batch-size-as-your-training-set-only-the-final-dataset-that-you-824679aca3f9"
      ],
      "metadata": {
        "id": "Owbo7BoREZLI"
      },
      "execution_count": 67,
      "outputs": []
    },
    {
      "cell_type": "code",
      "source": [
        "\"\"\"\n",
        "Training + Validation:\n",
        "categorical cross entropy loss (nn.CrossEntropyLoss())\n",
        "\n",
        "Testing:\n",
        "(update)\n",
        "\"\"\""
      ],
      "metadata": {
        "colab": {
          "base_uri": "https://localhost:8080/",
          "height": 35
        },
        "id": "sVWy7_u2sSEf",
        "outputId": "70332fbd-13e2-4415-b727-b912249e5eab"
      },
      "execution_count": 68,
      "outputs": [
        {
          "output_type": "execute_result",
          "data": {
            "text/plain": [
              "'\\nTraining + Validation:\\ncategorical cross entropy loss (nn.CrossEntropyLoss())\\n\\nTesting:\\n(update)\\n'"
            ],
            "application/vnd.google.colaboratory.intrinsic+json": {
              "type": "string"
            }
          },
          "metadata": {},
          "execution_count": 68
        }
      ]
    },
    {
      "cell_type": "code",
      "source": [
        "import torch.optim"
      ],
      "metadata": {
        "id": "2g8R0TJkUfhw"
      },
      "execution_count": 69,
      "outputs": []
    },
    {
      "cell_type": "code",
      "source": [
        "# epochs\n",
        "epochs = 2\n",
        "# loss\n",
        "criterion = torch.nn.CrossEntropyLoss()\n",
        "# optimizer\n",
        "optimizer = torch.optim.SGD(params=model.parameters(), lr=10**-4, momentum=0.9, weight_decay=5**-4)"
      ],
      "metadata": {
        "id": "JlEoLVSkoJA7"
      },
      "execution_count": 70,
      "outputs": []
    },
    {
      "cell_type": "code",
      "source": [
        "training_losses = []\n",
        "validation_losses = []\n",
        "\n",
        "for i in range(epochs):\n",
        "  training_loss = 0\n",
        "  validation_loss = 0\n",
        "  print(\"training time\")\n",
        "  for images, segs in trainloader:\n",
        "    optimizer.zero_grad()\n",
        "    print(len(images), len(segs))\n",
        "    print(images.shape)\n",
        "    print(segs.shape)\n",
        "    images = images.squeeze().clone().detach().requires_grad_(True)\n",
        "    # segs = segs.long() - no\n",
        "    segs = segs.squeeze().clone().detach().requires_grad_(True)\n",
        "    print(images.shape)\n",
        "    print(segs.shape)\n",
        "    outputs = model(images)\n",
        "    print(outputs.shape)\n",
        "\n",
        "    # arg_outputs = outputs.argmax(dim=1)\n",
        "    # print(arg_outputs.shape)\n",
        "    # print(arg_outputs)\n",
        "    # print(segs.shape)\n",
        "    print()\n",
        "    loss = criterion(outputs.float(), segs)\n",
        "    print(loss) # loss with random tensors will be really high because none of the tensors are related to each other\n",
        "    \n",
        "    # loss can be > 1 - https://ai.stackexchange.com/questions/24685/can-the-sparse-categorical-cross-entropy-be-greater-than-one, https://stats.stackexchange.com/questions/392681/cross-entropy-loss-max-value\n",
        "    loss.backward()\n",
        "    training_loss += loss.item()\n",
        "    print()\n",
        "  print(\"validation time\")\n",
        "  for images, segs in validationloader:\n",
        "    optimizer.zero_grad()\n",
        "    print(len(images), len(segs))\n",
        "    print(images.shape)\n",
        "    print(segs.shape)\n",
        "    images = images.squeeze().clone().detach().requires_grad_(True)\n",
        "    # segs = segs.long() - no\n",
        "    segs = segs.squeeze().clone().detach().requires_grad_(True)\n",
        "    print(images.shape)\n",
        "    print(segs.shape)\n",
        "    outputs = model(images)\n",
        "    print(outputs.shape)\n",
        "    print(segs.shape)\n",
        "    print()\n",
        "    loss = criterion(outputs.float(), segs)\n",
        "    print(loss) # loss with random tensors will be really high because none of the tensors are related to each other\n",
        "    # loss can be > 1 - https://ai.stackexchange.com/questions/24685/can-the-sparse-categorical-cross-entropy-be-greater-than-one, https://stats.stackexchange.com/questions/392681/cross-entropy-loss-max-value\n",
        "    loss.backward()\n",
        "    validation_loss += loss.item()\n",
        "  training_losses.append(training_loss/len(trainloader))\n",
        "  validation_losses.append(validation_loss/len(validationloader))\n",
        "  print(\"Epoch: {}/{}... Training Loss: {}... Validation Loss: {}...\".format(i+1,epochs, training_losses[-1], validation_losses[-1]))\n",
        "  if validation_loss < min(validation_losses):\n",
        "    print(\"Validation loss has decreased...saving model\")\n",
        "    torch.save(model.state_dict(), \"fcn.pth\")\n",
        "  print()\n",
        "\n",
        "print(training_losses)\n",
        "print(validation_losses)"
      ],
      "metadata": {
        "colab": {
          "base_uri": "https://localhost:8080/"
        },
        "id": "TY0jnrOufB9L",
        "outputId": "0f6e064d-47cc-4e88-b8b9-3ac1954422cd"
      },
      "execution_count": 71,
      "outputs": [
        {
          "output_type": "stream",
          "name": "stdout",
          "text": [
            "training time\n",
            "2 2\n",
            "torch.Size([2, 1, 4, 128, 128, 128])\n",
            "torch.Size([2, 1, 3, 128, 128, 128])\n",
            "torch.Size([2, 4, 128, 128, 128])\n",
            "torch.Size([2, 3, 128, 128, 128])\n",
            "torch.Size([2, 3, 128, 128, 128])\n",
            "\n",
            "tensor(1.6527, grad_fn=<DivBackward1>)\n",
            "\n",
            "validation time\n",
            "2 2\n",
            "torch.Size([2, 1, 4, 128, 128, 128])\n",
            "torch.Size([2, 1, 3, 128, 128, 128])\n",
            "torch.Size([2, 4, 128, 128, 128])\n",
            "torch.Size([2, 3, 128, 128, 128])\n",
            "torch.Size([2, 3, 128, 128, 128])\n",
            "torch.Size([2, 3, 128, 128, 128])\n",
            "\n",
            "tensor(1.6530, grad_fn=<DivBackward1>)\n",
            "Epoch: 1/2... Training Loss: 1.6527200937271118... Validation Loss: 1.6530264616012573...\n",
            "\n",
            "training time\n",
            "2 2\n",
            "torch.Size([2, 1, 4, 128, 128, 128])\n",
            "torch.Size([2, 1, 3, 128, 128, 128])\n",
            "torch.Size([2, 4, 128, 128, 128])\n",
            "torch.Size([2, 3, 128, 128, 128])\n",
            "torch.Size([2, 3, 128, 128, 128])\n",
            "\n",
            "tensor(1.6527, grad_fn=<DivBackward1>)\n",
            "\n",
            "validation time\n",
            "2 2\n",
            "torch.Size([2, 1, 4, 128, 128, 128])\n",
            "torch.Size([2, 1, 3, 128, 128, 128])\n",
            "torch.Size([2, 4, 128, 128, 128])\n",
            "torch.Size([2, 3, 128, 128, 128])\n",
            "torch.Size([2, 3, 128, 128, 128])\n",
            "torch.Size([2, 3, 128, 128, 128])\n",
            "\n",
            "tensor(1.6530, grad_fn=<DivBackward1>)\n",
            "Epoch: 2/2... Training Loss: 1.6527200937271118... Validation Loss: 1.6530263423919678...\n",
            "\n",
            "[1.6527200937271118, 1.6527200937271118]\n",
            "[1.6530264616012573, 1.6530263423919678]\n"
          ]
        }
      ]
    },
    {
      "cell_type": "code",
      "source": [
        "# # IoU - find it per class and then do the mean\n",
        "# def IoU(y_preds, y_targets):\n",
        "#   intersection = torch.sum(torch.abs(y_preds*y_targets), dim=[1,2,3]) # since you have 4 dimensions\n",
        "#   union = torch.sum(y_preds, dim=[1,2,3]) + torch.sum(y_preds, dim=[1,2,3]) - intersection\n",
        "#   iou = torch.mean(intersection/union, dim=0)\n",
        "#   return iou"
      ],
      "metadata": {
        "id": "E4nt4OPRg0VT"
      },
      "execution_count": 72,
      "outputs": []
    },
    {
      "cell_type": "code",
      "source": [
        "# total_pixels = 0\n",
        "# correct_pixels = 0\n",
        "\n",
        "# for images, segs in testingloader:\n",
        "#   optimizer.zero_grad()\n",
        "#   print(len(images), len(segs))\n",
        "#   print(images.shape)\n",
        "#   print(segs.shape)\n",
        "#   images = images.squeeze()\n",
        "#   images = torch.tensor(data=images, dtype=torch.float, requires_grad=False)\n",
        "#   segs = segs.squeeze()\n",
        "#   segs = torch.tensor(data=segs, requires_grad=False)\n",
        "#   print(images.shape)\n",
        "#   print(segs.shape)\n",
        "#   print()\n",
        "#   outputs = model(images)\n",
        "#   outs, softmax_outs = outputs\n",
        "#   print()\n",
        "#   print(softmax_outs.shape)\n",
        "#   softmax_outs = torch.argmax(softmax_outs, dim=1)\n",
        "#   print(softmax_outs.shape)\n",
        "#   print()\n",
        "  \n",
        "#   print(len(outs))\n",
        "#   print(outs[0].shape)\n",
        "#   print(len(segs))\n",
        "#   print(segs[0].shape)\n",
        "#   correct_pixels_batch = (softmax_outs == segs).sum() # find total number of pixels where output == seg (output includes the argmax) - why?\n",
        "#   # e.x.s using predicitions instead of one hot encoding (numerical value): https://ilmonteux.github.io/2019/05/10/segmentation-metrics.html, https://github.com/qubvel/segmentation_models/issues/68, https://stackoverflow.com/questions/62461379/multiclass-semantic-segmentation-model-evaluation\n",
        "#   total_pixels_batch = torch.numel(segs) # find total number of pixels in prediction\n",
        "#   print(correct_pixels_batch.item())\n",
        "#   print(total_pixels_batch)\n",
        "\n",
        "#   correct_pixels += correct_pixels_batch.item()\n",
        "#   total_pixels += total_pixels_batch\n",
        "\n",
        "#   iou = IoU(softmax_outs, segs)\n",
        "#   print(iou)"
      ],
      "metadata": {
        "id": "WHQH__qA-TgT"
      },
      "execution_count": 73,
      "outputs": []
    },
    {
      "cell_type": "code",
      "source": [
        "# print(total_pixels)\n",
        "# print(total_pixels == 2*128*128*128) # i used 2 just because there's 2 images in one batch"
      ],
      "metadata": {
        "id": "B96a5JBOHPVm"
      },
      "execution_count": 74,
      "outputs": []
    },
    {
      "cell_type": "code",
      "source": [
        "# print(correct_pixels)"
      ],
      "metadata": {
        "id": "WgkeI6mqIFjY"
      },
      "execution_count": 75,
      "outputs": []
    },
    {
      "cell_type": "code",
      "source": [
        "# accuracy = correct_pixels/total_pixels\n",
        "# print(accuracy)"
      ],
      "metadata": {
        "id": "-cQ7R0yjIbxj"
      },
      "execution_count": 76,
      "outputs": []
    },
    {
      "cell_type": "code",
      "source": [
        "# print(\"Pixel Accuracy: during testing, the model correctly classified {}/{} pixels, with an accuracy of {:.2f}%\".format(correct_pixels, total_pixels, accuracy))"
      ],
      "metadata": {
        "id": "_2jpEREbIHel"
      },
      "execution_count": 77,
      "outputs": []
    }
  ]
}