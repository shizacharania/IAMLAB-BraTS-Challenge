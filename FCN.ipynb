{
  "nbformat": 4,
  "nbformat_minor": 0,
  "metadata": {
    "colab": {
      "provenance": [],
      "machine_shape": "hm"
    },
    "kernelspec": {
      "name": "python3",
      "display_name": "Python 3"
    },
    "language_info": {
      "name": "python"
    },
    "accelerator": "TPU",
    "gpuClass": "standard"
  },
  "cells": [
    {
      "cell_type": "code",
      "execution_count": 1,
      "metadata": {
        "colab": {
          "base_uri": "https://localhost:8080/",
          "height": 87
        },
        "id": "sekni6kJ5Cby",
        "outputId": "3aba69f1-6c14-474c-83cb-0b3573fa746b"
      },
      "outputs": [
        {
          "output_type": "execute_result",
          "data": {
            "text/plain": [
              "'\\nNotes on this model: https://shizacharania.notion.site/FCN-Fully-Convolutional-Network-bbc70d47ad92491cb534e2987ac7eb48\\n\\nclass convBlock (because you have 6 so its more feasible)\\n  - conv3d 3x3 (increase channels)\\n  - relu\\n  - conv3d 3x3 (same channels)\\n  - relu\\n  - max pool = conv with same channels, but stride is 2 and kernel is 2 (just like max pool layer)\\n\\n  ~~~~~~~~~~~~~~~~~~\\n\\n  - convtranspose3d = deconv increased channels, but stride is 2 and kernel is 3 (combining steps) - this is approach one\\n \\n  ~~~~~~~~~~~~~~~~~~\\n\\n  approach 2:\\n  - convtranspose3d = deconv with same channels, but stride is 2 and kernel is 2 (to increase spatial size)\\n  - conv 3x3 (less channels)\\n\\n  ~~~~~~~~~~~~~~~~~~\\n\\n  torch.add - for element wise summation\\n'"
            ],
            "application/vnd.google.colaboratory.intrinsic+json": {
              "type": "string"
            }
          },
          "metadata": {},
          "execution_count": 1
        }
      ],
      "source": [
        "\"\"\"\n",
        "Notes on this model: https://shizacharania.notion.site/FCN-Fully-Convolutional-Network-bbc70d47ad92491cb534e2987ac7eb48\n",
        "\n",
        "class convBlock (because you have 6 so its more feasible)\n",
        "  - conv3d 3x3 (increase channels)\n",
        "  - relu\n",
        "  - conv3d 3x3 (same channels)\n",
        "  - relu\n",
        "  - max pool = conv with same channels, but stride is 2 and kernel is 2 (just like max pool layer)\n",
        "\n",
        "  ~~~~~~~~~~~~~~~~~~\n",
        "\n",
        "  - convtranspose3d = deconv increased channels, but stride is 2 and kernel is 3 (combining steps) - this is approach one\n",
        " \n",
        "  ~~~~~~~~~~~~~~~~~~\n",
        "\n",
        "  approach 2:\n",
        "  - convtranspose3d = deconv with same channels, but stride is 2 and kernel is 2 (to increase spatial size)\n",
        "  - conv 3x3 (less channels)\n",
        "\n",
        "  ~~~~~~~~~~~~~~~~~~\n",
        "\n",
        "  torch.add - for element wise summation\n",
        "\"\"\""
      ]
    },
    {
      "cell_type": "code",
      "source": [
        "import torch\n",
        "import torch.nn as nn"
      ],
      "metadata": {
        "id": "s_yRAVKD5k6X"
      },
      "execution_count": 2,
      "outputs": []
    },
    {
      "cell_type": "code",
      "source": [
        "class ConvBlockEncoder(nn.Module): # need to add nn.Module here\n",
        "  def __init__(self, input_channels, output_channels):\n",
        "    super().__init__()\n",
        "    self.convblock1 = nn.Conv3d(in_channels=input_channels, out_channels=output_channels, kernel_size=3, padding=1)\n",
        "    self.relu = nn.ReLU()\n",
        "    self.convblock2 = nn.Conv3d(in_channels=output_channels, out_channels=output_channels, kernel_size=3, padding=1)\n",
        "    self.downsample = nn.Conv3d(in_channels=output_channels, out_channels=output_channels, kernel_size=2, stride=2)\n",
        "\n",
        "  def forward(self, x): # x represents the input\n",
        "    x = self.convblock1(x)\n",
        "    x = self.relu(x)\n",
        "    x = self.convblock2(x)\n",
        "    out = self.relu(x)\n",
        "    down_out = self.downsample(out)\n",
        "    return out, down_out # out is before downsamping and down_out is after\n",
        "\n",
        "class ConvBlockDecoder(nn.Module):\n",
        "  def __init__(self, input_channels, output_channels):\n",
        "    super().__init__()\n",
        "    # self.deconv = nn.ConvTranspose3d(in_channels=input_channels, out_channels=output_channels, kernel_size=3, stride=2, padding=1, dilation=1)\n",
        "    self.upsample = nn.ConvTranspose3d(in_channels=input_channels, out_channels=input_channels, kernel_size=2, stride=2)\n",
        "    self.convblock = nn.Conv3d(in_channels=input_channels, out_channels=output_channels, kernel_size=3, padding=1)\n",
        "\n",
        "  def forward(self, x):\n",
        "    # x = self.deconv(x) # didn't work because it was just outputing 7 or 9 as the amount of channels and I coulnd't change the padding because it would either have one extra or one less (and I wanted 8 as the spatial dimensions)\n",
        "    x = self.upsample(x)\n",
        "    x = self.convblock(x)\n",
        "    return x\n",
        "\n",
        "\n",
        "class FCN(nn.Module):\n",
        "  def __init__(self, input_shape):\n",
        "    super().__init__()\n",
        "    # 4, 128, 128, 128\n",
        "    # print(input_shape)\n",
        "    self.nimages, self.channels, self.w, self.h, self.d = input_shape\n",
        "    self.block1 = ConvBlockEncoder(4, 64)\n",
        "    self.block2 = ConvBlockEncoder(64, 128)\n",
        "    self.block3 = ConvBlockEncoder(128, 256)\n",
        "    self.block4 = ConvBlockEncoder(256, 512)\n",
        "    self.block5 = ConvBlockEncoder(512, 1024)\n",
        "    self.block6 = ConvBlockEncoder(1024, 2048)\n",
        "\n",
        "    self.block7 = ConvBlockDecoder(2048, 1024)\n",
        "    self.block8 = ConvBlockDecoder(1024, 512)\n",
        "    self.block9 = ConvBlockDecoder(512, 256)\n",
        "    self.block10 = ConvBlockDecoder(256, 128)\n",
        "    self.block11 = ConvBlockDecoder(128, 64)\n",
        "\n",
        "    self.conv1by1 = nn.Conv3d(in_channels=64, out_channels=3, kernel_size=1, stride=1) # output is 3 channels for WT, ET, TC\n",
        "    self.softmax = nn.Softmax(dim=1)\n",
        "  \n",
        "  def forward(self, x):\n",
        "    # print(\"Before shape: \", str(x.shape))\n",
        "    out1, down_out1 = self.block1(x)\n",
        "    # print(out1.shape, down_out1.shape)\n",
        "\n",
        "    out2, down_out2 = self.block2(down_out1)\n",
        "    # print(out2.shape, down_out2.shape)\n",
        "\n",
        "    out3, down_out3 = self.block3(down_out2)\n",
        "    # print(out3.shape, down_out3.shape)\n",
        "\n",
        "    out4, down_out4 = self.block4(down_out3)\n",
        "    # print(out4.shape, down_out4.shape)\n",
        "\n",
        "    out5, down_out5 = self.block5(down_out4)\n",
        "    # print(out5.shape, down_out5.shape)\n",
        "\n",
        "    out6, ____ = self.block6(down_out5)\n",
        "    # print(out6.shape)\n",
        "\n",
        "    out7 = self.block7(out6)\n",
        "    # print(out7.shape)\n",
        "\n",
        "    # sum here with block 5 + block 7\n",
        "    out57 = torch.add(out5, out7)\n",
        "    # print(out57.shape)\n",
        "\n",
        "    out8 = self.block8(out57)\n",
        "    # print(out8.shape)\n",
        "    \n",
        "    # sum here with block 4 + block 8\n",
        "    out48 = torch.add(out4, out8)\n",
        "    # print(out48.shape)\n",
        "\n",
        "    out9 = self.block9(out48)\n",
        "    # print(out9.shape)\n",
        "\n",
        "    out10 = self.block10(out9)\n",
        "    # print(out10.shape)\n",
        "\n",
        "    out11 = self.block11(out10)\n",
        "    # print(out11.shape)\n",
        "\n",
        "    out12 = self.conv1by1(out11)\n",
        "    # print(out12.shape)\n",
        "\n",
        "    # end = self.softmax(out12)\n",
        "    # print(end.shape) # i thought that the shape would change when using softmax, but only the values change to add up to 1\n",
        "\n",
        "    return out12"
      ],
      "metadata": {
        "id": "_Rfg_Cal5nOI"
      },
      "execution_count": 3,
      "outputs": []
    },
    {
      "cell_type": "code",
      "source": [
        "x = torch.rand(size=(1, 4, 128, 128, 128), dtype=torch.float32)\n",
        "# print(x.shape)\n",
        "\n",
        "model = FCN(x.shape)\n",
        "print(model)\n",
        "print()\n",
        "\n",
        "out = model(x)"
      ],
      "metadata": {
        "colab": {
          "base_uri": "https://localhost:8080/"
        },
        "id": "ecBbNjRS6CyC",
        "outputId": "16448135-54c7-40bb-9be6-45d7a1939395"
      },
      "execution_count": 4,
      "outputs": [
        {
          "output_type": "stream",
          "name": "stdout",
          "text": [
            "FCN(\n",
            "  (block1): ConvBlockEncoder(\n",
            "    (convblock1): Conv3d(4, 64, kernel_size=(3, 3, 3), stride=(1, 1, 1), padding=(1, 1, 1))\n",
            "    (relu): ReLU()\n",
            "    (convblock2): Conv3d(64, 64, kernel_size=(3, 3, 3), stride=(1, 1, 1), padding=(1, 1, 1))\n",
            "    (downsample): Conv3d(64, 64, kernel_size=(2, 2, 2), stride=(2, 2, 2))\n",
            "  )\n",
            "  (block2): ConvBlockEncoder(\n",
            "    (convblock1): Conv3d(64, 128, kernel_size=(3, 3, 3), stride=(1, 1, 1), padding=(1, 1, 1))\n",
            "    (relu): ReLU()\n",
            "    (convblock2): Conv3d(128, 128, kernel_size=(3, 3, 3), stride=(1, 1, 1), padding=(1, 1, 1))\n",
            "    (downsample): Conv3d(128, 128, kernel_size=(2, 2, 2), stride=(2, 2, 2))\n",
            "  )\n",
            "  (block3): ConvBlockEncoder(\n",
            "    (convblock1): Conv3d(128, 256, kernel_size=(3, 3, 3), stride=(1, 1, 1), padding=(1, 1, 1))\n",
            "    (relu): ReLU()\n",
            "    (convblock2): Conv3d(256, 256, kernel_size=(3, 3, 3), stride=(1, 1, 1), padding=(1, 1, 1))\n",
            "    (downsample): Conv3d(256, 256, kernel_size=(2, 2, 2), stride=(2, 2, 2))\n",
            "  )\n",
            "  (block4): ConvBlockEncoder(\n",
            "    (convblock1): Conv3d(256, 512, kernel_size=(3, 3, 3), stride=(1, 1, 1), padding=(1, 1, 1))\n",
            "    (relu): ReLU()\n",
            "    (convblock2): Conv3d(512, 512, kernel_size=(3, 3, 3), stride=(1, 1, 1), padding=(1, 1, 1))\n",
            "    (downsample): Conv3d(512, 512, kernel_size=(2, 2, 2), stride=(2, 2, 2))\n",
            "  )\n",
            "  (block5): ConvBlockEncoder(\n",
            "    (convblock1): Conv3d(512, 1024, kernel_size=(3, 3, 3), stride=(1, 1, 1), padding=(1, 1, 1))\n",
            "    (relu): ReLU()\n",
            "    (convblock2): Conv3d(1024, 1024, kernel_size=(3, 3, 3), stride=(1, 1, 1), padding=(1, 1, 1))\n",
            "    (downsample): Conv3d(1024, 1024, kernel_size=(2, 2, 2), stride=(2, 2, 2))\n",
            "  )\n",
            "  (block6): ConvBlockEncoder(\n",
            "    (convblock1): Conv3d(1024, 2048, kernel_size=(3, 3, 3), stride=(1, 1, 1), padding=(1, 1, 1))\n",
            "    (relu): ReLU()\n",
            "    (convblock2): Conv3d(2048, 2048, kernel_size=(3, 3, 3), stride=(1, 1, 1), padding=(1, 1, 1))\n",
            "    (downsample): Conv3d(2048, 2048, kernel_size=(2, 2, 2), stride=(2, 2, 2))\n",
            "  )\n",
            "  (block7): ConvBlockDecoder(\n",
            "    (upsample): ConvTranspose3d(2048, 2048, kernel_size=(2, 2, 2), stride=(2, 2, 2))\n",
            "    (convblock): Conv3d(2048, 1024, kernel_size=(3, 3, 3), stride=(1, 1, 1), padding=(1, 1, 1))\n",
            "  )\n",
            "  (block8): ConvBlockDecoder(\n",
            "    (upsample): ConvTranspose3d(1024, 1024, kernel_size=(2, 2, 2), stride=(2, 2, 2))\n",
            "    (convblock): Conv3d(1024, 512, kernel_size=(3, 3, 3), stride=(1, 1, 1), padding=(1, 1, 1))\n",
            "  )\n",
            "  (block9): ConvBlockDecoder(\n",
            "    (upsample): ConvTranspose3d(512, 512, kernel_size=(2, 2, 2), stride=(2, 2, 2))\n",
            "    (convblock): Conv3d(512, 256, kernel_size=(3, 3, 3), stride=(1, 1, 1), padding=(1, 1, 1))\n",
            "  )\n",
            "  (block10): ConvBlockDecoder(\n",
            "    (upsample): ConvTranspose3d(256, 256, kernel_size=(2, 2, 2), stride=(2, 2, 2))\n",
            "    (convblock): Conv3d(256, 128, kernel_size=(3, 3, 3), stride=(1, 1, 1), padding=(1, 1, 1))\n",
            "  )\n",
            "  (block11): ConvBlockDecoder(\n",
            "    (upsample): ConvTranspose3d(128, 128, kernel_size=(2, 2, 2), stride=(2, 2, 2))\n",
            "    (convblock): Conv3d(128, 64, kernel_size=(3, 3, 3), stride=(1, 1, 1), padding=(1, 1, 1))\n",
            "  )\n",
            "  (conv1by1): Conv3d(64, 3, kernel_size=(1, 1, 1), stride=(1, 1, 1))\n",
            "  (softmax): Softmax(dim=1)\n",
            ")\n",
            "\n"
          ]
        }
      ]
    },
    {
      "cell_type": "code",
      "source": [
        "print(out.shape)\n",
        "print(out)"
      ],
      "metadata": {
        "id": "kcU3q4WYfBoo",
        "colab": {
          "base_uri": "https://localhost:8080/"
        },
        "outputId": "ab49d608-debc-4ba8-e9d0-bbb0344677ef"
      },
      "execution_count": 5,
      "outputs": [
        {
          "output_type": "stream",
          "name": "stdout",
          "text": [
            "torch.Size([1, 3, 128, 128, 128])\n",
            "tensor([[[[[-0.0454, -0.0454, -0.0446,  ..., -0.0454, -0.0448, -0.0481],\n",
            "           [-0.0480, -0.0439, -0.0450,  ..., -0.0444, -0.0446, -0.0463],\n",
            "           [-0.0475, -0.0451, -0.0446,  ..., -0.0451, -0.0448, -0.0467],\n",
            "           ...,\n",
            "           [-0.0477, -0.0439, -0.0449,  ..., -0.0445, -0.0448, -0.0464],\n",
            "           [-0.0475, -0.0449, -0.0448,  ..., -0.0449, -0.0449, -0.0467],\n",
            "           [-0.0460, -0.0458, -0.0457,  ..., -0.0461, -0.0457, -0.0461]],\n",
            "\n",
            "          [[-0.0465, -0.0464, -0.0469,  ..., -0.0463, -0.0468, -0.0475],\n",
            "           [-0.0448, -0.0420, -0.0405,  ..., -0.0418, -0.0404, -0.0422],\n",
            "           [-0.0448, -0.0418, -0.0421,  ..., -0.0416, -0.0421, -0.0424],\n",
            "           ...,\n",
            "           [-0.0448, -0.0423, -0.0406,  ..., -0.0420, -0.0405, -0.0423],\n",
            "           [-0.0445, -0.0415, -0.0416,  ..., -0.0413, -0.0419, -0.0424],\n",
            "           [-0.0440, -0.0438, -0.0424,  ..., -0.0436, -0.0424, -0.0420]],\n",
            "\n",
            "          [[-0.0459, -0.0474, -0.0463,  ..., -0.0473, -0.0463, -0.0485],\n",
            "           [-0.0449, -0.0407, -0.0410,  ..., -0.0409, -0.0406, -0.0424],\n",
            "           [-0.0444, -0.0423, -0.0408,  ..., -0.0422, -0.0411, -0.0433],\n",
            "           ...,\n",
            "           [-0.0447, -0.0406, -0.0410,  ..., -0.0409, -0.0408, -0.0425],\n",
            "           [-0.0445, -0.0419, -0.0410,  ..., -0.0418, -0.0411, -0.0432],\n",
            "           [-0.0442, -0.0431, -0.0427,  ..., -0.0434, -0.0426, -0.0425]],\n",
            "\n",
            "          ...,\n",
            "\n",
            "          [[-0.0462, -0.0466, -0.0467,  ..., -0.0465, -0.0468, -0.0477],\n",
            "           [-0.0449, -0.0421, -0.0407,  ..., -0.0423, -0.0404, -0.0427],\n",
            "           [-0.0447, -0.0422, -0.0419,  ..., -0.0421, -0.0420, -0.0426],\n",
            "           ...,\n",
            "           [-0.0448, -0.0425, -0.0407,  ..., -0.0425, -0.0405, -0.0427],\n",
            "           [-0.0445, -0.0419, -0.0415,  ..., -0.0417, -0.0417, -0.0424],\n",
            "           [-0.0438, -0.0438, -0.0423,  ..., -0.0437, -0.0424, -0.0421]],\n",
            "\n",
            "          [[-0.0458, -0.0473, -0.0462,  ..., -0.0471, -0.0463, -0.0483],\n",
            "           [-0.0444, -0.0410, -0.0407,  ..., -0.0408, -0.0407, -0.0423],\n",
            "           [-0.0444, -0.0421, -0.0408,  ..., -0.0419, -0.0409, -0.0431],\n",
            "           ...,\n",
            "           [-0.0444, -0.0412, -0.0407,  ..., -0.0410, -0.0408, -0.0423],\n",
            "           [-0.0445, -0.0417, -0.0410,  ..., -0.0416, -0.0411, -0.0430],\n",
            "           [-0.0442, -0.0434, -0.0425,  ..., -0.0435, -0.0425, -0.0424]],\n",
            "\n",
            "          [[-0.0493, -0.0492, -0.0491,  ..., -0.0494, -0.0491, -0.0478],\n",
            "           [-0.0468, -0.0445, -0.0430,  ..., -0.0445, -0.0430, -0.0437],\n",
            "           [-0.0468, -0.0441, -0.0438,  ..., -0.0442, -0.0439, -0.0433],\n",
            "           ...,\n",
            "           [-0.0469, -0.0446, -0.0431,  ..., -0.0447, -0.0430, -0.0438],\n",
            "           [-0.0470, -0.0441, -0.0438,  ..., -0.0441, -0.0438, -0.0432],\n",
            "           [-0.0456, -0.0445, -0.0435,  ..., -0.0444, -0.0434, -0.0433]]],\n",
            "\n",
            "\n",
            "         [[[-0.1186, -0.1169, -0.1170,  ..., -0.1170, -0.1171, -0.1176],\n",
            "           [-0.1187, -0.1211, -0.1208,  ..., -0.1207, -0.1207, -0.1237],\n",
            "           [-0.1179, -0.1209, -0.1201,  ..., -0.1207, -0.1202, -0.1237],\n",
            "           ...,\n",
            "           [-0.1188, -0.1208, -0.1211,  ..., -0.1206, -0.1209, -0.1235],\n",
            "           [-0.1177, -0.1209, -0.1201,  ..., -0.1208, -0.1202, -0.1238],\n",
            "           [-0.1180, -0.1185, -0.1191,  ..., -0.1184, -0.1190, -0.1206]],\n",
            "\n",
            "          [[-0.1171, -0.1159, -0.1162,  ..., -0.1159, -0.1161, -0.1160],\n",
            "           [-0.1182, -0.1182, -0.1190,  ..., -0.1184, -0.1189, -0.1207],\n",
            "           [-0.1178, -0.1183, -0.1185,  ..., -0.1183, -0.1184, -0.1202],\n",
            "           ...,\n",
            "           [-0.1182, -0.1183, -0.1188,  ..., -0.1185, -0.1188, -0.1208],\n",
            "           [-0.1179, -0.1187, -0.1185,  ..., -0.1188, -0.1185, -0.1207],\n",
            "           [-0.1190, -0.1192, -0.1191,  ..., -0.1192, -0.1190, -0.1202]],\n",
            "\n",
            "          [[-0.1162, -0.1153, -0.1150,  ..., -0.1156, -0.1151, -0.1160],\n",
            "           [-0.1185, -0.1187, -0.1184,  ..., -0.1188, -0.1183, -0.1205],\n",
            "           [-0.1171, -0.1178, -0.1167,  ..., -0.1180, -0.1171, -0.1198],\n",
            "           ...,\n",
            "           [-0.1186, -0.1187, -0.1190,  ..., -0.1190, -0.1190, -0.1205],\n",
            "           [-0.1170, -0.1176, -0.1166,  ..., -0.1178, -0.1170, -0.1196],\n",
            "           [-0.1197, -0.1195, -0.1199,  ..., -0.1198, -0.1198, -0.1207]],\n",
            "\n",
            "          ...,\n",
            "\n",
            "          [[-0.1173, -0.1158, -0.1165,  ..., -0.1157, -0.1163, -0.1158],\n",
            "           [-0.1183, -0.1180, -0.1190,  ..., -0.1183, -0.1191, -0.1208],\n",
            "           [-0.1177, -0.1178, -0.1183,  ..., -0.1177, -0.1183, -0.1200],\n",
            "           ...,\n",
            "           [-0.1183, -0.1182, -0.1187,  ..., -0.1184, -0.1188, -0.1209],\n",
            "           [-0.1179, -0.1183, -0.1184,  ..., -0.1184, -0.1185, -0.1204],\n",
            "           [-0.1191, -0.1192, -0.1191,  ..., -0.1192, -0.1191, -0.1204]],\n",
            "\n",
            "          [[-0.1164, -0.1151, -0.1152,  ..., -0.1155, -0.1154, -0.1163],\n",
            "           [-0.1185, -0.1184, -0.1184,  ..., -0.1185, -0.1183, -0.1204],\n",
            "           [-0.1174, -0.1177, -0.1172,  ..., -0.1182, -0.1176, -0.1202],\n",
            "           ...,\n",
            "           [-0.1187, -0.1185, -0.1189,  ..., -0.1189, -0.1189, -0.1206],\n",
            "           [-0.1173, -0.1173, -0.1169,  ..., -0.1177, -0.1173, -0.1198],\n",
            "           [-0.1197, -0.1193, -0.1197,  ..., -0.1196, -0.1197, -0.1207]],\n",
            "\n",
            "          [[-0.1144, -0.1141, -0.1148,  ..., -0.1140, -0.1146, -0.1156],\n",
            "           [-0.1164, -0.1154, -0.1158,  ..., -0.1155, -0.1159, -0.1170],\n",
            "           [-0.1158, -0.1151, -0.1155,  ..., -0.1151, -0.1154, -0.1166],\n",
            "           ...,\n",
            "           [-0.1163, -0.1154, -0.1158,  ..., -0.1153, -0.1159, -0.1170],\n",
            "           [-0.1159, -0.1152, -0.1156,  ..., -0.1153, -0.1156, -0.1168],\n",
            "           [-0.1180, -0.1172, -0.1167,  ..., -0.1171, -0.1169, -0.1175]]],\n",
            "\n",
            "\n",
            "         [[[-0.0472, -0.0485, -0.0484,  ..., -0.0486, -0.0484, -0.0511],\n",
            "           [-0.0454, -0.0469, -0.0467,  ..., -0.0470, -0.0466, -0.0488],\n",
            "           [-0.0453, -0.0472, -0.0463,  ..., -0.0472, -0.0463, -0.0486],\n",
            "           ...,\n",
            "           [-0.0455, -0.0471, -0.0467,  ..., -0.0471, -0.0466, -0.0488],\n",
            "           [-0.0453, -0.0473, -0.0462,  ..., -0.0473, -0.0461, -0.0488],\n",
            "           [-0.0464, -0.0458, -0.0449,  ..., -0.0458, -0.0448, -0.0458]],\n",
            "\n",
            "          [[-0.0443, -0.0443, -0.0450,  ..., -0.0443, -0.0449, -0.0490],\n",
            "           [-0.0417, -0.0417, -0.0422,  ..., -0.0414, -0.0420, -0.0457],\n",
            "           [-0.0414, -0.0422, -0.0419,  ..., -0.0420, -0.0419, -0.0459],\n",
            "           ...,\n",
            "           [-0.0416, -0.0417, -0.0419,  ..., -0.0416, -0.0419, -0.0458],\n",
            "           [-0.0409, -0.0424, -0.0413,  ..., -0.0423, -0.0417, -0.0460],\n",
            "           [-0.0431, -0.0422, -0.0428,  ..., -0.0424, -0.0430, -0.0445]],\n",
            "\n",
            "          [[-0.0439, -0.0444, -0.0444,  ..., -0.0443, -0.0444, -0.0490],\n",
            "           [-0.0417, -0.0425, -0.0423,  ..., -0.0428, -0.0426, -0.0469],\n",
            "           [-0.0414, -0.0423, -0.0418,  ..., -0.0422, -0.0418, -0.0462],\n",
            "           ...,\n",
            "           [-0.0420, -0.0426, -0.0426,  ..., -0.0429, -0.0426, -0.0468],\n",
            "           [-0.0415, -0.0427, -0.0418,  ..., -0.0426, -0.0418, -0.0464],\n",
            "           [-0.0435, -0.0432, -0.0428,  ..., -0.0434, -0.0425, -0.0453]],\n",
            "\n",
            "          ...,\n",
            "\n",
            "          [[-0.0444, -0.0444, -0.0451,  ..., -0.0446, -0.0450, -0.0491],\n",
            "           [-0.0415, -0.0417, -0.0418,  ..., -0.0415, -0.0419, -0.0459],\n",
            "           [-0.0414, -0.0423, -0.0420,  ..., -0.0423, -0.0421, -0.0459],\n",
            "           ...,\n",
            "           [-0.0415, -0.0415, -0.0418,  ..., -0.0416, -0.0419, -0.0460],\n",
            "           [-0.0409, -0.0425, -0.0413,  ..., -0.0425, -0.0416, -0.0460],\n",
            "           [-0.0432, -0.0421, -0.0430,  ..., -0.0422, -0.0432, -0.0444]],\n",
            "\n",
            "          [[-0.0437, -0.0446, -0.0443,  ..., -0.0445, -0.0444, -0.0493],\n",
            "           [-0.0419, -0.0423, -0.0425,  ..., -0.0426, -0.0427, -0.0467],\n",
            "           [-0.0411, -0.0422, -0.0414,  ..., -0.0421, -0.0416, -0.0464],\n",
            "           ...,\n",
            "           [-0.0421, -0.0423, -0.0428,  ..., -0.0425, -0.0428, -0.0466],\n",
            "           [-0.0412, -0.0424, -0.0415,  ..., -0.0423, -0.0418, -0.0463],\n",
            "           [-0.0434, -0.0431, -0.0429,  ..., -0.0433, -0.0426, -0.0452]],\n",
            "\n",
            "          [[-0.0439, -0.0444, -0.0447,  ..., -0.0446, -0.0447, -0.0491],\n",
            "           [-0.0444, -0.0450, -0.0450,  ..., -0.0453, -0.0452, -0.0485],\n",
            "           [-0.0440, -0.0452, -0.0450,  ..., -0.0453, -0.0451, -0.0486],\n",
            "           ...,\n",
            "           [-0.0445, -0.0450, -0.0450,  ..., -0.0452, -0.0452, -0.0485],\n",
            "           [-0.0438, -0.0455, -0.0449,  ..., -0.0455, -0.0451, -0.0485],\n",
            "           [-0.0455, -0.0453, -0.0459,  ..., -0.0454, -0.0460, -0.0471]]]]],\n",
            "       grad_fn=<ConvolutionBackward0>)\n"
          ]
        }
      ]
    },
    {
      "cell_type": "code",
      "source": [
        "\"\"\"\n",
        "- SGD\n",
        "- minibatch size = 20\n",
        "- learning rates of 10^-3 (fcn-alexNet), **10^-4 (fcn-vgg16- use this initially because the paper said the model is “our VGG-16 based net)**, ^-5 (fcn-googlelenet)\n",
        "- momentum = 0.9\n",
        "- weight decay = 5^-4 or 2^-4\n",
        "\n",
        "- dropout was included where used in the original classifier nets\n",
        "- didn’t choose patches because although it has a better convergence rate compared to the whole image training, it takes significantly more time because of the larger numbers that need to be considered per batch\n",
        "- data augmentation of randomly mirroring and “jittering” the images by translating them up to 32 pixels\n",
        "- Nvidia Tesla K40 GPU\n",
        "- metrics (testing)\n",
        "\"\"\""
      ],
      "metadata": {
        "id": "mdYaxZ3ImSYj",
        "colab": {
          "base_uri": "https://localhost:8080/",
          "height": 87
        },
        "outputId": "992984a2-2e26-411e-ae4d-b1266559315e"
      },
      "execution_count": 6,
      "outputs": [
        {
          "output_type": "execute_result",
          "data": {
            "text/plain": [
              "'\\n- SGD\\n- minibatch size = 20\\n- learning rates of 10^-3 (fcn-alexNet), **10^-4 (fcn-vgg16- use this initially because the paper said the model is “our VGG-16 based net)**, ^-5 (fcn-googlelenet)\\n- momentum = 0.9\\n- weight decay = 5^-4 or 2^-4\\n\\n- dropout was included where used in the original classifier nets\\n- didn’t choose patches because although it has a better convergence rate compared to the whole image training, it takes significantly more time because of the larger numbers that need to be considered per batch\\n- data augmentation of randomly mirroring and “jittering” the images by translating them up to 32 pixels\\n- Nvidia Tesla K40 GPU\\n- metrics (testing)\\n'"
            ],
            "application/vnd.google.colaboratory.intrinsic+json": {
              "type": "string"
            }
          },
          "metadata": {},
          "execution_count": 6
        }
      ]
    },
    {
      "cell_type": "code",
      "source": [
        "import numpy as np"
      ],
      "metadata": {
        "id": "Ipi3RPNjPo0P"
      },
      "execution_count": 7,
      "outputs": []
    },
    {
      "cell_type": "code",
      "source": [
        "randomized_training_images = []\n",
        "for i in range(2):\n",
        "  newx = torch.rand(size=(1, 4, 128, 128, 128), dtype=torch.float32)\n",
        "  randomized_training_images.append(newx)"
      ],
      "metadata": {
        "id": "wqbqSSkuWcx4"
      },
      "execution_count": 8,
      "outputs": []
    },
    {
      "cell_type": "code",
      "source": [
        "print(len(randomized_training_images))\n",
        "print(randomized_training_images[0].shape)\n",
        "# print(randomized_training_images[0])"
      ],
      "metadata": {
        "id": "q6ktAW6fW0ov",
        "colab": {
          "base_uri": "https://localhost:8080/"
        },
        "outputId": "971a573a-d8d4-498e-acae-f2bad600a90c"
      },
      "execution_count": 9,
      "outputs": [
        {
          "output_type": "stream",
          "name": "stdout",
          "text": [
            "2\n",
            "torch.Size([1, 4, 128, 128, 128])\n"
          ]
        }
      ]
    },
    {
      "cell_type": "code",
      "source": [
        "randomized_training_segmentations = []\n",
        "for i in range(2):\n",
        "  newy = torch.rand(size=(1, 3, 128, 128, 128), dtype=torch.float32)\n",
        "  randomized_training_segmentations.append(newy)"
      ],
      "metadata": {
        "id": "aDVmPENFSb0s"
      },
      "execution_count": 10,
      "outputs": []
    },
    {
      "cell_type": "code",
      "source": [
        "print(len(randomized_training_segmentations))\n",
        "print(randomized_training_segmentations[0].shape)\n",
        "# print(randomized_training_segmentations[1])"
      ],
      "metadata": {
        "colab": {
          "base_uri": "https://localhost:8080/"
        },
        "id": "q0qOiO38aBIF",
        "outputId": "7e07fe47-8b73-4f3b-96a7-44862fd9594c"
      },
      "execution_count": 11,
      "outputs": [
        {
          "output_type": "stream",
          "name": "stdout",
          "text": [
            "2\n",
            "torch.Size([1, 3, 128, 128, 128])\n"
          ]
        }
      ]
    },
    {
      "cell_type": "code",
      "source": [
        "randomized_training_data = list(zip(randomized_training_images, randomized_training_segmentations))"
      ],
      "metadata": {
        "id": "js05JjGBZ70U"
      },
      "execution_count": 12,
      "outputs": []
    },
    {
      "cell_type": "code",
      "source": [
        "trainloader = torch.utils.data.DataLoader(dataset=randomized_training_data, batch_size=2, shuffle=True) # minibatch size should be 20"
      ],
      "metadata": {
        "id": "4r-AxBLjXXjS"
      },
      "execution_count": 13,
      "outputs": []
    },
    {
      "cell_type": "code",
      "source": [
        "len(trainloader)"
      ],
      "metadata": {
        "colab": {
          "base_uri": "https://localhost:8080/"
        },
        "id": "FtlV5270S3Ih",
        "outputId": "99f101e8-8e3d-425d-aa8b-cbc821715003"
      },
      "execution_count": 14,
      "outputs": [
        {
          "output_type": "execute_result",
          "data": {
            "text/plain": [
              "1"
            ]
          },
          "metadata": {},
          "execution_count": 14
        }
      ]
    },
    {
      "cell_type": "code",
      "source": [
        "randomized_validation_images = []\n",
        "for i in range(2):\n",
        "  newy = torch.rand(size=(1, 4, 128, 128, 128), dtype=torch.float32)\n",
        "  randomized_validation_images.append(newy)"
      ],
      "metadata": {
        "id": "pEpEXM3ZUAPJ"
      },
      "execution_count": 15,
      "outputs": []
    },
    {
      "cell_type": "code",
      "source": [
        "print(len(randomized_validation_images))\n",
        "print(randomized_validation_images[0].shape)"
      ],
      "metadata": {
        "colab": {
          "base_uri": "https://localhost:8080/"
        },
        "id": "h3X6DyAKUFnu",
        "outputId": "01713e5b-45bf-4715-da40-d9410bc46a57"
      },
      "execution_count": 16,
      "outputs": [
        {
          "output_type": "stream",
          "name": "stdout",
          "text": [
            "2\n",
            "torch.Size([1, 4, 128, 128, 128])\n"
          ]
        }
      ]
    },
    {
      "cell_type": "code",
      "source": [
        "randomized_validation_segmentations = []\n",
        "for i in range(2):\n",
        "  newy = torch.rand(size=(1, 3, 128, 128, 128), dtype=torch.float32)\n",
        "  randomized_validation_segmentations.append(newy)"
      ],
      "metadata": {
        "id": "Iu-sVnEoTMr5"
      },
      "execution_count": 17,
      "outputs": []
    },
    {
      "cell_type": "code",
      "source": [
        "print(len(randomized_validation_segmentations))\n",
        "print(randomized_validation_segmentations[0].shape)"
      ],
      "metadata": {
        "colab": {
          "base_uri": "https://localhost:8080/"
        },
        "id": "JRoKkofFAVfZ",
        "outputId": "1e64846b-e701-4885-a1d9-4b979088e2bb"
      },
      "execution_count": 18,
      "outputs": [
        {
          "output_type": "stream",
          "name": "stdout",
          "text": [
            "2\n",
            "torch.Size([1, 3, 128, 128, 128])\n"
          ]
        }
      ]
    },
    {
      "cell_type": "code",
      "source": [
        "randomized_validation_data = list(zip(randomized_validation_images, randomized_validation_segmentations))"
      ],
      "metadata": {
        "id": "48i1TPJSKTQz"
      },
      "execution_count": 19,
      "outputs": []
    },
    {
      "cell_type": "code",
      "source": [
        "validationloader = torch.utils.data.DataLoader(dataset=randomized_validation_data, batch_size=2, shuffle=True) # minibatch size should be 20"
      ],
      "metadata": {
        "id": "ZrSAuo6KKW0W"
      },
      "execution_count": 20,
      "outputs": []
    },
    {
      "cell_type": "code",
      "source": [
        "len(validationloader)"
      ],
      "metadata": {
        "colab": {
          "base_uri": "https://localhost:8080/"
        },
        "id": "SP5YoV7DKgpg",
        "outputId": "48d77131-46d4-4b3f-a1dc-8d370f5ef0a9"
      },
      "execution_count": 21,
      "outputs": [
        {
          "output_type": "execute_result",
          "data": {
            "text/plain": [
              "1"
            ]
          },
          "metadata": {},
          "execution_count": 21
        }
      ]
    },
    {
      "cell_type": "code",
      "source": [
        "randomized_testing_images = []\n",
        "for i in range(2):\n",
        "  newy = torch.rand(size=(1, 4, 128, 128, 128), dtype=torch.float32)\n",
        "  randomized_testing_images.append(newy)"
      ],
      "metadata": {
        "id": "qjaixBaM-jEM"
      },
      "execution_count": 22,
      "outputs": []
    },
    {
      "cell_type": "code",
      "source": [
        "print(len(randomized_testing_images))\n",
        "print(randomized_testing_images[0].shape)"
      ],
      "metadata": {
        "colab": {
          "base_uri": "https://localhost:8080/"
        },
        "id": "zYaRErS--m7p",
        "outputId": "5a4ec557-ab24-4e92-dc6a-6e59915e74ce"
      },
      "execution_count": 23,
      "outputs": [
        {
          "output_type": "stream",
          "name": "stdout",
          "text": [
            "2\n",
            "torch.Size([1, 4, 128, 128, 128])\n"
          ]
        }
      ]
    },
    {
      "cell_type": "code",
      "source": [
        "randomized_testing_segmentations = []\n",
        "for i in range(2):\n",
        "  newy = torch.rand(size=(1, 3, 128, 128, 128), dtype=torch.float32)\n",
        "  randomized_testing_segmentations.append(newy)"
      ],
      "metadata": {
        "id": "-2gvY6w_-p10"
      },
      "execution_count": 24,
      "outputs": []
    },
    {
      "cell_type": "code",
      "source": [
        "print(len(randomized_testing_segmentations))\n",
        "print(randomized_testing_segmentations[0].shape)"
      ],
      "metadata": {
        "colab": {
          "base_uri": "https://localhost:8080/"
        },
        "id": "XlB0Jd3Y-sT-",
        "outputId": "3e589068-e1bd-477b-81ea-c5078d019615"
      },
      "execution_count": 25,
      "outputs": [
        {
          "output_type": "stream",
          "name": "stdout",
          "text": [
            "2\n",
            "torch.Size([1, 3, 128, 128, 128])\n"
          ]
        }
      ]
    },
    {
      "cell_type": "code",
      "source": [
        "randomized_testing_data = list(zip(randomized_testing_images, randomized_testing_segmentations))"
      ],
      "metadata": {
        "id": "tHSkw4Xh-vnS"
      },
      "execution_count": 26,
      "outputs": []
    },
    {
      "cell_type": "code",
      "source": [
        "testingloader = torch.utils.data.DataLoader(dataset=randomized_testing_data, batch_size=2, shuffle=True) # same size as testing dataset"
      ],
      "metadata": {
        "id": "WMGjLOLD-0nI"
      },
      "execution_count": 27,
      "outputs": []
    },
    {
      "cell_type": "code",
      "source": [
        "# batch size should be one or the entire size of the dataset:\n",
        "# https://stackoverflow.com/questions/54413160/training-validation-testing-batch-size-ratio\n",
        "# https://vijayabhaskar96.medium.com/validation-set-can-have-the-same-batch-size-as-your-training-set-only-the-final-dataset-that-you-824679aca3f9"
      ],
      "metadata": {
        "id": "Owbo7BoREZLI"
      },
      "execution_count": 28,
      "outputs": []
    },
    {
      "cell_type": "code",
      "source": [
        "\"\"\"\n",
        "Training + Validation:\n",
        "categorical cross entropy loss (nn.CrossEntropyLoss())\n",
        "\n",
        "Testing:\n",
        "(update)\n",
        "\"\"\""
      ],
      "metadata": {
        "colab": {
          "base_uri": "https://localhost:8080/",
          "height": 35
        },
        "id": "sVWy7_u2sSEf",
        "outputId": "20034d09-a4c2-4877-f04e-9821b1dc2cc4"
      },
      "execution_count": 29,
      "outputs": [
        {
          "output_type": "execute_result",
          "data": {
            "text/plain": [
              "'\\nTraining + Validation:\\ncategorical cross entropy loss (nn.CrossEntropyLoss())\\n\\nTesting:\\n(update)\\n'"
            ],
            "application/vnd.google.colaboratory.intrinsic+json": {
              "type": "string"
            }
          },
          "metadata": {},
          "execution_count": 29
        }
      ]
    },
    {
      "cell_type": "code",
      "source": [
        "import torch.optim"
      ],
      "metadata": {
        "id": "2g8R0TJkUfhw"
      },
      "execution_count": 30,
      "outputs": []
    },
    {
      "cell_type": "code",
      "source": [
        "# epochs\n",
        "epochs = 2\n",
        "# loss\n",
        "criterion = torch.nn.CrossEntropyLoss()\n",
        "# optimizer\n",
        "optimizer = torch.optim.SGD(params=model.parameters(), lr=10**-4, momentum=0.9, weight_decay=5**-4)"
      ],
      "metadata": {
        "id": "JlEoLVSkoJA7"
      },
      "execution_count": 31,
      "outputs": []
    },
    {
      "cell_type": "code",
      "source": [
        "import datetime"
      ],
      "metadata": {
        "id": "gY5TWwe1yHS4"
      },
      "execution_count": 32,
      "outputs": []
    },
    {
      "cell_type": "code",
      "source": [
        "training_losses = [] # training losses over epochs\n",
        "validation_losses = [] # validation losses over epochs\n",
        "\n",
        "for i in range(epochs): # for every epoch\n",
        "  start_epoch = datetime.datetime.now() # start the timer in datetime module\n",
        "  training_loss = 0 # training loss for this epoch\n",
        "  validation_loss = 0 # validation loss for this epoch\n",
        "  print(\"training time\")\n",
        "  for images, segs in trainloader: # getting one batch from trainloader\n",
        "    optimizer.zero_grad() # turn on gradients (used for forward and backprop)\n",
        "    print(len(images), len(segs))\n",
        "    print(images.shape)\n",
        "    print(segs.shape)\n",
        "    # need to squeeze the 1 in first dimension\n",
        "    images = images.squeeze().clone().detach().requires_grad_(True)\n",
        "    # segs = segs.long() - no\n",
        "    segs = segs.squeeze().clone().detach().requires_grad_(True)\n",
        "    print(images.shape)\n",
        "    print(segs.shape)\n",
        "    outputs = model(images) # put images through model\n",
        "    print(outputs.shape)\n",
        "\n",
        "    # arg_outputs = outputs.argmax(dim=1)\n",
        "    # print(arg_outputs.shape)\n",
        "    # print(arg_outputs)\n",
        "    # print(segs.shape)\n",
        "    print()\n",
        "    loss = criterion(outputs.float(), segs) # calculate loss\n",
        "    print(loss)\n",
        "    \n",
        "    # loss can be > 1 - https://ai.stackexchange.com/questions/24685/can-the-sparse-categorical-cross-entropy-be-greater-than-one, https://stats.stackexchange.com/questions/392681/cross-entropy-loss-max-value\n",
        "    loss.backward() # back propagation\n",
        "    training_loss += loss.item() # add loss to training loss\n",
        "    print()\n",
        "  print(\"validation time\")\n",
        "  \n",
        "  for images, segs in validationloader: # getting one batch from validationloader\n",
        "    optimizer.zero_grad() # keep gradients on (used for forward and backprop)\n",
        "    print(len(images), len(segs))\n",
        "    print(images.shape)\n",
        "    print(segs.shape)\n",
        "    # need to squeeze the 1 in first dimension\n",
        "    images = images.squeeze().clone().detach().requires_grad_(True)\n",
        "    # segs = segs.long() - no\n",
        "    segs = segs.squeeze().clone().detach().requires_grad_(True)\n",
        "    print(images.shape)\n",
        "    print(segs.shape)\n",
        "    outputs = model(images) # put images through model\n",
        "    print(outputs.shape)\n",
        "    print(segs.shape)\n",
        "    print()\n",
        "    loss = criterion(outputs.float(), segs) # calculate loss\n",
        "    print(loss) \n",
        "    loss.backward() # backpropagation\n",
        "    validation_loss += loss.item() # add loss to validation loss\n",
        "\n",
        "  # find avg losses for each image\n",
        "  training_losses.append(training_loss/len(trainloader)) \n",
        "  validation_losses.append(validation_loss/len(validationloader))\n",
        "\n",
        "  # print results about epoch\n",
        "  print(\"Epoch: {}/{}... Training Loss: {}... Validation Loss: {}...\".format(i+1,epochs, training_losses[-1], validation_losses[-1]))\n",
        "  if validation_loss < min(validation_losses): # save model if loss decreases\n",
        "    print(\"Validation loss has decreased...saving model\")\n",
        "    torch.save(model.state_dict(), \"fcn.pth\") # save here\n",
        "  \n",
        "  # end timer\n",
        "  end_epoch = datetime.datetime.now()\n",
        "  # calculate and print out time it takes for every epoch\n",
        "  time_epoch = end_epoch-start_epoch\n",
        "  print(\"Epoch time:\", str(time_epoch), \"\\n\")"
      ],
      "metadata": {
        "colab": {
          "base_uri": "https://localhost:8080/"
        },
        "id": "TY0jnrOufB9L",
        "outputId": "72cc4417-02cb-42c3-ff53-613c2b73e6f2"
      },
      "execution_count": 33,
      "outputs": [
        {
          "output_type": "stream",
          "name": "stdout",
          "text": [
            "training time\n",
            "2 2\n",
            "torch.Size([2, 1, 4, 128, 128, 128])\n",
            "torch.Size([2, 1, 3, 128, 128, 128])\n",
            "torch.Size([2, 4, 128, 128, 128])\n",
            "torch.Size([2, 3, 128, 128, 128])\n",
            "torch.Size([2, 3, 128, 128, 128])\n",
            "\n",
            "tensor(1.6493, grad_fn=<DivBackward1>)\n",
            "\n",
            "validation time\n",
            "2 2\n",
            "torch.Size([2, 1, 4, 128, 128, 128])\n",
            "torch.Size([2, 1, 3, 128, 128, 128])\n",
            "torch.Size([2, 4, 128, 128, 128])\n",
            "torch.Size([2, 3, 128, 128, 128])\n",
            "torch.Size([2, 3, 128, 128, 128])\n",
            "torch.Size([2, 3, 128, 128, 128])\n",
            "\n",
            "tensor(1.6486, grad_fn=<DivBackward1>)\n",
            "Epoch: 1/2... Training Loss: 1.6493319272994995... Validation Loss: 1.6485720872879028...\n",
            "Epoch time: 0:02:13.977197 \n",
            "\n",
            "training time\n",
            "2 2\n",
            "torch.Size([2, 1, 4, 128, 128, 128])\n",
            "torch.Size([2, 1, 3, 128, 128, 128])\n",
            "torch.Size([2, 4, 128, 128, 128])\n",
            "torch.Size([2, 3, 128, 128, 128])\n",
            "torch.Size([2, 3, 128, 128, 128])\n",
            "\n",
            "tensor(1.6493, grad_fn=<DivBackward1>)\n",
            "\n",
            "validation time\n",
            "2 2\n",
            "torch.Size([2, 1, 4, 128, 128, 128])\n",
            "torch.Size([2, 1, 3, 128, 128, 128])\n",
            "torch.Size([2, 4, 128, 128, 128])\n",
            "torch.Size([2, 3, 128, 128, 128])\n",
            "torch.Size([2, 3, 128, 128, 128])\n",
            "torch.Size([2, 3, 128, 128, 128])\n",
            "\n",
            "tensor(1.6486, grad_fn=<DivBackward1>)\n",
            "Epoch: 2/2... Training Loss: 1.6493322849273682... Validation Loss: 1.6485720872879028...\n",
            "Epoch time: 0:02:08.728868 \n",
            "\n"
          ]
        }
      ]
    },
    {
      "cell_type": "code",
      "source": [
        "print(training_losses)\n",
        "print(validation_losses)"
      ],
      "metadata": {
        "colab": {
          "base_uri": "https://localhost:8080/"
        },
        "id": "XzZ0K5Oyl7Ah",
        "outputId": "cca829ac-333a-4e59-dd26-e6ca8c3d96d3"
      },
      "execution_count": 34,
      "outputs": [
        {
          "output_type": "stream",
          "name": "stdout",
          "text": [
            "[1.6493319272994995, 1.6493322849273682]\n",
            "[1.6485720872879028, 1.6485720872879028]\n"
          ]
        }
      ]
    },
    {
      "cell_type": "code",
      "source": [
        "import matplotlib.pyplot as plt"
      ],
      "metadata": {
        "id": "Jw1gplmcxdPL"
      },
      "execution_count": 35,
      "outputs": []
    },
    {
      "cell_type": "code",
      "source": [
        "# visualize losses\n",
        "plt.plot(training_losses, label=\"Training loss\")\n",
        "plt.plot(validation_losses, label=\"Validation loss\")\n",
        "plt.legend(frameon=False)"
      ],
      "metadata": {
        "colab": {
          "base_uri": "https://localhost:8080/",
          "height": 282
        },
        "id": "Vy6av3mHxawD",
        "outputId": "436549b8-0001-4c57-ee34-01f48da59137"
      },
      "execution_count": 36,
      "outputs": [
        {
          "output_type": "execute_result",
          "data": {
            "text/plain": [
              "<matplotlib.legend.Legend at 0x7ff07ed52f10>"
            ]
          },
          "metadata": {},
          "execution_count": 36
        },
        {
          "output_type": "display_data",
          "data": {
            "text/plain": [
              "<Figure size 432x288 with 1 Axes>"
            ],
            "image/png": "[encoded data removed]"
          },
          "metadata": {
            "needs_background": "light"
          }
        }
      ]
    },
    {
      "cell_type": "code",
      "source": [
        "def pixel_accuracy(outputs, segmentations):\n",
        "  # outputs = torch.Size([3, 128, 128, 128])\n",
        "  # segmentations = torch.Size([3, 128, 128, 128])\n",
        "  # print(torch.numel(segmentations))\n",
        "  # print(torch.numel(segmentations[0]))\n",
        "  # print()\n",
        "\n",
        "  total_correct_pixels = 0\n",
        "  total_num_pixels = 0\n",
        "  for i in range(outputs.shape[0]): # for every image\n",
        "    # class x torch.Size([128, 128, 128])\n",
        "    # print(i)\n",
        "    # print(outputs[i].shape)\n",
        "    # print(segmentations[i].shape)\n",
        "    correct_pixels = (outputs[i] == segmentations[i]).sum() # find total number of pixels where output == seg\n",
        "    num_pixels = torch.numel(segmentations[i]) # find total number of pixels in prediction\n",
        "    # print(correct_pixels.item())\n",
        "    # print(num_pixels)\n",
        "    total_correct_pixels += correct_pixels.item()\n",
        "    total_num_pixels += num_pixels\n",
        "\n",
        "  # print()\n",
        "  # print(total_correct_pixels)\n",
        "  # print(total_num_pixels)\n",
        "  pixel_acc = (int(total_correct_pixels)/int(total_num_pixels)) # divide correct/total\n",
        "  # print(pixel_acc)\n",
        "  return pixel_acc"
      ],
      "metadata": {
        "id": "8t1kW6bEQW_9"
      },
      "execution_count": 37,
      "outputs": []
    },
    {
      "cell_type": "code",
      "source": [
        "def mean_accuracy(outputs, segmentations):\n",
        "  # outputs = torch.Size([3, 128, 128, 128])\n",
        "  # segmentations = torch.Size([3, 128, 128, 128])\n",
        "  n_classes = outputs.shape[0]\n",
        "  total_mean_accuracies = 0\n",
        "  for i in range(n_classes):\n",
        "    # print(i)\n",
        "    # print(outputs[i].shape)\n",
        "    # print(segmentations[i].shape)\n",
        "    correct_pixels = (outputs[i] == segmentations[i]).sum() # find total number of pixels where output == seg\n",
        "    num_pixels = torch.numel(segmentations[i]) # find total number of pixels in prediction\n",
        "    # print(correct_pixels.item())\n",
        "    # print(num_pixels)\n",
        "    mean_acc_classx = (int(correct_pixels)/int(num_pixels))\n",
        "    # print(mean_acc_classx)\n",
        "    total_mean_accuracies += mean_acc_classx\n",
        "  # print()\n",
        "  # print(total_mean_accuracies)\n",
        "  final_mean_accuracy = total_mean_accuracies/n_classes\n",
        "  return final_mean_accuracy"
      ],
      "metadata": {
        "id": "GThi3xWZZy1V"
      },
      "execution_count": 38,
      "outputs": []
    },
    {
      "cell_type": "code",
      "source": [
        "# IoU - find it per class and then do the mean\n",
        "def mean_IoU(outputs, segmentations):\n",
        "  # outputs = torch.Size([3, 128, 128, 128])\n",
        "  # segmentations = torch.Size([3, 128, 128, 128])\n",
        "  n_classes = outputs.shape[0]\n",
        "  total_mean_iou = 0\n",
        "  for i in range(n_classes):\n",
        "    print(i)\n",
        "    print(outputs[i].shape)\n",
        "    print(segmentations[i].shape)\n",
        "\n",
        "    # when you have a size of (BATCH x H x W) shape, then when you do .sum(), the dim should be [1,2]\n",
        "    # this means that, when you have (BATCH x H x W x D), where batch is 1 so it doesn't count, you would do [0,1,2]\n",
        "    intersection = torch.sum(torch.abs(outputs[i]*segmentations[i]), dim=[0,1,2]) # will be zero if Truth=0 or Prediction=0\n",
        "    union = torch.sum(outputs, dim=[1,2,3]) + torch.sum(outputs, dim=[1,2,3]) - intersection  # will be zero if both are 0\n",
        "    iou = torch.mean(intersection/union)\n",
        "    total_mean_iou += iou\n",
        "  print()\n",
        "  print(total_mean_iou)\n",
        "  final_mean_iou = total_mean_iou/n_classes\n",
        "  return final_mean_iou"
      ],
      "metadata": {
        "id": "E4nt4OPRg0VT"
      },
      "execution_count": 39,
      "outputs": []
    },
    {
      "cell_type": "code",
      "source": [
        "def frequency_weighted_IoU(outputs, segmentations):\n",
        "  # outputs = torch.Size([3, 128, 128, 128])\n",
        "  # segmentations = torch.Size([3, 128, 128, 128])\n",
        "  n_classes = outputs.shape[0]\n",
        "  total_mean_iou = 0\n",
        "  for i in range(n_classes):\n",
        "    # print(i)\n",
        "    # print(outputs[i].shape)\n",
        "    # print(segmentations[i].shape)\n",
        "\n",
        "    # when you have a size of (BATCH x H x W) shape, then when you do .sum(), the dim should be [1,2]\n",
        "    # this means that, when you have (BATCH x H x W x D), where batch is 1 so it doesn't count, you would do [0,1,2]\n",
        "    intersection = torch.sum(torch.abs(outputs[i]*segmentations[i]), dim=[0,1,2]) # will be zero if Truth=0 or Prediction=0\n",
        "    union = torch.sum(outputs, dim=[1,2,3]) + torch.sum(outputs, dim=[1,2,3]) - intersection  # will be zero if both are 0\n",
        "    num_pixels = torch.numel(segmentations[i]) # find total number of pixels in prediction\n",
        "    iou = torch.mean(intersection/num_pixels-union)*num_pixels # modification: multiplied this by the number of pixels in each class\n",
        "    total_mean_iou += iou\n",
        "  # print()\n",
        "  # print(total_mean_iou)\n",
        "  final_mean_iou = total_mean_iou/n_classes\n",
        "  return final_mean_iou"
      ],
      "metadata": {
        "id": "pTc61YeThvzn"
      },
      "execution_count": 40,
      "outputs": []
    },
    {
      "cell_type": "code",
      "source": [
        "# total_pixels = 0\n",
        "# correct_pixels = 0\n",
        "\n",
        "for images, segs in testingloader:\n",
        "    with torch.no_grad(): # no gradients (there's no backprop, only evaluation)\n",
        "      print(len(images), len(segs))\n",
        "      print(images.shape)\n",
        "      print(segs.shape)\n",
        "      # exclude first dimension of 1\n",
        "      images = images.squeeze().clone().detach().requires_grad_(True)\n",
        "      # segs = segs.long() - no\n",
        "      segs = segs.squeeze().clone().detach().requires_grad_(True)\n",
        "      print(images.shape)\n",
        "      print(segs.shape)\n",
        "      outputs = model(images) # put images through model\n",
        "      print(outputs.shape)\n",
        "      print(segs.shape)\n",
        "      print()\n",
        "  \n",
        "      print(len(outputs))\n",
        "      print(outputs[0].shape)\n",
        "      print(len(segs))\n",
        "      print(segs[0].shape)\n",
        "      print()\n",
        "\n",
        "      print(\".......\"*5)\n",
        "\n",
        "      print(\"\\nPIXEL ACCURACY METRIC\")\n",
        "      pixel_accuracy_metric = pixel_accuracy(outputs, segs) # IN DECIMAL\n",
        "      print(pixel_accuracy_metric)\n",
        "      print()\n",
        "      # format after: print(\"Pixel Accuracy: during testing, the model correctly classified {}/{} pixels, with an accuracy of {:.2f}%\".format(correct_pixels, total_pixels, accuracy))\n",
        "\n",
        "      print(\".......\"*5)\n",
        "\n",
        "      print(\"\\nMEAN ACCURACY METRIC\")\n",
        "      mean_accuracy_metric = mean_accuracy(outputs, segs) # IN DECIMAL\n",
        "      print(mean_accuracy_metric)\n",
        "      print()\n",
        "\n",
        "      print(\".......\"*5)\n",
        "\n",
        "      print(\"\\nMEAN IOU METRIC\")\n",
        "      mean_iou_metric = mean_accuracy(outputs, segs) # IN DECIMAL\n",
        "      print(mean_iou_metric)\n",
        "      print()\n",
        "\n",
        "      print(\".......\"*5)\n",
        "\n",
        "      print(\"\\nFREQUENCY WEIGHTED IOU METRIC\")\n",
        "      frequency_weighted_iou_metric = frequency_weighted_IoU(outputs, segs) # IN DECIMAL\n",
        "      print(frequency_weighted_iou_metric)\n",
        "      print()"
      ],
      "metadata": {
        "id": "WHQH__qA-TgT",
        "colab": {
          "base_uri": "https://localhost:8080/"
        },
        "outputId": "37933689-2fa7-42e6-b8d8-b8ae9fdb7fc4"
      },
      "execution_count": 41,
      "outputs": [
        {
          "output_type": "stream",
          "name": "stdout",
          "text": [
            "2 2\n",
            "torch.Size([2, 1, 4, 128, 128, 128])\n",
            "torch.Size([2, 1, 3, 128, 128, 128])\n",
            "torch.Size([2, 4, 128, 128, 128])\n",
            "torch.Size([2, 3, 128, 128, 128])\n",
            "torch.Size([2, 3, 128, 128, 128])\n",
            "torch.Size([2, 3, 128, 128, 128])\n",
            "\n",
            "2\n",
            "torch.Size([3, 128, 128, 128])\n",
            "2\n",
            "torch.Size([3, 128, 128, 128])\n",
            "\n",
            "...................................\n",
            "\n",
            "PIXEL ACCURACY METRIC\n",
            "0.0\n",
            "\n",
            "...................................\n",
            "\n",
            "MEAN ACCURACY METRIC\n",
            "0.0\n",
            "\n",
            "...................................\n",
            "\n",
            "MEAN IOU METRIC\n",
            "0.0\n",
            "\n",
            "...................................\n",
            "\n",
            "FREQUENCY WEIGHTED IOU METRIC\n",
            "tensor(5.2098e+10)\n",
            "\n"
          ]
        }
      ]
    }
  ]
}
