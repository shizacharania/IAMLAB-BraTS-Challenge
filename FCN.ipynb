{
  "nbformat": 4,
  "nbformat_minor": 0,
  "metadata": {
    "colab": {
      "provenance": [],
      "collapsed_sections": [],
      "machine_shape": "hm"
    },
    "kernelspec": {
      "name": "python3",
      "display_name": "Python 3"
    },
    "language_info": {
      "name": "python"
    },
    "accelerator": "TPU",
    "gpuClass": "standard"
  },
  "cells": [
    {
      "cell_type": "code",
      "execution_count": 1,
      "metadata": {
        "colab": {
          "base_uri": "https://localhost:8080/",
          "height": 87
        },
        "id": "sekni6kJ5Cby",
        "outputId": "7c8e2d22-0173-4c3d-ee28-0575230176a7"
      },
      "outputs": [
        {
          "output_type": "execute_result",
          "data": {
            "text/plain": [
              "'\\n\\nNotes on this model: https://shizacharania.notion.site/FCN-Fully-Convolutional-Network-bbc70d47ad92491cb534e2987ac7eb48\\n\\nclass convBlock (because you have 6 so its more feasible)\\n  - conv3d 3x3 (increase channels)\\n  - relu\\n  - conv3d 3x3 (same channels)\\n  - relu\\n  - max pool = conv with same channels, but stride is 2 and kernel is 2 (just like max pool layer)\\n\\n  ~~~~~~~~~~~~~~~~~~\\n\\n  - convtranspose3d = deconv increased channels, but stride is 2 and kernel is 3 (combining steps) - this is approach one\\n \\n  ~~~~~~~~~~~~~~~~~~\\n\\n  approach 2:\\n  - convtranspose3d = deconv with same channels, but stride is 2 and kernel is 2 (to increase spatial size)\\n  - conv 3x3 (less channels)\\n\\n  ~~~~~~~~~~~~~~~~~~\\n\\n  torch.add - for element wise summation\\n'"
            ],
            "application/vnd.google.colaboratory.intrinsic+json": {
              "type": "string"
            }
          },
          "metadata": {},
          "execution_count": 1
        }
      ],
      "source": [
        "\"\"\"\n",
        "\n",
        "Notes on this model: https://shizacharania.notion.site/FCN-Fully-Convolutional-Network-bbc70d47ad92491cb534e2987ac7eb48\n",
        "\n",
        "class convBlock (because you have 6 so its more feasible)\n",
        "  - conv3d 3x3 (increase channels)\n",
        "  - relu\n",
        "  - conv3d 3x3 (same channels)\n",
        "  - relu\n",
        "  - max pool = conv with same channels, but stride is 2 and kernel is 2 (just like max pool layer)\n",
        "\n",
        "  ~~~~~~~~~~~~~~~~~~\n",
        "\n",
        "  - convtranspose3d = deconv increased channels, but stride is 2 and kernel is 3 (combining steps) - this is approach one\n",
        " \n",
        "  ~~~~~~~~~~~~~~~~~~\n",
        "\n",
        "  approach 2:\n",
        "  - convtranspose3d = deconv with same channels, but stride is 2 and kernel is 2 (to increase spatial size)\n",
        "  - conv 3x3 (less channels)\n",
        "\n",
        "  ~~~~~~~~~~~~~~~~~~\n",
        "\n",
        "  torch.add - for element wise summation\n",
        "\"\"\""
      ]
    },
    {
      "cell_type": "code",
      "source": [
        "import torch\n",
        "import torch.nn as nn"
      ],
      "metadata": {
        "id": "s_yRAVKD5k6X"
      },
      "execution_count": 2,
      "outputs": []
    },
    {
      "cell_type": "code",
      "source": [
        "class ConvBlockEncoder(nn.Module): # need to add nn.Module here\n",
        "  def __init__(self, input_channels, output_channels): # need to add variables needed here\n",
        "    super().__init__()\n",
        "    self.convblock1 = nn.Conv3d(in_channels=input_channels, out_channels=output_channels, kernel_size=3, padding=1)\n",
        "    self.relu = nn.ReLU()\n",
        "    self.convblock2 = nn.Conv3d(in_channels=output_channels, out_channels=output_channels, kernel_size=3, padding=1)\n",
        "    self.downsample = nn.Conv3d(in_channels=output_channels, out_channels=output_channels, kernel_size=2, stride=2)\n",
        "\n",
        "  def forward(self, x): # x represents the input\n",
        "    x = self.convblock1(x)\n",
        "    x = self.relu(x)\n",
        "    x = self.convblock2(x)\n",
        "    out = self.relu(x)\n",
        "    down_out = self.downsample(out)\n",
        "    return out, down_out # out is before downsamping and down_out is after\n",
        "\n",
        "class ConvBlockDecoder(nn.Module):\n",
        "  def __init__(self, input_channels, output_channels):\n",
        "    super().__init__()\n",
        "    # self.deconv = nn.ConvTranspose3d(in_channels=input_channels, out_channels=output_channels, kernel_size=3, stride=2, padding=1, dilation=1)\n",
        "    self.upsample = nn.ConvTranspose3d(in_channels=input_channels, out_channels=input_channels, kernel_size=2, stride=2)\n",
        "    self.convblock = nn.Conv3d(in_channels=input_channels, out_channels=output_channels, kernel_size=3, padding=1)\n",
        "\n",
        "  def forward(self, x):\n",
        "    # x = self.deconv(x) # didn't work because it was just outputing 7 or 9 as the amount of channels and I coulnd't change the padding because it would either have one extra or one less (and I wanted 8 as the spatial dimensions)\n",
        "    x = self.upsample(x)\n",
        "    x = self.convblock(x)\n",
        "    return x\n",
        "\n",
        "\n",
        "class FCN(nn.Module):\n",
        "  def __init__(self, input_shape):\n",
        "    super().__init__()\n",
        "    # 4, 128, 128, 128\n",
        "    # print(input_shape)\n",
        "    self.nimages, self.channels, self.w, self.h, self.d = input_shape\n",
        "    self.block1 = ConvBlockEncoder(4, 64)\n",
        "    self.block2 = ConvBlockEncoder(64, 128)\n",
        "    self.block3 = ConvBlockEncoder(128, 256)\n",
        "    self.block4 = ConvBlockEncoder(256, 512)\n",
        "    self.block5 = ConvBlockEncoder(512, 1024)\n",
        "    self.block6 = ConvBlockEncoder(1024, 2048)\n",
        "\n",
        "    self.block7 = ConvBlockDecoder(2048, 1024)\n",
        "    self.block8 = ConvBlockDecoder(1024, 512)\n",
        "    self.block9 = ConvBlockDecoder(512, 256)\n",
        "    self.block10 = ConvBlockDecoder(256, 128)\n",
        "    self.block11 = ConvBlockDecoder(128, 64)\n",
        "\n",
        "    self.conv1by1 = nn.Conv3d(in_channels=64, out_channels=3, kernel_size=1, stride=1) # output is 3 channels for WT, ET, TC\n",
        "    self.softmax = nn.Softmax(dim=1)\n",
        "  \n",
        "  def forward(self, x):\n",
        "    # print(\"Before shape: \", str(x.shape))\n",
        "    out1, down_out1 = self.block1(x)\n",
        "    # print(out1.shape, down_out1.shape)\n",
        "\n",
        "    out2, down_out2 = self.block2(down_out1)\n",
        "    # print(out2.shape, down_out2.shape)\n",
        "\n",
        "    out3, down_out3 = self.block3(down_out2)\n",
        "    # print(out3.shape, down_out3.shape)\n",
        "\n",
        "    out4, down_out4 = self.block4(down_out3)\n",
        "    # print(out4.shape, down_out4.shape)\n",
        "\n",
        "    out5, down_out5 = self.block5(down_out4)\n",
        "    # print(out5.shape, down_out5.shape)\n",
        "\n",
        "    out6, ____ = self.block6(down_out5)\n",
        "    # print(out6.shape)\n",
        "\n",
        "    out7 = self.block7(out6)\n",
        "    # print(out7.shape)\n",
        "\n",
        "    # sum here with block 5 + block 7\n",
        "    out57 = torch.add(out5, out7)\n",
        "    # print(out57.shape)\n",
        "\n",
        "    out8 = self.block8(out57)\n",
        "    # print(out8.shape)\n",
        "    \n",
        "    # sum here with block 4 + block 8\n",
        "    out48 = torch.add(out4, out8)\n",
        "    # print(out48.shape)\n",
        "\n",
        "    out9 = self.block9(out48)\n",
        "    # print(out9.shape)\n",
        "\n",
        "    out10 = self.block10(out9)\n",
        "    # print(out10.shape)\n",
        "\n",
        "    out11 = self.block11(out10)\n",
        "    # print(out11.shape)\n",
        "\n",
        "    out12 = self.conv1by1(out11)\n",
        "    # print(out12.shape)\n",
        "\n",
        "    end = self.softmax(out12)\n",
        "    # print(end.shape) # i thought that the shape would change when using softmax, but only the values change to add up to 1\n",
        "\n",
        "    return out12, end"
      ],
      "metadata": {
        "id": "_Rfg_Cal5nOI"
      },
      "execution_count": 50,
      "outputs": []
    },
    {
      "cell_type": "code",
      "source": [
        "x = torch.rand(size=(1, 4, 128, 128, 128), dtype=torch.float32)\n",
        "# print(x.shape)\n",
        "\n",
        "model = FCN(x.shape)\n",
        "print(model)\n",
        "print()\n",
        "\n",
        "out = model(x)"
      ],
      "metadata": {
        "colab": {
          "base_uri": "https://localhost:8080/"
        },
        "id": "ecBbNjRS6CyC",
        "outputId": "ef4aa7a9-790a-4e08-82f3-107589ebdde5"
      },
      "execution_count": 52,
      "outputs": [
        {
          "output_type": "stream",
          "name": "stdout",
          "text": [
            "FCN(\n",
            "  (block1): ConvBlockEncoder(\n",
            "    (convblock1): Conv3d(4, 64, kernel_size=(3, 3, 3), stride=(1, 1, 1), padding=(1, 1, 1))\n",
            "    (relu): ReLU()\n",
            "    (convblock2): Conv3d(64, 64, kernel_size=(3, 3, 3), stride=(1, 1, 1), padding=(1, 1, 1))\n",
            "    (downsample): Conv3d(64, 64, kernel_size=(2, 2, 2), stride=(2, 2, 2))\n",
            "  )\n",
            "  (block2): ConvBlockEncoder(\n",
            "    (convblock1): Conv3d(64, 128, kernel_size=(3, 3, 3), stride=(1, 1, 1), padding=(1, 1, 1))\n",
            "    (relu): ReLU()\n",
            "    (convblock2): Conv3d(128, 128, kernel_size=(3, 3, 3), stride=(1, 1, 1), padding=(1, 1, 1))\n",
            "    (downsample): Conv3d(128, 128, kernel_size=(2, 2, 2), stride=(2, 2, 2))\n",
            "  )\n",
            "  (block3): ConvBlockEncoder(\n",
            "    (convblock1): Conv3d(128, 256, kernel_size=(3, 3, 3), stride=(1, 1, 1), padding=(1, 1, 1))\n",
            "    (relu): ReLU()\n",
            "    (convblock2): Conv3d(256, 256, kernel_size=(3, 3, 3), stride=(1, 1, 1), padding=(1, 1, 1))\n",
            "    (downsample): Conv3d(256, 256, kernel_size=(2, 2, 2), stride=(2, 2, 2))\n",
            "  )\n",
            "  (block4): ConvBlockEncoder(\n",
            "    (convblock1): Conv3d(256, 512, kernel_size=(3, 3, 3), stride=(1, 1, 1), padding=(1, 1, 1))\n",
            "    (relu): ReLU()\n",
            "    (convblock2): Conv3d(512, 512, kernel_size=(3, 3, 3), stride=(1, 1, 1), padding=(1, 1, 1))\n",
            "    (downsample): Conv3d(512, 512, kernel_size=(2, 2, 2), stride=(2, 2, 2))\n",
            "  )\n",
            "  (block5): ConvBlockEncoder(\n",
            "    (convblock1): Conv3d(512, 1024, kernel_size=(3, 3, 3), stride=(1, 1, 1), padding=(1, 1, 1))\n",
            "    (relu): ReLU()\n",
            "    (convblock2): Conv3d(1024, 1024, kernel_size=(3, 3, 3), stride=(1, 1, 1), padding=(1, 1, 1))\n",
            "    (downsample): Conv3d(1024, 1024, kernel_size=(2, 2, 2), stride=(2, 2, 2))\n",
            "  )\n",
            "  (block6): ConvBlockEncoder(\n",
            "    (convblock1): Conv3d(1024, 2048, kernel_size=(3, 3, 3), stride=(1, 1, 1), padding=(1, 1, 1))\n",
            "    (relu): ReLU()\n",
            "    (convblock2): Conv3d(2048, 2048, kernel_size=(3, 3, 3), stride=(1, 1, 1), padding=(1, 1, 1))\n",
            "    (downsample): Conv3d(2048, 2048, kernel_size=(2, 2, 2), stride=(2, 2, 2))\n",
            "  )\n",
            "  (block7): ConvBlockDecoder(\n",
            "    (upsample): ConvTranspose3d(2048, 2048, kernel_size=(2, 2, 2), stride=(2, 2, 2))\n",
            "    (convblock): Conv3d(2048, 1024, kernel_size=(3, 3, 3), stride=(1, 1, 1), padding=(1, 1, 1))\n",
            "  )\n",
            "  (block8): ConvBlockDecoder(\n",
            "    (upsample): ConvTranspose3d(1024, 1024, kernel_size=(2, 2, 2), stride=(2, 2, 2))\n",
            "    (convblock): Conv3d(1024, 512, kernel_size=(3, 3, 3), stride=(1, 1, 1), padding=(1, 1, 1))\n",
            "  )\n",
            "  (block9): ConvBlockDecoder(\n",
            "    (upsample): ConvTranspose3d(512, 512, kernel_size=(2, 2, 2), stride=(2, 2, 2))\n",
            "    (convblock): Conv3d(512, 256, kernel_size=(3, 3, 3), stride=(1, 1, 1), padding=(1, 1, 1))\n",
            "  )\n",
            "  (block10): ConvBlockDecoder(\n",
            "    (upsample): ConvTranspose3d(256, 256, kernel_size=(2, 2, 2), stride=(2, 2, 2))\n",
            "    (convblock): Conv3d(256, 128, kernel_size=(3, 3, 3), stride=(1, 1, 1), padding=(1, 1, 1))\n",
            "  )\n",
            "  (block11): ConvBlockDecoder(\n",
            "    (upsample): ConvTranspose3d(128, 128, kernel_size=(2, 2, 2), stride=(2, 2, 2))\n",
            "    (convblock): Conv3d(128, 64, kernel_size=(3, 3, 3), stride=(1, 1, 1), padding=(1, 1, 1))\n",
            "  )\n",
            "  (conv1by1): Conv3d(64, 3, kernel_size=(1, 1, 1), stride=(1, 1, 1))\n",
            "  (softmax): Softmax(dim=1)\n",
            ")\n",
            "\n"
          ]
        }
      ]
    },
    {
      "cell_type": "code",
      "source": [
        "# output, probability = out"
      ],
      "metadata": {
        "id": "-MI_lN_ZfgYE"
      },
      "execution_count": 5,
      "outputs": []
    },
    {
      "cell_type": "code",
      "source": [
        "# print(output.shape)\n",
        "# print(output)"
      ],
      "metadata": {
        "id": "kcU3q4WYfBoo"
      },
      "execution_count": 6,
      "outputs": []
    },
    {
      "cell_type": "code",
      "source": [
        "# print(probability.shape)\n",
        "# print(probability)"
      ],
      "metadata": {
        "id": "xuh7qloCfi2_"
      },
      "execution_count": 7,
      "outputs": []
    },
    {
      "cell_type": "code",
      "source": [
        "\"\"\"\n",
        "- SGD\n",
        "- minibatch size = 20\n",
        "- learning rates of 10^-3 (fcn-alexNet), **10^-4 (fcn-vgg16- use this initially because the paper said the model is “our VGG-16 based net)**, ^-5 (fcn-googlelenet)\n",
        "- momentum = 0.9\n",
        "- weight decay = 5^-4 or 2^-4\n",
        "\n",
        "- dropout was included where used in the original classifier nets\n",
        "- didn’t choose patches because although it has a better convergence rate compared to the whole image training, it takes significantly more time because of the larger numbers that need to be considered per batch\n",
        "- data augmentation of randomly mirroring and “jittering” the images by translating them up to 32 pixels\n",
        "- Nvidia Tesla K40 GPU\n",
        "- metrics (testing)\n",
        "\"\"\""
      ],
      "metadata": {
        "id": "mdYaxZ3ImSYj",
        "colab": {
          "base_uri": "https://localhost:8080/",
          "height": 87
        },
        "outputId": "bef49498-95d7-4315-e110-d283c2704f66"
      },
      "execution_count": 8,
      "outputs": [
        {
          "output_type": "execute_result",
          "data": {
            "text/plain": [
              "'\\n- SGD\\n- minibatch size = 20\\n- learning rates of 10^-3 (fcn-alexNet), **10^-4 (fcn-vgg16- use this initially because the paper said the model is “our VGG-16 based net)**, ^-5 (fcn-googlelenet)\\n- momentum = 0.9\\n- weight decay = 5^-4 or 2^-4\\n\\n- dropout was included where used in the original classifier nets\\n- didn’t choose patches because although it has a better convergence rate compared to the whole image training, it takes significantly more time because of the larger numbers that need to be considered per batch\\n- data augmentation of randomly mirroring and “jittering” the images by translating them up to 32 pixels\\n- Nvidia Tesla K40 GPU\\n- metrics (testing)\\n'"
            ],
            "application/vnd.google.colaboratory.intrinsic+json": {
              "type": "string"
            }
          },
          "metadata": {},
          "execution_count": 8
        }
      ]
    },
    {
      "cell_type": "code",
      "source": [
        "import numpy as np"
      ],
      "metadata": {
        "id": "Ipi3RPNjPo0P"
      },
      "execution_count": 45,
      "outputs": []
    },
    {
      "cell_type": "code",
      "source": [
        "# np.random.rand(1,4,128,128,128)"
      ],
      "metadata": {
        "id": "xCytPxAbPktP"
      },
      "execution_count": 47,
      "outputs": []
    },
    {
      "cell_type": "code",
      "source": [
        "randomized_training_images = []\n",
        "for i in range(2):\n",
        "  newx = torch.rand(size=(1, 4, 128, 128, 128), dtype=torch.float32)\n",
        "  randomized_training_images.append(newx)"
      ],
      "metadata": {
        "id": "wqbqSSkuWcx4"
      },
      "execution_count": 9,
      "outputs": []
    },
    {
      "cell_type": "code",
      "source": [
        "print(len(randomized_training_images))\n",
        "print(randomized_training_images[0].shape)\n",
        "# print(randomized_training_images[0])"
      ],
      "metadata": {
        "id": "q6ktAW6fW0ov",
        "colab": {
          "base_uri": "https://localhost:8080/"
        },
        "outputId": "b00c84b4-0322-4e8f-fb2f-e757872be105"
      },
      "execution_count": 10,
      "outputs": [
        {
          "output_type": "stream",
          "name": "stdout",
          "text": [
            "2\n",
            "torch.Size([1, 4, 128, 128, 128])\n"
          ]
        }
      ]
    },
    {
      "cell_type": "code",
      "source": [
        "import random\n",
        "randomized_training_segmentations = []\n",
        "for i in range(2):\n",
        "  newy = torch.rand(size=(1, 3, 128, 128, 128), dtype=torch.float32)\n",
        "  randomized_training_segmentations.append(newy)"
      ],
      "metadata": {
        "id": "oaAhgjTjX-Yf"
      },
      "execution_count": 49,
      "outputs": []
    },
    {
      "cell_type": "code",
      "source": [
        "print(len(randomized_training_segmentations))\n",
        "print(randomized_training_segmentations[0].shape)\n",
        "# print(randomized_training_segmentations[1])"
      ],
      "metadata": {
        "colab": {
          "base_uri": "https://localhost:8080/"
        },
        "id": "q0qOiO38aBIF",
        "outputId": "6f75e1c9-3827-429d-d68d-ff467097f6a4"
      },
      "execution_count": 12,
      "outputs": [
        {
          "output_type": "stream",
          "name": "stdout",
          "text": [
            "2\n",
            "torch.Size([1, 3, 128, 128, 128])\n"
          ]
        }
      ]
    },
    {
      "cell_type": "code",
      "source": [
        "randomized_training_data = list(zip(randomized_training_images, randomized_training_segmentations))"
      ],
      "metadata": {
        "id": "js05JjGBZ70U"
      },
      "execution_count": 13,
      "outputs": []
    },
    {
      "cell_type": "code",
      "source": [
        "trainloader = torch.utils.data.DataLoader(dataset=randomized_training_data, batch_size=2, shuffle=True) # minibatch size should be 20"
      ],
      "metadata": {
        "id": "4r-AxBLjXXjS"
      },
      "execution_count": 14,
      "outputs": []
    },
    {
      "cell_type": "code",
      "source": [
        "len(trainloader)"
      ],
      "metadata": {
        "colab": {
          "base_uri": "https://localhost:8080/"
        },
        "id": "FtlV5270S3Ih",
        "outputId": "1575d053-ac30-4c7f-bdb9-27f44a082395"
      },
      "execution_count": 15,
      "outputs": [
        {
          "output_type": "execute_result",
          "data": {
            "text/plain": [
              "1"
            ]
          },
          "metadata": {},
          "execution_count": 15
        }
      ]
    },
    {
      "cell_type": "code",
      "source": [
        "randomized_validation_images = []\n",
        "for i in range(2):\n",
        "  newx = torch.rand(size=(1, 4, 128, 128, 128), dtype=torch.float32)\n",
        "  randomized_validation_images.append(newx)"
      ],
      "metadata": {
        "id": "EPoHVau7Ac3I"
      },
      "execution_count": 25,
      "outputs": []
    },
    {
      "cell_type": "code",
      "source": [
        "print(len(randomized_validation_images))\n",
        "print(randomized_validation_images[0].shape)\n",
        "# print(randomized_training_images[0])"
      ],
      "metadata": {
        "colab": {
          "base_uri": "https://localhost:8080/"
        },
        "id": "5kHiYnSZAgaP",
        "outputId": "32188d5e-4a1c-4e0a-e5d5-8705f4c7f4ba"
      },
      "execution_count": 26,
      "outputs": [
        {
          "output_type": "stream",
          "name": "stdout",
          "text": [
            "2\n",
            "torch.Size([1, 4, 128, 128, 128])\n"
          ]
        }
      ]
    },
    {
      "cell_type": "code",
      "source": [
        "import random\n",
        "randomized_validation_segmentations = []\n",
        "for i in range(2):\n",
        "  newy = torch.rand(size=(1, 3, 128, 128, 128), dtype=torch.float32)\n",
        "  randomized_validation_segmentations.append(newy)"
      ],
      "metadata": {
        "id": "m8sTgUT2AMfO"
      },
      "execution_count": 27,
      "outputs": []
    },
    {
      "cell_type": "code",
      "source": [
        "print(len(randomized_validation_segmentations))\n",
        "print(randomized_validation_segmentations[0].shape)\n",
        "# print(randomized_training_segmentations[1])"
      ],
      "metadata": {
        "colab": {
          "base_uri": "https://localhost:8080/"
        },
        "id": "JRoKkofFAVfZ",
        "outputId": "da642e51-247b-48ef-c1e3-f1ed5ba92fcc"
      },
      "execution_count": 28,
      "outputs": [
        {
          "output_type": "stream",
          "name": "stdout",
          "text": [
            "2\n",
            "torch.Size([1, 3, 128, 128, 128])\n"
          ]
        }
      ]
    },
    {
      "cell_type": "code",
      "source": [
        "randomized_validation_data = list(zip(randomized_validation_images, randomized_validation_segmentations))"
      ],
      "metadata": {
        "id": "HRcXeZCZAoNd"
      },
      "execution_count": 31,
      "outputs": []
    },
    {
      "cell_type": "code",
      "source": [
        "validationloader = torch.utils.data.DataLoader(dataset=randomized_validation_data, batch_size=2, shuffle=True) # minibatch size should be 20"
      ],
      "metadata": {
        "id": "5iC-bLDkA0bU"
      },
      "execution_count": 32,
      "outputs": []
    },
    {
      "cell_type": "code",
      "source": [
        "len(validationloader)"
      ],
      "metadata": {
        "colab": {
          "base_uri": "https://localhost:8080/"
        },
        "id": "0FiLS34rA1zm",
        "outputId": "a454db3f-9c5a-4cc9-fd97-6bf1c7660eae"
      },
      "execution_count": 33,
      "outputs": [
        {
          "output_type": "execute_result",
          "data": {
            "text/plain": [
              "1"
            ]
          },
          "metadata": {},
          "execution_count": 33
        }
      ]
    },
    {
      "cell_type": "code",
      "source": [
        "import torch.optim"
      ],
      "metadata": {
        "id": "2g8R0TJkUfhw"
      },
      "execution_count": 34,
      "outputs": []
    },
    {
      "cell_type": "code",
      "source": [
        "# epochs\n",
        "epochs = 1\n",
        "# loss\n",
        "criterion = torch.nn.CrossEntropyLoss()\n",
        "# optimizer\n",
        "optimizer = torch.optim.SGD(params=model.parameters(), lr=10**-4, momentum=0.9, weight_decay=5**-4)"
      ],
      "metadata": {
        "id": "JlEoLVSkoJA7"
      },
      "execution_count": 53,
      "outputs": []
    },
    {
      "cell_type": "code",
      "source": [
        "# training_losses = []\n",
        "\n",
        "# for i in range(epochs):\n",
        "#   training_loss = 0\n",
        "#   for images, segs in trainloader:\n",
        "#     optimizer.zero_grad()\n",
        "#     print(len(images), len(segs))\n",
        "#     print(images.shape)\n",
        "#     print(segs.shape)\n",
        "#     images = images.squeeze()\n",
        "#     images = torch.tensor(data=images, dtype=torch.float, requires_grad=True)\n",
        "#     # segs = segs.long() - no\n",
        "#     segs = segs.squeeze()\n",
        "#     segs = torch.tensor(data=segs, requires_grad=True)\n",
        "#     print(images.shape)\n",
        "#     print(segs.shape)\n",
        "#     print()\n",
        "#     outputs = model(images)\n",
        "#     outs, softmax_outs = outputs\n",
        "#     print()\n",
        "#     print(softmax_outs.shape)\n",
        "#     softmax_outs = torch.argmax(softmax_outs, dim=1)\n",
        "#     print(softmax_outs.shape)\n",
        "#     print()\n",
        "#     loss = criterion(softmax_outs.float(), segs)\n",
        "#     print(loss)\n",
        "#     loss.backward()\n",
        "#     training_loss += loss.item()\n",
        "#     # break\n",
        "#   training_losses.append(training_loss/len(trainloader))\n",
        "\n",
        "# print(training_losses)"
      ],
      "metadata": {
        "id": "Z8YwMOshWB6W"
      },
      "execution_count": 54,
      "outputs": []
    },
    {
      "cell_type": "code",
      "source": [
        "training_losses = []\n",
        "validation_losses = []\n",
        "\n",
        "for i in range(epochs):\n",
        "  training_loss = 0\n",
        "  validation_loss = 0\n",
        "  for images, segs in trainloader:\n",
        "    optimizer.zero_grad()\n",
        "    print(len(images), len(segs))\n",
        "    print(images.shape)\n",
        "    print(segs.shape)\n",
        "    images = images.squeeze()\n",
        "    images = torch.tensor(data=images, dtype=torch.float, requires_grad=True)\n",
        "    # segs = segs.long() - no\n",
        "    segs = segs.squeeze()\n",
        "    segs = torch.tensor(data=segs, requires_grad=True)\n",
        "    print(images.shape)\n",
        "    print(segs.shape)\n",
        "    print()\n",
        "    print(type(segs))\n",
        "    print()\n",
        "    outputs, x = model(images)\n",
        "    loss = criterion(outputs, segs)\n",
        "    print(loss)\n",
        "    loss.backward()\n",
        "    training_loss += loss.item()\n",
        "    # break\n",
        "  for images, segs in validationloader:\n",
        "    optimizer.zero_grad()\n",
        "    print(len(images), len(segs))\n",
        "    print(images.shape)\n",
        "    print(segs.shape)\n",
        "    images = images.squeeze()\n",
        "    images = torch.tensor(data=images, dtype=torch.float, requires_grad=True)\n",
        "    # segs = segs.long() - no\n",
        "    segs = segs.squeeze()\n",
        "    segs = torch.tensor(data=segs, requires_grad=True)\n",
        "    print(images.shape)\n",
        "    print(segs.shape)\n",
        "    print()\n",
        "    print(type(segs))\n",
        "    print()\n",
        "    outputs, x = model(images)\n",
        "    loss = criterion(outputs, segs)\n",
        "    print(loss)\n",
        "    loss.backward()\n",
        "    validation_loss += loss.item()\n",
        "    # break\n",
        "  training_losses.append(training_loss/len(trainloader))\n",
        "  validation_losses.append(validation_loss/len(validationloader))\n",
        "  print(\"Epoch: {}/{}... Training Loss: {}... Validation Loss: {}...\".format(i+1,epochs, training_losses[-1], validation_losses[-1]))\n",
        "  if validation_loss < min(validation_losses):\n",
        "    print(\"Validation loss has decreased...saving model\")\n",
        "    torch.save(model.state_dict(), \"fcn.pth\")\n",
        "\n",
        "print(training_losses)\n",
        "print(validation_losses)"
      ],
      "metadata": {
        "colab": {
          "base_uri": "https://localhost:8080/"
        },
        "id": "0NdBJgS4Osov",
        "outputId": "ae795426-8cc6-42f9-a865-32c7b7b39927"
      },
      "execution_count": 55,
      "outputs": [
        {
          "output_type": "stream",
          "name": "stdout",
          "text": [
            "2 2\n",
            "torch.Size([2, 1, 4, 128, 128, 128])\n",
            "torch.Size([2, 1, 3, 128, 128, 128])\n",
            "torch.Size([2, 4, 128, 128, 128])\n",
            "torch.Size([2, 3, 128, 128, 128])\n",
            "\n",
            "<class 'torch.Tensor'>\n",
            "\n"
          ]
        },
        {
          "output_type": "stream",
          "name": "stderr",
          "text": [
            "/usr/local/lib/python3.7/dist-packages/ipykernel_launcher.py:13: UserWarning: To copy construct from a tensor, it is recommended to use sourceTensor.clone().detach() or sourceTensor.clone().detach().requires_grad_(True), rather than torch.tensor(sourceTensor).\n",
            "  del sys.path[0]\n",
            "/usr/local/lib/python3.7/dist-packages/ipykernel_launcher.py:16: UserWarning: To copy construct from a tensor, it is recommended to use sourceTensor.clone().detach() or sourceTensor.clone().detach().requires_grad_(True), rather than torch.tensor(sourceTensor).\n",
            "  app.launch_new_instance()\n"
          ]
        },
        {
          "output_type": "stream",
          "name": "stdout",
          "text": [
            "tensor(1.6503, grad_fn=<DivBackward1>)\n",
            "2 2\n",
            "torch.Size([2, 1, 4, 128, 128, 128])\n",
            "torch.Size([2, 1, 3, 128, 128, 128])\n",
            "torch.Size([2, 4, 128, 128, 128])\n",
            "torch.Size([2, 3, 128, 128, 128])\n",
            "\n",
            "<class 'torch.Tensor'>\n",
            "\n"
          ]
        },
        {
          "output_type": "stream",
          "name": "stderr",
          "text": [
            "/usr/local/lib/python3.7/dist-packages/ipykernel_launcher.py:34: UserWarning: To copy construct from a tensor, it is recommended to use sourceTensor.clone().detach() or sourceTensor.clone().detach().requires_grad_(True), rather than torch.tensor(sourceTensor).\n",
            "/usr/local/lib/python3.7/dist-packages/ipykernel_launcher.py:37: UserWarning: To copy construct from a tensor, it is recommended to use sourceTensor.clone().detach() or sourceTensor.clone().detach().requires_grad_(True), rather than torch.tensor(sourceTensor).\n"
          ]
        },
        {
          "output_type": "stream",
          "name": "stdout",
          "text": [
            "tensor(1.6499, grad_fn=<DivBackward1>)\n",
            "Epoch: 1/1... Training Loss: 1.6502803564071655... Validation Loss: 1.649921178817749...\n",
            "[1.6502803564071655]\n",
            "[1.649921178817749]\n"
          ]
        }
      ]
    }
  ]
}