{
  "nbformat": 4,
  "nbformat_minor": 0,
  "metadata": {
    "colab": {
      "provenance": [],
      "collapsed_sections": []
    },
    "kernelspec": {
      "name": "python3",
      "display_name": "Python 3"
    },
    "language_info": {
      "name": "python"
    },
    "accelerator": "GPU",
    "gpuClass": "standard"
  },
  "cells": [
    {
      "cell_type": "code",
      "execution_count": 1,
      "metadata": {
        "colab": {
          "base_uri": "https://localhost:8080/",
          "height": 105
        },
        "id": "sekni6kJ5Cby",
        "outputId": "07d7f1df-2e23-4490-bf75-6aabc3547376"
      },
      "outputs": [
        {
          "output_type": "execute_result",
          "data": {
            "text/plain": [
              "'\\n\\nNotes on this model: https://shizacharania.notion.site/FCN-Fully-Convolutional-Network-bbc70d47ad92491cb534e2987ac7eb48\\n\\nclass convBlock (because you have 6 so its more feasible)\\n  - conv3d 3x3 (increase channels)\\n  - relu\\n  - conv3d 3x3 (same channels)\\n  - relu\\n  - max pool = conv with same channels, but stride is 2 and kernel is 2 (just like max pool layer)\\n\\n  ~~~~~~~~~~~~~~~~~~\\n\\n  - convtranspose3d = deconv increased channels, but stride is 2 and kernel is 3 (combining steps) - this is approach one\\n \\n  ~~~~~~~~~~~~~~~~~~\\n\\n  approach 2:\\n  - convtranspose3d = deconv with same channels, but stride is 2 and kernel is 2 (to increase spatial size)\\n  - conv 3x3 (less channels)\\n\\n  ~~~~~~~~~~~~~~~~~~\\n\\n  torch.add - for element wise summation\\n'"
            ],
            "application/vnd.google.colaboratory.intrinsic+json": {
              "type": "string"
            }
          },
          "metadata": {},
          "execution_count": 1
        }
      ],
      "source": [
        "\"\"\"\n",
        "\n",
        "Notes on this model: https://shizacharania.notion.site/FCN-Fully-Convolutional-Network-bbc70d47ad92491cb534e2987ac7eb48\n",
        "\n",
        "class convBlock (because you have 6 so its more feasible)\n",
        "  - conv3d 3x3 (increase channels)\n",
        "  - relu\n",
        "  - conv3d 3x3 (same channels)\n",
        "  - relu\n",
        "  - max pool = conv with same channels, but stride is 2 and kernel is 2 (just like max pool layer)\n",
        "\n",
        "  ~~~~~~~~~~~~~~~~~~\n",
        "\n",
        "  - convtranspose3d = deconv increased channels, but stride is 2 and kernel is 3 (combining steps) - this is approach one\n",
        " \n",
        "  ~~~~~~~~~~~~~~~~~~\n",
        "\n",
        "  approach 2:\n",
        "  - convtranspose3d = deconv with same channels, but stride is 2 and kernel is 2 (to increase spatial size)\n",
        "  - conv 3x3 (less channels)\n",
        "\n",
        "  ~~~~~~~~~~~~~~~~~~\n",
        "\n",
        "  torch.add - for element wise summation\n",
        "\"\"\""
      ]
    },
    {
      "cell_type": "code",
      "source": [
        "import torch\n",
        "import torch.nn as nn"
      ],
      "metadata": {
        "id": "s_yRAVKD5k6X"
      },
      "execution_count": 2,
      "outputs": []
    },
    {
      "cell_type": "code",
      "source": [
        "class ConvBlockEncoder(nn.Module): # need to add nn.Module here\n",
        "  def __init__(self, input_channels, output_channels): # need to add variables needed here\n",
        "    super().__init__()\n",
        "    self.convblock1 = nn.Conv3d(in_channels=input_channels, out_channels=output_channels, kernel_size=3, padding=1)\n",
        "    self.relu = nn.ReLU()\n",
        "    self.convblock2 = nn.Conv3d(in_channels=output_channels, out_channels=output_channels, kernel_size=3, padding=1)\n",
        "    self.downsample = nn.Conv3d(in_channels=output_channels, out_channels=output_channels, kernel_size=2, stride=2)\n",
        "\n",
        "  def forward(self, x): # x represents the input\n",
        "    x = self.convblock1(x)\n",
        "    x = self.relu(x)\n",
        "    x = self.convblock2(x)\n",
        "    out = self.relu(x)\n",
        "    down_out = self.downsample(out)\n",
        "    return out, down_out # out is before downsamping and down_out is after\n",
        "\n",
        "class ConvBlockDecoder(nn.Module):\n",
        "  def __init__(self, input_channels, output_channels):\n",
        "    super().__init__()\n",
        "    # self.deconv = nn.ConvTranspose3d(in_channels=input_channels, out_channels=output_channels, kernel_size=3, stride=2, padding=1, dilation=1)\n",
        "    self.upsample = nn.ConvTranspose3d(in_channels=input_channels, out_channels=input_channels, kernel_size=2, stride=2)\n",
        "    self.convblock = nn.Conv3d(in_channels=input_channels, out_channels=output_channels, kernel_size=3, padding=1)\n",
        "\n",
        "  def forward(self, x):\n",
        "    # x = self.deconv(x) # didn't work because it was just outputing 7 or 9 as the amount of channels and I coulnd't change the padding because it would either have one extra or one less (and I wanted 8 as the spatial dimensions)\n",
        "    x = self.upsample(x)\n",
        "    x = self.convblock(x)\n",
        "    return x\n",
        "\n",
        "\n",
        "class FCN(nn.Module):\n",
        "  def __init__(self, input_shape):\n",
        "    super().__init__()\n",
        "    # 4, 128, 128, 128\n",
        "    print(input_shape)\n",
        "    self.nimages, self.channels, self.w, self.h, self.d = input_shape\n",
        "    self.block1 = ConvBlockEncoder(4, 64)\n",
        "    self.block2 = ConvBlockEncoder(64, 128)\n",
        "    self.block3 = ConvBlockEncoder(128, 256)\n",
        "    self.block4 = ConvBlockEncoder(256, 512)\n",
        "    self.block5 = ConvBlockEncoder(512, 1024)\n",
        "    self.block6 = ConvBlockEncoder(1024, 2048)\n",
        "\n",
        "    self.block7 = ConvBlockDecoder(2048, 1024)\n",
        "    self.block8 = ConvBlockDecoder(1024, 512)\n",
        "    self.block9 = ConvBlockDecoder(512, 256)\n",
        "    self.block10 = ConvBlockDecoder(256, 128)\n",
        "    self.block11 = ConvBlockDecoder(128, 64)\n",
        "\n",
        "    self.conv1by1 = nn.Conv3d(in_channels=64, out_channels=3, kernel_size=1, stride=1) # output is 3 channels for WT, ET, TC\n",
        "    self.softmax = nn.Softmax(dim=1)\n",
        "  \n",
        "  def forward(self, x):\n",
        "    print(\"Before shape: \", str(x.shape))\n",
        "    out1, down_out1 = self.block1(x)\n",
        "    print(out1.shape, down_out1.shape)\n",
        "\n",
        "    out2, down_out2 = self.block2(down_out1)\n",
        "    print(out2.shape, down_out2.shape)\n",
        "\n",
        "    out3, down_out3 = self.block3(down_out2)\n",
        "    print(out3.shape, down_out3.shape)\n",
        "\n",
        "    out4, down_out4 = self.block4(down_out3)\n",
        "    print(out4.shape, down_out4.shape)\n",
        "\n",
        "    out5, down_out5 = self.block5(down_out4)\n",
        "    print(out5.shape, down_out5.shape)\n",
        "\n",
        "    out6, ____ = self.block6(down_out5)\n",
        "    print(out6.shape)\n",
        "\n",
        "    out7 = self.block7(out6)\n",
        "    print(out7.shape)\n",
        "\n",
        "    # sum here with block 5 + block 7\n",
        "    out57 = torch.add(out5, out7)\n",
        "    print(out57.shape)\n",
        "\n",
        "    out8 = self.block8(out57)\n",
        "    print(out8.shape)\n",
        "    \n",
        "    # sum here with block 4 + block 8\n",
        "    out48 = torch.add(out4, out8)\n",
        "    print(out48.shape)\n",
        "\n",
        "    out9 = self.block9(out48)\n",
        "    print(out9.shape)\n",
        "\n",
        "    out10 = self.block10(out9)\n",
        "    print(out10.shape)\n",
        "\n",
        "    out11 = self.block11(out10)\n",
        "    print(out11.shape)\n",
        "\n",
        "    out12 = self.conv1by1(out11)\n",
        "    print(out12.shape)\n",
        "\n",
        "    end = self.softmax(out12)\n",
        "    print(end.shape) # i thought that the shape would change when using softmax, but only the values change to add up to 1\n",
        "\n",
        "    return out12, end"
      ],
      "metadata": {
        "id": "_Rfg_Cal5nOI"
      },
      "execution_count": 3,
      "outputs": []
    },
    {
      "cell_type": "code",
      "source": [
        "x = torch.rand(size=(1, 4, 128, 128, 128), dtype=torch.float32)\n",
        "# print(x.shape)\n",
        "\n",
        "model = FCN(x.shape)\n",
        "# print(model)\n",
        "# print()\n",
        "\n",
        "# out = model(x)\n",
        "# print(out.shape)"
      ],
      "metadata": {
        "colab": {
          "base_uri": "https://localhost:8080/"
        },
        "id": "ecBbNjRS6CyC",
        "outputId": "b5d32164-661a-4492-b903-35111be65fbc"
      },
      "execution_count": 4,
      "outputs": [
        {
          "output_type": "stream",
          "name": "stdout",
          "text": [
            "torch.Size([1, 4, 128, 128, 128])\n"
          ]
        }
      ]
    },
    {
      "cell_type": "code",
      "source": [
        "# output, probability = out"
      ],
      "metadata": {
        "id": "-MI_lN_ZfgYE"
      },
      "execution_count": 5,
      "outputs": []
    },
    {
      "cell_type": "code",
      "source": [
        "# print(output.shape)\n",
        "# print(output)"
      ],
      "metadata": {
        "id": "kcU3q4WYfBoo"
      },
      "execution_count": 6,
      "outputs": []
    },
    {
      "cell_type": "code",
      "source": [
        "# print(probability.shape)\n",
        "# print(probability)"
      ],
      "metadata": {
        "id": "xuh7qloCfi2_"
      },
      "execution_count": 7,
      "outputs": []
    },
    {
      "cell_type": "code",
      "source": [
        "\"\"\"\n",
        "- SGD\n",
        "- minibatch size = 20\n",
        "- learning rates of 10^-3 (fcn-alexNet), **10^-4 (fcn-vgg16- use this initially because the paper said the model is “our VGG-16 based net)**, ^-5 (fcn-googlelenet)\n",
        "- momentum = 0.9\n",
        "- weight decay = 5^-4 or 2^-4\n",
        "\n",
        "- dropout was included where used in the original classifier nets\n",
        "- didn’t choose patches because although it has a better convergence rate compared to the whole image training, it takes significantly more time because of the larger numbers that need to be considered per batch\n",
        "- data augmentation of randomly mirroring and “jittering” the images by translating them up to 32 pixels\n",
        "- Nvidia Tesla K40 GPU\n",
        "- metrics (testing)\n",
        "\"\"\""
      ],
      "metadata": {
        "id": "mdYaxZ3ImSYj",
        "colab": {
          "base_uri": "https://localhost:8080/",
          "height": 88
        },
        "outputId": "f52d7209-f7b6-402d-8783-9c734c8a14fd"
      },
      "execution_count": 8,
      "outputs": [
        {
          "output_type": "execute_result",
          "data": {
            "text/plain": [
              "'\\n- SGD\\n- minibatch size = 20\\n- learning rates of 10^-3 (fcn-alexNet), **10^-4 (fcn-vgg16- use this initially because the paper said the model is “our VGG-16 based net)**, ^-5 (fcn-googlelenet)\\n- momentum = 0.9\\n- weight decay = 5^-4 or 2^-4\\n\\n- dropout was included where used in the original classifier nets\\n- didn’t choose patches because although it has a better convergence rate compared to the whole image training, it takes significantly more time because of the larger numbers that need to be considered per batch\\n- data augmentation of randomly mirroring and “jittering” the images by translating them up to 32 pixels\\n- Nvidia Tesla K40 GPU\\n- metrics (testing)\\n'"
            ],
            "application/vnd.google.colaboratory.intrinsic+json": {
              "type": "string"
            }
          },
          "metadata": {},
          "execution_count": 8
        }
      ]
    },
    {
      "cell_type": "code",
      "source": [
        "randomized_training_images = []\n",
        "for i in range(2):\n",
        "  newx = torch.rand(size=(1, 4, 128, 128, 128), dtype=torch.float32)\n",
        "  randomized_training_images.append(newx)"
      ],
      "metadata": {
        "id": "wqbqSSkuWcx4"
      },
      "execution_count": 9,
      "outputs": []
    },
    {
      "cell_type": "code",
      "source": [
        "print(len(randomized_training_images))\n",
        "print(randomized_training_images[0].shape)\n",
        "# print(randomized_training_images[0])"
      ],
      "metadata": {
        "id": "q6ktAW6fW0ov",
        "colab": {
          "base_uri": "https://localhost:8080/"
        },
        "outputId": "2eec1e64-d3fe-4763-d6c0-17da8bdee976"
      },
      "execution_count": 10,
      "outputs": [
        {
          "output_type": "stream",
          "name": "stdout",
          "text": [
            "2\n",
            "torch.Size([1, 4, 128, 128, 128])\n"
          ]
        }
      ]
    },
    {
      "cell_type": "code",
      "source": [
        "import random\n",
        "randomized_training_segmentations = []\n",
        "for i in range(2):\n",
        "  newy = torch.rand(size=(1, 128, 128, 128), dtype=torch.float32)\n",
        "  randomized_training_segmentations.append(newy)"
      ],
      "metadata": {
        "id": "oaAhgjTjX-Yf"
      },
      "execution_count": 11,
      "outputs": []
    },
    {
      "cell_type": "code",
      "source": [
        "print(len(randomized_training_segmentations))\n",
        "print(randomized_training_segmentations[0].shape)\n",
        "# print(randomized_training_segmentations[1])"
      ],
      "metadata": {
        "colab": {
          "base_uri": "https://localhost:8080/"
        },
        "id": "q0qOiO38aBIF",
        "outputId": "77dd6b55-188d-4930-88d8-67e318cfd4ba"
      },
      "execution_count": 12,
      "outputs": [
        {
          "output_type": "stream",
          "name": "stdout",
          "text": [
            "2\n",
            "torch.Size([1, 128, 128, 128])\n"
          ]
        }
      ]
    },
    {
      "cell_type": "code",
      "source": [
        "randomized_training_data = list(zip(randomized_training_images, randomized_training_segmentations))"
      ],
      "metadata": {
        "id": "js05JjGBZ70U"
      },
      "execution_count": 13,
      "outputs": []
    },
    {
      "cell_type": "code",
      "source": [
        "trainloader = torch.utils.data.DataLoader(dataset=randomized_training_data, batch_size=2, shuffle=True) # minibatch size should be 20"
      ],
      "metadata": {
        "id": "4r-AxBLjXXjS"
      },
      "execution_count": 14,
      "outputs": []
    },
    {
      "cell_type": "code",
      "source": [
        "len(trainloader)"
      ],
      "metadata": {
        "colab": {
          "base_uri": "https://localhost:8080/"
        },
        "id": "FtlV5270S3Ih",
        "outputId": "6ff10381-f82b-4283-c6b7-58f92b362f0c"
      },
      "execution_count": 15,
      "outputs": [
        {
          "output_type": "execute_result",
          "data": {
            "text/plain": [
              "1"
            ]
          },
          "metadata": {},
          "execution_count": 15
        }
      ]
    },
    {
      "cell_type": "code",
      "source": [
        "import torch.optim"
      ],
      "metadata": {
        "id": "2g8R0TJkUfhw"
      },
      "execution_count": 16,
      "outputs": []
    },
    {
      "cell_type": "code",
      "source": [
        "# epochs\n",
        "epochs = 1\n",
        "# loss\n",
        "criterion = torch.nn.CrossEntropyLoss()\n",
        "# optimizer\n",
        "optimizer = torch.optim.SGD(params=model.parameters(), lr=10**-4, momentum=0.9, weight_decay=5**-4)"
      ],
      "metadata": {
        "id": "JlEoLVSkoJA7"
      },
      "execution_count": 17,
      "outputs": []
    },
    {
      "cell_type": "code",
      "source": [
        "training_losses = []\n",
        "\n",
        "for i in range(epochs):\n",
        "  training_loss = 0\n",
        "  for images, segs in trainloader:\n",
        "    optimizer.zero_grad()\n",
        "    print(len(images), len(segs))\n",
        "    print(images.shape)\n",
        "    print(segs.shape)\n",
        "    images = images.squeeze()\n",
        "    images = torch.tensor(data=images, dtype=torch.float, requires_grad=True)\n",
        "    # segs = segs.long() - no\n",
        "    segs = segs.squeeze()\n",
        "    segs = torch.tensor(data=segs, requires_grad=True)\n",
        "    print(images.shape)\n",
        "    print(segs.shape)\n",
        "    print()\n",
        "    outputs = model(images)\n",
        "    outs, softmax_outs = outputs\n",
        "    print()\n",
        "    print(softmax_outs.shape)\n",
        "    softmax_outs = torch.argmax(softmax_outs, dim=1)\n",
        "    print(softmax_outs.shape)\n",
        "    print()\n",
        "    loss = criterion(softmax_outs.float(), segs)\n",
        "    print(loss)\n",
        "    loss.backward()\n",
        "    training_loss += loss.item()\n",
        "    # break\n",
        "  training_losses.append(training_loss/len(trainloader))\n",
        "\n",
        "print(training_losses)"
      ],
      "metadata": {
        "id": "Z8YwMOshWB6W",
        "colab": {
          "base_uri": "https://localhost:8080/"
        },
        "outputId": "6af1a24d-ef77-4bdb-91b1-5efb308812dc"
      },
      "execution_count": 18,
      "outputs": [
        {
          "output_type": "stream",
          "name": "stdout",
          "text": [
            "2 2\n",
            "torch.Size([2, 1, 4, 128, 128, 128])\n",
            "torch.Size([2, 1, 128, 128, 128])\n",
            "torch.Size([2, 4, 128, 128, 128])\n",
            "torch.Size([2, 128, 128, 128])\n",
            "\n",
            "Before shape:  torch.Size([2, 4, 128, 128, 128])\n"
          ]
        },
        {
          "output_type": "stream",
          "name": "stderr",
          "text": [
            "/usr/local/lib/python3.7/dist-packages/ipykernel_launcher.py:11: UserWarning: To copy construct from a tensor, it is recommended to use sourceTensor.clone().detach() or sourceTensor.clone().detach().requires_grad_(True), rather than torch.tensor(sourceTensor).\n",
            "  # This is added back by InteractiveShellApp.init_path()\n",
            "/usr/local/lib/python3.7/dist-packages/ipykernel_launcher.py:14: UserWarning: To copy construct from a tensor, it is recommended to use sourceTensor.clone().detach() or sourceTensor.clone().detach().requires_grad_(True), rather than torch.tensor(sourceTensor).\n",
            "  \n"
          ]
        },
        {
          "output_type": "stream",
          "name": "stdout",
          "text": [
            "torch.Size([2, 64, 128, 128, 128]) torch.Size([2, 64, 64, 64, 64])\n",
            "torch.Size([2, 128, 64, 64, 64]) torch.Size([2, 128, 32, 32, 32])\n",
            "torch.Size([2, 256, 32, 32, 32]) torch.Size([2, 256, 16, 16, 16])\n",
            "torch.Size([2, 512, 16, 16, 16]) torch.Size([2, 512, 8, 8, 8])\n",
            "torch.Size([2, 1024, 8, 8, 8]) torch.Size([2, 1024, 4, 4, 4])\n",
            "torch.Size([2, 2048, 4, 4, 4])\n",
            "torch.Size([2, 1024, 8, 8, 8])\n",
            "torch.Size([2, 1024, 8, 8, 8])\n",
            "torch.Size([2, 512, 16, 16, 16])\n",
            "torch.Size([2, 512, 16, 16, 16])\n",
            "torch.Size([2, 256, 32, 32, 32])\n",
            "torch.Size([2, 128, 64, 64, 64])\n",
            "torch.Size([2, 64, 128, 128, 128])\n",
            "torch.Size([2, 3, 128, 128, 128])\n",
            "torch.Size([2, 3, 128, 128, 128])\n",
            "\n",
            "torch.Size([2, 3, 128, 128, 128])\n",
            "torch.Size([2, 128, 128, 128])\n",
            "\n",
            "tensor(310.5766, grad_fn=<DivBackward1>)\n",
            "[310.5766296386719]\n"
          ]
        }
      ]
    }
  ]
}