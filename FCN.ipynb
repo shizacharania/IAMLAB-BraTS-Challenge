{
  "nbformat": 4,
  "nbformat_minor": 0,
  "metadata": {
    "colab": {
      "name": "FCN.ipynb",
      "provenance": []
    },
    "kernelspec": {
      "name": "python3",
      "display_name": "Python 3"
    },
    "language_info": {
      "name": "python"
    },
    "accelerator": "GPU",
    "gpuClass": "standard"
  },
  "cells": [
    {
      "cell_type": "code",
      "execution_count": 5,
      "metadata": {
        "colab": {
          "base_uri": "https://localhost:8080/",
          "height": 87
        },
        "id": "sekni6kJ5Cby",
        "outputId": "c2bdcdba-50e8-4d7f-f74c-7701054100e0"
      },
      "outputs": [
        {
          "output_type": "execute_result",
          "data": {
            "text/plain": [
              "'\\nclass convBlock (because you have 6 so its more feasible)\\n  - conv3d 3x3 (increase channels)\\n  - relu\\n  - conv3d 3x3 (same channels)\\n  - relu\\n  - max pool = conv with same channels, but stride is 2 and kernel is 2 (just like max pool layer)\\n\\n  ~~~~~~~~~~~~~~~~~~\\n\\n  - convtranspose3d = deconv increased channels, but stride is 2 and kernel is 3 (combining steps) - this is approach one\\n \\n  ~~~~~~~~~~~~~~~~~~\\n\\n  approach 2:\\n  - convtranspose3d = deconv with same channels, but stride is 2 and kernel is 2 (to increase spatial size)\\n  - conv 3x3 (less channels)\\n\\n  ~~~~~~~~~~~~~~~~~~\\n\\n  torch.add - for element wise summation\\n'"
            ],
            "application/vnd.google.colaboratory.intrinsic+json": {
              "type": "string"
            }
          },
          "metadata": {},
          "execution_count": 5
        }
      ],
      "source": [
        "\"\"\"\n",
        "class convBlock (because you have 6 so its more feasible)\n",
        "  - conv3d 3x3 (increase channels)\n",
        "  - relu\n",
        "  - conv3d 3x3 (same channels)\n",
        "  - relu\n",
        "  - max pool = conv with same channels, but stride is 2 and kernel is 2 (just like max pool layer)\n",
        "\n",
        "  ~~~~~~~~~~~~~~~~~~\n",
        "\n",
        "  - convtranspose3d = deconv increased channels, but stride is 2 and kernel is 3 (combining steps) - this is approach one\n",
        " \n",
        "  ~~~~~~~~~~~~~~~~~~\n",
        "\n",
        "  approach 2:\n",
        "  - convtranspose3d = deconv with same channels, but stride is 2 and kernel is 2 (to increase spatial size)\n",
        "  - conv 3x3 (less channels)\n",
        "\n",
        "  ~~~~~~~~~~~~~~~~~~\n",
        "\n",
        "  torch.add - for element wise summation\n",
        "\"\"\""
      ]
    },
    {
      "cell_type": "code",
      "source": [
        "import torch\n",
        "import torch.nn as nn"
      ],
      "metadata": {
        "id": "s_yRAVKD5k6X"
      },
      "execution_count": 6,
      "outputs": []
    },
    {
      "cell_type": "code",
      "source": [
        "class ConvBlockEncoder(nn.Module): # need to add nn.Module here\n",
        "  def __init__(self, input_channels, output_channels): # need to add variables needed here\n",
        "    super().__init__()\n",
        "    self.convblock1 = nn.Conv3d(in_channels=input_channels, out_channels=output_channels, kernel_size=3, padding=1)\n",
        "    self.relu = nn.ReLU()\n",
        "    self.convblock2 = nn.Conv3d(in_channels=output_channels, out_channels=output_channels, kernel_size=3, padding=1)\n",
        "    self.downsample = nn.Conv3d(in_channels=output_channels, out_channels=output_channels, kernel_size=2, stride=2)\n",
        "\n",
        "  def forward(self, x): # x represents the input\n",
        "    x = self.convblock1(x)\n",
        "    x = self.relu(x)\n",
        "    x = self.convblock2(x)\n",
        "    out = self.relu(x)\n",
        "    down_out = self.downsample(out)\n",
        "    return out, down_out # out is before downsamping and down_out is after\n",
        "\n",
        "class ConvBlockDecoder(nn.Module):\n",
        "  def __init__(self, input_channels, output_channels):\n",
        "    super().__init__()\n",
        "    # self.deconv = nn.ConvTranspose3d(in_channels=input_channels, out_channels=output_channels, kernel_size=3, stride=2, padding=1, dilation=1)\n",
        "    self.upsample = nn.ConvTranspose3d(in_channels=input_channels, out_channels=input_channels, kernel_size=2, stride=2)\n",
        "    self.convblock = nn.Conv3d(in_channels=input_channels, out_channels=output_channels, kernel_size=3, padding=1)\n",
        "\n",
        "  def forward(self, x):\n",
        "    # x = self.deconv(x)\n",
        "    x = self.upsample(x)\n",
        "    x = self.convblock(x)\n",
        "    return x\n",
        "\n",
        "\n",
        "class FCN(nn.Module):\n",
        "  def __init__(self, input_shape):\n",
        "    super().__init__()\n",
        "    # 4, 128, 128, 128\n",
        "    print(input_shape)\n",
        "    self.channels, self.w, self.h, self.d = input_shape\n",
        "    self.block1 = ConvBlockEncoder(4, 64)\n",
        "    self.block2 = ConvBlockEncoder(64, 128)\n",
        "    self.block3 = ConvBlockEncoder(128, 256)\n",
        "    self.block4 = ConvBlockEncoder(256, 512)\n",
        "    self.block5 = ConvBlockEncoder(512, 1024)\n",
        "    self.block6 = ConvBlockEncoder(1024, 2048)\n",
        "\n",
        "    self.block7 = ConvBlockDecoder(2048, 1024)\n",
        "    self.block8 = ConvBlockDecoder(1024, 512)\n",
        "    self.block9 = ConvBlockDecoder(512, 256)\n",
        "    self.block10 = ConvBlockDecoder(256, 128)\n",
        "    self.block11 = ConvBlockDecoder(128, 64)\n",
        "\n",
        "    self.conv1by1 = nn.Conv3d(in_channels=64, out_channels=1, kernel_size=1, stride=1)\n",
        "  \n",
        "  def forward(self, x):\n",
        "    print(\"Before shape: \", str(x.shape))\n",
        "    out1, down_out1 = self.block1(x)\n",
        "    print(out1.shape, down_out1.shape)\n",
        "\n",
        "    out2, down_out2 = self.block2(down_out1)\n",
        "    print(out2.shape, down_out2.shape)\n",
        "\n",
        "    out3, down_out3 = self.block3(down_out2)\n",
        "    print(out3.shape, down_out3.shape)\n",
        "\n",
        "    out4, down_out4 = self.block4(down_out3)\n",
        "    print(out4.shape, down_out4.shape)\n",
        "\n",
        "    out5, down_out5 = self.block5(down_out4)\n",
        "    print(out5.shape, down_out5.shape)\n",
        "\n",
        "    out6, ____ = self.block6(down_out5)\n",
        "    print(out6.shape)\n",
        "\n",
        "    out7 = self.block7(out6)\n",
        "    print(out7.shape)\n",
        "\n",
        "    # sum here with block 5 + block 7\n",
        "    out57 = torch.add(out5, out7)\n",
        "    print(out57.shape)\n",
        "\n",
        "    out8 = self.block8(out57)\n",
        "    print(out8.shape)\n",
        "    \n",
        "    # sum here with block 4 + block 8\n",
        "    out48 = torch.add(out4, out8)\n",
        "    print(out48.shape)\n",
        "\n",
        "    out9 = self.block9(out48)\n",
        "    print(out9.shape)\n",
        "\n",
        "    out10 = self.block10(out9)\n",
        "    print(out10.shape)\n",
        "\n",
        "    out11 = self.block11(out10)\n",
        "    print(out11.shape)\n",
        "\n",
        "    out12 = self.conv1by1(out11)\n",
        "    print(out12.shape)"
      ],
      "metadata": {
        "id": "_Rfg_Cal5nOI"
      },
      "execution_count": 9,
      "outputs": []
    },
    {
      "cell_type": "code",
      "source": [
        "x = torch.rand(size=(4, 128, 128, 128), dtype=torch.float32)\n",
        "# print(x.shape)\n",
        "\n",
        "model = FCN(x.shape)\n",
        "\n",
        "out = model(x)\n",
        "# print(out.shape)"
      ],
      "metadata": {
        "colab": {
          "base_uri": "https://localhost:8080/"
        },
        "id": "ecBbNjRS6CyC",
        "outputId": "12e1611b-ccfa-4975-95fc-6ddb33210510"
      },
      "execution_count": 10,
      "outputs": [
        {
          "output_type": "stream",
          "name": "stdout",
          "text": [
            "torch.Size([4, 128, 128, 128])\n",
            "Before shape:  torch.Size([4, 128, 128, 128])\n",
            "torch.Size([64, 128, 128, 128]) torch.Size([64, 64, 64, 64])\n",
            "torch.Size([128, 64, 64, 64]) torch.Size([128, 32, 32, 32])\n",
            "torch.Size([256, 32, 32, 32]) torch.Size([256, 16, 16, 16])\n",
            "torch.Size([512, 16, 16, 16]) torch.Size([512, 8, 8, 8])\n",
            "torch.Size([1024, 8, 8, 8]) torch.Size([1024, 4, 4, 4])\n",
            "torch.Size([2048, 4, 4, 4])\n",
            "torch.Size([1024, 8, 8, 8])\n",
            "torch.Size([1024, 8, 8, 8])\n",
            "torch.Size([512, 16, 16, 16])\n",
            "torch.Size([512, 16, 16, 16])\n",
            "torch.Size([256, 32, 32, 32])\n",
            "torch.Size([128, 64, 64, 64])\n",
            "torch.Size([64, 128, 128, 128])\n",
            "torch.Size([1, 128, 128, 128])\n"
          ]
        }
      ]
    }
  ]
}