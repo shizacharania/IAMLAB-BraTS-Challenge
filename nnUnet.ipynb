{
  "nbformat": 4,
  "nbformat_minor": 0,
  "metadata": {
    "colab": {
      "name": "nnUnet.ipynb",
      "provenance": []
    },
    "kernelspec": {
      "name": "python3",
      "display_name": "Python 3"
    },
    "language_info": {
      "name": "python"
    }
  },
  "cells": [
    {
      "cell_type": "code",
      "execution_count": null,
      "metadata": {
        "id": "dNvh5XmGkoIS"
      },
      "outputs": [],
      "source": [
        "import torch\n",
        "import torch.nn as nn"
      ]
    },
    {
      "cell_type": "code",
      "source": [
        "class Block1(nn.Module):\n",
        "  def __init__(self, input_channels, output_channels):\n",
        "    super().__init__()\n",
        "    self.conv1 = nn.Conv3d(in_channels=input_channels, out_channels=output_channels, kernel_size=3, stride=1, padding=1)\n",
        "    self.instnorm = nn.InstanceNorm3d(output_channels)\n",
        "    self.lrelu = nn.LeakyReLU()\n",
        "    self.conv2 = nn.Conv3d(in_channels=output_channels, out_channels=output_channels, kernel_size=3, stride=1, padding=1)\n",
        "  def forward(self, x):\n",
        "    x = self.conv1(x)\n",
        "    x = self.instnorm(x)\n",
        "    x = self.lrelu(x)\n",
        "    x = self.conv2(x)\n",
        "    x = self.instnorm(x)\n",
        "    x = self.lrelu(x)\n",
        "    return x\n",
        "\n",
        "class ConvBlockEncoder(nn.Module): # need to add nn.Module here\n",
        "  def __init__(self, input_channels, output_channels):\n",
        "    super().__init__()\n",
        "    # self.conv = nn.Conv3d(in_channels=input_channels, out_channels=output_channels, kernel_size=3, stride=1)\n",
        "    self.conv1 = nn.Conv3d(in_channels=input_channels, out_channels=output_channels, kernel_size=3, stride=2, padding=1) # before padding it was 64 x 63 x 63 x 63. by adding 1, you add one to each dimension needed\n",
        "    self.instnorm = nn.InstanceNorm3d(output_channels)\n",
        "    self.lrelu = nn.LeakyReLU()\n",
        "    self.conv2 = nn.Conv3d(in_channels=output_channels, out_channels=output_channels, kernel_size=3, stride=1, padding=1)\n",
        "  def forward(self, x):\n",
        "    x = self.conv1(x)\n",
        "    x = self.instnorm(x)\n",
        "    x = self.lrelu(x)\n",
        "    x = self.conv2(x)\n",
        "    x = self.instnorm(x)\n",
        "    x = self.lrelu(x)\n",
        "    return x\n",
        "\n",
        "class ConvBlockDecoder(nn.Module):\n",
        "  def __init__(self, input_channels, output_channels):\n",
        "    super().__init__()\n",
        "    self.transconv = nn.ConvTranspose3d(in_channels=input_channels, out_channels=input_channels, kernel_size=2, stride=2)\n",
        "    self.conv1 = nn.Conv3d(in_channels=input_channels, out_channels=output_channels, kernel_size=3, stride=1)\n",
        "    self.instnorm = nn.InstanceNorm3d(output_channels)\n",
        "    self.lrelu = nn.LeakyReLU()\n",
        "    self.conv2 = nn.Conv3d(in_channels=output_channels, out_channels=output_channels, kernel_size=3, stride=1)\n",
        "  def forward(self, x):\n",
        "    x = self.transconv(x)\n",
        "    x = self.conv1(x)\n",
        "    x = self.instnorm(x)\n",
        "    x = self.lrelu(x)\n",
        "    x = self.conv2(x)\n",
        "    x = self.instnorm(x)\n",
        "    x = self.lrelu(x)\n",
        "    return x\n",
        "\n",
        "class nnUNet(nn.Module):\n",
        "  def __init__(self, input_shape):\n",
        "    super().__init__()\n",
        "    self.convblock1 = Block1(4, 32)\n",
        "    self.convblock2 = ConvBlockEncoder(32, 64)\n",
        "    self.convblock3 = ConvBlockEncoder(64, 128)\n",
        "    self.convblock4 = ConvBlockEncoder(128, 256)\n",
        "    self.convblock5 = ConvBlockEncoder(256, 320)\n",
        "\n",
        "  def forward(self, x):\n",
        "    print(x.shape)\n",
        "\n",
        "    x1 = self.convblock1(x)\n",
        "    print(x1.shape)\n",
        "\n",
        "    x2 = self.convblock2(x1)\n",
        "    print(x2.shape)\n",
        "\n",
        "    x3 = self.convblock3(x2)\n",
        "    print(x3.shape)\n",
        "\n",
        "    x4 = self.convblock4(x3)\n",
        "    print(x4.shape)\n",
        "\n",
        "    x5 = self.convblock5(x4)\n",
        "    print(x5.shape)"
      ],
      "metadata": {
        "id": "6H5SBQZPkvqm"
      },
      "execution_count": 39,
      "outputs": []
    },
    {
      "cell_type": "code",
      "source": [
        "x = torch.rand(size=(4, 128, 128, 128), dtype=torch.float32)\n",
        "# print(x.shape)\n",
        "\n",
        "model = nnUNet(x.shape)\n",
        "print(model)\n",
        "print()\n",
        "\n",
        "out = model(x)\n",
        "# print(out.shape)"
      ],
      "metadata": {
        "colab": {
          "base_uri": "https://localhost:8080/"
        },
        "id": "tleGdND9076M",
        "outputId": "e7658650-c2d7-45a8-c081-7d2995b7eaef"
      },
      "execution_count": 40,
      "outputs": [
        {
          "output_type": "stream",
          "name": "stdout",
          "text": [
            "nnUNet(\n",
            "  (convblock1): Block1(\n",
            "    (conv1): Conv3d(4, 32, kernel_size=(3, 3, 3), stride=(1, 1, 1), padding=(1, 1, 1))\n",
            "    (instnorm): InstanceNorm3d(32, eps=1e-05, momentum=0.1, affine=False, track_running_stats=False)\n",
            "    (lrelu): LeakyReLU(negative_slope=0.01)\n",
            "    (conv2): Conv3d(32, 32, kernel_size=(3, 3, 3), stride=(1, 1, 1), padding=(1, 1, 1))\n",
            "  )\n",
            "  (convblock2): ConvBlockEncoder(\n",
            "    (conv1): Conv3d(32, 64, kernel_size=(3, 3, 3), stride=(2, 2, 2), padding=(1, 1, 1))\n",
            "    (instnorm): InstanceNorm3d(64, eps=1e-05, momentum=0.1, affine=False, track_running_stats=False)\n",
            "    (lrelu): LeakyReLU(negative_slope=0.01)\n",
            "    (conv2): Conv3d(64, 64, kernel_size=(3, 3, 3), stride=(1, 1, 1), padding=(1, 1, 1))\n",
            "  )\n",
            "  (convblock3): ConvBlockEncoder(\n",
            "    (conv1): Conv3d(64, 128, kernel_size=(3, 3, 3), stride=(2, 2, 2), padding=(1, 1, 1))\n",
            "    (instnorm): InstanceNorm3d(128, eps=1e-05, momentum=0.1, affine=False, track_running_stats=False)\n",
            "    (lrelu): LeakyReLU(negative_slope=0.01)\n",
            "    (conv2): Conv3d(128, 128, kernel_size=(3, 3, 3), stride=(1, 1, 1), padding=(1, 1, 1))\n",
            "  )\n",
            "  (convblock4): ConvBlockEncoder(\n",
            "    (conv1): Conv3d(128, 256, kernel_size=(3, 3, 3), stride=(2, 2, 2), padding=(1, 1, 1))\n",
            "    (instnorm): InstanceNorm3d(256, eps=1e-05, momentum=0.1, affine=False, track_running_stats=False)\n",
            "    (lrelu): LeakyReLU(negative_slope=0.01)\n",
            "    (conv2): Conv3d(256, 256, kernel_size=(3, 3, 3), stride=(1, 1, 1), padding=(1, 1, 1))\n",
            "  )\n",
            "  (convblock5): ConvBlockEncoder(\n",
            "    (conv1): Conv3d(256, 320, kernel_size=(3, 3, 3), stride=(2, 2, 2), padding=(1, 1, 1))\n",
            "    (instnorm): InstanceNorm3d(320, eps=1e-05, momentum=0.1, affine=False, track_running_stats=False)\n",
            "    (lrelu): LeakyReLU(negative_slope=0.01)\n",
            "    (conv2): Conv3d(320, 320, kernel_size=(3, 3, 3), stride=(1, 1, 1), padding=(1, 1, 1))\n",
            "  )\n",
            ")\n",
            "\n",
            "torch.Size([4, 128, 128, 128])\n",
            "torch.Size([32, 128, 128, 128])\n",
            "torch.Size([64, 64, 64, 64])\n",
            "torch.Size([128, 32, 32, 32])\n",
            "torch.Size([256, 16, 16, 16])\n",
            "torch.Size([320, 8, 8, 8])\n"
          ]
        }
      ]
    }
  ]
}